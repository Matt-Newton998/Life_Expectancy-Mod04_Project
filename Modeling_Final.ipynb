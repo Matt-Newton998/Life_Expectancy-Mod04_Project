{
 "cells": [
  {
   "cell_type": "markdown",
   "metadata": {},
   "source": [
    "dont need to normalise the varibales "
   ]
  },
  {
   "cell_type": "markdown",
   "metadata": {},
   "source": [
    "## Model Creation: "
   ]
  },
  {
   "cell_type": "code",
   "execution_count": 1,
   "metadata": {},
   "outputs": [],
   "source": [
    "#import the necessary libraries\n",
    "import pandas as pd\n",
    "import numpy as np\n",
    "import matplotlib.pylab as plt\n",
    "%matplotlib inline\n",
    "import seaborn as sns\n",
    "sns.set_style('darkgrid')\n",
    "\n",
    "import re\n",
    "\n",
    "# Statistics\n",
    "from statsmodels.formula.api import ols\n",
    "from statsmodels.stats.outliers_influence import variance_inflation_factor\n",
    "import statsmodels.api as sm\n",
    "import scipy.stats as stats\n",
    "\n",
    "# Sklearn - model_selection\n",
    "from sklearn.model_selection import train_test_split\n",
    "from sklearn.model_selection import cross_val_score\n",
    "from sklearn.model_selection import KFold\n",
    "\n",
    "#Sklearn - linear_model\n",
    "from sklearn.linear_model import LinearRegression\n",
    "from sklearn.linear_model import LassoCV, LassoLarsCV, LassoLarsIC\n",
    "\n",
    "from sklearn.feature_selection import RFE"
   ]
  },
  {
   "cell_type": "code",
   "execution_count": 2,
   "metadata": {},
   "outputs": [],
   "source": [
    "data = pd.read_csv('Life_Expectancy_clean.csv')\n",
    "# data.head()"
   ]
  },
  {
   "cell_type": "code",
   "execution_count": 3,
   "metadata": {},
   "outputs": [],
   "source": [
    "# County_Ranked_(Yes1/No0) is causing an issue therefore rename:\n",
    "data.rename(columns={'County_Ranked_(Yes1/No0)': 'County_Ranked'}, inplace=True)"
   ]
  },
  {
   "cell_type": "markdown",
   "metadata": {},
   "source": [
    "<b>Drop the State Identification columns as they will exactly predict the life expectancy</b>"
   ]
  },
  {
   "cell_type": "code",
   "execution_count": 4,
   "metadata": {},
   "outputs": [],
   "source": [
    "# Drop the  State_FIPS_Code & County_FIPS_Code\n",
    "data.drop(columns=['State_FIPS_Code', 'County_FIPS_Code'], inplace=True)"
   ]
  },
  {
   "cell_type": "markdown",
   "metadata": {},
   "source": [
    "## Set Target & Predictors"
   ]
  },
  {
   "cell_type": "code",
   "execution_count": 5,
   "metadata": {},
   "outputs": [],
   "source": [
    "X_init = data.drop(columns=['Life_Expectancy'])\n",
    "y_init = data['Life_Expectancy']"
   ]
  },
  {
   "cell_type": "code",
   "execution_count": 6,
   "metadata": {},
   "outputs": [
    {
     "data": {
      "text/plain": [
       "((2138, 54), (2138,))"
      ]
     },
     "execution_count": 6,
     "metadata": {},
     "output_type": "execute_result"
    }
   ],
   "source": [
    "X_init.shape, y_init.shape"
   ]
  },
  {
   "cell_type": "markdown",
   "metadata": {},
   "source": [
    "## Train Test Split"
   ]
  },
  {
   "cell_type": "code",
   "execution_count": 7,
   "metadata": {},
   "outputs": [],
   "source": [
    "X_train, X_test, y_train, y_test = train_test_split(X_init, y_init, test_size=1000, random_state=42)"
   ]
  },
  {
   "cell_type": "code",
   "execution_count": 8,
   "metadata": {},
   "outputs": [
    {
     "data": {
      "text/plain": [
       "((1138, 54), (1000, 54), (1138,), (1000,))"
      ]
     },
     "execution_count": 8,
     "metadata": {},
     "output_type": "execute_result"
    }
   ],
   "source": [
    "X_train.shape, X_test.shape, y_train.shape, y_test.shape"
   ]
  },
  {
   "cell_type": "markdown",
   "metadata": {},
   "source": [
    "## Scaling\n",
    "\n",
    "– Scale after train test split to avoid data leakage"
   ]
  },
  {
   "cell_type": "code",
   "execution_count": 9,
   "metadata": {},
   "outputs": [],
   "source": [
    "from sklearn.preprocessing import StandardScaler\n",
    "from sklearn.preprocessing import MinMaxScaler\n",
    "\n",
    "scale = StandardScaler()\n",
    "# scale = MinMaxScaler()\n",
    "\n",
    "# Scale Train\n",
    "X_scaled_train = scale.fit_transform(X_train, y_train)\n",
    "X_scaled_train = pd.DataFrame(X_scaled_train, columns=X_train.columns)\n",
    "\n",
    "# Scale Test\n",
    "X_scaled_test = scale.fit_transform(X_test, y_test)\n",
    "X_scaled_test = pd.DataFrame(X_scaled_test, columns=X_test.columns)\n",
    "\n",
    "# Covert back for the rest of the document \n",
    "X_train = X_scaled_train\n",
    "X_test = X_scaled_test"
   ]
  },
  {
   "cell_type": "code",
   "execution_count": 10,
   "metadata": {},
   "outputs": [],
   "source": [
    "# # scale = StandardScaler()\n",
    "# scale = MinMaxScaler()\n",
    "\n",
    "# # Scale Train\n",
    "# X_scaled_train = scale.fit_transform(X_train, y_train)\n",
    "# X_scaled_train = pd.DataFrame(X_scaled_train, columns=X_train.columns)\n",
    "\n",
    "# # Scale Test\n",
    "# X_scaled_test = scale.fit_transform(X_test, y_test)\n",
    "# X_scaled_test = pd.DataFrame(X_scaled_test, columns=X_test.columns)\n",
    "\n",
    "# # Covert back for the rest of the document \n",
    "# X_train = X_scaled_train\n",
    "# X_test = X_scaled_test"
   ]
  },
  {
   "cell_type": "code",
   "execution_count": 11,
   "metadata": {},
   "outputs": [],
   "source": [
    "y_train = pd.DataFrame(y_train)\n",
    "y_test = pd.DataFrame(y_test)"
   ]
  },
  {
   "cell_type": "code",
   "execution_count": 12,
   "metadata": {},
   "outputs": [],
   "source": [
    "# df_model = pd.concat([y_train,X_train], axis=1)\n",
    "# df_model.head()"
   ]
  },
  {
   "cell_type": "markdown",
   "metadata": {},
   "source": [
    "# Model 1:\n",
    "\n",
    "- All variable carried forward from the cleaning"
   ]
  },
  {
   "cell_type": "markdown",
   "metadata": {},
   "source": [
    "## K-fold / Cross Validation Model"
   ]
  },
  {
   "cell_type": "code",
   "execution_count": 13,
   "metadata": {},
   "outputs": [
    {
     "name": "stdout",
     "output_type": "stream",
     "text": [
      "Inital R^2: 0.9016229194751528\n"
     ]
    }
   ],
   "source": [
    "regression = LinearRegression()\n",
    "\n",
    "crossvalidation = KFold(n_splits=10, shuffle=True, random_state=1)\n",
    "baseline = np.mean(cross_val_score(regression, X_train, y_train, scoring='r2', cv=crossvalidation))\n",
    "print(\"Inital R^2:\", baseline)"
   ]
  },
  {
   "cell_type": "markdown",
   "metadata": {},
   "source": [
    "<b>Observations</b>\n",
    "\n",
    "- Very High R^2 value -> similar to the stats module value\n",
    "- Look to reduce variables"
   ]
  },
  {
   "cell_type": "markdown",
   "metadata": {},
   "source": [
    "## Statsmodule OLS model"
   ]
  },
  {
   "cell_type": "code",
   "execution_count": 14,
   "metadata": {
    "scrolled": false
   },
   "outputs": [
    {
     "name": "stderr",
     "output_type": "stream",
     "text": [
      "/opt/anaconda3/lib/python3.7/site-packages/numpy/core/fromnumeric.py:2495: FutureWarning: Method .ptp is deprecated and will be removed in a future version. Use numpy.ptp instead.\n",
      "  return ptp(axis=axis, out=out, **kwargs)\n"
     ]
    },
    {
     "data": {
      "text/html": [
       "<table class=\"simpletable\">\n",
       "<caption>OLS Regression Results</caption>\n",
       "<tr>\n",
       "  <th>Dep. Variable:</th>            <td>y</td>        <th>  R-squared:         </th> <td>   0.922</td>\n",
       "</tr>\n",
       "<tr>\n",
       "  <th>Model:</th>                   <td>OLS</td>       <th>  Adj. R-squared:    </th> <td>   0.918</td>\n",
       "</tr>\n",
       "<tr>\n",
       "  <th>Method:</th>             <td>Least Squares</td>  <th>  F-statistic:       </th> <td>   235.9</td>\n",
       "</tr>\n",
       "<tr>\n",
       "  <th>Date:</th>             <td>Wed, 15 Jan 2020</td> <th>  Prob (F-statistic):</th>  <td>  0.00</td> \n",
       "</tr>\n",
       "<tr>\n",
       "  <th>Time:</th>                 <td>14:12:52</td>     <th>  Log-Likelihood:    </th> <td> -1430.3</td>\n",
       "</tr>\n",
       "<tr>\n",
       "  <th>No. Observations:</th>      <td>  1138</td>      <th>  AIC:               </th> <td>   2971.</td>\n",
       "</tr>\n",
       "<tr>\n",
       "  <th>Df Residuals:</th>          <td>  1083</td>      <th>  BIC:               </th> <td>   3248.</td>\n",
       "</tr>\n",
       "<tr>\n",
       "  <th>Df Model:</th>              <td>    54</td>      <th>                     </th>     <td> </td>   \n",
       "</tr>\n",
       "<tr>\n",
       "  <th>Covariance Type:</th>      <td>nonrobust</td>    <th>                     </th>     <td> </td>   \n",
       "</tr>\n",
       "</table>\n",
       "<table class=\"simpletable\">\n",
       "<tr>\n",
       "                               <td></td>                                  <th>coef</th>     <th>std err</th>      <th>t</th>      <th>P>|t|</th>  <th>[0.025</th>    <th>0.975]</th>  \n",
       "</tr>\n",
       "<tr>\n",
       "  <th>const</th>                                                       <td>   77.3917</td> <td>    0.026</td> <td> 2994.988</td> <td> 0.000</td> <td>   77.341</td> <td>   77.442</td>\n",
       "</tr>\n",
       "<tr>\n",
       "  <th>Premature_death_raw_value</th>                                   <td>   -0.4183</td> <td>    0.117</td> <td>   -3.576</td> <td> 0.000</td> <td>   -0.648</td> <td>   -0.189</td>\n",
       "</tr>\n",
       "<tr>\n",
       "  <th>Poor_or_fair_health_raw_value</th>                               <td>    0.2453</td> <td>    0.121</td> <td>    2.023</td> <td> 0.043</td> <td>    0.007</td> <td>    0.483</td>\n",
       "</tr>\n",
       "<tr>\n",
       "  <th>Poor_physical_health_days_raw_value</th>                         <td>   -0.4989</td> <td>    0.304</td> <td>   -1.643</td> <td> 0.101</td> <td>   -1.095</td> <td>    0.097</td>\n",
       "</tr>\n",
       "<tr>\n",
       "  <th>Poor_mental_health_days_raw_value</th>                           <td>    0.0091</td> <td>    0.185</td> <td>    0.049</td> <td> 0.961</td> <td>   -0.354</td> <td>    0.372</td>\n",
       "</tr>\n",
       "<tr>\n",
       "  <th>Low_birthweight_raw_value</th>                                   <td>   -0.0181</td> <td>    0.045</td> <td>   -0.399</td> <td> 0.690</td> <td>   -0.107</td> <td>    0.071</td>\n",
       "</tr>\n",
       "<tr>\n",
       "  <th>Adult_smoking_raw_value</th>                                     <td>    0.0611</td> <td>    0.074</td> <td>    0.820</td> <td> 0.412</td> <td>   -0.085</td> <td>    0.207</td>\n",
       "</tr>\n",
       "<tr>\n",
       "  <th>Adult_obesity_raw_value</th>                                     <td>   -0.0281</td> <td>    0.045</td> <td>   -0.628</td> <td> 0.530</td> <td>   -0.116</td> <td>    0.060</td>\n",
       "</tr>\n",
       "<tr>\n",
       "  <th>Food_environment_index_raw_value</th>                            <td>   -0.7239</td> <td>    0.529</td> <td>   -1.368</td> <td> 0.172</td> <td>   -1.762</td> <td>    0.314</td>\n",
       "</tr>\n",
       "<tr>\n",
       "  <th>Physical_inactivity_raw_value</th>                               <td>   -0.0224</td> <td>    0.053</td> <td>   -0.425</td> <td> 0.671</td> <td>   -0.126</td> <td>    0.081</td>\n",
       "</tr>\n",
       "<tr>\n",
       "  <th>Access_to_exercise_opportunities_raw_value</th>                  <td>   -0.0193</td> <td>    0.039</td> <td>   -0.490</td> <td> 0.624</td> <td>   -0.097</td> <td>    0.058</td>\n",
       "</tr>\n",
       "<tr>\n",
       "  <th>Excessive_drinking_raw_value</th>                                <td>   -0.0524</td> <td>    0.051</td> <td>   -1.030</td> <td> 0.303</td> <td>   -0.152</td> <td>    0.047</td>\n",
       "</tr>\n",
       "<tr>\n",
       "  <th>Alcohol_impaired_driving_deaths_raw_value</th>                   <td>    0.0120</td> <td>    0.028</td> <td>    0.432</td> <td> 0.666</td> <td>   -0.042</td> <td>    0.066</td>\n",
       "</tr>\n",
       "<tr>\n",
       "  <th>Sexually_transmitted_infections_raw_value</th>                   <td>    0.0466</td> <td>    0.040</td> <td>    1.172</td> <td> 0.242</td> <td>   -0.031</td> <td>    0.125</td>\n",
       "</tr>\n",
       "<tr>\n",
       "  <th>Teen_births_raw_value</th>                                       <td>    0.0577</td> <td>    0.059</td> <td>    0.983</td> <td> 0.326</td> <td>   -0.057</td> <td>    0.173</td>\n",
       "</tr>\n",
       "<tr>\n",
       "  <th>Uninsured_raw_value</th>                                         <td>    2.1628</td> <td>    0.650</td> <td>    3.327</td> <td> 0.001</td> <td>    0.887</td> <td>    3.439</td>\n",
       "</tr>\n",
       "<tr>\n",
       "  <th>Primary_care_physicians_raw_value</th>                           <td>   -0.0685</td> <td>    0.042</td> <td>   -1.650</td> <td> 0.099</td> <td>   -0.150</td> <td>    0.013</td>\n",
       "</tr>\n",
       "<tr>\n",
       "  <th>Dentists_raw_value</th>                                          <td>    0.0226</td> <td>    0.037</td> <td>    0.607</td> <td> 0.544</td> <td>   -0.050</td> <td>    0.095</td>\n",
       "</tr>\n",
       "<tr>\n",
       "  <th>Mental_health_providers_raw_value</th>                           <td>   -0.0134</td> <td>    0.033</td> <td>   -0.401</td> <td> 0.689</td> <td>   -0.079</td> <td>    0.052</td>\n",
       "</tr>\n",
       "<tr>\n",
       "  <th>Preventable_hospital_stays_raw_value</th>                        <td>   -0.0046</td> <td>    0.034</td> <td>   -0.132</td> <td> 0.895</td> <td>   -0.072</td> <td>    0.063</td>\n",
       "</tr>\n",
       "<tr>\n",
       "  <th>Mammography_screening_raw_value</th>                             <td>   -0.0094</td> <td>    0.041</td> <td>   -0.231</td> <td> 0.817</td> <td>   -0.089</td> <td>    0.070</td>\n",
       "</tr>\n",
       "<tr>\n",
       "  <th>Flu_vaccinations_raw_value</th>                                  <td>    0.0003</td> <td>    0.037</td> <td>    0.008</td> <td> 0.994</td> <td>   -0.073</td> <td>    0.073</td>\n",
       "</tr>\n",
       "<tr>\n",
       "  <th>High_school_graduation_raw_value</th>                            <td>    0.0785</td> <td>    0.033</td> <td>    2.372</td> <td> 0.018</td> <td>    0.014</td> <td>    0.143</td>\n",
       "</tr>\n",
       "<tr>\n",
       "  <th>Some_college_raw_value</th>                                      <td>    0.0134</td> <td>    0.048</td> <td>    0.277</td> <td> 0.782</td> <td>   -0.082</td> <td>    0.108</td>\n",
       "</tr>\n",
       "<tr>\n",
       "  <th>Unemployment_raw_value</th>                                      <td>    0.0929</td> <td>    0.043</td> <td>    2.141</td> <td> 0.032</td> <td>    0.008</td> <td>    0.178</td>\n",
       "</tr>\n",
       "<tr>\n",
       "  <th>Children_in_poverty_raw_value</th>                               <td>   -0.0163</td> <td>    0.076</td> <td>   -0.214</td> <td> 0.831</td> <td>   -0.166</td> <td>    0.134</td>\n",
       "</tr>\n",
       "<tr>\n",
       "  <th>Income_inequality_raw_value</th>                                 <td>    0.1799</td> <td>    0.038</td> <td>    4.678</td> <td> 0.000</td> <td>    0.104</td> <td>    0.255</td>\n",
       "</tr>\n",
       "<tr>\n",
       "  <th>Children_in_single_parent_households_raw_value</th>              <td>    0.0299</td> <td>    0.048</td> <td>    0.623</td> <td> 0.533</td> <td>   -0.064</td> <td>    0.124</td>\n",
       "</tr>\n",
       "<tr>\n",
       "  <th>Social_associations_raw_value</th>                               <td>   -0.0567</td> <td>    0.035</td> <td>   -1.606</td> <td> 0.109</td> <td>   -0.126</td> <td>    0.013</td>\n",
       "</tr>\n",
       "<tr>\n",
       "  <th>Violent_crime_raw_value</th>                                     <td>   -0.0398</td> <td>    0.034</td> <td>   -1.171</td> <td> 0.242</td> <td>   -0.106</td> <td>    0.027</td>\n",
       "</tr>\n",
       "<tr>\n",
       "  <th>Injury_deaths_raw_value</th>                                     <td>   -0.1057</td> <td>    0.046</td> <td>   -2.305</td> <td> 0.021</td> <td>   -0.196</td> <td>   -0.016</td>\n",
       "</tr>\n",
       "<tr>\n",
       "  <th>Air_pollution___particulate_matter_raw_value</th>                <td>   -0.1466</td> <td>    0.045</td> <td>   -3.280</td> <td> 0.001</td> <td>   -0.234</td> <td>   -0.059</td>\n",
       "</tr>\n",
       "<tr>\n",
       "  <th>Severe_housing_problems_raw_value</th>                           <td>   -0.0087</td> <td>    0.061</td> <td>   -0.143</td> <td> 0.887</td> <td>   -0.128</td> <td>    0.111</td>\n",
       "</tr>\n",
       "<tr>\n",
       "  <th>Driving_alone_to_work_raw_value</th>                             <td>   -0.1826</td> <td>    0.041</td> <td>   -4.481</td> <td> 0.000</td> <td>   -0.263</td> <td>   -0.103</td>\n",
       "</tr>\n",
       "<tr>\n",
       "  <th>Long_commute___driving_alone_raw_value</th>                      <td>   -0.0251</td> <td>    0.042</td> <td>   -0.592</td> <td> 0.554</td> <td>   -0.108</td> <td>    0.058</td>\n",
       "</tr>\n",
       "<tr>\n",
       "  <th>Premature_age_adjusted_mortality_raw_value</th>                  <td>   -2.4494</td> <td>    0.126</td> <td>  -19.503</td> <td> 0.000</td> <td>   -2.696</td> <td>   -2.203</td>\n",
       "</tr>\n",
       "<tr>\n",
       "  <th>Frequent_physical_distress_raw_value</th>                        <td>    0.4406</td> <td>    0.391</td> <td>    1.126</td> <td> 0.261</td> <td>   -0.327</td> <td>    1.209</td>\n",
       "</tr>\n",
       "<tr>\n",
       "  <th>Frequent_mental_distress_raw_value</th>                          <td>   -0.0356</td> <td>    0.252</td> <td>   -0.141</td> <td> 0.888</td> <td>   -0.530</td> <td>    0.459</td>\n",
       "</tr>\n",
       "<tr>\n",
       "  <th>Diabetes_prevalence_raw_value</th>                               <td>    0.0943</td> <td>    0.060</td> <td>    1.575</td> <td> 0.116</td> <td>   -0.023</td> <td>    0.212</td>\n",
       "</tr>\n",
       "<tr>\n",
       "  <th>HIV_prevalence_raw_value</th>                                    <td>-1.455e-05</td> <td>    0.039</td> <td>   -0.000</td> <td> 1.000</td> <td>   -0.077</td> <td>    0.077</td>\n",
       "</tr>\n",
       "<tr>\n",
       "  <th>Food_insecurity_raw_value</th>                                   <td>   -0.5761</td> <td>    0.341</td> <td>   -1.690</td> <td> 0.091</td> <td>   -1.245</td> <td>    0.093</td>\n",
       "</tr>\n",
       "<tr>\n",
       "  <th>Limited_access_to_healthy_foods_raw_value</th>                   <td>   -0.2772</td> <td>    0.360</td> <td>   -0.770</td> <td> 0.441</td> <td>   -0.983</td> <td>    0.429</td>\n",
       "</tr>\n",
       "<tr>\n",
       "  <th>Motor_vehicle_crash_deaths_raw_value</th>                        <td>   -0.0518</td> <td>    0.042</td> <td>   -1.236</td> <td> 0.217</td> <td>   -0.134</td> <td>    0.030</td>\n",
       "</tr>\n",
       "<tr>\n",
       "  <th>Insufficient_sleep_raw_value</th>                                <td>   -0.1422</td> <td>    0.057</td> <td>   -2.493</td> <td> 0.013</td> <td>   -0.254</td> <td>   -0.030</td>\n",
       "</tr>\n",
       "<tr>\n",
       "  <th>Uninsured_adults_raw_value</th>                                  <td>   -2.0246</td> <td>    0.568</td> <td>   -3.564</td> <td> 0.000</td> <td>   -3.139</td> <td>   -0.910</td>\n",
       "</tr>\n",
       "<tr>\n",
       "  <th>Uninsured_children_raw_value</th>                                <td>   -0.2980</td> <td>    0.137</td> <td>   -2.175</td> <td> 0.030</td> <td>   -0.567</td> <td>   -0.029</td>\n",
       "</tr>\n",
       "<tr>\n",
       "  <th>Other_primary_care_providers_raw_value</th>                      <td>    0.0477</td> <td>    0.036</td> <td>    1.325</td> <td> 0.186</td> <td>   -0.023</td> <td>    0.118</td>\n",
       "</tr>\n",
       "<tr>\n",
       "  <th>Median_household_income_raw_value</th>                           <td>    0.2289</td> <td>    0.062</td> <td>    3.674</td> <td> 0.000</td> <td>    0.107</td> <td>    0.351</td>\n",
       "</tr>\n",
       "<tr>\n",
       "  <th>Children_eligible_for_free_or_reduced_price_lunch_raw_value</th> <td>    0.0903</td> <td>    0.055</td> <td>    1.656</td> <td> 0.098</td> <td>   -0.017</td> <td>    0.197</td>\n",
       "</tr>\n",
       "<tr>\n",
       "  <th>Residential_segregation___non_white/white_raw_value</th>         <td>   -0.0394</td> <td>    0.029</td> <td>   -1.344</td> <td> 0.179</td> <td>   -0.097</td> <td>    0.018</td>\n",
       "</tr>\n",
       "<tr>\n",
       "  <th>Homeownership_raw_value</th>                                     <td>   -0.0433</td> <td>    0.048</td> <td>   -0.908</td> <td> 0.364</td> <td>   -0.137</td> <td>    0.050</td>\n",
       "</tr>\n",
       "<tr>\n",
       "  <th>Severe_housing_cost_burden_raw_value</th>                        <td>   -0.1214</td> <td>    0.061</td> <td>   -1.995</td> <td> 0.046</td> <td>   -0.241</td> <td>   -0.002</td>\n",
       "</tr>\n",
       "<tr>\n",
       "  <th>Population_raw_value</th>                                        <td>    0.0251</td> <td>    0.036</td> <td>    0.706</td> <td> 0.480</td> <td>   -0.045</td> <td>    0.095</td>\n",
       "</tr>\n",
       "<tr>\n",
       "  <th>County_Ranked</th>                                               <td>    0.1302</td> <td>    0.034</td> <td>    3.806</td> <td> 0.000</td> <td>    0.063</td> <td>    0.197</td>\n",
       "</tr>\n",
       "<tr>\n",
       "  <th>Drinking_water_violations_raw_value</th>                         <td>    0.0158</td> <td>    0.028</td> <td>    0.559</td> <td> 0.576</td> <td>   -0.040</td> <td>    0.071</td>\n",
       "</tr>\n",
       "</table>\n",
       "<table class=\"simpletable\">\n",
       "<tr>\n",
       "  <th>Omnibus:</th>       <td>832.492</td> <th>  Durbin-Watson:     </th> <td>   2.023</td> \n",
       "</tr>\n",
       "<tr>\n",
       "  <th>Prob(Omnibus):</th> <td> 0.000</td>  <th>  Jarque-Bera (JB):  </th> <td>21199.858</td>\n",
       "</tr>\n",
       "<tr>\n",
       "  <th>Skew:</th>          <td> 3.076</td>  <th>  Prob(JB):          </th> <td>    0.00</td> \n",
       "</tr>\n",
       "<tr>\n",
       "  <th>Kurtosis:</th>      <td>23.230</td>  <th>  Cond. No.          </th> <td>    138.</td> \n",
       "</tr>\n",
       "</table><br/><br/>Warnings:<br/>[1] Standard Errors assume that the covariance matrix of the errors is correctly specified."
      ],
      "text/plain": [
       "<class 'statsmodels.iolib.summary.Summary'>\n",
       "\"\"\"\n",
       "                            OLS Regression Results                            \n",
       "==============================================================================\n",
       "Dep. Variable:                      y   R-squared:                       0.922\n",
       "Model:                            OLS   Adj. R-squared:                  0.918\n",
       "Method:                 Least Squares   F-statistic:                     235.9\n",
       "Date:                Wed, 15 Jan 2020   Prob (F-statistic):               0.00\n",
       "Time:                        14:12:52   Log-Likelihood:                -1430.3\n",
       "No. Observations:                1138   AIC:                             2971.\n",
       "Df Residuals:                    1083   BIC:                             3248.\n",
       "Df Model:                          54                                         \n",
       "Covariance Type:            nonrobust                                         \n",
       "===============================================================================================================================\n",
       "                                                                  coef    std err          t      P>|t|      [0.025      0.975]\n",
       "-------------------------------------------------------------------------------------------------------------------------------\n",
       "const                                                          77.3917      0.026   2994.988      0.000      77.341      77.442\n",
       "Premature_death_raw_value                                      -0.4183      0.117     -3.576      0.000      -0.648      -0.189\n",
       "Poor_or_fair_health_raw_value                                   0.2453      0.121      2.023      0.043       0.007       0.483\n",
       "Poor_physical_health_days_raw_value                            -0.4989      0.304     -1.643      0.101      -1.095       0.097\n",
       "Poor_mental_health_days_raw_value                               0.0091      0.185      0.049      0.961      -0.354       0.372\n",
       "Low_birthweight_raw_value                                      -0.0181      0.045     -0.399      0.690      -0.107       0.071\n",
       "Adult_smoking_raw_value                                         0.0611      0.074      0.820      0.412      -0.085       0.207\n",
       "Adult_obesity_raw_value                                        -0.0281      0.045     -0.628      0.530      -0.116       0.060\n",
       "Food_environment_index_raw_value                               -0.7239      0.529     -1.368      0.172      -1.762       0.314\n",
       "Physical_inactivity_raw_value                                  -0.0224      0.053     -0.425      0.671      -0.126       0.081\n",
       "Access_to_exercise_opportunities_raw_value                     -0.0193      0.039     -0.490      0.624      -0.097       0.058\n",
       "Excessive_drinking_raw_value                                   -0.0524      0.051     -1.030      0.303      -0.152       0.047\n",
       "Alcohol_impaired_driving_deaths_raw_value                       0.0120      0.028      0.432      0.666      -0.042       0.066\n",
       "Sexually_transmitted_infections_raw_value                       0.0466      0.040      1.172      0.242      -0.031       0.125\n",
       "Teen_births_raw_value                                           0.0577      0.059      0.983      0.326      -0.057       0.173\n",
       "Uninsured_raw_value                                             2.1628      0.650      3.327      0.001       0.887       3.439\n",
       "Primary_care_physicians_raw_value                              -0.0685      0.042     -1.650      0.099      -0.150       0.013\n",
       "Dentists_raw_value                                              0.0226      0.037      0.607      0.544      -0.050       0.095\n",
       "Mental_health_providers_raw_value                              -0.0134      0.033     -0.401      0.689      -0.079       0.052\n",
       "Preventable_hospital_stays_raw_value                           -0.0046      0.034     -0.132      0.895      -0.072       0.063\n",
       "Mammography_screening_raw_value                                -0.0094      0.041     -0.231      0.817      -0.089       0.070\n",
       "Flu_vaccinations_raw_value                                      0.0003      0.037      0.008      0.994      -0.073       0.073\n",
       "High_school_graduation_raw_value                                0.0785      0.033      2.372      0.018       0.014       0.143\n",
       "Some_college_raw_value                                          0.0134      0.048      0.277      0.782      -0.082       0.108\n",
       "Unemployment_raw_value                                          0.0929      0.043      2.141      0.032       0.008       0.178\n",
       "Children_in_poverty_raw_value                                  -0.0163      0.076     -0.214      0.831      -0.166       0.134\n",
       "Income_inequality_raw_value                                     0.1799      0.038      4.678      0.000       0.104       0.255\n",
       "Children_in_single_parent_households_raw_value                  0.0299      0.048      0.623      0.533      -0.064       0.124\n",
       "Social_associations_raw_value                                  -0.0567      0.035     -1.606      0.109      -0.126       0.013\n",
       "Violent_crime_raw_value                                        -0.0398      0.034     -1.171      0.242      -0.106       0.027\n",
       "Injury_deaths_raw_value                                        -0.1057      0.046     -2.305      0.021      -0.196      -0.016\n",
       "Air_pollution___particulate_matter_raw_value                   -0.1466      0.045     -3.280      0.001      -0.234      -0.059\n",
       "Severe_housing_problems_raw_value                              -0.0087      0.061     -0.143      0.887      -0.128       0.111\n",
       "Driving_alone_to_work_raw_value                                -0.1826      0.041     -4.481      0.000      -0.263      -0.103\n",
       "Long_commute___driving_alone_raw_value                         -0.0251      0.042     -0.592      0.554      -0.108       0.058\n",
       "Premature_age_adjusted_mortality_raw_value                     -2.4494      0.126    -19.503      0.000      -2.696      -2.203\n",
       "Frequent_physical_distress_raw_value                            0.4406      0.391      1.126      0.261      -0.327       1.209\n",
       "Frequent_mental_distress_raw_value                             -0.0356      0.252     -0.141      0.888      -0.530       0.459\n",
       "Diabetes_prevalence_raw_value                                   0.0943      0.060      1.575      0.116      -0.023       0.212\n",
       "HIV_prevalence_raw_value                                    -1.455e-05      0.039     -0.000      1.000      -0.077       0.077\n",
       "Food_insecurity_raw_value                                      -0.5761      0.341     -1.690      0.091      -1.245       0.093\n",
       "Limited_access_to_healthy_foods_raw_value                      -0.2772      0.360     -0.770      0.441      -0.983       0.429\n",
       "Motor_vehicle_crash_deaths_raw_value                           -0.0518      0.042     -1.236      0.217      -0.134       0.030\n",
       "Insufficient_sleep_raw_value                                   -0.1422      0.057     -2.493      0.013      -0.254      -0.030\n",
       "Uninsured_adults_raw_value                                     -2.0246      0.568     -3.564      0.000      -3.139      -0.910\n",
       "Uninsured_children_raw_value                                   -0.2980      0.137     -2.175      0.030      -0.567      -0.029\n",
       "Other_primary_care_providers_raw_value                          0.0477      0.036      1.325      0.186      -0.023       0.118\n",
       "Median_household_income_raw_value                               0.2289      0.062      3.674      0.000       0.107       0.351\n",
       "Children_eligible_for_free_or_reduced_price_lunch_raw_value     0.0903      0.055      1.656      0.098      -0.017       0.197\n",
       "Residential_segregation___non_white/white_raw_value            -0.0394      0.029     -1.344      0.179      -0.097       0.018\n",
       "Homeownership_raw_value                                        -0.0433      0.048     -0.908      0.364      -0.137       0.050\n",
       "Severe_housing_cost_burden_raw_value                           -0.1214      0.061     -1.995      0.046      -0.241      -0.002\n",
       "Population_raw_value                                            0.0251      0.036      0.706      0.480      -0.045       0.095\n",
       "County_Ranked                                                   0.1302      0.034      3.806      0.000       0.063       0.197\n",
       "Drinking_water_violations_raw_value                             0.0158      0.028      0.559      0.576      -0.040       0.071\n",
       "==============================================================================\n",
       "Omnibus:                      832.492   Durbin-Watson:                   2.023\n",
       "Prob(Omnibus):                  0.000   Jarque-Bera (JB):            21199.858\n",
       "Skew:                           3.076   Prob(JB):                         0.00\n",
       "Kurtosis:                      23.230   Cond. No.                         138.\n",
       "==============================================================================\n",
       "\n",
       "Warnings:\n",
       "[1] Standard Errors assume that the covariance matrix of the errors is correctly specified.\n",
       "\"\"\""
      ]
     },
     "execution_count": 14,
     "metadata": {},
     "output_type": "execute_result"
    }
   ],
   "source": [
    "X_const_train = sm.add_constant(X_train)\n",
    "\n",
    "model = sm.OLS(y_train.values, X_const_train).fit()\n",
    "model.summary()"
   ]
  },
  {
   "cell_type": "markdown",
   "metadata": {},
   "source": [
    "<b>Observations</b>\n",
    "\n",
    "- High R^2 value\n",
    "- High AIC & BIC Values as lots of features"
   ]
  },
  {
   "cell_type": "code",
   "execution_count": 15,
   "metadata": {
    "scrolled": false
   },
   "outputs": [
    {
     "data": {
      "image/png": "[encoded data removed]",
      "text/plain": [
       "<Figure size 432x288 with 1 Axes>"
      ]
     },
     "metadata": {
      "needs_background": "light"
     },
     "output_type": "display_data"
    }
   ],
   "source": [
    "model_qqplot = sm.graphics.qqplot(model.resid, dist=stats.norm, line='45', fit=True)"
   ]
  },
  {
   "cell_type": "code",
   "execution_count": 16,
   "metadata": {},
   "outputs": [],
   "source": [
    "# q=0.9\n",
    "\n",
    "# y_train = pd.DataFrame(y_train.values)\n",
    "\n",
    "# # Set the index to q range\n",
    "# drop_index_train=y_train[y_train > y_train.quantile(q)].index\n",
    "# # drop_index_test=y_test[y_test > y_test.quantile(q)].index\n",
    "\n",
    "# # Apply to Train\n",
    "# X_train = X_train.drop(index = drop_index_train)\n",
    "# y_train = y_train[y_train <= y_train.quantile(q)]\n",
    "\n",
    "# # Apply to Test\n",
    "# # X_test = X_test.drop(index = drop_index_test)\n",
    "# # y_test = y_test[y_test <= y_test.quantile(q)]\n",
    "\n",
    "# # Stats OLS Model\n",
    "# X_const_train = sm.add_constant(X_train)\n",
    "# model_qq = sm.OLS(y_train.values, X_const_train).fit()\n",
    "# model_qq.summary()\n",
    "\n"
   ]
  },
  {
   "cell_type": "markdown",
   "metadata": {},
   "source": [
    "<b>Old</b>\n",
    "\n",
    "Skew:\t3.076\t\n",
    "Kurtosis:\t23.230\n",
    "\n",
    "<b>New</b>\n",
    "\n",
    "Skew:\t1.238\t\n",
    "Kurtosis:\t11.732\t"
   ]
  },
  {
   "cell_type": "code",
   "execution_count": 17,
   "metadata": {},
   "outputs": [],
   "source": [
    "# model_qqplot = sm.graphics.qqplot(model_qq.resid, dist=stats.norm, line='45', fit=True)"
   ]
  },
  {
   "cell_type": "markdown",
   "metadata": {},
   "source": [
    "## Drop Columns on Non-Statistical Evaluation  \n",
    "<b>Ease of collection</b>\n",
    "- Has to be a value which is identifiable to the person? i.e Man\n",
    "\n",
    "<b>Quantifiability</b>\n",
    "- asd\n",
    "\n",
    "\n",
    "<b>Cost of Collection</b>\n",
    "- asdf"
   ]
  },
  {
   "cell_type": "code",
   "execution_count": 18,
   "metadata": {},
   "outputs": [],
   "source": [
    "# X_cols = list(X.columns)\n",
    "# for x in X_cols:\n",
    "#     print(x)"
   ]
  },
  {
   "cell_type": "code",
   "execution_count": 19,
   "metadata": {},
   "outputs": [
    {
     "data": {
      "text/plain": [
       "17"
      ]
     },
     "execution_count": 19,
     "metadata": {},
     "output_type": "execute_result"
    }
   ],
   "source": [
    "# Drop max\n",
    "drop = ['Premature_death_raw_value', \n",
    "        'Premature_age_adjusted_mortality_raw_value',\n",
    "        'Poor_or_fair_health_raw_value', \n",
    "        'Poor_physical_health_days_raw_value', \n",
    "        'Poor_mental_health_days_raw_value', \n",
    "        'Adult_smoking_raw_value', \n",
    "        'Physical_inactivity_raw_value', \n",
    "        'Excessive_drinking_raw_value',\n",
    "        'Preventable_hospital_stays_raw_value', \n",
    "        'Mammography_screening_raw_value', \n",
    "        'Driving_alone_to_work_raw_value',\n",
    "        'Long_commute___driving_alone_raw_value', \n",
    "        'Frequent_physical_distress_raw_value', \n",
    "        'Frequent_mental_distress_raw_value',\n",
    "        'Insufficient_sleep_raw_value',\n",
    "        'Other_primary_care_providers_raw_value',\n",
    "        'Drinking_water_violations_raw_value']\n",
    "len(drop)"
   ]
  },
  {
   "cell_type": "code",
   "execution_count": 20,
   "metadata": {},
   "outputs": [],
   "source": [
    "# # Drop Hard to measure\n",
    "# drop = ['Premature_age_adjusted_mortality_raw_value', \n",
    "#         'Premature_death_raw_value', \n",
    "#         'Poor_or_fair_health_raw_value', \n",
    "#         'Poor_physical_health_days_raw_value', \n",
    "#         'Poor_mental_health_days_raw_value']\n",
    "# len(drop)"
   ]
  },
  {
   "cell_type": "code",
   "execution_count": 21,
   "metadata": {},
   "outputs": [],
   "source": [
    "cols = list(X_train.columns)\n",
    "new_cols = [x for x in cols if x not in drop]"
   ]
  },
  {
   "cell_type": "code",
   "execution_count": 22,
   "metadata": {},
   "outputs": [
    {
     "data": {
      "text/plain": [
       "(54, 37)"
      ]
     },
     "execution_count": 22,
     "metadata": {},
     "output_type": "execute_result"
    }
   ],
   "source": [
    "X_1 = X_train[new_cols]\n",
    "len(X_train.columns) , len(X_1.columns)"
   ]
  },
  {
   "cell_type": "code",
   "execution_count": 23,
   "metadata": {},
   "outputs": [],
   "source": [
    "# Run if wish to check all variables\n",
    "# X_1 = X.copy()"
   ]
  },
  {
   "cell_type": "markdown",
   "metadata": {},
   "source": [
    "# Model 2:"
   ]
  },
  {
   "cell_type": "code",
   "execution_count": 24,
   "metadata": {},
   "outputs": [
    {
     "name": "stdout",
     "output_type": "stream",
     "text": [
      "Inital R^2: 0.7231944043028725\n"
     ]
    }
   ],
   "source": [
    "regression = LinearRegression()\n",
    "\n",
    "crossvalidation = KFold(n_splits=10, shuffle=True, random_state=1)\n",
    "baseline = np.mean(cross_val_score(regression, X_1, y_train, scoring='r2', cv=crossvalidation))\n",
    "print(\"Inital R^2:\", baseline)"
   ]
  },
  {
   "cell_type": "code",
   "execution_count": 25,
   "metadata": {
    "scrolled": false
   },
   "outputs": [
    {
     "name": "stderr",
     "output_type": "stream",
     "text": [
      "/opt/anaconda3/lib/python3.7/site-packages/numpy/core/fromnumeric.py:2495: FutureWarning: Method .ptp is deprecated and will be removed in a future version. Use numpy.ptp instead.\n",
      "  return ptp(axis=axis, out=out, **kwargs)\n"
     ]
    },
    {
     "data": {
      "text/html": [
       "<table class=\"simpletable\">\n",
       "<caption>OLS Regression Results</caption>\n",
       "<tr>\n",
       "  <th>Dep. Variable:</th>            <td>y</td>        <th>  R-squared:         </th> <td>   0.752</td> \n",
       "</tr>\n",
       "<tr>\n",
       "  <th>Model:</th>                   <td>OLS</td>       <th>  Adj. R-squared:    </th> <td>   0.743</td> \n",
       "</tr>\n",
       "<tr>\n",
       "  <th>Method:</th>             <td>Least Squares</td>  <th>  F-statistic:       </th> <td>   89.93</td> \n",
       "</tr>\n",
       "<tr>\n",
       "  <th>Date:</th>             <td>Wed, 15 Jan 2020</td> <th>  Prob (F-statistic):</th> <td>1.32e-302</td>\n",
       "</tr>\n",
       "<tr>\n",
       "  <th>Time:</th>                 <td>14:12:52</td>     <th>  Log-Likelihood:    </th> <td> -2086.9</td> \n",
       "</tr>\n",
       "<tr>\n",
       "  <th>No. Observations:</th>      <td>  1138</td>      <th>  AIC:               </th> <td>   4250.</td> \n",
       "</tr>\n",
       "<tr>\n",
       "  <th>Df Residuals:</th>          <td>  1100</td>      <th>  BIC:               </th> <td>   4441.</td> \n",
       "</tr>\n",
       "<tr>\n",
       "  <th>Df Model:</th>              <td>    37</td>      <th>                     </th>     <td> </td>    \n",
       "</tr>\n",
       "<tr>\n",
       "  <th>Covariance Type:</th>      <td>nonrobust</td>    <th>                     </th>     <td> </td>    \n",
       "</tr>\n",
       "</table>\n",
       "<table class=\"simpletable\">\n",
       "<tr>\n",
       "                               <td></td>                                  <th>coef</th>     <th>std err</th>      <th>t</th>      <th>P>|t|</th>  <th>[0.025</th>    <th>0.975]</th>  \n",
       "</tr>\n",
       "<tr>\n",
       "  <th>const</th>                                                       <td>   77.3917</td> <td>    0.046</td> <td> 1695.074</td> <td> 0.000</td> <td>   77.302</td> <td>   77.481</td>\n",
       "</tr>\n",
       "<tr>\n",
       "  <th>Low_birthweight_raw_value</th>                                   <td>    0.0252</td> <td>    0.073</td> <td>    0.347</td> <td> 0.729</td> <td>   -0.117</td> <td>    0.168</td>\n",
       "</tr>\n",
       "<tr>\n",
       "  <th>Adult_obesity_raw_value</th>                                     <td>   -0.1884</td> <td>    0.072</td> <td>   -2.635</td> <td> 0.009</td> <td>   -0.329</td> <td>   -0.048</td>\n",
       "</tr>\n",
       "<tr>\n",
       "  <th>Food_environment_index_raw_value</th>                            <td>   -0.0948</td> <td>    0.928</td> <td>   -0.102</td> <td> 0.919</td> <td>   -1.916</td> <td>    1.727</td>\n",
       "</tr>\n",
       "<tr>\n",
       "  <th>Access_to_exercise_opportunities_raw_value</th>                  <td>   -0.0127</td> <td>    0.066</td> <td>   -0.191</td> <td> 0.849</td> <td>   -0.143</td> <td>    0.118</td>\n",
       "</tr>\n",
       "<tr>\n",
       "  <th>Alcohol_impaired_driving_deaths_raw_value</th>                   <td>    0.0681</td> <td>    0.048</td> <td>    1.424</td> <td> 0.155</td> <td>   -0.026</td> <td>    0.162</td>\n",
       "</tr>\n",
       "<tr>\n",
       "  <th>Sexually_transmitted_infections_raw_value</th>                   <td>   -0.1185</td> <td>    0.068</td> <td>   -1.743</td> <td> 0.082</td> <td>   -0.252</td> <td>    0.015</td>\n",
       "</tr>\n",
       "<tr>\n",
       "  <th>Teen_births_raw_value</th>                                       <td>   -0.7017</td> <td>    0.094</td> <td>   -7.460</td> <td> 0.000</td> <td>   -0.886</td> <td>   -0.517</td>\n",
       "</tr>\n",
       "<tr>\n",
       "  <th>Uninsured_raw_value</th>                                         <td>    4.4635</td> <td>    1.077</td> <td>    4.144</td> <td> 0.000</td> <td>    2.350</td> <td>    6.577</td>\n",
       "</tr>\n",
       "<tr>\n",
       "  <th>Primary_care_physicians_raw_value</th>                           <td>    0.0774</td> <td>    0.062</td> <td>    1.252</td> <td> 0.211</td> <td>   -0.044</td> <td>    0.199</td>\n",
       "</tr>\n",
       "<tr>\n",
       "  <th>Dentists_raw_value</th>                                          <td>    0.0094</td> <td>    0.064</td> <td>    0.146</td> <td> 0.884</td> <td>   -0.117</td> <td>    0.135</td>\n",
       "</tr>\n",
       "<tr>\n",
       "  <th>Mental_health_providers_raw_value</th>                           <td>   -0.1473</td> <td>    0.057</td> <td>   -2.589</td> <td> 0.010</td> <td>   -0.259</td> <td>   -0.036</td>\n",
       "</tr>\n",
       "<tr>\n",
       "  <th>Flu_vaccinations_raw_value</th>                                  <td>   -0.0652</td> <td>    0.061</td> <td>   -1.072</td> <td> 0.284</td> <td>   -0.185</td> <td>    0.054</td>\n",
       "</tr>\n",
       "<tr>\n",
       "  <th>High_school_graduation_raw_value</th>                            <td>   -0.1110</td> <td>    0.056</td> <td>   -1.987</td> <td> 0.047</td> <td>   -0.221</td> <td>   -0.001</td>\n",
       "</tr>\n",
       "<tr>\n",
       "  <th>Some_college_raw_value</th>                                      <td>    0.0257</td> <td>    0.080</td> <td>    0.320</td> <td> 0.749</td> <td>   -0.132</td> <td>    0.183</td>\n",
       "</tr>\n",
       "<tr>\n",
       "  <th>Unemployment_raw_value</th>                                      <td>    0.1697</td> <td>    0.073</td> <td>    2.310</td> <td> 0.021</td> <td>    0.026</td> <td>    0.314</td>\n",
       "</tr>\n",
       "<tr>\n",
       "  <th>Children_in_poverty_raw_value</th>                               <td>   -0.1136</td> <td>    0.124</td> <td>   -0.917</td> <td> 0.359</td> <td>   -0.357</td> <td>    0.129</td>\n",
       "</tr>\n",
       "<tr>\n",
       "  <th>Income_inequality_raw_value</th>                                 <td>    0.0331</td> <td>    0.064</td> <td>    0.519</td> <td> 0.604</td> <td>   -0.092</td> <td>    0.158</td>\n",
       "</tr>\n",
       "<tr>\n",
       "  <th>Children_in_single_parent_households_raw_value</th>              <td>   -0.1493</td> <td>    0.080</td> <td>   -1.862</td> <td> 0.063</td> <td>   -0.307</td> <td>    0.008</td>\n",
       "</tr>\n",
       "<tr>\n",
       "  <th>Social_associations_raw_value</th>                               <td>   -0.0407</td> <td>    0.058</td> <td>   -0.700</td> <td> 0.484</td> <td>   -0.155</td> <td>    0.073</td>\n",
       "</tr>\n",
       "<tr>\n",
       "  <th>Violent_crime_raw_value</th>                                     <td>   -0.0944</td> <td>    0.058</td> <td>   -1.633</td> <td> 0.103</td> <td>   -0.208</td> <td>    0.019</td>\n",
       "</tr>\n",
       "<tr>\n",
       "  <th>Injury_deaths_raw_value</th>                                     <td>   -1.0376</td> <td>    0.068</td> <td>  -15.252</td> <td> 0.000</td> <td>   -1.171</td> <td>   -0.904</td>\n",
       "</tr>\n",
       "<tr>\n",
       "  <th>Air_pollution___particulate_matter_raw_value</th>                <td>   -0.4054</td> <td>    0.071</td> <td>   -5.694</td> <td> 0.000</td> <td>   -0.545</td> <td>   -0.266</td>\n",
       "</tr>\n",
       "<tr>\n",
       "  <th>Severe_housing_problems_raw_value</th>                           <td>   -0.0198</td> <td>    0.102</td> <td>   -0.195</td> <td> 0.846</td> <td>   -0.219</td> <td>    0.180</td>\n",
       "</tr>\n",
       "<tr>\n",
       "  <th>Diabetes_prevalence_raw_value</th>                               <td>   -0.4517</td> <td>    0.089</td> <td>   -5.087</td> <td> 0.000</td> <td>   -0.626</td> <td>   -0.277</td>\n",
       "</tr>\n",
       "<tr>\n",
       "  <th>HIV_prevalence_raw_value</th>                                    <td>    0.1374</td> <td>    0.063</td> <td>    2.192</td> <td> 0.029</td> <td>    0.014</td> <td>    0.260</td>\n",
       "</tr>\n",
       "<tr>\n",
       "  <th>Food_insecurity_raw_value</th>                                   <td>   -0.6694</td> <td>    0.596</td> <td>   -1.122</td> <td> 0.262</td> <td>   -1.840</td> <td>    0.501</td>\n",
       "</tr>\n",
       "<tr>\n",
       "  <th>Limited_access_to_healthy_foods_raw_value</th>                   <td>    0.2295</td> <td>    0.631</td> <td>    0.363</td> <td> 0.716</td> <td>   -1.009</td> <td>    1.468</td>\n",
       "</tr>\n",
       "<tr>\n",
       "  <th>Motor_vehicle_crash_deaths_raw_value</th>                        <td>   -0.1655</td> <td>    0.072</td> <td>   -2.313</td> <td> 0.021</td> <td>   -0.306</td> <td>   -0.025</td>\n",
       "</tr>\n",
       "<tr>\n",
       "  <th>Uninsured_adults_raw_value</th>                                  <td>   -3.9930</td> <td>    0.937</td> <td>   -4.262</td> <td> 0.000</td> <td>   -5.832</td> <td>   -2.155</td>\n",
       "</tr>\n",
       "<tr>\n",
       "  <th>Uninsured_children_raw_value</th>                                <td>   -0.4099</td> <td>    0.224</td> <td>   -1.831</td> <td> 0.067</td> <td>   -0.849</td> <td>    0.029</td>\n",
       "</tr>\n",
       "<tr>\n",
       "  <th>Median_household_income_raw_value</th>                           <td>    0.1829</td> <td>    0.098</td> <td>    1.861</td> <td> 0.063</td> <td>   -0.010</td> <td>    0.376</td>\n",
       "</tr>\n",
       "<tr>\n",
       "  <th>Children_eligible_for_free_or_reduced_price_lunch_raw_value</th> <td>    0.1293</td> <td>    0.092</td> <td>    1.407</td> <td> 0.160</td> <td>   -0.051</td> <td>    0.310</td>\n",
       "</tr>\n",
       "<tr>\n",
       "  <th>Residential_segregation___non_white/white_raw_value</th>         <td>   -0.0153</td> <td>    0.050</td> <td>   -0.304</td> <td> 0.761</td> <td>   -0.114</td> <td>    0.083</td>\n",
       "</tr>\n",
       "<tr>\n",
       "  <th>Homeownership_raw_value</th>                                     <td>   -0.0555</td> <td>    0.076</td> <td>   -0.735</td> <td> 0.463</td> <td>   -0.204</td> <td>    0.093</td>\n",
       "</tr>\n",
       "<tr>\n",
       "  <th>Severe_housing_cost_burden_raw_value</th>                        <td>   -0.1529</td> <td>    0.105</td> <td>   -1.462</td> <td> 0.144</td> <td>   -0.358</td> <td>    0.052</td>\n",
       "</tr>\n",
       "<tr>\n",
       "  <th>Population_raw_value</th>                                        <td>    0.1487</td> <td>    0.061</td> <td>    2.447</td> <td> 0.015</td> <td>    0.029</td> <td>    0.268</td>\n",
       "</tr>\n",
       "<tr>\n",
       "  <th>County_Ranked</th>                                               <td>    0.2120</td> <td>    0.058</td> <td>    3.640</td> <td> 0.000</td> <td>    0.098</td> <td>    0.326</td>\n",
       "</tr>\n",
       "</table>\n",
       "<table class=\"simpletable\">\n",
       "<tr>\n",
       "  <th>Omnibus:</th>       <td>276.453</td> <th>  Durbin-Watson:     </th> <td>   1.982</td>\n",
       "</tr>\n",
       "<tr>\n",
       "  <th>Prob(Omnibus):</th> <td> 0.000</td>  <th>  Jarque-Bera (JB):  </th> <td>2169.694</td>\n",
       "</tr>\n",
       "<tr>\n",
       "  <th>Skew:</th>          <td> 0.895</td>  <th>  Prob(JB):          </th> <td>    0.00</td>\n",
       "</tr>\n",
       "<tr>\n",
       "  <th>Kurtosis:</th>      <td> 9.523</td>  <th>  Cond. No.          </th> <td>    96.7</td>\n",
       "</tr>\n",
       "</table><br/><br/>Warnings:<br/>[1] Standard Errors assume that the covariance matrix of the errors is correctly specified."
      ],
      "text/plain": [
       "<class 'statsmodels.iolib.summary.Summary'>\n",
       "\"\"\"\n",
       "                            OLS Regression Results                            \n",
       "==============================================================================\n",
       "Dep. Variable:                      y   R-squared:                       0.752\n",
       "Model:                            OLS   Adj. R-squared:                  0.743\n",
       "Method:                 Least Squares   F-statistic:                     89.93\n",
       "Date:                Wed, 15 Jan 2020   Prob (F-statistic):          1.32e-302\n",
       "Time:                        14:12:52   Log-Likelihood:                -2086.9\n",
       "No. Observations:                1138   AIC:                             4250.\n",
       "Df Residuals:                    1100   BIC:                             4441.\n",
       "Df Model:                          37                                         \n",
       "Covariance Type:            nonrobust                                         \n",
       "===============================================================================================================================\n",
       "                                                                  coef    std err          t      P>|t|      [0.025      0.975]\n",
       "-------------------------------------------------------------------------------------------------------------------------------\n",
       "const                                                          77.3917      0.046   1695.074      0.000      77.302      77.481\n",
       "Low_birthweight_raw_value                                       0.0252      0.073      0.347      0.729      -0.117       0.168\n",
       "Adult_obesity_raw_value                                        -0.1884      0.072     -2.635      0.009      -0.329      -0.048\n",
       "Food_environment_index_raw_value                               -0.0948      0.928     -0.102      0.919      -1.916       1.727\n",
       "Access_to_exercise_opportunities_raw_value                     -0.0127      0.066     -0.191      0.849      -0.143       0.118\n",
       "Alcohol_impaired_driving_deaths_raw_value                       0.0681      0.048      1.424      0.155      -0.026       0.162\n",
       "Sexually_transmitted_infections_raw_value                      -0.1185      0.068     -1.743      0.082      -0.252       0.015\n",
       "Teen_births_raw_value                                          -0.7017      0.094     -7.460      0.000      -0.886      -0.517\n",
       "Uninsured_raw_value                                             4.4635      1.077      4.144      0.000       2.350       6.577\n",
       "Primary_care_physicians_raw_value                               0.0774      0.062      1.252      0.211      -0.044       0.199\n",
       "Dentists_raw_value                                              0.0094      0.064      0.146      0.884      -0.117       0.135\n",
       "Mental_health_providers_raw_value                              -0.1473      0.057     -2.589      0.010      -0.259      -0.036\n",
       "Flu_vaccinations_raw_value                                     -0.0652      0.061     -1.072      0.284      -0.185       0.054\n",
       "High_school_graduation_raw_value                               -0.1110      0.056     -1.987      0.047      -0.221      -0.001\n",
       "Some_college_raw_value                                          0.0257      0.080      0.320      0.749      -0.132       0.183\n",
       "Unemployment_raw_value                                          0.1697      0.073      2.310      0.021       0.026       0.314\n",
       "Children_in_poverty_raw_value                                  -0.1136      0.124     -0.917      0.359      -0.357       0.129\n",
       "Income_inequality_raw_value                                     0.0331      0.064      0.519      0.604      -0.092       0.158\n",
       "Children_in_single_parent_households_raw_value                 -0.1493      0.080     -1.862      0.063      -0.307       0.008\n",
       "Social_associations_raw_value                                  -0.0407      0.058     -0.700      0.484      -0.155       0.073\n",
       "Violent_crime_raw_value                                        -0.0944      0.058     -1.633      0.103      -0.208       0.019\n",
       "Injury_deaths_raw_value                                        -1.0376      0.068    -15.252      0.000      -1.171      -0.904\n",
       "Air_pollution___particulate_matter_raw_value                   -0.4054      0.071     -5.694      0.000      -0.545      -0.266\n",
       "Severe_housing_problems_raw_value                              -0.0198      0.102     -0.195      0.846      -0.219       0.180\n",
       "Diabetes_prevalence_raw_value                                  -0.4517      0.089     -5.087      0.000      -0.626      -0.277\n",
       "HIV_prevalence_raw_value                                        0.1374      0.063      2.192      0.029       0.014       0.260\n",
       "Food_insecurity_raw_value                                      -0.6694      0.596     -1.122      0.262      -1.840       0.501\n",
       "Limited_access_to_healthy_foods_raw_value                       0.2295      0.631      0.363      0.716      -1.009       1.468\n",
       "Motor_vehicle_crash_deaths_raw_value                           -0.1655      0.072     -2.313      0.021      -0.306      -0.025\n",
       "Uninsured_adults_raw_value                                     -3.9930      0.937     -4.262      0.000      -5.832      -2.155\n",
       "Uninsured_children_raw_value                                   -0.4099      0.224     -1.831      0.067      -0.849       0.029\n",
       "Median_household_income_raw_value                               0.1829      0.098      1.861      0.063      -0.010       0.376\n",
       "Children_eligible_for_free_or_reduced_price_lunch_raw_value     0.1293      0.092      1.407      0.160      -0.051       0.310\n",
       "Residential_segregation___non_white/white_raw_value            -0.0153      0.050     -0.304      0.761      -0.114       0.083\n",
       "Homeownership_raw_value                                        -0.0555      0.076     -0.735      0.463      -0.204       0.093\n",
       "Severe_housing_cost_burden_raw_value                           -0.1529      0.105     -1.462      0.144      -0.358       0.052\n",
       "Population_raw_value                                            0.1487      0.061      2.447      0.015       0.029       0.268\n",
       "County_Ranked                                                   0.2120      0.058      3.640      0.000       0.098       0.326\n",
       "==============================================================================\n",
       "Omnibus:                      276.453   Durbin-Watson:                   1.982\n",
       "Prob(Omnibus):                  0.000   Jarque-Bera (JB):             2169.694\n",
       "Skew:                           0.895   Prob(JB):                         0.00\n",
       "Kurtosis:                       9.523   Cond. No.                         96.7\n",
       "==============================================================================\n",
       "\n",
       "Warnings:\n",
       "[1] Standard Errors assume that the covariance matrix of the errors is correctly specified.\n",
       "\"\"\""
      ]
     },
     "execution_count": 25,
     "metadata": {},
     "output_type": "execute_result"
    }
   ],
   "source": [
    "X_const = sm.add_constant(X_1)\n",
    "\n",
    "model1 = sm.OLS(y_train.values, X_const).fit()\n",
    "model1.summary()"
   ]
  },
  {
   "cell_type": "code",
   "execution_count": 97,
   "metadata": {},
   "outputs": [
    {
     "data": {
      "text/plain": [
       "<matplotlib.axes._subplots.AxesSubplot at 0x1c2022cf50>"
      ]
     },
     "execution_count": 97,
     "metadata": {},
     "output_type": "execute_result"
    },
    {
     "data": {
      "image/png": "[encoded data removed]",
      "text/plain": [
       "<Figure size 1440x864 with 2 Axes>"
      ]
     },
     "metadata": {
      "needs_background": "light"
     },
     "output_type": "display_data"
    }
   ],
   "source": [
    "corr = abs(X_1.corr())\n",
    "plt.figure(figsize=(20,12))\n",
    "sns.heatmap(corr)"
   ]
  },
  {
   "cell_type": "markdown",
   "metadata": {},
   "source": [
    "## Eliminate Features using the P-value score"
   ]
  },
  {
   "cell_type": "code",
   "execution_count": 26,
   "metadata": {},
   "outputs": [],
   "source": [
    "def func_rfe(X_1, model):\n",
    "    X_cols = list(X_1.columns)\n",
    "    X_cols = ['const'] + X_cols\n",
    "    rfe = list(zip(X_cols, model.pvalues))\n",
    "    rfe = pd.DataFrame(rfe, columns=['Parameters', 'P_values'])\n",
    "    rfe.sort_values(by='P_values', ascending=True, inplace=True)\n",
    "    rfe_reduced = rfe.loc[rfe['P_values'] < 0.05]\n",
    "    return rfe_reduced"
   ]
  },
  {
   "cell_type": "code",
   "execution_count": 27,
   "metadata": {},
   "outputs": [
    {
     "data": {
      "text/html": [
       "<div>\n",
       "<style scoped>\n",
       "    .dataframe tbody tr th:only-of-type {\n",
       "        vertical-align: middle;\n",
       "    }\n",
       "\n",
       "    .dataframe tbody tr th {\n",
       "        vertical-align: top;\n",
       "    }\n",
       "\n",
       "    .dataframe thead th {\n",
       "        text-align: right;\n",
       "    }\n",
       "</style>\n",
       "<table border=\"1\" class=\"dataframe\">\n",
       "  <thead>\n",
       "    <tr style=\"text-align: right;\">\n",
       "      <th></th>\n",
       "      <th>Parameters</th>\n",
       "      <th>P_values</th>\n",
       "    </tr>\n",
       "  </thead>\n",
       "  <tbody>\n",
       "    <tr>\n",
       "      <td>0</td>\n",
       "      <td>const</td>\n",
       "      <td>0.000000e+00</td>\n",
       "    </tr>\n",
       "    <tr>\n",
       "      <td>21</td>\n",
       "      <td>Injury_deaths_raw_value</td>\n",
       "      <td>8.624577e-48</td>\n",
       "    </tr>\n",
       "    <tr>\n",
       "      <td>7</td>\n",
       "      <td>Teen_births_raw_value</td>\n",
       "      <td>1.749488e-13</td>\n",
       "    </tr>\n",
       "    <tr>\n",
       "      <td>22</td>\n",
       "      <td>Air_pollution___particulate_matter_raw_value</td>\n",
       "      <td>1.593672e-08</td>\n",
       "    </tr>\n",
       "    <tr>\n",
       "      <td>24</td>\n",
       "      <td>Diabetes_prevalence_raw_value</td>\n",
       "      <td>4.275516e-07</td>\n",
       "    </tr>\n",
       "    <tr>\n",
       "      <td>29</td>\n",
       "      <td>Uninsured_adults_raw_value</td>\n",
       "      <td>2.203541e-05</td>\n",
       "    </tr>\n",
       "    <tr>\n",
       "      <td>8</td>\n",
       "      <td>Uninsured_raw_value</td>\n",
       "      <td>3.679453e-05</td>\n",
       "    </tr>\n",
       "    <tr>\n",
       "      <td>37</td>\n",
       "      <td>County_Ranked</td>\n",
       "      <td>2.856908e-04</td>\n",
       "    </tr>\n",
       "    <tr>\n",
       "      <td>2</td>\n",
       "      <td>Adult_obesity_raw_value</td>\n",
       "      <td>8.523400e-03</td>\n",
       "    </tr>\n",
       "    <tr>\n",
       "      <td>11</td>\n",
       "      <td>Mental_health_providers_raw_value</td>\n",
       "      <td>9.759862e-03</td>\n",
       "    </tr>\n",
       "    <tr>\n",
       "      <td>36</td>\n",
       "      <td>Population_raw_value</td>\n",
       "      <td>1.455645e-02</td>\n",
       "    </tr>\n",
       "    <tr>\n",
       "      <td>28</td>\n",
       "      <td>Motor_vehicle_crash_deaths_raw_value</td>\n",
       "      <td>2.090732e-02</td>\n",
       "    </tr>\n",
       "    <tr>\n",
       "      <td>15</td>\n",
       "      <td>Unemployment_raw_value</td>\n",
       "      <td>2.105469e-02</td>\n",
       "    </tr>\n",
       "    <tr>\n",
       "      <td>25</td>\n",
       "      <td>HIV_prevalence_raw_value</td>\n",
       "      <td>2.858131e-02</td>\n",
       "    </tr>\n",
       "    <tr>\n",
       "      <td>13</td>\n",
       "      <td>High_school_graduation_raw_value</td>\n",
       "      <td>4.714166e-02</td>\n",
       "    </tr>\n",
       "  </tbody>\n",
       "</table>\n",
       "</div>"
      ],
      "text/plain": [
       "                                      Parameters      P_values\n",
       "0                                          const  0.000000e+00\n",
       "21                       Injury_deaths_raw_value  8.624577e-48\n",
       "7                          Teen_births_raw_value  1.749488e-13\n",
       "22  Air_pollution___particulate_matter_raw_value  1.593672e-08\n",
       "24                 Diabetes_prevalence_raw_value  4.275516e-07\n",
       "29                    Uninsured_adults_raw_value  2.203541e-05\n",
       "8                            Uninsured_raw_value  3.679453e-05\n",
       "37                                 County_Ranked  2.856908e-04\n",
       "2                        Adult_obesity_raw_value  8.523400e-03\n",
       "11             Mental_health_providers_raw_value  9.759862e-03\n",
       "36                          Population_raw_value  1.455645e-02\n",
       "28          Motor_vehicle_crash_deaths_raw_value  2.090732e-02\n",
       "15                        Unemployment_raw_value  2.105469e-02\n",
       "25                      HIV_prevalence_raw_value  2.858131e-02\n",
       "13              High_school_graduation_raw_value  4.714166e-02"
      ]
     },
     "execution_count": 27,
     "metadata": {},
     "output_type": "execute_result"
    }
   ],
   "source": [
    "rfe_reduced = func_rfe(X_1, model1)\n",
    "rfe_reduced"
   ]
  },
  {
   "cell_type": "code",
   "execution_count": 28,
   "metadata": {},
   "outputs": [],
   "source": [
    "rfe_reduced = rfe_reduced.loc[rfe_reduced['Parameters'] != 'const']\n",
    "X_cols = list(rfe_reduced.Parameters)\n",
    "X_2 = X_1[X_cols]\n",
    "# X_2.sort_index()"
   ]
  },
  {
   "cell_type": "code",
   "execution_count": 29,
   "metadata": {},
   "outputs": [
    {
     "data": {
      "text/plain": [
       "(37, 14)"
      ]
     },
     "execution_count": 29,
     "metadata": {},
     "output_type": "execute_result"
    }
   ],
   "source": [
    "X_1.shape[1], X_2.shape[1]"
   ]
  },
  {
   "cell_type": "markdown",
   "metadata": {},
   "source": [
    "# Model 3:"
   ]
  },
  {
   "cell_type": "code",
   "execution_count": 30,
   "metadata": {},
   "outputs": [
    {
     "data": {
      "text/html": [
       "<table class=\"simpletable\">\n",
       "<caption>OLS Regression Results</caption>\n",
       "<tr>\n",
       "  <th>Dep. Variable:</th>            <td>y</td>        <th>  R-squared:         </th> <td>   0.713</td> \n",
       "</tr>\n",
       "<tr>\n",
       "  <th>Model:</th>                   <td>OLS</td>       <th>  Adj. R-squared:    </th> <td>   0.710</td> \n",
       "</tr>\n",
       "<tr>\n",
       "  <th>Method:</th>             <td>Least Squares</td>  <th>  F-statistic:       </th> <td>   199.4</td> \n",
       "</tr>\n",
       "<tr>\n",
       "  <th>Date:</th>             <td>Wed, 15 Jan 2020</td> <th>  Prob (F-statistic):</th> <td>1.90e-292</td>\n",
       "</tr>\n",
       "<tr>\n",
       "  <th>Time:</th>                 <td>14:12:52</td>     <th>  Log-Likelihood:    </th> <td> -2168.8</td> \n",
       "</tr>\n",
       "<tr>\n",
       "  <th>No. Observations:</th>      <td>  1138</td>      <th>  AIC:               </th> <td>   4368.</td> \n",
       "</tr>\n",
       "<tr>\n",
       "  <th>Df Residuals:</th>          <td>  1123</td>      <th>  BIC:               </th> <td>   4443.</td> \n",
       "</tr>\n",
       "<tr>\n",
       "  <th>Df Model:</th>              <td>    14</td>      <th>                     </th>     <td> </td>    \n",
       "</tr>\n",
       "<tr>\n",
       "  <th>Covariance Type:</th>      <td>nonrobust</td>    <th>                     </th>     <td> </td>    \n",
       "</tr>\n",
       "</table>\n",
       "<table class=\"simpletable\">\n",
       "<tr>\n",
       "                        <td></td>                          <th>coef</th>     <th>std err</th>      <th>t</th>      <th>P>|t|</th>  <th>[0.025</th>    <th>0.975]</th>  \n",
       "</tr>\n",
       "<tr>\n",
       "  <th>const</th>                                        <td>   77.3917</td> <td>    0.049</td> <td> 1593.842</td> <td> 0.000</td> <td>   77.296</td> <td>   77.487</td>\n",
       "</tr>\n",
       "<tr>\n",
       "  <th>Injury_deaths_raw_value</th>                      <td>   -1.0666</td> <td>    0.068</td> <td>  -15.719</td> <td> 0.000</td> <td>   -1.200</td> <td>   -0.933</td>\n",
       "</tr>\n",
       "<tr>\n",
       "  <th>Teen_births_raw_value</th>                        <td>   -0.8090</td> <td>    0.079</td> <td>  -10.197</td> <td> 0.000</td> <td>   -0.965</td> <td>   -0.653</td>\n",
       "</tr>\n",
       "<tr>\n",
       "  <th>Air_pollution___particulate_matter_raw_value</th> <td>   -0.6335</td> <td>    0.063</td> <td>   -9.983</td> <td> 0.000</td> <td>   -0.758</td> <td>   -0.509</td>\n",
       "</tr>\n",
       "<tr>\n",
       "  <th>Diabetes_prevalence_raw_value</th>                <td>   -0.5180</td> <td>    0.083</td> <td>   -6.216</td> <td> 0.000</td> <td>   -0.681</td> <td>   -0.354</td>\n",
       "</tr>\n",
       "<tr>\n",
       "  <th>Uninsured_adults_raw_value</th>                   <td>   -2.9904</td> <td>    0.455</td> <td>   -6.571</td> <td> 0.000</td> <td>   -3.883</td> <td>   -2.097</td>\n",
       "</tr>\n",
       "<tr>\n",
       "  <th>Uninsured_raw_value</th>                          <td>    2.9904</td> <td>    0.445</td> <td>    6.718</td> <td> 0.000</td> <td>    2.117</td> <td>    3.864</td>\n",
       "</tr>\n",
       "<tr>\n",
       "  <th>County_Ranked</th>                                <td>    0.1800</td> <td>    0.052</td> <td>    3.480</td> <td> 0.001</td> <td>    0.079</td> <td>    0.281</td>\n",
       "</tr>\n",
       "<tr>\n",
       "  <th>Adult_obesity_raw_value</th>                      <td>   -0.2599</td> <td>    0.070</td> <td>   -3.700</td> <td> 0.000</td> <td>   -0.398</td> <td>   -0.122</td>\n",
       "</tr>\n",
       "<tr>\n",
       "  <th>Mental_health_providers_raw_value</th>            <td>   -0.2221</td> <td>    0.054</td> <td>   -4.079</td> <td> 0.000</td> <td>   -0.329</td> <td>   -0.115</td>\n",
       "</tr>\n",
       "<tr>\n",
       "  <th>Population_raw_value</th>                         <td>    0.2068</td> <td>    0.060</td> <td>    3.425</td> <td> 0.001</td> <td>    0.088</td> <td>    0.325</td>\n",
       "</tr>\n",
       "<tr>\n",
       "  <th>Motor_vehicle_crash_deaths_raw_value</th>         <td>   -0.2006</td> <td>    0.071</td> <td>   -2.814</td> <td> 0.005</td> <td>   -0.341</td> <td>   -0.061</td>\n",
       "</tr>\n",
       "<tr>\n",
       "  <th>Unemployment_raw_value</th>                       <td>   -0.1075</td> <td>    0.062</td> <td>   -1.743</td> <td> 0.082</td> <td>   -0.228</td> <td>    0.014</td>\n",
       "</tr>\n",
       "<tr>\n",
       "  <th>HIV_prevalence_raw_value</th>                     <td>   -0.0727</td> <td>    0.057</td> <td>   -1.267</td> <td> 0.205</td> <td>   -0.185</td> <td>    0.040</td>\n",
       "</tr>\n",
       "<tr>\n",
       "  <th>High_school_graduation_raw_value</th>             <td>   -0.0142</td> <td>    0.055</td> <td>   -0.259</td> <td> 0.796</td> <td>   -0.122</td> <td>    0.094</td>\n",
       "</tr>\n",
       "</table>\n",
       "<table class=\"simpletable\">\n",
       "<tr>\n",
       "  <th>Omnibus:</th>       <td>354.998</td> <th>  Durbin-Watson:     </th> <td>   1.993</td>\n",
       "</tr>\n",
       "<tr>\n",
       "  <th>Prob(Omnibus):</th> <td> 0.000</td>  <th>  Jarque-Bera (JB):  </th> <td>3534.511</td>\n",
       "</tr>\n",
       "<tr>\n",
       "  <th>Skew:</th>          <td> 1.141</td>  <th>  Prob(JB):          </th> <td>    0.00</td>\n",
       "</tr>\n",
       "<tr>\n",
       "  <th>Kurtosis:</th>      <td>11.327</td>  <th>  Cond. No.          </th> <td>    25.6</td>\n",
       "</tr>\n",
       "</table><br/><br/>Warnings:<br/>[1] Standard Errors assume that the covariance matrix of the errors is correctly specified."
      ],
      "text/plain": [
       "<class 'statsmodels.iolib.summary.Summary'>\n",
       "\"\"\"\n",
       "                            OLS Regression Results                            \n",
       "==============================================================================\n",
       "Dep. Variable:                      y   R-squared:                       0.713\n",
       "Model:                            OLS   Adj. R-squared:                  0.710\n",
       "Method:                 Least Squares   F-statistic:                     199.4\n",
       "Date:                Wed, 15 Jan 2020   Prob (F-statistic):          1.90e-292\n",
       "Time:                        14:12:52   Log-Likelihood:                -2168.8\n",
       "No. Observations:                1138   AIC:                             4368.\n",
       "Df Residuals:                    1123   BIC:                             4443.\n",
       "Df Model:                          14                                         \n",
       "Covariance Type:            nonrobust                                         \n",
       "================================================================================================================\n",
       "                                                   coef    std err          t      P>|t|      [0.025      0.975]\n",
       "----------------------------------------------------------------------------------------------------------------\n",
       "const                                           77.3917      0.049   1593.842      0.000      77.296      77.487\n",
       "Injury_deaths_raw_value                         -1.0666      0.068    -15.719      0.000      -1.200      -0.933\n",
       "Teen_births_raw_value                           -0.8090      0.079    -10.197      0.000      -0.965      -0.653\n",
       "Air_pollution___particulate_matter_raw_value    -0.6335      0.063     -9.983      0.000      -0.758      -0.509\n",
       "Diabetes_prevalence_raw_value                   -0.5180      0.083     -6.216      0.000      -0.681      -0.354\n",
       "Uninsured_adults_raw_value                      -2.9904      0.455     -6.571      0.000      -3.883      -2.097\n",
       "Uninsured_raw_value                              2.9904      0.445      6.718      0.000       2.117       3.864\n",
       "County_Ranked                                    0.1800      0.052      3.480      0.001       0.079       0.281\n",
       "Adult_obesity_raw_value                         -0.2599      0.070     -3.700      0.000      -0.398      -0.122\n",
       "Mental_health_providers_raw_value               -0.2221      0.054     -4.079      0.000      -0.329      -0.115\n",
       "Population_raw_value                             0.2068      0.060      3.425      0.001       0.088       0.325\n",
       "Motor_vehicle_crash_deaths_raw_value            -0.2006      0.071     -2.814      0.005      -0.341      -0.061\n",
       "Unemployment_raw_value                          -0.1075      0.062     -1.743      0.082      -0.228       0.014\n",
       "HIV_prevalence_raw_value                        -0.0727      0.057     -1.267      0.205      -0.185       0.040\n",
       "High_school_graduation_raw_value                -0.0142      0.055     -0.259      0.796      -0.122       0.094\n",
       "==============================================================================\n",
       "Omnibus:                      354.998   Durbin-Watson:                   1.993\n",
       "Prob(Omnibus):                  0.000   Jarque-Bera (JB):             3534.511\n",
       "Skew:                           1.141   Prob(JB):                         0.00\n",
       "Kurtosis:                      11.327   Cond. No.                         25.6\n",
       "==============================================================================\n",
       "\n",
       "Warnings:\n",
       "[1] Standard Errors assume that the covariance matrix of the errors is correctly specified.\n",
       "\"\"\""
      ]
     },
     "execution_count": 30,
     "metadata": {},
     "output_type": "execute_result"
    }
   ],
   "source": [
    "X_const = sm.add_constant(X_2)\n",
    "\n",
    "model2 = sm.OLS(y_train.values, X_const).fit()\n",
    "model2.summary()"
   ]
  },
  {
   "cell_type": "markdown",
   "metadata": {},
   "source": [
    "## Adjust Baseline & Run RFE"
   ]
  },
  {
   "cell_type": "code",
   "execution_count": 31,
   "metadata": {},
   "outputs": [
    {
     "name": "stdout",
     "output_type": "stream",
     "text": [
      "Inital R^2: 0.7013839662329098\n"
     ]
    }
   ],
   "source": [
    "regression = LinearRegression()\n",
    "\n",
    "crossvalidation = KFold(n_splits=10, shuffle=True, random_state=1)\n",
    "baseline = np.mean(cross_val_score(regression, X_2, y_train, scoring='r2', cv=crossvalidation))\n",
    "print(\"Inital R^2:\", baseline)"
   ]
  },
  {
   "cell_type": "code",
   "execution_count": 32,
   "metadata": {},
   "outputs": [
    {
     "data": {
      "text/html": [
       "<div>\n",
       "<style scoped>\n",
       "    .dataframe tbody tr th:only-of-type {\n",
       "        vertical-align: middle;\n",
       "    }\n",
       "\n",
       "    .dataframe tbody tr th {\n",
       "        vertical-align: top;\n",
       "    }\n",
       "\n",
       "    .dataframe thead th {\n",
       "        text-align: right;\n",
       "    }\n",
       "</style>\n",
       "<table border=\"1\" class=\"dataframe\">\n",
       "  <thead>\n",
       "    <tr style=\"text-align: right;\">\n",
       "      <th></th>\n",
       "      <th>Parameters</th>\n",
       "      <th>P_values</th>\n",
       "    </tr>\n",
       "  </thead>\n",
       "  <tbody>\n",
       "    <tr>\n",
       "      <td>0</td>\n",
       "      <td>const</td>\n",
       "      <td>0.000000e+00</td>\n",
       "    </tr>\n",
       "    <tr>\n",
       "      <td>1</td>\n",
       "      <td>Injury_deaths_raw_value</td>\n",
       "      <td>1.791424e-50</td>\n",
       "    </tr>\n",
       "    <tr>\n",
       "      <td>2</td>\n",
       "      <td>Teen_births_raw_value</td>\n",
       "      <td>2.068229e-23</td>\n",
       "    </tr>\n",
       "    <tr>\n",
       "      <td>3</td>\n",
       "      <td>Air_pollution___particulate_matter_raw_value</td>\n",
       "      <td>1.528202e-22</td>\n",
       "    </tr>\n",
       "    <tr>\n",
       "      <td>6</td>\n",
       "      <td>Uninsured_raw_value</td>\n",
       "      <td>2.912582e-11</td>\n",
       "    </tr>\n",
       "    <tr>\n",
       "      <td>5</td>\n",
       "      <td>Uninsured_adults_raw_value</td>\n",
       "      <td>7.618484e-11</td>\n",
       "    </tr>\n",
       "    <tr>\n",
       "      <td>4</td>\n",
       "      <td>Diabetes_prevalence_raw_value</td>\n",
       "      <td>7.162435e-10</td>\n",
       "    </tr>\n",
       "    <tr>\n",
       "      <td>9</td>\n",
       "      <td>Mental_health_providers_raw_value</td>\n",
       "      <td>4.852094e-05</td>\n",
       "    </tr>\n",
       "    <tr>\n",
       "      <td>8</td>\n",
       "      <td>Adult_obesity_raw_value</td>\n",
       "      <td>2.262093e-04</td>\n",
       "    </tr>\n",
       "    <tr>\n",
       "      <td>7</td>\n",
       "      <td>County_Ranked</td>\n",
       "      <td>5.208372e-04</td>\n",
       "    </tr>\n",
       "    <tr>\n",
       "      <td>10</td>\n",
       "      <td>Population_raw_value</td>\n",
       "      <td>6.372422e-04</td>\n",
       "    </tr>\n",
       "    <tr>\n",
       "      <td>11</td>\n",
       "      <td>Motor_vehicle_crash_deaths_raw_value</td>\n",
       "      <td>4.982309e-03</td>\n",
       "    </tr>\n",
       "  </tbody>\n",
       "</table>\n",
       "</div>"
      ],
      "text/plain": [
       "                                      Parameters      P_values\n",
       "0                                          const  0.000000e+00\n",
       "1                        Injury_deaths_raw_value  1.791424e-50\n",
       "2                          Teen_births_raw_value  2.068229e-23\n",
       "3   Air_pollution___particulate_matter_raw_value  1.528202e-22\n",
       "6                            Uninsured_raw_value  2.912582e-11\n",
       "5                     Uninsured_adults_raw_value  7.618484e-11\n",
       "4                  Diabetes_prevalence_raw_value  7.162435e-10\n",
       "9              Mental_health_providers_raw_value  4.852094e-05\n",
       "8                        Adult_obesity_raw_value  2.262093e-04\n",
       "7                                  County_Ranked  5.208372e-04\n",
       "10                          Population_raw_value  6.372422e-04\n",
       "11          Motor_vehicle_crash_deaths_raw_value  4.982309e-03"
      ]
     },
     "execution_count": 32,
     "metadata": {},
     "output_type": "execute_result"
    }
   ],
   "source": [
    "rfe_red2 = func_rfe(X_2, model2)\n",
    "rfe_red2"
   ]
  },
  {
   "cell_type": "code",
   "execution_count": 33,
   "metadata": {},
   "outputs": [],
   "source": [
    "rfe_red2 = rfe_red2.loc[rfe_red2['Parameters'] != 'const']\n",
    "X_cols = list(rfe_red2.Parameters)\n",
    "X_3 = X_2[X_cols]\n",
    "# X_3.sort_index()"
   ]
  },
  {
   "cell_type": "code",
   "execution_count": 34,
   "metadata": {},
   "outputs": [
    {
     "data": {
      "text/plain": [
       "(14, 11)"
      ]
     },
     "execution_count": 34,
     "metadata": {},
     "output_type": "execute_result"
    }
   ],
   "source": [
    "X_2.shape[1], X_3.shape[1]"
   ]
  },
  {
   "cell_type": "code",
   "execution_count": 35,
   "metadata": {},
   "outputs": [
    {
     "name": "stderr",
     "output_type": "stream",
     "text": [
      "/opt/anaconda3/lib/python3.7/site-packages/numpy/core/fromnumeric.py:2495: FutureWarning: Method .ptp is deprecated and will be removed in a future version. Use numpy.ptp instead.\n",
      "  return ptp(axis=axis, out=out, **kwargs)\n"
     ]
    },
    {
     "data": {
      "text/html": [
       "<table class=\"simpletable\">\n",
       "<caption>OLS Regression Results</caption>\n",
       "<tr>\n",
       "  <th>Dep. Variable:</th>            <td>y</td>        <th>  R-squared:         </th> <td>   0.712</td> \n",
       "</tr>\n",
       "<tr>\n",
       "  <th>Model:</th>                   <td>OLS</td>       <th>  Adj. R-squared:    </th> <td>   0.709</td> \n",
       "</tr>\n",
       "<tr>\n",
       "  <th>Method:</th>             <td>Least Squares</td>  <th>  F-statistic:       </th> <td>   252.9</td> \n",
       "</tr>\n",
       "<tr>\n",
       "  <th>Date:</th>             <td>Wed, 15 Jan 2020</td> <th>  Prob (F-statistic):</th> <td>5.67e-295</td>\n",
       "</tr>\n",
       "<tr>\n",
       "  <th>Time:</th>                 <td>14:12:52</td>     <th>  Log-Likelihood:    </th> <td> -2171.3</td> \n",
       "</tr>\n",
       "<tr>\n",
       "  <th>No. Observations:</th>      <td>  1138</td>      <th>  AIC:               </th> <td>   4367.</td> \n",
       "</tr>\n",
       "<tr>\n",
       "  <th>Df Residuals:</th>          <td>  1126</td>      <th>  BIC:               </th> <td>   4427.</td> \n",
       "</tr>\n",
       "<tr>\n",
       "  <th>Df Model:</th>              <td>    11</td>      <th>                     </th>     <td> </td>    \n",
       "</tr>\n",
       "<tr>\n",
       "  <th>Covariance Type:</th>      <td>nonrobust</td>    <th>                     </th>     <td> </td>    \n",
       "</tr>\n",
       "</table>\n",
       "<table class=\"simpletable\">\n",
       "<tr>\n",
       "                        <td></td>                          <th>coef</th>     <th>std err</th>      <th>t</th>      <th>P>|t|</th>  <th>[0.025</th>    <th>0.975]</th>  \n",
       "</tr>\n",
       "<tr>\n",
       "  <th>const</th>                                        <td>   77.3917</td> <td>    0.049</td> <td> 1592.520</td> <td> 0.000</td> <td>   77.296</td> <td>   77.487</td>\n",
       "</tr>\n",
       "<tr>\n",
       "  <th>Injury_deaths_raw_value</th>                      <td>   -1.0523</td> <td>    0.067</td> <td>  -15.691</td> <td> 0.000</td> <td>   -1.184</td> <td>   -0.921</td>\n",
       "</tr>\n",
       "<tr>\n",
       "  <th>Teen_births_raw_value</th>                        <td>   -0.8324</td> <td>    0.077</td> <td>  -10.747</td> <td> 0.000</td> <td>   -0.984</td> <td>   -0.680</td>\n",
       "</tr>\n",
       "<tr>\n",
       "  <th>Air_pollution___particulate_matter_raw_value</th> <td>   -0.6299</td> <td>    0.062</td> <td>  -10.107</td> <td> 0.000</td> <td>   -0.752</td> <td>   -0.508</td>\n",
       "</tr>\n",
       "<tr>\n",
       "  <th>Uninsured_raw_value</th>                          <td>    3.2353</td> <td>    0.420</td> <td>    7.695</td> <td> 0.000</td> <td>    2.410</td> <td>    4.060</td>\n",
       "</tr>\n",
       "<tr>\n",
       "  <th>Uninsured_adults_raw_value</th>                   <td>   -3.2307</td> <td>    0.431</td> <td>   -7.494</td> <td> 0.000</td> <td>   -4.077</td> <td>   -2.385</td>\n",
       "</tr>\n",
       "<tr>\n",
       "  <th>Diabetes_prevalence_raw_value</th>                <td>   -0.5779</td> <td>    0.079</td> <td>   -7.346</td> <td> 0.000</td> <td>   -0.732</td> <td>   -0.424</td>\n",
       "</tr>\n",
       "<tr>\n",
       "  <th>Mental_health_providers_raw_value</th>            <td>   -0.2363</td> <td>    0.053</td> <td>   -4.478</td> <td> 0.000</td> <td>   -0.340</td> <td>   -0.133</td>\n",
       "</tr>\n",
       "<tr>\n",
       "  <th>Adult_obesity_raw_value</th>                      <td>   -0.2485</td> <td>    0.070</td> <td>   -3.561</td> <td> 0.000</td> <td>   -0.385</td> <td>   -0.112</td>\n",
       "</tr>\n",
       "<tr>\n",
       "  <th>County_Ranked</th>                                <td>    0.1868</td> <td>    0.051</td> <td>    3.630</td> <td> 0.000</td> <td>    0.086</td> <td>    0.288</td>\n",
       "</tr>\n",
       "<tr>\n",
       "  <th>Population_raw_value</th>                         <td>    0.1793</td> <td>    0.056</td> <td>    3.229</td> <td> 0.001</td> <td>    0.070</td> <td>    0.288</td>\n",
       "</tr>\n",
       "<tr>\n",
       "  <th>Motor_vehicle_crash_deaths_raw_value</th>         <td>   -0.2079</td> <td>    0.071</td> <td>   -2.920</td> <td> 0.004</td> <td>   -0.348</td> <td>   -0.068</td>\n",
       "</tr>\n",
       "</table>\n",
       "<table class=\"simpletable\">\n",
       "<tr>\n",
       "  <th>Omnibus:</th>       <td>342.504</td> <th>  Durbin-Watson:     </th> <td>   1.982</td>\n",
       "</tr>\n",
       "<tr>\n",
       "  <th>Prob(Omnibus):</th> <td> 0.000</td>  <th>  Jarque-Bera (JB):  </th> <td>3287.168</td>\n",
       "</tr>\n",
       "<tr>\n",
       "  <th>Skew:</th>          <td> 1.101</td>  <th>  Prob(JB):          </th> <td>    0.00</td>\n",
       "</tr>\n",
       "<tr>\n",
       "  <th>Kurtosis:</th>      <td>11.030</td>  <th>  Cond. No.          </th> <td>    23.6</td>\n",
       "</tr>\n",
       "</table><br/><br/>Warnings:<br/>[1] Standard Errors assume that the covariance matrix of the errors is correctly specified."
      ],
      "text/plain": [
       "<class 'statsmodels.iolib.summary.Summary'>\n",
       "\"\"\"\n",
       "                            OLS Regression Results                            \n",
       "==============================================================================\n",
       "Dep. Variable:                      y   R-squared:                       0.712\n",
       "Model:                            OLS   Adj. R-squared:                  0.709\n",
       "Method:                 Least Squares   F-statistic:                     252.9\n",
       "Date:                Wed, 15 Jan 2020   Prob (F-statistic):          5.67e-295\n",
       "Time:                        14:12:52   Log-Likelihood:                -2171.3\n",
       "No. Observations:                1138   AIC:                             4367.\n",
       "Df Residuals:                    1126   BIC:                             4427.\n",
       "Df Model:                          11                                         \n",
       "Covariance Type:            nonrobust                                         \n",
       "================================================================================================================\n",
       "                                                   coef    std err          t      P>|t|      [0.025      0.975]\n",
       "----------------------------------------------------------------------------------------------------------------\n",
       "const                                           77.3917      0.049   1592.520      0.000      77.296      77.487\n",
       "Injury_deaths_raw_value                         -1.0523      0.067    -15.691      0.000      -1.184      -0.921\n",
       "Teen_births_raw_value                           -0.8324      0.077    -10.747      0.000      -0.984      -0.680\n",
       "Air_pollution___particulate_matter_raw_value    -0.6299      0.062    -10.107      0.000      -0.752      -0.508\n",
       "Uninsured_raw_value                              3.2353      0.420      7.695      0.000       2.410       4.060\n",
       "Uninsured_adults_raw_value                      -3.2307      0.431     -7.494      0.000      -4.077      -2.385\n",
       "Diabetes_prevalence_raw_value                   -0.5779      0.079     -7.346      0.000      -0.732      -0.424\n",
       "Mental_health_providers_raw_value               -0.2363      0.053     -4.478      0.000      -0.340      -0.133\n",
       "Adult_obesity_raw_value                         -0.2485      0.070     -3.561      0.000      -0.385      -0.112\n",
       "County_Ranked                                    0.1868      0.051      3.630      0.000       0.086       0.288\n",
       "Population_raw_value                             0.1793      0.056      3.229      0.001       0.070       0.288\n",
       "Motor_vehicle_crash_deaths_raw_value            -0.2079      0.071     -2.920      0.004      -0.348      -0.068\n",
       "==============================================================================\n",
       "Omnibus:                      342.504   Durbin-Watson:                   1.982\n",
       "Prob(Omnibus):                  0.000   Jarque-Bera (JB):             3287.168\n",
       "Skew:                           1.101   Prob(JB):                         0.00\n",
       "Kurtosis:                      11.030   Cond. No.                         23.6\n",
       "==============================================================================\n",
       "\n",
       "Warnings:\n",
       "[1] Standard Errors assume that the covariance matrix of the errors is correctly specified.\n",
       "\"\"\""
      ]
     },
     "execution_count": 35,
     "metadata": {},
     "output_type": "execute_result"
    }
   ],
   "source": [
    "X_const = sm.add_constant(X_3)\n",
    "\n",
    "model3 = sm.OLS(y_train.values, X_const).fit()\n",
    "model3.summary()"
   ]
  },
  {
   "cell_type": "code",
   "execution_count": 99,
   "metadata": {
    "scrolled": false
   },
   "outputs": [
    {
     "data": {
      "text/plain": [
       "<matplotlib.axes._subplots.AxesSubplot at 0x1c1ea91cd0>"
      ]
     },
     "execution_count": 99,
     "metadata": {},
     "output_type": "execute_result"
    },
    {
     "data": {
      "image/png": "[encoded data removed]",
      "text/plain": [
       "<Figure size 1440x864 with 2 Axes>"
      ]
     },
     "metadata": {
      "needs_background": "light"
     },
     "output_type": "display_data"
    }
   ],
   "source": [
    "corr = abs(X_2.corr())\n",
    "plt.figure(figsize=(20,12))\n",
    "sns.heatmap(corr)"
   ]
  },
  {
   "cell_type": "markdown",
   "metadata": {},
   "source": [
    "# Interactions "
   ]
  },
  {
   "cell_type": "code",
   "execution_count": 36,
   "metadata": {},
   "outputs": [],
   "source": [
    "def feature_combinations_r_sqrd_with_Inter_df(X, y, X_test, num_feat_comb=2):\n",
    "    # Requires cals: baseline & crossvalidation\n",
    "    \n",
    "    # Create Regression & Combinations\n",
    "    from itertools import combinations\n",
    "    combinations = list(combinations(list(X.columns), num_feat_comb))\n",
    "    \n",
    "    # Create cross-validation & output a bassline MSE score as a DataFrame\n",
    "    comb_scores = []\n",
    "    inter_cols = []\n",
    "    inter_score = []\n",
    "    inter_score_test = []\n",
    "    data = X.copy()\n",
    "    data_test = X_test.copy()\n",
    "    \n",
    "    for comb in combinations:\n",
    "        data['interaction'] = data[comb[0]] * data[comb[1]]\n",
    "        score = np.mean(cross_val_score(regression, data, y, scoring='r2', cv=crossvalidation))\n",
    "        if score > baseline: \n",
    "            comb_scores.append(round(score,3))\n",
    "            inter_cols.append((str(comb[0]) + '_AND_' + str(comb[1])))\n",
    "            inter_score.append(data[comb[0]] * data[comb[1]])\n",
    "            inter_score_test.append(data_test[comb[0]] * data_test[comb[1]])\n",
    "    \n",
    "    # Train Data - # Change this to this in the future: (data=[[inter_cols, comb_scores]]) to avoid .T\n",
    "    df_base = pd.DataFrame(data=[inter_cols, comb_scores]) \n",
    "    df_base = df_base.T  \n",
    "    df_base.rename(columns={0: \"Interaction\", 1: \"CV_score\"}, inplace=True)\n",
    "    df_base.sort_values(by='CV_score', inplace = True, ascending=False )\n",
    "    df_base.reset_index(drop=True, inplace = True)\n",
    "    \n",
    "    df_interactions_scores = pd.DataFrame(data=inter_score , index=inter_cols)\n",
    "    df_interactions_scores = df_interactions_scores.T\n",
    "    \n",
    "    # Test Data    \n",
    "    df_interactions_scores_test = pd.DataFrame(data=inter_score_test , index=inter_cols)\n",
    "    df_interactions_scores_test = df_interactions_scores_test.T\n",
    "\n",
    "    return df_base , df_interactions_scores, df_interactions_scores_test"
   ]
  },
  {
   "cell_type": "code",
   "execution_count": 37,
   "metadata": {},
   "outputs": [
    {
     "name": "stdout",
     "output_type": "stream",
     "text": [
      "Inital R^2: 0.701463552214723\n"
     ]
    }
   ],
   "source": [
    "regression = LinearRegression()\n",
    "\n",
    "crossvalidation = KFold(n_splits=10, shuffle=True, random_state=1)\n",
    "baseline = np.mean(cross_val_score(regression, X_3, y_train, scoring='r2', cv=crossvalidation))\n",
    "print(\"Inital R^2:\", baseline)"
   ]
  },
  {
   "cell_type": "code",
   "execution_count": 38,
   "metadata": {},
   "outputs": [],
   "source": [
    "X_cols = list(X_3.columns)\n",
    "X_3_test = X_test[X_cols]"
   ]
  },
  {
   "cell_type": "code",
   "execution_count": 39,
   "metadata": {},
   "outputs": [
    {
     "data": {
      "text/plain": [
       "True"
      ]
     },
     "execution_count": 39,
     "metadata": {},
     "output_type": "execute_result"
    }
   ],
   "source": [
    "all(X_3.columns == X_3_test.columns)"
   ]
  },
  {
   "cell_type": "code",
   "execution_count": 40,
   "metadata": {},
   "outputs": [],
   "source": [
    "df_inter, df_score, df_score_test = feature_combinations_r_sqrd_with_Inter_df(X_3, y_train, X_test=X_3_test)"
   ]
  },
  {
   "cell_type": "code",
   "execution_count": 41,
   "metadata": {},
   "outputs": [
    {
     "data": {
      "text/html": [
       "<div>\n",
       "<style scoped>\n",
       "    .dataframe tbody tr th:only-of-type {\n",
       "        vertical-align: middle;\n",
       "    }\n",
       "\n",
       "    .dataframe tbody tr th {\n",
       "        vertical-align: top;\n",
       "    }\n",
       "\n",
       "    .dataframe thead th {\n",
       "        text-align: right;\n",
       "    }\n",
       "</style>\n",
       "<table border=\"1\" class=\"dataframe\">\n",
       "  <thead>\n",
       "    <tr style=\"text-align: right;\">\n",
       "      <th></th>\n",
       "      <th>Interaction</th>\n",
       "      <th>CV_score</th>\n",
       "    </tr>\n",
       "  </thead>\n",
       "  <tbody>\n",
       "    <tr>\n",
       "      <td>0</td>\n",
       "      <td>Teen_births_raw_value_AND_Uninsured_raw_value</td>\n",
       "      <td>0.709</td>\n",
       "    </tr>\n",
       "    <tr>\n",
       "      <td>1</td>\n",
       "      <td>Teen_births_raw_value_AND_Uninsured_adults_raw...</td>\n",
       "      <td>0.709</td>\n",
       "    </tr>\n",
       "    <tr>\n",
       "      <td>2</td>\n",
       "      <td>County_Ranked_AND_Population_raw_value</td>\n",
       "      <td>0.706</td>\n",
       "    </tr>\n",
       "    <tr>\n",
       "      <td>3</td>\n",
       "      <td>Injury_deaths_raw_value_AND_County_Ranked</td>\n",
       "      <td>0.705</td>\n",
       "    </tr>\n",
       "    <tr>\n",
       "      <td>4</td>\n",
       "      <td>Uninsured_raw_value_AND_Uninsured_adults_raw_v...</td>\n",
       "      <td>0.705</td>\n",
       "    </tr>\n",
       "    <tr>\n",
       "      <td>5</td>\n",
       "      <td>Injury_deaths_raw_value_AND_Teen_births_raw_value</td>\n",
       "      <td>0.703</td>\n",
       "    </tr>\n",
       "    <tr>\n",
       "      <td>6</td>\n",
       "      <td>Teen_births_raw_value_AND_Population_raw_value</td>\n",
       "      <td>0.702</td>\n",
       "    </tr>\n",
       "    <tr>\n",
       "      <td>7</td>\n",
       "      <td>Mental_health_providers_raw_value_AND_Motor_ve...</td>\n",
       "      <td>0.702</td>\n",
       "    </tr>\n",
       "    <tr>\n",
       "      <td>8</td>\n",
       "      <td>Mental_health_providers_raw_value_AND_Adult_ob...</td>\n",
       "      <td>0.702</td>\n",
       "    </tr>\n",
       "    <tr>\n",
       "      <td>9</td>\n",
       "      <td>Teen_births_raw_value_AND_Diabetes_prevalence_...</td>\n",
       "      <td>0.702</td>\n",
       "    </tr>\n",
       "    <tr>\n",
       "      <td>10</td>\n",
       "      <td>Teen_births_raw_value_AND_County_Ranked</td>\n",
       "      <td>0.702</td>\n",
       "    </tr>\n",
       "    <tr>\n",
       "      <td>11</td>\n",
       "      <td>Injury_deaths_raw_value_AND_Air_pollution___pa...</td>\n",
       "      <td>0.702</td>\n",
       "    </tr>\n",
       "    <tr>\n",
       "      <td>12</td>\n",
       "      <td>Teen_births_raw_value_AND_Air_pollution___part...</td>\n",
       "      <td>0.702</td>\n",
       "    </tr>\n",
       "    <tr>\n",
       "      <td>13</td>\n",
       "      <td>Injury_deaths_raw_value_AND_Population_raw_value</td>\n",
       "      <td>0.702</td>\n",
       "    </tr>\n",
       "    <tr>\n",
       "      <td>14</td>\n",
       "      <td>Injury_deaths_raw_value_AND_Uninsured_adults_r...</td>\n",
       "      <td>0.702</td>\n",
       "    </tr>\n",
       "    <tr>\n",
       "      <td>15</td>\n",
       "      <td>Population_raw_value_AND_Motor_vehicle_crash_d...</td>\n",
       "      <td>0.702</td>\n",
       "    </tr>\n",
       "    <tr>\n",
       "      <td>16</td>\n",
       "      <td>Uninsured_raw_value_AND_Motor_vehicle_crash_de...</td>\n",
       "      <td>0.701</td>\n",
       "    </tr>\n",
       "  </tbody>\n",
       "</table>\n",
       "</div>"
      ],
      "text/plain": [
       "                                          Interaction CV_score\n",
       "0       Teen_births_raw_value_AND_Uninsured_raw_value    0.709\n",
       "1   Teen_births_raw_value_AND_Uninsured_adults_raw...    0.709\n",
       "2              County_Ranked_AND_Population_raw_value    0.706\n",
       "3           Injury_deaths_raw_value_AND_County_Ranked    0.705\n",
       "4   Uninsured_raw_value_AND_Uninsured_adults_raw_v...    0.705\n",
       "5   Injury_deaths_raw_value_AND_Teen_births_raw_value    0.703\n",
       "6      Teen_births_raw_value_AND_Population_raw_value    0.702\n",
       "7   Mental_health_providers_raw_value_AND_Motor_ve...    0.702\n",
       "8   Mental_health_providers_raw_value_AND_Adult_ob...    0.702\n",
       "9   Teen_births_raw_value_AND_Diabetes_prevalence_...    0.702\n",
       "10            Teen_births_raw_value_AND_County_Ranked    0.702\n",
       "11  Injury_deaths_raw_value_AND_Air_pollution___pa...    0.702\n",
       "12  Teen_births_raw_value_AND_Air_pollution___part...    0.702\n",
       "13   Injury_deaths_raw_value_AND_Population_raw_value    0.702\n",
       "14  Injury_deaths_raw_value_AND_Uninsured_adults_r...    0.702\n",
       "15  Population_raw_value_AND_Motor_vehicle_crash_d...    0.702\n",
       "16  Uninsured_raw_value_AND_Motor_vehicle_crash_de...    0.701"
      ]
     },
     "execution_count": 41,
     "metadata": {},
     "output_type": "execute_result"
    }
   ],
   "source": [
    "df_inter.head(20)"
   ]
  },
  {
   "cell_type": "code",
   "execution_count": 42,
   "metadata": {},
   "outputs": [],
   "source": [
    "def add_interaction_feature(data, df_inter, df_score, num_inter):\n",
    "    i=0\n",
    "    \n",
    "    while i < num_inter:\n",
    "        col = df_inter['Interaction'][i]\n",
    "  \n",
    "        data[col] = df_score[col]\n",
    "        i+=1\n",
    "    \n",
    "    return data"
   ]
  },
  {
   "cell_type": "code",
   "execution_count": 43,
   "metadata": {},
   "outputs": [
    {
     "name": "stderr",
     "output_type": "stream",
     "text": [
      "/opt/anaconda3/lib/python3.7/site-packages/ipykernel_launcher.py:7: SettingWithCopyWarning: \n",
      "A value is trying to be set on a copy of a slice from a DataFrame.\n",
      "Try using .loc[row_indexer,col_indexer] = value instead\n",
      "\n",
      "See the caveats in the documentation: http://pandas.pydata.org/pandas-docs/stable/user_guide/indexing.html#returning-a-view-versus-a-copy\n",
      "  import sys\n"
     ]
    }
   ],
   "source": [
    "data_combined = add_interaction_feature(X_3, df_inter, df_score, 10)"
   ]
  },
  {
   "cell_type": "code",
   "execution_count": 44,
   "metadata": {},
   "outputs": [
    {
     "name": "stderr",
     "output_type": "stream",
     "text": [
      "/opt/anaconda3/lib/python3.7/site-packages/ipykernel_launcher.py:7: SettingWithCopyWarning: \n",
      "A value is trying to be set on a copy of a slice from a DataFrame.\n",
      "Try using .loc[row_indexer,col_indexer] = value instead\n",
      "\n",
      "See the caveats in the documentation: http://pandas.pydata.org/pandas-docs/stable/user_guide/indexing.html#returning-a-view-versus-a-copy\n",
      "  import sys\n"
     ]
    }
   ],
   "source": [
    "data_combined_test = add_interaction_feature(X_3_test, df_inter, df_score_test, 10)"
   ]
  },
  {
   "cell_type": "markdown",
   "metadata": {},
   "source": [
    "## Run Interaction Model "
   ]
  },
  {
   "cell_type": "code",
   "execution_count": 45,
   "metadata": {
    "scrolled": false
   },
   "outputs": [
    {
     "name": "stderr",
     "output_type": "stream",
     "text": [
      "/opt/anaconda3/lib/python3.7/site-packages/numpy/core/fromnumeric.py:2495: FutureWarning: Method .ptp is deprecated and will be removed in a future version. Use numpy.ptp instead.\n",
      "  return ptp(axis=axis, out=out, **kwargs)\n"
     ]
    },
    {
     "data": {
      "text/html": [
       "<table class=\"simpletable\">\n",
       "<caption>OLS Regression Results</caption>\n",
       "<tr>\n",
       "  <th>Dep. Variable:</th>            <td>y</td>        <th>  R-squared:         </th> <td>   0.738</td> \n",
       "</tr>\n",
       "<tr>\n",
       "  <th>Model:</th>                   <td>OLS</td>       <th>  Adj. R-squared:    </th> <td>   0.733</td> \n",
       "</tr>\n",
       "<tr>\n",
       "  <th>Method:</th>             <td>Least Squares</td>  <th>  F-statistic:       </th> <td>   149.3</td> \n",
       "</tr>\n",
       "<tr>\n",
       "  <th>Date:</th>             <td>Wed, 15 Jan 2020</td> <th>  Prob (F-statistic):</th> <td>4.47e-306</td>\n",
       "</tr>\n",
       "<tr>\n",
       "  <th>Time:</th>                 <td>14:12:55</td>     <th>  Log-Likelihood:    </th> <td> -2118.1</td> \n",
       "</tr>\n",
       "<tr>\n",
       "  <th>No. Observations:</th>      <td>  1138</td>      <th>  AIC:               </th> <td>   4280.</td> \n",
       "</tr>\n",
       "<tr>\n",
       "  <th>Df Residuals:</th>          <td>  1116</td>      <th>  BIC:               </th> <td>   4391.</td> \n",
       "</tr>\n",
       "<tr>\n",
       "  <th>Df Model:</th>              <td>    21</td>      <th>                     </th>     <td> </td>    \n",
       "</tr>\n",
       "<tr>\n",
       "  <th>Covariance Type:</th>      <td>nonrobust</td>    <th>                     </th>     <td> </td>    \n",
       "</tr>\n",
       "</table>\n",
       "<table class=\"simpletable\">\n",
       "<tr>\n",
       "                                       <td></td>                                         <th>coef</th>     <th>std err</th>      <th>t</th>      <th>P>|t|</th>  <th>[0.025</th>    <th>0.975]</th>  \n",
       "</tr>\n",
       "<tr>\n",
       "  <th>const</th>                                                                      <td>   84.0726</td> <td>    1.541</td> <td>   54.560</td> <td> 0.000</td> <td>   81.049</td> <td>   87.096</td>\n",
       "</tr>\n",
       "<tr>\n",
       "  <th>Injury_deaths_raw_value</th>                                                    <td>   -0.9963</td> <td>    0.068</td> <td>  -14.621</td> <td> 0.000</td> <td>   -1.130</td> <td>   -0.863</td>\n",
       "</tr>\n",
       "<tr>\n",
       "  <th>Teen_births_raw_value</th>                                                      <td>   -0.9497</td> <td>    0.078</td> <td>  -12.233</td> <td> 0.000</td> <td>   -1.102</td> <td>   -0.797</td>\n",
       "</tr>\n",
       "<tr>\n",
       "  <th>Air_pollution___particulate_matter_raw_value</th>                               <td>   -0.5947</td> <td>    0.061</td> <td>   -9.716</td> <td> 0.000</td> <td>   -0.715</td> <td>   -0.475</td>\n",
       "</tr>\n",
       "<tr>\n",
       "  <th>Uninsured_raw_value</th>                                                        <td>    3.7418</td> <td>    0.491</td> <td>    7.615</td> <td> 0.000</td> <td>    2.778</td> <td>    4.706</td>\n",
       "</tr>\n",
       "<tr>\n",
       "  <th>Uninsured_adults_raw_value</th>                                                 <td>   -3.9420</td> <td>    0.498</td> <td>   -7.912</td> <td> 0.000</td> <td>   -4.920</td> <td>   -2.964</td>\n",
       "</tr>\n",
       "<tr>\n",
       "  <th>Diabetes_prevalence_raw_value</th>                                              <td>   -0.5151</td> <td>    0.079</td> <td>   -6.541</td> <td> 0.000</td> <td>   -0.670</td> <td>   -0.361</td>\n",
       "</tr>\n",
       "<tr>\n",
       "  <th>Mental_health_providers_raw_value</th>                                          <td>   -0.2516</td> <td>    0.055</td> <td>   -4.576</td> <td> 0.000</td> <td>   -0.359</td> <td>   -0.144</td>\n",
       "</tr>\n",
       "<tr>\n",
       "  <th>Adult_obesity_raw_value</th>                                                    <td>   -0.1890</td> <td>    0.070</td> <td>   -2.715</td> <td> 0.007</td> <td>   -0.326</td> <td>   -0.052</td>\n",
       "</tr>\n",
       "<tr>\n",
       "  <th>County_Ranked</th>                                                              <td>  -46.4080</td> <td>   10.489</td> <td>   -4.424</td> <td> 0.000</td> <td>  -66.988</td> <td>  -25.828</td>\n",
       "</tr>\n",
       "<tr>\n",
       "  <th>Population_raw_value</th>                                                       <td>   18.9206</td> <td>    4.215</td> <td>    4.489</td> <td> 0.000</td> <td>   10.650</td> <td>   27.191</td>\n",
       "</tr>\n",
       "<tr>\n",
       "  <th>Motor_vehicle_crash_deaths_raw_value</th>                                       <td>   -0.0997</td> <td>    0.072</td> <td>   -1.389</td> <td> 0.165</td> <td>   -0.240</td> <td>    0.041</td>\n",
       "</tr>\n",
       "<tr>\n",
       "  <th>Teen_births_raw_value_AND_Uninsured_raw_value</th>                              <td>   -0.4392</td> <td>    0.304</td> <td>   -1.445</td> <td> 0.149</td> <td>   -1.035</td> <td>    0.157</td>\n",
       "</tr>\n",
       "<tr>\n",
       "  <th>Teen_births_raw_value_AND_Uninsured_adults_raw_value</th>                       <td>    0.7074</td> <td>    0.295</td> <td>    2.398</td> <td> 0.017</td> <td>    0.129</td> <td>    1.286</td>\n",
       "</tr>\n",
       "<tr>\n",
       "  <th>County_Ranked_AND_Population_raw_value</th>                                     <td> -127.5609</td> <td>   28.716</td> <td>   -4.442</td> <td> 0.000</td> <td> -183.904</td> <td>  -71.218</td>\n",
       "</tr>\n",
       "<tr>\n",
       "  <th>Injury_deaths_raw_value_AND_County_Ranked</th>                                  <td>   -0.1222</td> <td>    0.035</td> <td>   -3.513</td> <td> 0.000</td> <td>   -0.191</td> <td>   -0.054</td>\n",
       "</tr>\n",
       "<tr>\n",
       "  <th>Uninsured_raw_value_AND_Uninsured_adults_raw_value</th>                         <td>    0.0603</td> <td>    0.048</td> <td>    1.265</td> <td> 0.206</td> <td>   -0.033</td> <td>    0.154</td>\n",
       "</tr>\n",
       "<tr>\n",
       "  <th>Injury_deaths_raw_value_AND_Teen_births_raw_value</th>                          <td>   -0.1907</td> <td>    0.044</td> <td>   -4.298</td> <td> 0.000</td> <td>   -0.278</td> <td>   -0.104</td>\n",
       "</tr>\n",
       "<tr>\n",
       "  <th>Teen_births_raw_value_AND_Population_raw_value</th>                             <td>   -0.0903</td> <td>    0.073</td> <td>   -1.244</td> <td> 0.214</td> <td>   -0.233</td> <td>    0.052</td>\n",
       "</tr>\n",
       "<tr>\n",
       "  <th>Mental_health_providers_raw_value_AND_Motor_vehicle_crash_deaths_raw_value</th> <td>    0.1567</td> <td>    0.049</td> <td>    3.196</td> <td> 0.001</td> <td>    0.061</td> <td>    0.253</td>\n",
       "</tr>\n",
       "<tr>\n",
       "  <th>Mental_health_providers_raw_value_AND_Adult_obesity_raw_value</th>              <td>   -0.0892</td> <td>    0.039</td> <td>   -2.275</td> <td> 0.023</td> <td>   -0.166</td> <td>   -0.012</td>\n",
       "</tr>\n",
       "<tr>\n",
       "  <th>Teen_births_raw_value_AND_Diabetes_prevalence_raw_value</th>                    <td>    0.0192</td> <td>    0.057</td> <td>    0.339</td> <td> 0.735</td> <td>   -0.092</td> <td>    0.131</td>\n",
       "</tr>\n",
       "</table>\n",
       "<table class=\"simpletable\">\n",
       "<tr>\n",
       "  <th>Omnibus:</th>       <td>301.708</td> <th>  Durbin-Watson:     </th> <td>   1.927</td>\n",
       "</tr>\n",
       "<tr>\n",
       "  <th>Prob(Omnibus):</th> <td> 0.000</td>  <th>  Jarque-Bera (JB):  </th> <td>2557.087</td>\n",
       "</tr>\n",
       "<tr>\n",
       "  <th>Skew:</th>          <td> 0.974</td>  <th>  Prob(JB):          </th> <td>    0.00</td>\n",
       "</tr>\n",
       "<tr>\n",
       "  <th>Kurtosis:</th>      <td>10.081</td>  <th>  Cond. No.          </th> <td>1.85e+03</td>\n",
       "</tr>\n",
       "</table><br/><br/>Warnings:<br/>[1] Standard Errors assume that the covariance matrix of the errors is correctly specified.<br/>[2] The condition number is large, 1.85e+03. This might indicate that there are<br/>strong multicollinearity or other numerical problems."
      ],
      "text/plain": [
       "<class 'statsmodels.iolib.summary.Summary'>\n",
       "\"\"\"\n",
       "                            OLS Regression Results                            \n",
       "==============================================================================\n",
       "Dep. Variable:                      y   R-squared:                       0.738\n",
       "Model:                            OLS   Adj. R-squared:                  0.733\n",
       "Method:                 Least Squares   F-statistic:                     149.3\n",
       "Date:                Wed, 15 Jan 2020   Prob (F-statistic):          4.47e-306\n",
       "Time:                        14:12:55   Log-Likelihood:                -2118.1\n",
       "No. Observations:                1138   AIC:                             4280.\n",
       "Df Residuals:                    1116   BIC:                             4391.\n",
       "Df Model:                          21                                         \n",
       "Covariance Type:            nonrobust                                         \n",
       "==============================================================================================================================================\n",
       "                                                                                 coef    std err          t      P>|t|      [0.025      0.975]\n",
       "----------------------------------------------------------------------------------------------------------------------------------------------\n",
       "const                                                                         84.0726      1.541     54.560      0.000      81.049      87.096\n",
       "Injury_deaths_raw_value                                                       -0.9963      0.068    -14.621      0.000      -1.130      -0.863\n",
       "Teen_births_raw_value                                                         -0.9497      0.078    -12.233      0.000      -1.102      -0.797\n",
       "Air_pollution___particulate_matter_raw_value                                  -0.5947      0.061     -9.716      0.000      -0.715      -0.475\n",
       "Uninsured_raw_value                                                            3.7418      0.491      7.615      0.000       2.778       4.706\n",
       "Uninsured_adults_raw_value                                                    -3.9420      0.498     -7.912      0.000      -4.920      -2.964\n",
       "Diabetes_prevalence_raw_value                                                 -0.5151      0.079     -6.541      0.000      -0.670      -0.361\n",
       "Mental_health_providers_raw_value                                             -0.2516      0.055     -4.576      0.000      -0.359      -0.144\n",
       "Adult_obesity_raw_value                                                       -0.1890      0.070     -2.715      0.007      -0.326      -0.052\n",
       "County_Ranked                                                                -46.4080     10.489     -4.424      0.000     -66.988     -25.828\n",
       "Population_raw_value                                                          18.9206      4.215      4.489      0.000      10.650      27.191\n",
       "Motor_vehicle_crash_deaths_raw_value                                          -0.0997      0.072     -1.389      0.165      -0.240       0.041\n",
       "Teen_births_raw_value_AND_Uninsured_raw_value                                 -0.4392      0.304     -1.445      0.149      -1.035       0.157\n",
       "Teen_births_raw_value_AND_Uninsured_adults_raw_value                           0.7074      0.295      2.398      0.017       0.129       1.286\n",
       "County_Ranked_AND_Population_raw_value                                      -127.5609     28.716     -4.442      0.000    -183.904     -71.218\n",
       "Injury_deaths_raw_value_AND_County_Ranked                                     -0.1222      0.035     -3.513      0.000      -0.191      -0.054\n",
       "Uninsured_raw_value_AND_Uninsured_adults_raw_value                             0.0603      0.048      1.265      0.206      -0.033       0.154\n",
       "Injury_deaths_raw_value_AND_Teen_births_raw_value                             -0.1907      0.044     -4.298      0.000      -0.278      -0.104\n",
       "Teen_births_raw_value_AND_Population_raw_value                                -0.0903      0.073     -1.244      0.214      -0.233       0.052\n",
       "Mental_health_providers_raw_value_AND_Motor_vehicle_crash_deaths_raw_value     0.1567      0.049      3.196      0.001       0.061       0.253\n",
       "Mental_health_providers_raw_value_AND_Adult_obesity_raw_value                 -0.0892      0.039     -2.275      0.023      -0.166      -0.012\n",
       "Teen_births_raw_value_AND_Diabetes_prevalence_raw_value                        0.0192      0.057      0.339      0.735      -0.092       0.131\n",
       "==============================================================================\n",
       "Omnibus:                      301.708   Durbin-Watson:                   1.927\n",
       "Prob(Omnibus):                  0.000   Jarque-Bera (JB):             2557.087\n",
       "Skew:                           0.974   Prob(JB):                         0.00\n",
       "Kurtosis:                      10.081   Cond. No.                     1.85e+03\n",
       "==============================================================================\n",
       "\n",
       "Warnings:\n",
       "[1] Standard Errors assume that the covariance matrix of the errors is correctly specified.\n",
       "[2] The condition number is large, 1.85e+03. This might indicate that there are\n",
       "strong multicollinearity or other numerical problems.\n",
       "\"\"\""
      ]
     },
     "execution_count": 45,
     "metadata": {},
     "output_type": "execute_result"
    }
   ],
   "source": [
    "X_const = sm.add_constant(data_combined)\n",
    "\n",
    "model_inter = sm.OLS(y_train.values, X_const).fit()\n",
    "model_inter.summary()"
   ]
  },
  {
   "cell_type": "code",
   "execution_count": 46,
   "metadata": {},
   "outputs": [
    {
     "data": {
      "image/png": "[encoded data removed]",
      "text/plain": [
       "<Figure size 432x288 with 1 Axes>"
      ]
     },
     "metadata": {
      "needs_background": "light"
     },
     "output_type": "display_data"
    }
   ],
   "source": [
    "model_qqplot = sm.graphics.qqplot(model_inter.resid, dist=stats.norm, line='45', fit=True)"
   ]
  },
  {
   "cell_type": "markdown",
   "metadata": {},
   "source": [
    "## RFE on Interactions Model"
   ]
  },
  {
   "cell_type": "code",
   "execution_count": 47,
   "metadata": {},
   "outputs": [
    {
     "name": "stdout",
     "output_type": "stream",
     "text": [
      "Inital R^2: -8.680678347735569\n"
     ]
    }
   ],
   "source": [
    "regression = LinearRegression()\n",
    "\n",
    "crossvalidation = KFold(n_splits=10, shuffle=True, random_state=1)\n",
    "baseline = np.mean(cross_val_score(regression, data_combined, y_train, scoring='r2', cv=crossvalidation))\n",
    "print(\"Inital R^2:\", baseline)"
   ]
  },
  {
   "cell_type": "code",
   "execution_count": 48,
   "metadata": {},
   "outputs": [
    {
     "data": {
      "text/html": [
       "<div>\n",
       "<style scoped>\n",
       "    .dataframe tbody tr th:only-of-type {\n",
       "        vertical-align: middle;\n",
       "    }\n",
       "\n",
       "    .dataframe tbody tr th {\n",
       "        vertical-align: top;\n",
       "    }\n",
       "\n",
       "    .dataframe thead th {\n",
       "        text-align: right;\n",
       "    }\n",
       "</style>\n",
       "<table border=\"1\" class=\"dataframe\">\n",
       "  <thead>\n",
       "    <tr style=\"text-align: right;\">\n",
       "      <th></th>\n",
       "      <th>Parameters</th>\n",
       "      <th>P_values</th>\n",
       "    </tr>\n",
       "  </thead>\n",
       "  <tbody>\n",
       "    <tr>\n",
       "      <td>0</td>\n",
       "      <td>const</td>\n",
       "      <td>3.414970e-317</td>\n",
       "    </tr>\n",
       "    <tr>\n",
       "      <td>1</td>\n",
       "      <td>Injury_deaths_raw_value</td>\n",
       "      <td>2.001068e-44</td>\n",
       "    </tr>\n",
       "    <tr>\n",
       "      <td>2</td>\n",
       "      <td>Teen_births_raw_value</td>\n",
       "      <td>2.220032e-32</td>\n",
       "    </tr>\n",
       "    <tr>\n",
       "      <td>3</td>\n",
       "      <td>Air_pollution___particulate_matter_raw_value</td>\n",
       "      <td>1.782571e-21</td>\n",
       "    </tr>\n",
       "    <tr>\n",
       "      <td>5</td>\n",
       "      <td>Uninsured_adults_raw_value</td>\n",
       "      <td>6.088344e-15</td>\n",
       "    </tr>\n",
       "    <tr>\n",
       "      <td>4</td>\n",
       "      <td>Uninsured_raw_value</td>\n",
       "      <td>5.600794e-14</td>\n",
       "    </tr>\n",
       "    <tr>\n",
       "      <td>6</td>\n",
       "      <td>Diabetes_prevalence_raw_value</td>\n",
       "      <td>9.306409e-11</td>\n",
       "    </tr>\n",
       "    <tr>\n",
       "      <td>7</td>\n",
       "      <td>Mental_health_providers_raw_value</td>\n",
       "      <td>5.260537e-06</td>\n",
       "    </tr>\n",
       "    <tr>\n",
       "      <td>10</td>\n",
       "      <td>Population_raw_value</td>\n",
       "      <td>7.909141e-06</td>\n",
       "    </tr>\n",
       "    <tr>\n",
       "      <td>14</td>\n",
       "      <td>County_Ranked_AND_Population_raw_value</td>\n",
       "      <td>9.789400e-06</td>\n",
       "    </tr>\n",
       "    <tr>\n",
       "      <td>9</td>\n",
       "      <td>County_Ranked</td>\n",
       "      <td>1.061352e-05</td>\n",
       "    </tr>\n",
       "    <tr>\n",
       "      <td>17</td>\n",
       "      <td>Injury_deaths_raw_value_AND_Teen_births_raw_value</td>\n",
       "      <td>1.877839e-05</td>\n",
       "    </tr>\n",
       "    <tr>\n",
       "      <td>15</td>\n",
       "      <td>Injury_deaths_raw_value_AND_County_Ranked</td>\n",
       "      <td>4.604306e-04</td>\n",
       "    </tr>\n",
       "    <tr>\n",
       "      <td>19</td>\n",
       "      <td>Mental_health_providers_raw_value_AND_Motor_ve...</td>\n",
       "      <td>1.431121e-03</td>\n",
       "    </tr>\n",
       "    <tr>\n",
       "      <td>8</td>\n",
       "      <td>Adult_obesity_raw_value</td>\n",
       "      <td>6.726771e-03</td>\n",
       "    </tr>\n",
       "    <tr>\n",
       "      <td>13</td>\n",
       "      <td>Teen_births_raw_value_AND_Uninsured_adults_raw...</td>\n",
       "      <td>1.666545e-02</td>\n",
       "    </tr>\n",
       "    <tr>\n",
       "      <td>20</td>\n",
       "      <td>Mental_health_providers_raw_value_AND_Adult_ob...</td>\n",
       "      <td>2.308816e-02</td>\n",
       "    </tr>\n",
       "  </tbody>\n",
       "</table>\n",
       "</div>"
      ],
      "text/plain": [
       "                                           Parameters       P_values\n",
       "0                                               const  3.414970e-317\n",
       "1                             Injury_deaths_raw_value   2.001068e-44\n",
       "2                               Teen_births_raw_value   2.220032e-32\n",
       "3        Air_pollution___particulate_matter_raw_value   1.782571e-21\n",
       "5                          Uninsured_adults_raw_value   6.088344e-15\n",
       "4                                 Uninsured_raw_value   5.600794e-14\n",
       "6                       Diabetes_prevalence_raw_value   9.306409e-11\n",
       "7                   Mental_health_providers_raw_value   5.260537e-06\n",
       "10                               Population_raw_value   7.909141e-06\n",
       "14             County_Ranked_AND_Population_raw_value   9.789400e-06\n",
       "9                                       County_Ranked   1.061352e-05\n",
       "17  Injury_deaths_raw_value_AND_Teen_births_raw_value   1.877839e-05\n",
       "15          Injury_deaths_raw_value_AND_County_Ranked   4.604306e-04\n",
       "19  Mental_health_providers_raw_value_AND_Motor_ve...   1.431121e-03\n",
       "8                             Adult_obesity_raw_value   6.726771e-03\n",
       "13  Teen_births_raw_value_AND_Uninsured_adults_raw...   1.666545e-02\n",
       "20  Mental_health_providers_raw_value_AND_Adult_ob...   2.308816e-02"
      ]
     },
     "execution_count": 48,
     "metadata": {},
     "output_type": "execute_result"
    }
   ],
   "source": [
    "df_inter_rfe = func_rfe(data_combined, model_inter)\n",
    "df_inter_rfe"
   ]
  },
  {
   "cell_type": "code",
   "execution_count": 49,
   "metadata": {},
   "outputs": [],
   "source": [
    "rfe_red_inter = df_inter_rfe.loc[df_inter_rfe['Parameters'] != 'const']\n",
    "X_cols = list(rfe_red_inter.Parameters)\n",
    "df_inter_reduced = data_combined[X_cols]\n",
    "# X_3.sort_index()"
   ]
  },
  {
   "cell_type": "code",
   "execution_count": 50,
   "metadata": {},
   "outputs": [
    {
     "name": "stderr",
     "output_type": "stream",
     "text": [
      "/opt/anaconda3/lib/python3.7/site-packages/numpy/core/fromnumeric.py:2495: FutureWarning: Method .ptp is deprecated and will be removed in a future version. Use numpy.ptp instead.\n",
      "  return ptp(axis=axis, out=out, **kwargs)\n"
     ]
    },
    {
     "data": {
      "text/html": [
       "<table class=\"simpletable\">\n",
       "<caption>OLS Regression Results</caption>\n",
       "<tr>\n",
       "  <th>Dep. Variable:</th>            <td>y</td>        <th>  R-squared:         </th> <td>   0.736</td> \n",
       "</tr>\n",
       "<tr>\n",
       "  <th>Model:</th>                   <td>OLS</td>       <th>  Adj. R-squared:    </th> <td>   0.732</td> \n",
       "</tr>\n",
       "<tr>\n",
       "  <th>Method:</th>             <td>Least Squares</td>  <th>  F-statistic:       </th> <td>   195.2</td> \n",
       "</tr>\n",
       "<tr>\n",
       "  <th>Date:</th>             <td>Wed, 15 Jan 2020</td> <th>  Prob (F-statistic):</th> <td>3.75e-310</td>\n",
       "</tr>\n",
       "<tr>\n",
       "  <th>Time:</th>                 <td>14:12:55</td>     <th>  Log-Likelihood:    </th> <td> -2121.8</td> \n",
       "</tr>\n",
       "<tr>\n",
       "  <th>No. Observations:</th>      <td>  1138</td>      <th>  AIC:               </th> <td>   4278.</td> \n",
       "</tr>\n",
       "<tr>\n",
       "  <th>Df Residuals:</th>          <td>  1121</td>      <th>  BIC:               </th> <td>   4363.</td> \n",
       "</tr>\n",
       "<tr>\n",
       "  <th>Df Model:</th>              <td>    16</td>      <th>                     </th>     <td> </td>    \n",
       "</tr>\n",
       "<tr>\n",
       "  <th>Covariance Type:</th>      <td>nonrobust</td>    <th>                     </th>     <td> </td>    \n",
       "</tr>\n",
       "</table>\n",
       "<table class=\"simpletable\">\n",
       "<tr>\n",
       "                                       <td></td>                                         <th>coef</th>     <th>std err</th>      <th>t</th>      <th>P>|t|</th>  <th>[0.025</th>    <th>0.975]</th>  \n",
       "</tr>\n",
       "<tr>\n",
       "  <th>const</th>                                                                      <td>   84.0369</td> <td>    1.542</td> <td>   54.505</td> <td> 0.000</td> <td>   81.012</td> <td>   87.062</td>\n",
       "</tr>\n",
       "<tr>\n",
       "  <th>Injury_deaths_raw_value</th>                                                    <td>   -1.0347</td> <td>    0.064</td> <td>  -16.227</td> <td> 0.000</td> <td>   -1.160</td> <td>   -0.910</td>\n",
       "</tr>\n",
       "<tr>\n",
       "  <th>Teen_births_raw_value</th>                                                      <td>   -0.9445</td> <td>    0.074</td> <td>  -12.681</td> <td> 0.000</td> <td>   -1.091</td> <td>   -0.798</td>\n",
       "</tr>\n",
       "<tr>\n",
       "  <th>Air_pollution___particulate_matter_raw_value</th>                               <td>   -0.5858</td> <td>    0.060</td> <td>   -9.689</td> <td> 0.000</td> <td>   -0.704</td> <td>   -0.467</td>\n",
       "</tr>\n",
       "<tr>\n",
       "  <th>Uninsured_adults_raw_value</th>                                                 <td>   -3.8313</td> <td>    0.455</td> <td>   -8.418</td> <td> 0.000</td> <td>   -4.724</td> <td>   -2.938</td>\n",
       "</tr>\n",
       "<tr>\n",
       "  <th>Uninsured_raw_value</th>                                                        <td>    3.6325</td> <td>    0.439</td> <td>    8.267</td> <td> 0.000</td> <td>    2.770</td> <td>    4.495</td>\n",
       "</tr>\n",
       "<tr>\n",
       "  <th>Diabetes_prevalence_raw_value</th>                                              <td>   -0.5072</td> <td>    0.077</td> <td>   -6.549</td> <td> 0.000</td> <td>   -0.659</td> <td>   -0.355</td>\n",
       "</tr>\n",
       "<tr>\n",
       "  <th>Mental_health_providers_raw_value</th>                                          <td>   -0.2385</td> <td>    0.054</td> <td>   -4.421</td> <td> 0.000</td> <td>   -0.344</td> <td>   -0.133</td>\n",
       "</tr>\n",
       "<tr>\n",
       "  <th>Population_raw_value</th>                                                       <td>   18.7152</td> <td>    4.218</td> <td>    4.437</td> <td> 0.000</td> <td>   10.439</td> <td>   26.991</td>\n",
       "</tr>\n",
       "<tr>\n",
       "  <th>County_Ranked_AND_Population_raw_value</th>                                     <td> -125.8970</td> <td>   28.733</td> <td>   -4.382</td> <td> 0.000</td> <td> -182.274</td> <td>  -69.520</td>\n",
       "</tr>\n",
       "<tr>\n",
       "  <th>County_Ranked</th>                                                              <td>  -45.8051</td> <td>   10.495</td> <td>   -4.364</td> <td> 0.000</td> <td>  -66.398</td> <td>  -25.212</td>\n",
       "</tr>\n",
       "<tr>\n",
       "  <th>Injury_deaths_raw_value_AND_Teen_births_raw_value</th>                          <td>   -0.1689</td> <td>    0.034</td> <td>   -4.915</td> <td> 0.000</td> <td>   -0.236</td> <td>   -0.101</td>\n",
       "</tr>\n",
       "<tr>\n",
       "  <th>Injury_deaths_raw_value_AND_County_Ranked</th>                                  <td>   -0.1294</td> <td>    0.035</td> <td>   -3.741</td> <td> 0.000</td> <td>   -0.197</td> <td>   -0.062</td>\n",
       "</tr>\n",
       "<tr>\n",
       "  <th>Mental_health_providers_raw_value_AND_Motor_vehicle_crash_deaths_raw_value</th> <td>    0.1554</td> <td>    0.049</td> <td>    3.203</td> <td> 0.001</td> <td>    0.060</td> <td>    0.251</td>\n",
       "</tr>\n",
       "<tr>\n",
       "  <th>Adult_obesity_raw_value</th>                                                    <td>   -0.2137</td> <td>    0.068</td> <td>   -3.123</td> <td> 0.002</td> <td>   -0.348</td> <td>   -0.079</td>\n",
       "</tr>\n",
       "<tr>\n",
       "  <th>Teen_births_raw_value_AND_Uninsured_adults_raw_value</th>                       <td>    0.3411</td> <td>    0.047</td> <td>    7.221</td> <td> 0.000</td> <td>    0.248</td> <td>    0.434</td>\n",
       "</tr>\n",
       "<tr>\n",
       "  <th>Mental_health_providers_raw_value_AND_Adult_obesity_raw_value</th>              <td>   -0.0894</td> <td>    0.039</td> <td>   -2.295</td> <td> 0.022</td> <td>   -0.166</td> <td>   -0.013</td>\n",
       "</tr>\n",
       "</table>\n",
       "<table class=\"simpletable\">\n",
       "<tr>\n",
       "  <th>Omnibus:</th>       <td>313.518</td> <th>  Durbin-Watson:     </th> <td>   1.921</td>\n",
       "</tr>\n",
       "<tr>\n",
       "  <th>Prob(Omnibus):</th> <td> 0.000</td>  <th>  Jarque-Bera (JB):  </th> <td>2728.558</td>\n",
       "</tr>\n",
       "<tr>\n",
       "  <th>Skew:</th>          <td> 1.014</td>  <th>  Prob(JB):          </th> <td>    0.00</td>\n",
       "</tr>\n",
       "<tr>\n",
       "  <th>Kurtosis:</th>      <td>10.310</td>  <th>  Cond. No.          </th> <td>1.31e+03</td>\n",
       "</tr>\n",
       "</table><br/><br/>Warnings:<br/>[1] Standard Errors assume that the covariance matrix of the errors is correctly specified.<br/>[2] The condition number is large, 1.31e+03. This might indicate that there are<br/>strong multicollinearity or other numerical problems."
      ],
      "text/plain": [
       "<class 'statsmodels.iolib.summary.Summary'>\n",
       "\"\"\"\n",
       "                            OLS Regression Results                            \n",
       "==============================================================================\n",
       "Dep. Variable:                      y   R-squared:                       0.736\n",
       "Model:                            OLS   Adj. R-squared:                  0.732\n",
       "Method:                 Least Squares   F-statistic:                     195.2\n",
       "Date:                Wed, 15 Jan 2020   Prob (F-statistic):          3.75e-310\n",
       "Time:                        14:12:55   Log-Likelihood:                -2121.8\n",
       "No. Observations:                1138   AIC:                             4278.\n",
       "Df Residuals:                    1121   BIC:                             4363.\n",
       "Df Model:                          16                                         \n",
       "Covariance Type:            nonrobust                                         \n",
       "==============================================================================================================================================\n",
       "                                                                                 coef    std err          t      P>|t|      [0.025      0.975]\n",
       "----------------------------------------------------------------------------------------------------------------------------------------------\n",
       "const                                                                         84.0369      1.542     54.505      0.000      81.012      87.062\n",
       "Injury_deaths_raw_value                                                       -1.0347      0.064    -16.227      0.000      -1.160      -0.910\n",
       "Teen_births_raw_value                                                         -0.9445      0.074    -12.681      0.000      -1.091      -0.798\n",
       "Air_pollution___particulate_matter_raw_value                                  -0.5858      0.060     -9.689      0.000      -0.704      -0.467\n",
       "Uninsured_adults_raw_value                                                    -3.8313      0.455     -8.418      0.000      -4.724      -2.938\n",
       "Uninsured_raw_value                                                            3.6325      0.439      8.267      0.000       2.770       4.495\n",
       "Diabetes_prevalence_raw_value                                                 -0.5072      0.077     -6.549      0.000      -0.659      -0.355\n",
       "Mental_health_providers_raw_value                                             -0.2385      0.054     -4.421      0.000      -0.344      -0.133\n",
       "Population_raw_value                                                          18.7152      4.218      4.437      0.000      10.439      26.991\n",
       "County_Ranked_AND_Population_raw_value                                      -125.8970     28.733     -4.382      0.000    -182.274     -69.520\n",
       "County_Ranked                                                                -45.8051     10.495     -4.364      0.000     -66.398     -25.212\n",
       "Injury_deaths_raw_value_AND_Teen_births_raw_value                             -0.1689      0.034     -4.915      0.000      -0.236      -0.101\n",
       "Injury_deaths_raw_value_AND_County_Ranked                                     -0.1294      0.035     -3.741      0.000      -0.197      -0.062\n",
       "Mental_health_providers_raw_value_AND_Motor_vehicle_crash_deaths_raw_value     0.1554      0.049      3.203      0.001       0.060       0.251\n",
       "Adult_obesity_raw_value                                                       -0.2137      0.068     -3.123      0.002      -0.348      -0.079\n",
       "Teen_births_raw_value_AND_Uninsured_adults_raw_value                           0.3411      0.047      7.221      0.000       0.248       0.434\n",
       "Mental_health_providers_raw_value_AND_Adult_obesity_raw_value                 -0.0894      0.039     -2.295      0.022      -0.166      -0.013\n",
       "==============================================================================\n",
       "Omnibus:                      313.518   Durbin-Watson:                   1.921\n",
       "Prob(Omnibus):                  0.000   Jarque-Bera (JB):             2728.558\n",
       "Skew:                           1.014   Prob(JB):                         0.00\n",
       "Kurtosis:                      10.310   Cond. No.                     1.31e+03\n",
       "==============================================================================\n",
       "\n",
       "Warnings:\n",
       "[1] Standard Errors assume that the covariance matrix of the errors is correctly specified.\n",
       "[2] The condition number is large, 1.31e+03. This might indicate that there are\n",
       "strong multicollinearity or other numerical problems.\n",
       "\"\"\""
      ]
     },
     "execution_count": 50,
     "metadata": {},
     "output_type": "execute_result"
    }
   ],
   "source": [
    "X_const = sm.add_constant(df_inter_reduced)\n",
    "\n",
    "model_inter_red = sm.OLS(y_train.values, X_const).fit()\n",
    "model_inter_red.summary()"
   ]
  },
  {
   "cell_type": "markdown",
   "metadata": {},
   "source": [
    "# Polynomial Parameters"
   ]
  },
  {
   "cell_type": "code",
   "execution_count": 51,
   "metadata": {},
   "outputs": [],
   "source": [
    "# from sklearn.preprocessing import PolynomialFeatures\n",
    "\n",
    "# regression = LinearRegression()\n",
    "# crossvalidation = KFold(n_splits=10, shuffle=True, random_state=1)\n",
    "\n",
    "# polynomials = []\n",
    "# for col in X.columns:\n",
    "#     for degree in [2, 3, 4]:\n",
    "#         data = X.copy()\n",
    "#         poly = PolynomialFeatures(degree, include_bias=False)\n",
    "#         X_transformed = poly.fit_transform(X[[col]])\n",
    "#         data = pd.concat([data.drop(col, axis=1),pd.DataFrame(X_transformed)], axis=1)\n",
    "#         score = np.mean(cross_val_score(regression, data, y, scoring='r2', cv=crossvalidation))\n",
    "#         if score > baseline: polynomials.append((col, degree, round(score, 3)))\n",
    "# print('Top 10 polynomials: %s' %sorted(polynomials, key=lambda poly: poly[2], reverse=True)[:10])"
   ]
  },
  {
   "cell_type": "code",
   "execution_count": 52,
   "metadata": {},
   "outputs": [],
   "source": [
    "# polynom = pd.DataFrame(polynomials)\n",
    "# polynom.groupby([0], sort=False)[2].max()"
   ]
  },
  {
   "cell_type": "markdown",
   "metadata": {},
   "source": [
    "# Full model R-squared  "
   ]
  },
  {
   "cell_type": "code",
   "execution_count": 53,
   "metadata": {},
   "outputs": [
    {
     "name": "stdout",
     "output_type": "stream",
     "text": [
      "Full model R^2: -8.680678347735569\n"
     ]
    }
   ],
   "source": [
    "full_model = np.mean(cross_val_score(regression, data_combined, y_train, scoring='r2', cv=crossvalidation))\n",
    "print(\"Full model R^2:\", full_model)"
   ]
  },
  {
   "cell_type": "markdown",
   "metadata": {},
   "source": [
    "# Lasso"
   ]
  },
  {
   "cell_type": "code",
   "execution_count": 54,
   "metadata": {},
   "outputs": [],
   "source": [
    "X_final = data_combined"
   ]
  },
  {
   "cell_type": "markdown",
   "metadata": {},
   "source": [
    "## AIC & BIC Alpha Selection using Lasso"
   ]
  },
  {
   "cell_type": "code",
   "execution_count": 55,
   "metadata": {},
   "outputs": [],
   "source": [
    "from sklearn.linear_model import LassoCV, LassoLarsCV, LassoLarsIC"
   ]
  },
  {
   "cell_type": "code",
   "execution_count": 56,
   "metadata": {},
   "outputs": [],
   "source": [
    "def aic_criterion(X_trian, y_train):\n",
    "    model_aic = LassoLarsIC(criterion='aic')\n",
    "    model_aic.fit(X_trian, y_train)\n",
    "    alpha_aic_ = model_aic.alpha_\n",
    "    print(\"Alpha_AIC\", alpha_aic_) \n",
    "    return model_aic, alpha_aic_"
   ]
  },
  {
   "cell_type": "code",
   "execution_count": 57,
   "metadata": {},
   "outputs": [],
   "source": [
    "def bic_criterion(X_trian, y_train):\n",
    "    model_bic = LassoLarsIC(criterion='bic')\n",
    "    model_bic.fit(X_trian, y_train)\n",
    "    alpha_bic_ = model_bic.alpha_\n",
    "    print(\"Alpha_BIC\", alpha_bic_)\n",
    "    return model_bic, alpha_bic_"
   ]
  },
  {
   "cell_type": "code",
   "execution_count": 58,
   "metadata": {},
   "outputs": [],
   "source": [
    "def plot_ic_criterion(model_aic, model_bic):\n",
    "    plt.figure()\n",
    "    \n",
    "    # AIC\n",
    "    alpha_ = model_aic.alpha_\n",
    "    alphas_ = model_aic.alphas_\n",
    "    criterion_ = model_aic.criterion_\n",
    "    plt.plot(-np.log10(alphas_), criterion_, '--', color='green', linewidth=2, label= 'AIC')\n",
    "    plt.axvline(-np.log10(alpha_), color='green', linewidth=2,\n",
    "                label='alpha for %s AIC')\n",
    "    plt.xlabel('-log(alpha)')\n",
    "    plt.ylabel('criterion')\n",
    "    \n",
    "    # BIC\n",
    "    alpha_ = model_bic.alpha_\n",
    "    alphas_ = model_bic.alphas_\n",
    "    criterion_ = model_bic.criterion_\n",
    "    plt.plot(-np.log10(alphas_), criterion_, '--', color='blue', linewidth=2, label= 'BIC')\n",
    "    plt.axvline(-np.log10(alpha_), color='blue', linewidth=2,\n",
    "                label='alpha for %s BIC')\n",
    "    plt.xlabel('-log(alpha)')\n",
    "    plt.ylabel('criterion')\n",
    "    \n",
    "    plt.legend()\n",
    "    plt.title('Information-criterion for model selection')\n",
    "    plt.show();"
   ]
  },
  {
   "cell_type": "code",
   "execution_count": 59,
   "metadata": {},
   "outputs": [],
   "source": [
    "def ic_all(X_trian, y_train):\n",
    "    model_aic , alpha_aic_ = aic_criterion(X_trian, y_train)\n",
    "    model_bic , alpha_bic_ = bic_criterion(X_trian, y_train)\n",
    "    plot_ic_criterion(model_aic, model_bic)\n",
    "    return alpha_aic_ , alpha_bic_"
   ]
  },
  {
   "cell_type": "code",
   "execution_count": 60,
   "metadata": {
    "scrolled": false
   },
   "outputs": [
    {
     "name": "stdout",
     "output_type": "stream",
     "text": [
      "Alpha_AIC 0.0028248803784270324\n",
      "Alpha_BIC 0.0071522744117400935\n"
     ]
    },
    {
     "name": "stderr",
     "output_type": "stream",
     "text": [
      "/opt/anaconda3/lib/python3.7/site-packages/sklearn/utils/validation.py:760: DataConversionWarning: A column-vector y was passed when a 1d array was expected. Please change the shape of y to (n_samples, ), for example using ravel().\n",
      "  y = column_or_1d(y, warn=True)\n",
      "/opt/anaconda3/lib/python3.7/site-packages/sklearn/utils/validation.py:760: DataConversionWarning: A column-vector y was passed when a 1d array was expected. Please change the shape of y to (n_samples, ), for example using ravel().\n",
      "  y = column_or_1d(y, warn=True)\n"
     ]
    },
    {
     "data": {
      "image/png": "[encoded data removed]",
      "text/plain": [
       "<Figure size 432x288 with 1 Axes>"
      ]
     },
     "metadata": {
      "needs_background": "light"
     },
     "output_type": "display_data"
    }
   ],
   "source": [
    "AIC_1, BIC_1 = ic_all(X_train, y_train)"
   ]
  },
  {
   "cell_type": "markdown",
   "metadata": {},
   "source": [
    "## Validations Against  Test Data"
   ]
  },
  {
   "cell_type": "code",
   "execution_count": 61,
   "metadata": {},
   "outputs": [],
   "source": [
    "from sklearn.linear_model import Lasso, Ridge\n",
    "from sklearn.metrics import mean_squared_error, mean_squared_log_error"
   ]
  },
  {
   "cell_type": "code",
   "execution_count": 62,
   "metadata": {},
   "outputs": [],
   "source": [
    "def lasso_reg_validation(X_train, y_train, X_test, y_test, lasso_alpha=1):\n",
    "    # Lasso R2 & MSE\n",
    "    lasso = Lasso(lasso_alpha)\n",
    "    lasso.fit(X_train, y_train)\n",
    "    \n",
    "    r2_train = lasso.score(X_train, y_train)\n",
    "    r2_test = lasso.score(X_test, y_test)\n",
    "    \n",
    "    mse_train = mean_squared_error(y_train, lasso.predict(X_train))\n",
    "    mse_test = mean_squared_error(y_test, lasso.predict(X_test))\n",
    "    \n",
    "#     print(\"Lasso Reression\")\n",
    "#     print(\"----------------------------------------\")\n",
    "#     print('Training r^2:', lasso.score(X_train, y_train))\n",
    "#     print('Test r^2:', lasso.score(X_test, y_test))\n",
    "#     print(\"----------------------------------------\")\n",
    "#     print('Training MSE:', mean_squared_error(y_train, lasso.predict(X_train)))\n",
    "#     print('Test MSE:', mean_squared_error(y_test, lasso.predict(X_test)))\n",
    "    \n",
    "    return round(r2_train,3), round(r2_test,3), round(mse_train,3), round(mse_test,3)"
   ]
  },
  {
   "cell_type": "code",
   "execution_count": 63,
   "metadata": {},
   "outputs": [],
   "source": [
    "def ridge_reg_validation(X_train, y_train, X_test, y_test, ridge_alpha=1):\n",
    "    # Ridge Regression\n",
    "    ridge = Ridge(ridge_alpha)\n",
    "    ridge.fit(X_train, y_train)\n",
    "    \n",
    "    r2_train = ridge.score(X_train, y_train)\n",
    "    r2_test = ridge.score(X_test, y_test)\n",
    "    \n",
    "    mse_train = mean_squared_error(y_train, ridge.predict(X_train))\n",
    "    mse_test = mean_squared_error(y_test, ridge.predict(X_test))\n",
    "    \n",
    "#     print(\"Ridge Reression\")\n",
    "#     print(\"----------------------------------------\")\n",
    "#     print('Training r^2:', ridge.score(X_train, y_train))\n",
    "#     print('Test r^2:', ridge.score(X_test, y_test))\n",
    "#     print(\"----------------------------------------\")\n",
    "#     print('Training MSE:', mean_squared_error(y_train, ridge.predict(X_train)))\n",
    "#     print('Test MSE:', mean_squared_error(y_test, ridge.predict(X_test)))\n",
    "    \n",
    "    return round(r2_train,3), round(r2_test,3), round(mse_train,3), round(mse_test,3)"
   ]
  },
  {
   "cell_type": "code",
   "execution_count": 64,
   "metadata": {},
   "outputs": [],
   "source": [
    "def linear_model_validation(X_train, y_train, X_test, y_test):\n",
    "    # Linear Reg R2 and MSE\n",
    "    linreg_all = LinearRegression()\n",
    "    linreg_all.fit(X_train, y_train)  \n",
    "    \n",
    "    r2_train = linreg_all.score(X_train, y_train)\n",
    "    r2_test = linreg_all.score(X_test, y_test)\n",
    "    \n",
    "    mse_train = mean_squared_error(y_train, linreg_all.predict(X_train))\n",
    "    mse_test = mean_squared_error(y_test, linreg_all.predict(X_test))\n",
    "    \n",
    "    \n",
    "#     print(\"Linear Regression:\")\n",
    "#     print(\"----------------------------------------\")\n",
    "#     print('Training r^2:', linreg_all.score(X_train, y_train))\n",
    "#     print('Test r^2:', linreg_all.score(X_test, y_test))\n",
    "#     print(\"----------------------------------------\")\n",
    "#     print('Training MSE:', mean_squared_error(y_train, linreg_all.predict(X_train)))\n",
    "#     print('Test MSE:', mean_squared_error(y_test, linreg_all.predict(X_test)))\n",
    "    \n",
    "    return round(r2_train,3), round(r2_test,3), round(mse_train,3), round(mse_test,3)"
   ]
  },
  {
   "cell_type": "code",
   "execution_count": 65,
   "metadata": {},
   "outputs": [],
   "source": [
    "# def All_Model_validations(X_train, y_train, X_test, y_test, lasso_alpha=1, ridge_alpha=1):\n",
    "#     lasso_reg_validation(X_train, y_train, X_test, y_test, lasso_alpha)\n",
    "#     print(\"========================================\\n\")\n",
    "#     ridge_reg_validation(X_train, y_train, X_test, y_test, ridge_alpha)\n",
    "#     print(\"========================================\\n\")\n",
    "#     linear_model_validation(X_train, y_train, X_test, y_test)"
   ]
  },
  {
   "cell_type": "code",
   "execution_count": 66,
   "metadata": {},
   "outputs": [],
   "source": [
    "def model_DataFrame(model_name, X_train, y_train, X_test, y_test, lasso_alpha=1, ridge_alpha=1):\n",
    "    \n",
    "    lasso_r2_train, lasso_r2_test, lasso_mse_train, lasso_mse_test = lasso_reg_validation(X_train, y_train, X_test, y_test, lasso_alpha)\n",
    "\n",
    "    ridge_r2_train, ridge_r2_test, ridge_mse_train, ridge_mse_test = ridge_reg_validation(X_train, y_train, X_test, y_test, ridge_alpha)\n",
    "\n",
    "    linear_r2_train, linear_r2_test, linear_mse_train, linear_mse_test = linear_model_validation(X_train, y_train, X_test, y_test)\n",
    "    \n",
    "    df_validation = pd.DataFrame([[model_name, \n",
    "                                   lasso_alpha, lasso_r2_train, lasso_r2_test, lasso_mse_train, lasso_mse_test, \n",
    "                                  ridge_alpha, ridge_r2_train, ridge_r2_test, ridge_mse_train, ridge_mse_test, \n",
    "                                  linear_r2_train, linear_r2_test, linear_mse_train, linear_mse_test]],\n",
    "                                columns=['model_name',\n",
    "                                         'lasso_alpha', 'lasso_r2_train', 'lasso_r2_test', 'lasso_mse_train', 'lasso_mse_test', \n",
    "                                  'ridge_alpha', 'ridge_r2_train', 'ridge_r2_test', 'ridge_mse_train', 'ridge_mse_test', \n",
    "                                  'linear_r2_train', 'linear_r2_test', 'linear_mse_train', 'linear_mse_test'])\n",
    "    df_validation.set_index('model_name', inplace=True)\n",
    "    df_validation = df_validation.T\n",
    "    \n",
    "    return df_validation"
   ]
  },
  {
   "cell_type": "markdown",
   "metadata": {},
   "source": [
    "### Baseline model validation"
   ]
  },
  {
   "cell_type": "code",
   "execution_count": 67,
   "metadata": {},
   "outputs": [
    {
     "name": "stderr",
     "output_type": "stream",
     "text": [
      "/opt/anaconda3/lib/python3.7/site-packages/sklearn/utils/validation.py:760: DataConversionWarning: A column-vector y was passed when a 1d array was expected. Please change the shape of y to (n_samples, ), for example using ravel().\n",
      "  y = column_or_1d(y, warn=True)\n",
      "/opt/anaconda3/lib/python3.7/site-packages/sklearn/utils/validation.py:760: DataConversionWarning: A column-vector y was passed when a 1d array was expected. Please change the shape of y to (n_samples, ), for example using ravel().\n",
      "  y = column_or_1d(y, warn=True)\n"
     ]
    },
    {
     "name": "stdout",
     "output_type": "stream",
     "text": [
      "Alpha_AIC 0.0028248803784270324\n",
      "Alpha_BIC 0.0071522744117400935\n"
     ]
    },
    {
     "data": {
      "image/png": "[encoded data removed]",
      "text/plain": [
       "<Figure size 432x288 with 1 Axes>"
      ]
     },
     "metadata": {
      "needs_background": "light"
     },
     "output_type": "display_data"
    }
   ],
   "source": [
    "AIC_1, BIC_1 = ic_all(X_train, y_train)"
   ]
  },
  {
   "cell_type": "code",
   "execution_count": 68,
   "metadata": {
    "scrolled": false
   },
   "outputs": [],
   "source": [
    "df_1 = model_DataFrame('Baseline', X_train, y_train , X_test, y_test, lasso_alpha=AIC_1, ridge_alpha=BIC_1)\n",
    "# df_1"
   ]
  },
  {
   "cell_type": "markdown",
   "metadata": {},
   "source": [
    "### After the Baseline Drops Validations"
   ]
  },
  {
   "cell_type": "code",
   "execution_count": 69,
   "metadata": {},
   "outputs": [],
   "source": [
    "X_cols = list(X_1.columns)\n",
    "X_1_test = X_test[X_cols]"
   ]
  },
  {
   "cell_type": "code",
   "execution_count": 70,
   "metadata": {},
   "outputs": [
    {
     "name": "stderr",
     "output_type": "stream",
     "text": [
      "/opt/anaconda3/lib/python3.7/site-packages/sklearn/utils/validation.py:760: DataConversionWarning: A column-vector y was passed when a 1d array was expected. Please change the shape of y to (n_samples, ), for example using ravel().\n",
      "  y = column_or_1d(y, warn=True)\n",
      "/opt/anaconda3/lib/python3.7/site-packages/sklearn/utils/validation.py:760: DataConversionWarning: A column-vector y was passed when a 1d array was expected. Please change the shape of y to (n_samples, ), for example using ravel().\n",
      "  y = column_or_1d(y, warn=True)\n",
      "/opt/anaconda3/lib/python3.7/site-packages/ipykernel_launcher.py:8: RuntimeWarning: divide by zero encountered in log10\n",
      "  \n",
      "/opt/anaconda3/lib/python3.7/site-packages/ipykernel_launcher.py:18: RuntimeWarning: divide by zero encountered in log10\n"
     ]
    },
    {
     "name": "stdout",
     "output_type": "stream",
     "text": [
      "Alpha_AIC 0.0022635778737899346\n",
      "Alpha_BIC 0.005096031205437764\n"
     ]
    },
    {
     "data": {
      "image/png": "[encoded data removed]",
      "text/plain": [
       "<Figure size 432x288 with 1 Axes>"
      ]
     },
     "metadata": {
      "needs_background": "light"
     },
     "output_type": "display_data"
    }
   ],
   "source": [
    "AIC_2, BIC_2 = ic_all(X_1, y_train)"
   ]
  },
  {
   "cell_type": "code",
   "execution_count": 71,
   "metadata": {},
   "outputs": [
    {
     "name": "stderr",
     "output_type": "stream",
     "text": [
      "/opt/anaconda3/lib/python3.7/site-packages/sklearn/linear_model/_coordinate_descent.py:476: ConvergenceWarning: Objective did not converge. You might want to increase the number of iterations. Duality gap: 102.72505242731495, tolerance: 1.0502947366859894\n",
      "  positive)\n"
     ]
    }
   ],
   "source": [
    "df_2 = model_DataFrame('Initial_Drop',X_1, y_train , X_1_test, y_test, lasso_alpha=AIC_2, ridge_alpha=BIC_2)\n",
    "# df_2"
   ]
  },
  {
   "cell_type": "markdown",
   "metadata": {},
   "source": [
    "### RFE Model Validation"
   ]
  },
  {
   "cell_type": "code",
   "execution_count": 72,
   "metadata": {},
   "outputs": [],
   "source": [
    "X_cols = list(X_2.columns)\n",
    "X_3_test = X_test[X_cols]"
   ]
  },
  {
   "cell_type": "code",
   "execution_count": 73,
   "metadata": {},
   "outputs": [
    {
     "name": "stderr",
     "output_type": "stream",
     "text": [
      "/opt/anaconda3/lib/python3.7/site-packages/sklearn/utils/validation.py:760: DataConversionWarning: A column-vector y was passed when a 1d array was expected. Please change the shape of y to (n_samples, ), for example using ravel().\n",
      "  y = column_or_1d(y, warn=True)\n",
      "/opt/anaconda3/lib/python3.7/site-packages/sklearn/utils/validation.py:760: DataConversionWarning: A column-vector y was passed when a 1d array was expected. Please change the shape of y to (n_samples, ), for example using ravel().\n",
      "  y = column_or_1d(y, warn=True)\n",
      "/opt/anaconda3/lib/python3.7/site-packages/ipykernel_launcher.py:8: RuntimeWarning: divide by zero encountered in log10\n",
      "  \n",
      "/opt/anaconda3/lib/python3.7/site-packages/ipykernel_launcher.py:18: RuntimeWarning: divide by zero encountered in log10\n"
     ]
    },
    {
     "name": "stdout",
     "output_type": "stream",
     "text": [
      "Alpha_AIC 7.784238026328079e-05\n",
      "Alpha_BIC 0.0029767733868354077\n"
     ]
    },
    {
     "data": {
      "image/png": "[encoded data removed]",
      "text/plain": [
       "<Figure size 432x288 with 1 Axes>"
      ]
     },
     "metadata": {
      "needs_background": "light"
     },
     "output_type": "display_data"
    }
   ],
   "source": [
    "AIC_3, BIC_3 = ic_all(X_2, y_train)"
   ]
  },
  {
   "cell_type": "code",
   "execution_count": 74,
   "metadata": {
    "scrolled": false
   },
   "outputs": [],
   "source": [
    "df_3 = model_DataFrame(\"RFE\", X_2, y_train , X_3_test, y_test, lasso_alpha=AIC_3, ridge_alpha=BIC_3)\n",
    "# df_3"
   ]
  },
  {
   "cell_type": "markdown",
   "metadata": {},
   "source": [
    "### Interactions Model Validation"
   ]
  },
  {
   "cell_type": "code",
   "execution_count": 75,
   "metadata": {},
   "outputs": [],
   "source": [
    "X_inter = data_combined.copy()\n",
    "X_cols = list(X_inter.columns)\n",
    "X_inter_test = data_combined_test[X_cols]"
   ]
  },
  {
   "cell_type": "code",
   "execution_count": 100,
   "metadata": {},
   "outputs": [
    {
     "name": "stderr",
     "output_type": "stream",
     "text": [
      "/opt/anaconda3/lib/python3.7/site-packages/sklearn/utils/validation.py:760: DataConversionWarning: A column-vector y was passed when a 1d array was expected. Please change the shape of y to (n_samples, ), for example using ravel().\n",
      "  y = column_or_1d(y, warn=True)\n",
      "/opt/anaconda3/lib/python3.7/site-packages/sklearn/utils/validation.py:760: DataConversionWarning: A column-vector y was passed when a 1d array was expected. Please change the shape of y to (n_samples, ), for example using ravel().\n",
      "  y = column_or_1d(y, warn=True)\n",
      "/opt/anaconda3/lib/python3.7/site-packages/ipykernel_launcher.py:8: RuntimeWarning: divide by zero encountered in log10\n",
      "  \n",
      "/opt/anaconda3/lib/python3.7/site-packages/ipykernel_launcher.py:9: RuntimeWarning: divide by zero encountered in log10\n",
      "  if __name__ == '__main__':\n",
      "/opt/anaconda3/lib/python3.7/site-packages/ipykernel_launcher.py:18: RuntimeWarning: divide by zero encountered in log10\n"
     ]
    },
    {
     "name": "stdout",
     "output_type": "stream",
     "text": [
      "Alpha_AIC 0.0\n",
      "Alpha_BIC 0.0053581607404368445\n"
     ]
    },
    {
     "data": {
      "image/png": "[encoded data removed]",
      "text/plain": [
       "<Figure size 432x288 with 1 Axes>"
      ]
     },
     "metadata": {
      "needs_background": "light"
     },
     "output_type": "display_data"
    }
   ],
   "source": [
    "AIC_4, BIC_4 = ic_all(X_inter, y_train)"
   ]
  },
  {
   "cell_type": "code",
   "execution_count": 101,
   "metadata": {},
   "outputs": [],
   "source": [
    "df_4 = model_DataFrame(\"Interaction\", X_inter, y_train , X_inter_test, y_test, lasso_alpha=BIC_4, ridge_alpha=BIC_4)\n",
    "# df_4"
   ]
  },
  {
   "cell_type": "markdown",
   "metadata": {},
   "source": [
    "### Interactions RFE Model Validation"
   ]
  },
  {
   "cell_type": "code",
   "execution_count": 102,
   "metadata": {},
   "outputs": [],
   "source": [
    "X_inter_rfe = df_inter_reduced.copy()\n",
    "X_cols = list(X_inter_rfe.columns)\n",
    "X_inter_rfe_test = data_combined_test[X_cols]"
   ]
  },
  {
   "cell_type": "code",
   "execution_count": 103,
   "metadata": {},
   "outputs": [
    {
     "name": "stderr",
     "output_type": "stream",
     "text": [
      "/opt/anaconda3/lib/python3.7/site-packages/sklearn/utils/validation.py:760: DataConversionWarning: A column-vector y was passed when a 1d array was expected. Please change the shape of y to (n_samples, ), for example using ravel().\n",
      "  y = column_or_1d(y, warn=True)\n",
      "/opt/anaconda3/lib/python3.7/site-packages/sklearn/utils/validation.py:760: DataConversionWarning: A column-vector y was passed when a 1d array was expected. Please change the shape of y to (n_samples, ), for example using ravel().\n",
      "  y = column_or_1d(y, warn=True)\n",
      "/opt/anaconda3/lib/python3.7/site-packages/ipykernel_launcher.py:8: RuntimeWarning: divide by zero encountered in log10\n",
      "  \n",
      "/opt/anaconda3/lib/python3.7/site-packages/ipykernel_launcher.py:9: RuntimeWarning: divide by zero encountered in log10\n",
      "  if __name__ == '__main__':\n",
      "/opt/anaconda3/lib/python3.7/site-packages/ipykernel_launcher.py:18: RuntimeWarning: divide by zero encountered in log10\n"
     ]
    },
    {
     "name": "stdout",
     "output_type": "stream",
     "text": [
      "Alpha_AIC 0.0\n",
      "Alpha_BIC 0.005429375135247712\n"
     ]
    },
    {
     "data": {
      "image/png": "[encoded data removed]",
      "text/plain": [
       "<Figure size 432x288 with 1 Axes>"
      ]
     },
     "metadata": {
      "needs_background": "light"
     },
     "output_type": "display_data"
    }
   ],
   "source": [
    "AIC_5, BIC_5 = ic_all(X_inter_rfe, y_train)"
   ]
  },
  {
   "cell_type": "code",
   "execution_count": 104,
   "metadata": {},
   "outputs": [],
   "source": [
    "df_5 = model_DataFrame(\"Inter_RFE\", X_inter_rfe, y_train , X_inter_rfe_test, y_test, lasso_alpha=BIC_5, ridge_alpha=BIC_5)\n",
    "# df_5"
   ]
  },
  {
   "cell_type": "markdown",
   "metadata": {},
   "source": [
    "## Compare Models\n",
    "\n"
   ]
  },
  {
   "cell_type": "code",
   "execution_count": 105,
   "metadata": {},
   "outputs": [
    {
     "data": {
      "text/html": [
       "<div>\n",
       "<style scoped>\n",
       "    .dataframe tbody tr th:only-of-type {\n",
       "        vertical-align: middle;\n",
       "    }\n",
       "\n",
       "    .dataframe tbody tr th {\n",
       "        vertical-align: top;\n",
       "    }\n",
       "\n",
       "    .dataframe thead th {\n",
       "        text-align: right;\n",
       "    }\n",
       "</style>\n",
       "<table border=\"1\" class=\"dataframe\">\n",
       "  <thead>\n",
       "    <tr style=\"text-align: right;\">\n",
       "      <th>model_name</th>\n",
       "      <th>Baseline</th>\n",
       "      <th>Initial_Drop</th>\n",
       "      <th>RFE</th>\n",
       "      <th>Interaction</th>\n",
       "      <th>Inter_RFE</th>\n",
       "    </tr>\n",
       "  </thead>\n",
       "  <tbody>\n",
       "    <tr>\n",
       "      <td>lasso_alpha</td>\n",
       "      <td>0.002825</td>\n",
       "      <td>0.002264</td>\n",
       "      <td>0.000078</td>\n",
       "      <td>0.005358</td>\n",
       "      <td>0.005429</td>\n",
       "    </tr>\n",
       "    <tr>\n",
       "      <td>lasso_r2_train</td>\n",
       "      <td>0.920000</td>\n",
       "      <td>0.750000</td>\n",
       "      <td>0.713000</td>\n",
       "      <td>0.731000</td>\n",
       "      <td>0.730000</td>\n",
       "    </tr>\n",
       "    <tr>\n",
       "      <td>lasso_r2_test</td>\n",
       "      <td>0.873000</td>\n",
       "      <td>0.708000</td>\n",
       "      <td>0.695000</td>\n",
       "      <td>0.701000</td>\n",
       "      <td>0.701000</td>\n",
       "    </tr>\n",
       "    <tr>\n",
       "      <td>lasso_mse_train</td>\n",
       "      <td>0.734000</td>\n",
       "      <td>2.305000</td>\n",
       "      <td>2.648000</td>\n",
       "      <td>2.481000</td>\n",
       "      <td>2.490000</td>\n",
       "    </tr>\n",
       "    <tr>\n",
       "      <td>lasso_mse_test</td>\n",
       "      <td>1.036000</td>\n",
       "      <td>2.388000</td>\n",
       "      <td>2.498000</td>\n",
       "      <td>2.445000</td>\n",
       "      <td>2.452000</td>\n",
       "    </tr>\n",
       "    <tr>\n",
       "      <td>ridge_alpha</td>\n",
       "      <td>0.007152</td>\n",
       "      <td>0.005096</td>\n",
       "      <td>0.002977</td>\n",
       "      <td>0.005358</td>\n",
       "      <td>0.005429</td>\n",
       "    </tr>\n",
       "    <tr>\n",
       "      <td>ridge_r2_train</td>\n",
       "      <td>0.922000</td>\n",
       "      <td>0.752000</td>\n",
       "      <td>0.713000</td>\n",
       "      <td>0.735000</td>\n",
       "      <td>0.734000</td>\n",
       "    </tr>\n",
       "    <tr>\n",
       "      <td>ridge_r2_test</td>\n",
       "      <td>0.877000</td>\n",
       "      <td>0.708000</td>\n",
       "      <td>0.695000</td>\n",
       "      <td>0.096000</td>\n",
       "      <td>0.119000</td>\n",
       "    </tr>\n",
       "    <tr>\n",
       "      <td>ridge_mse_train</td>\n",
       "      <td>0.723000</td>\n",
       "      <td>2.293000</td>\n",
       "      <td>2.648000</td>\n",
       "      <td>2.442000</td>\n",
       "      <td>2.457000</td>\n",
       "    </tr>\n",
       "    <tr>\n",
       "      <td>ridge_mse_test</td>\n",
       "      <td>1.010000</td>\n",
       "      <td>2.394000</td>\n",
       "      <td>2.499000</td>\n",
       "      <td>7.403000</td>\n",
       "      <td>7.216000</td>\n",
       "    </tr>\n",
       "    <tr>\n",
       "      <td>linear_r2_train</td>\n",
       "      <td>0.922000</td>\n",
       "      <td>0.752000</td>\n",
       "      <td>0.713000</td>\n",
       "      <td>0.738000</td>\n",
       "      <td>0.736000</td>\n",
       "    </tr>\n",
       "    <tr>\n",
       "      <td>linear_r2_test</td>\n",
       "      <td>0.877000</td>\n",
       "      <td>0.708000</td>\n",
       "      <td>0.695000</td>\n",
       "      <td>-4.872000</td>\n",
       "      <td>-4.738000</td>\n",
       "    </tr>\n",
       "    <tr>\n",
       "      <td>linear_mse_train</td>\n",
       "      <td>0.723000</td>\n",
       "      <td>2.293000</td>\n",
       "      <td>2.648000</td>\n",
       "      <td>2.422000</td>\n",
       "      <td>2.438000</td>\n",
       "    </tr>\n",
       "    <tr>\n",
       "      <td>linear_mse_test</td>\n",
       "      <td>1.010000</td>\n",
       "      <td>2.394000</td>\n",
       "      <td>2.499000</td>\n",
       "      <td>48.069000</td>\n",
       "      <td>46.977000</td>\n",
       "    </tr>\n",
       "  </tbody>\n",
       "</table>\n",
       "</div>"
      ],
      "text/plain": [
       "model_name        Baseline  Initial_Drop       RFE  Interaction  Inter_RFE\n",
       "lasso_alpha       0.002825      0.002264  0.000078     0.005358   0.005429\n",
       "lasso_r2_train    0.920000      0.750000  0.713000     0.731000   0.730000\n",
       "lasso_r2_test     0.873000      0.708000  0.695000     0.701000   0.701000\n",
       "lasso_mse_train   0.734000      2.305000  2.648000     2.481000   2.490000\n",
       "lasso_mse_test    1.036000      2.388000  2.498000     2.445000   2.452000\n",
       "ridge_alpha       0.007152      0.005096  0.002977     0.005358   0.005429\n",
       "ridge_r2_train    0.922000      0.752000  0.713000     0.735000   0.734000\n",
       "ridge_r2_test     0.877000      0.708000  0.695000     0.096000   0.119000\n",
       "ridge_mse_train   0.723000      2.293000  2.648000     2.442000   2.457000\n",
       "ridge_mse_test    1.010000      2.394000  2.499000     7.403000   7.216000\n",
       "linear_r2_train   0.922000      0.752000  0.713000     0.738000   0.736000\n",
       "linear_r2_test    0.877000      0.708000  0.695000    -4.872000  -4.738000\n",
       "linear_mse_train  0.723000      2.293000  2.648000     2.422000   2.438000\n",
       "linear_mse_test   1.010000      2.394000  2.499000    48.069000  46.977000"
      ]
     },
     "execution_count": 105,
     "metadata": {},
     "output_type": "execute_result"
    }
   ],
   "source": [
    "df_all = pd.concat([df_1,df_2,df_3,df_4,df_5], axis=1)\n",
    "df_all"
   ]
  },
  {
   "cell_type": "markdown",
   "metadata": {},
   "source": [
    "## Optimizing Alpha"
   ]
  },
  {
   "cell_type": "code",
   "execution_count": 82,
   "metadata": {},
   "outputs": [],
   "source": [
    "def alpha_selection(X_train_all, y_train, X_test_all, y_test):\n",
    "\n",
    "    train_mse = []\n",
    "    test_mse = []\n",
    "    alphas = []\n",
    "\n",
    "    for alpha in np.linspace(0, 200, num=50):\n",
    "        lasso = Lasso(alpha=alpha)\n",
    "        lasso.fit(X_train_all, y_train)\n",
    "\n",
    "        train_preds = lasso.predict(X_train_all)\n",
    "        train_mse.append(mean_squared_error(y_train, train_preds))\n",
    "\n",
    "        test_preds = lasso.predict(X_test_all)\n",
    "        test_mse.append(mean_squared_error(y_test, test_preds))\n",
    "\n",
    "        alphas.append(alpha)\n",
    "    \n",
    "    return alphas, train_mse, test_mse"
   ]
  },
  {
   "cell_type": "code",
   "execution_count": 83,
   "metadata": {},
   "outputs": [],
   "source": [
    "def plot_alpha_selection(X_train_all, y_train, X_test_all, y_test):\n",
    "    \n",
    "    alphas, train_mse, test_mse = alpha_selection(X_train_all, y_train, X_test_all, y_test)\n",
    "    \n",
    "    fig, ax = plt.subplots()\n",
    "    ax.plot(alphas, train_mse, label='Train')\n",
    "    ax.plot(alphas, test_mse, label='Test')\n",
    "    ax.set_xlabel('Alpha')\n",
    "    ax.set_ylabel('MSE')\n",
    "\n",
    "    # np.argmin() returns the index of the minimum value in a list\n",
    "    optimal_alpha = alphas[np.argmin(test_mse)]\n",
    "\n",
    "    # Add a vertical line where the test MSE is minimized\n",
    "    ax.axvline(optimal_alpha, color='black', linestyle='--')\n",
    "    ax.legend();\n",
    "\n",
    "    print(f'Optimal Alpha Value: {int(optimal_alpha)}')"
   ]
  },
  {
   "cell_type": "code",
   "execution_count": 84,
   "metadata": {},
   "outputs": [
    {
     "name": "stderr",
     "output_type": "stream",
     "text": [
      "/opt/anaconda3/lib/python3.7/site-packages/ipykernel_launcher.py:9: UserWarning: With alpha=0, this algorithm does not converge well. You are advised to use the LinearRegression estimator\n",
      "  if __name__ == '__main__':\n",
      "/opt/anaconda3/lib/python3.7/site-packages/sklearn/linear_model/_coordinate_descent.py:476: UserWarning: Coordinate descent with no regularization may lead to unexpected results and is discouraged.\n",
      "  positive)\n",
      "/opt/anaconda3/lib/python3.7/site-packages/sklearn/linear_model/_coordinate_descent.py:476: ConvergenceWarning: Objective did not converge. You might want to increase the number of iterations. Duality gap: 1409.9537375430016, tolerance: 1.0502947366859894\n",
      "  positive)\n"
     ]
    },
    {
     "name": "stdout",
     "output_type": "stream",
     "text": [
      "Optimal Alpha Value: 0\n"
     ]
    },
    {
     "data": {
      "image/png": "[encoded data removed]",
      "text/plain": [
       "<Figure size 432x288 with 1 Axes>"
      ]
     },
     "metadata": {
      "needs_background": "light"
     },
     "output_type": "display_data"
    }
   ],
   "source": [
    "plot_alpha_selection(X_inter_rfe, y_train , X_inter_rfe_test, y_test)"
   ]
  },
  {
   "cell_type": "markdown",
   "metadata": {},
   "source": [
    "## Lasso paths"
   ]
  },
  {
   "cell_type": "code",
   "execution_count": 85,
   "metadata": {},
   "outputs": [],
   "source": [
    "from itertools import cycle\n",
    "from sklearn.linear_model import lasso_path, enet_path"
   ]
  },
  {
   "cell_type": "code",
   "execution_count": 86,
   "metadata": {},
   "outputs": [],
   "source": [
    "def comp_lasso_paths(X,y, eps=5e-3):\n",
    "    \n",
    "    eps = eps  # path length (Smaller = Longer)\n",
    "\n",
    "    # Compute paths\n",
    "    print(\"Computing regularization path using the lasso...\")\n",
    "    alphas_lasso, coefs_lasso, _ = lasso_path(X, y, eps, fit_intercept=False)\n",
    "    \n",
    "    print(\"Computing regularization path using the positive lasso...\")\n",
    "    alphas_positive_lasso, coefs_positive_lasso, _ = lasso_path(\n",
    "        X, y, eps, positive=True, fit_intercept=False)\n",
    "    print(\"Computing regularization path using the elastic net...\")\n",
    "    alphas_enet, coefs_enet, _ = enet_path(\n",
    "        X, y, eps=eps, l1_ratio=0.8, fit_intercept=False)\n",
    "\n",
    "    print(\"Computing regularization path using the positive elastic net...\")\n",
    "    alphas_positive_enet, coefs_positive_enet, _ = enet_path(\n",
    "        X, y, eps=eps, l1_ratio=0.8, positive=True, fit_intercept=False)\n",
    "    \n",
    "    # Display results\n",
    "\n",
    "    plt.figure(1)\n",
    "    colors = cycle(['b', 'r', 'g', 'c', 'k'])\n",
    "    neg_log_alphas_lasso = -np.log10(alphas_lasso)\n",
    "    neg_log_alphas_enet = -np.log10(alphas_enet)\n",
    "    for coef_l, coef_e, c in zip(coefs_lasso, coefs_enet, colors):\n",
    "        l1 = plt.plot(neg_log_alphas_lasso, coef_l, c=c)\n",
    "        l2 = plt.plot(neg_log_alphas_enet, coef_e, linestyle='--', c=c)\n",
    "\n",
    "    plt.xlabel('-Log(alpha)')\n",
    "    plt.ylabel('coefficients')\n",
    "    plt.title('Lasso and Elastic-Net Paths')\n",
    "    plt.legend((l1[-1], l2[-1]), ('Lasso', 'Elastic-Net'), loc='lower left')\n",
    "    plt.axis('tight')\n",
    "\n",
    "\n",
    "    plt.figure(2)\n",
    "    neg_log_alphas_positive_lasso = -np.log10(alphas_positive_lasso)\n",
    "    for coef_l, coef_pl, c in zip(coefs_lasso, coefs_positive_lasso, colors):\n",
    "        l1 = plt.plot(neg_log_alphas_lasso, coef_l, c=c)\n",
    "        l2 = plt.plot(neg_log_alphas_positive_lasso, coef_pl, linestyle='--', c=c)\n",
    "\n",
    "    plt.xlabel('-Log(alpha)')\n",
    "    plt.ylabel('coefficients')\n",
    "    plt.title('Lasso and positive Lasso')\n",
    "    plt.legend((l1[-1], l2[-1]), ('Lasso', 'positive Lasso'), loc='lower left')\n",
    "    plt.axis('tight')\n",
    "\n",
    "\n",
    "    plt.figure(3)\n",
    "    neg_log_alphas_positive_enet = -np.log10(alphas_positive_enet)\n",
    "    for (coef_e, coef_pe, c) in zip(coefs_enet, coefs_positive_enet, colors):\n",
    "        l1 = plt.plot(neg_log_alphas_enet, coef_e, c=c)\n",
    "        l2 = plt.plot(neg_log_alphas_positive_enet, coef_pe, linestyle='--', c=c)\n",
    "\n",
    "    plt.xlabel('-Log(alpha)')\n",
    "    plt.ylabel('coefficients')\n",
    "    plt.title('Elastic-Net and positive Elastic-Net')\n",
    "    plt.legend((l1[-1], l2[-1]), ('Elastic-Net', 'positive Elastic-Net'),\n",
    "               loc='lower left')\n",
    "    plt.axis('tight')\n",
    "    plt.show()\n",
    "    \n",
    "    return None"
   ]
  },
  {
   "cell_type": "code",
   "execution_count": 87,
   "metadata": {},
   "outputs": [
    {
     "name": "stdout",
     "output_type": "stream",
     "text": [
      "Computing regularization path using the lasso...\n",
      "Computing regularization path using the positive lasso...\n"
     ]
    },
    {
     "ename": "ValueError",
     "evalue": "positive=True is not allowed for multi-output (y.ndim != 1)",
     "output_type": "error",
     "traceback": [
      "\u001b[0;31m---------------------------------------------------------------------------\u001b[0m",
      "\u001b[0;31mValueError\u001b[0m                                Traceback (most recent call last)",
      "\u001b[0;32m<ipython-input-87-2017bcbe861f>\u001b[0m in \u001b[0;36m<module>\u001b[0;34m\u001b[0m\n\u001b[0;32m----> 1\u001b[0;31m \u001b[0mcomp_lasso_paths\u001b[0m\u001b[0;34m(\u001b[0m\u001b[0mX_final\u001b[0m\u001b[0;34m,\u001b[0m \u001b[0my_train\u001b[0m\u001b[0;34m,\u001b[0m \u001b[0meps\u001b[0m\u001b[0;34m=\u001b[0m\u001b[0;36m5e-3\u001b[0m\u001b[0;34m)\u001b[0m\u001b[0;34m\u001b[0m\u001b[0;34m\u001b[0m\u001b[0m\n\u001b[0m",
      "\u001b[0;32m<ipython-input-86-6b2cb95c2249>\u001b[0m in \u001b[0;36mcomp_lasso_paths\u001b[0;34m(X, y, eps)\u001b[0m\n\u001b[1;32m      9\u001b[0m     \u001b[0mprint\u001b[0m\u001b[0;34m(\u001b[0m\u001b[0;34m\"Computing regularization path using the positive lasso...\"\u001b[0m\u001b[0;34m)\u001b[0m\u001b[0;34m\u001b[0m\u001b[0;34m\u001b[0m\u001b[0m\n\u001b[1;32m     10\u001b[0m     alphas_positive_lasso, coefs_positive_lasso, _ = lasso_path(\n\u001b[0;32m---> 11\u001b[0;31m         X, y, eps, positive=True, fit_intercept=False)\n\u001b[0m\u001b[1;32m     12\u001b[0m     \u001b[0mprint\u001b[0m\u001b[0;34m(\u001b[0m\u001b[0;34m\"Computing regularization path using the elastic net...\"\u001b[0m\u001b[0;34m)\u001b[0m\u001b[0;34m\u001b[0m\u001b[0;34m\u001b[0m\u001b[0m\n\u001b[1;32m     13\u001b[0m     alphas_enet, coefs_enet, _ = enet_path(\n",
      "\u001b[0;32m/opt/anaconda3/lib/python3.7/site-packages/sklearn/linear_model/_coordinate_descent.py\u001b[0m in \u001b[0;36mlasso_path\u001b[0;34m(X, y, eps, n_alphas, alphas, precompute, Xy, copy_X, coef_init, verbose, return_n_iter, positive, **params)\u001b[0m\n\u001b[1;32m    261\u001b[0m                      \u001b[0malphas\u001b[0m\u001b[0;34m=\u001b[0m\u001b[0malphas\u001b[0m\u001b[0;34m,\u001b[0m \u001b[0mprecompute\u001b[0m\u001b[0;34m=\u001b[0m\u001b[0mprecompute\u001b[0m\u001b[0;34m,\u001b[0m \u001b[0mXy\u001b[0m\u001b[0;34m=\u001b[0m\u001b[0mXy\u001b[0m\u001b[0;34m,\u001b[0m\u001b[0;34m\u001b[0m\u001b[0;34m\u001b[0m\u001b[0m\n\u001b[1;32m    262\u001b[0m                      \u001b[0mcopy_X\u001b[0m\u001b[0;34m=\u001b[0m\u001b[0mcopy_X\u001b[0m\u001b[0;34m,\u001b[0m \u001b[0mcoef_init\u001b[0m\u001b[0;34m=\u001b[0m\u001b[0mcoef_init\u001b[0m\u001b[0;34m,\u001b[0m \u001b[0mverbose\u001b[0m\u001b[0;34m=\u001b[0m\u001b[0mverbose\u001b[0m\u001b[0;34m,\u001b[0m\u001b[0;34m\u001b[0m\u001b[0;34m\u001b[0m\u001b[0m\n\u001b[0;32m--> 263\u001b[0;31m                      positive=positive, return_n_iter=return_n_iter, **params)\n\u001b[0m\u001b[1;32m    264\u001b[0m \u001b[0;34m\u001b[0m\u001b[0m\n\u001b[1;32m    265\u001b[0m \u001b[0;34m\u001b[0m\u001b[0m\n",
      "\u001b[0;32m/opt/anaconda3/lib/python3.7/site-packages/sklearn/linear_model/_coordinate_descent.py\u001b[0m in \u001b[0;36menet_path\u001b[0;34m(X, y, l1_ratio, eps, n_alphas, alphas, precompute, Xy, copy_X, coef_init, verbose, return_n_iter, positive, check_input, **params)\u001b[0m\n\u001b[1;32m    400\u001b[0m \u001b[0;34m\u001b[0m\u001b[0m\n\u001b[1;32m    401\u001b[0m     \u001b[0;32mif\u001b[0m \u001b[0mmulti_output\u001b[0m \u001b[0;32mand\u001b[0m \u001b[0mpositive\u001b[0m\u001b[0;34m:\u001b[0m\u001b[0;34m\u001b[0m\u001b[0;34m\u001b[0m\u001b[0m\n\u001b[0;32m--> 402\u001b[0;31m         raise ValueError('positive=True is not allowed for multi-output'\n\u001b[0m\u001b[1;32m    403\u001b[0m                          ' (y.ndim != 1)')\n\u001b[1;32m    404\u001b[0m \u001b[0;34m\u001b[0m\u001b[0m\n",
      "\u001b[0;31mValueError\u001b[0m: positive=True is not allowed for multi-output (y.ndim != 1)"
     ]
    }
   ],
   "source": [
    "comp_lasso_paths(X_final, y_train, eps=5e-3)"
   ]
  },
  {
   "cell_type": "code",
   "execution_count": null,
   "metadata": {
    "scrolled": true
   },
   "outputs": [],
   "source": [
    "x"
   ]
  },
  {
   "cell_type": "markdown",
   "metadata": {},
   "source": [
    "# ZZ -  Feature ranking to recursive eliminate features"
   ]
  },
  {
   "cell_type": "code",
   "execution_count": null,
   "metadata": {},
   "outputs": [],
   "source": [
    "# df_feat_rank = pd.concat([y,X_1], axis=1)\n",
    "# df_feat_rank.head()"
   ]
  },
  {
   "cell_type": "code",
   "execution_count": null,
   "metadata": {},
   "outputs": [],
   "source": [
    "linreg = LinearRegression()\n",
    "selector = RFE(linreg, n_features_to_select=20) # 20 most important features\n",
    "selector = selector.fit(X_1, y)\n",
    "estimators = selector.estimator_"
   ]
  },
  {
   "cell_type": "code",
   "execution_count": null,
   "metadata": {},
   "outputs": [],
   "source": [
    "# print(selector.support_ )\n",
    "# print(selector.ranking_)\n",
    "# print(estimators.coef_)\n",
    "# print(estimators.intercept_)\n",
    "print(selector.classes_)"
   ]
  },
  {
   "cell_type": "code",
   "execution_count": null,
   "metadata": {},
   "outputs": [],
   "source": [
    "# dir(selector)"
   ]
  },
  {
   "cell_type": "code",
   "execution_count": null,
   "metadata": {},
   "outputs": [],
   "source": [
    "X_cols = list(X_1.columns)\n",
    "X_best = []\n",
    "i=0\n",
    "for x in selector.support_:\n",
    "    if x == True:\n",
    "        X_best.append((X_cols[i], selector.ranking_[i]))\n",
    "    i+=1"
   ]
  },
  {
   "cell_type": "code",
   "execution_count": null,
   "metadata": {},
   "outputs": [],
   "source": [
    "# X_best"
   ]
  },
  {
   "cell_type": "code",
   "execution_count": null,
   "metadata": {},
   "outputs": [],
   "source": [
    "sell = list(zip(X_cols, estimators.coef_, selector.ranking_, selector.support_))\n",
    "df_selection = pd.DataFrame(sell, columns=['X_cols', 'coef','ranking', 'support'])\n",
    "df_selection.sort_values(by=['ranking'], inplace=True)\n",
    "df_selection.head(30)"
   ]
  },
  {
   "cell_type": "code",
   "execution_count": null,
   "metadata": {},
   "outputs": [],
   "source": [
    "corr = X_1.corr()\n",
    "sns.heatmap(corr, \n",
    "        xticklabels=corr.columns,\n",
    "        yticklabels=corr.columns, \n",
    "           center=True)"
   ]
  }
 ],
 "metadata": {
  "kernelspec": {
   "display_name": "Python 3",
   "language": "python",
   "name": "python3"
  },
  "language_info": {
   "codemirror_mode": {
    "name": "ipython",
    "version": 3
   },
   "file_extension": ".py",
   "mimetype": "text/x-python",
   "name": "python",
   "nbconvert_exporter": "python",
   "pygments_lexer": "ipython3",
   "version": "3.7.4"
  },
  "toc": {
   "base_numbering": 1,
   "nav_menu": {},
   "number_sections": true,
   "sideBar": true,
   "skip_h1_title": false,
   "title_cell": "Table of Contents",
   "title_sidebar": "Contents",
   "toc_cell": false,
   "toc_position": {},
   "toc_section_display": true,
   "toc_window_display": false
  }
 },
 "nbformat": 4,
 "nbformat_minor": 2
}
