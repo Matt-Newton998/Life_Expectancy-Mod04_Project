{
 "cells": [
  {
   "cell_type": "markdown",
   "metadata": {},
   "source": [
    "dont need to normalise the varibales "
   ]
  },
  {
   "cell_type": "markdown",
   "metadata": {},
   "source": [
    "## Model Creation: "
   ]
  },
  {
   "cell_type": "code",
   "execution_count": 1,
   "metadata": {},
   "outputs": [],
   "source": [
    "#import the necessary libraries\n",
    "import pandas as pd\n",
    "import numpy as np\n",
    "import matplotlib.pylab as plt\n",
    "%matplotlib inline\n",
    "import seaborn as sns\n",
    "sns.set_style('darkgrid')\n",
    "\n",
    "import re\n",
    "\n",
    "# Statistics\n",
    "from statsmodels.formula.api import ols\n",
    "from statsmodels.stats.outliers_influence import variance_inflation_factor\n",
    "import statsmodels.api as sm\n",
    "import scipy.stats as stats\n",
    "\n",
    "# Sklearn - model_selection\n",
    "from sklearn.model_selection import train_test_split\n",
    "from sklearn.model_selection import cross_val_score\n",
    "from sklearn.model_selection import KFold\n",
    "\n",
    "#Sklearn - linear_model\n",
    "from sklearn.linear_model import LinearRegression\n",
    "from sklearn.linear_model import LassoCV, LassoLarsCV, LassoLarsIC\n",
    "\n",
    "from sklearn.feature_selection import RFE"
   ]
  },
  {
   "cell_type": "code",
   "execution_count": 2,
   "metadata": {},
   "outputs": [
    {
     "data": {
      "text/html": [
       "<div>\n",
       "<style scoped>\n",
       "    .dataframe tbody tr th:only-of-type {\n",
       "        vertical-align: middle;\n",
       "    }\n",
       "\n",
       "    .dataframe tbody tr th {\n",
       "        vertical-align: top;\n",
       "    }\n",
       "\n",
       "    .dataframe thead th {\n",
       "        text-align: right;\n",
       "    }\n",
       "</style>\n",
       "<table border=\"1\" class=\"dataframe\">\n",
       "  <thead>\n",
       "    <tr style=\"text-align: right;\">\n",
       "      <th></th>\n",
       "      <th>Life_Expectancy</th>\n",
       "      <th>State_FIPS_Code</th>\n",
       "      <th>County_FIPS_Code</th>\n",
       "      <th>Premature_death_raw_value</th>\n",
       "      <th>Poor_or_fair_health_raw_value</th>\n",
       "      <th>Poor_physical_health_days_raw_value</th>\n",
       "      <th>Poor_mental_health_days_raw_value</th>\n",
       "      <th>Low_birthweight_raw_value</th>\n",
       "      <th>Adult_smoking_raw_value</th>\n",
       "      <th>Adult_obesity_raw_value</th>\n",
       "      <th>...</th>\n",
       "      <th>Uninsured_children_raw_value</th>\n",
       "      <th>Other_primary_care_providers_raw_value</th>\n",
       "      <th>Median_household_income_raw_value</th>\n",
       "      <th>Children_eligible_for_free_or_reduced_price_lunch_raw_value</th>\n",
       "      <th>Residential_segregation___non_white/white_raw_value</th>\n",
       "      <th>Homeownership_raw_value</th>\n",
       "      <th>Severe_housing_cost_burden_raw_value</th>\n",
       "      <th>Population_raw_value</th>\n",
       "      <th>County_Ranked_(Yes1/No0)</th>\n",
       "      <th>Drinking_water_violations_raw_value</th>\n",
       "    </tr>\n",
       "  </thead>\n",
       "  <tbody>\n",
       "    <tr>\n",
       "      <td>0</td>\n",
       "      <td>72.438750</td>\n",
       "      <td>-1.694237</td>\n",
       "      <td>-0.703354</td>\n",
       "      <td>2.334237</td>\n",
       "      <td>0.585167</td>\n",
       "      <td>0.972298</td>\n",
       "      <td>0.744619</td>\n",
       "      <td>1.185344</td>\n",
       "      <td>1.262168</td>\n",
       "      <td>0.600135</td>\n",
       "      <td>...</td>\n",
       "      <td>-0.542966</td>\n",
       "      <td>-0.303066</td>\n",
       "      <td>-0.110904</td>\n",
       "      <td>0.526556</td>\n",
       "      <td>-0.593029</td>\n",
       "      <td>0.093544</td>\n",
       "      <td>0.719976</td>\n",
       "      <td>-0.353999</td>\n",
       "      <td>0.149924</td>\n",
       "      <td>-0.857549</td>\n",
       "    </tr>\n",
       "    <tr>\n",
       "      <td>1</td>\n",
       "      <td>70.426037</td>\n",
       "      <td>-1.694237</td>\n",
       "      <td>-0.686844</td>\n",
       "      <td>2.505048</td>\n",
       "      <td>2.389854</td>\n",
       "      <td>2.887774</td>\n",
       "      <td>1.915747</td>\n",
       "      <td>1.184023</td>\n",
       "      <td>2.510570</td>\n",
       "      <td>0.882490</td>\n",
       "      <td>...</td>\n",
       "      <td>-0.802039</td>\n",
       "      <td>0.220084</td>\n",
       "      <td>-1.719216</td>\n",
       "      <td>1.152966</td>\n",
       "      <td>1.602039</td>\n",
       "      <td>0.173994</td>\n",
       "      <td>-0.089176</td>\n",
       "      <td>-0.334493</td>\n",
       "      <td>0.149924</td>\n",
       "      <td>1.166115</td>\n",
       "    </tr>\n",
       "    <tr>\n",
       "      <td>2</td>\n",
       "      <td>75.056297</td>\n",
       "      <td>-1.694237</td>\n",
       "      <td>-0.670334</td>\n",
       "      <td>0.548239</td>\n",
       "      <td>0.430316</td>\n",
       "      <td>0.944534</td>\n",
       "      <td>0.598795</td>\n",
       "      <td>0.020882</td>\n",
       "      <td>1.220460</td>\n",
       "      <td>-0.082221</td>\n",
       "      <td>...</td>\n",
       "      <td>-0.248064</td>\n",
       "      <td>-0.477779</td>\n",
       "      <td>-0.568212</td>\n",
       "      <td>0.575578</td>\n",
       "      <td>-0.215187</td>\n",
       "      <td>0.787929</td>\n",
       "      <td>-0.730263</td>\n",
       "      <td>-0.304624</td>\n",
       "      <td>0.149924</td>\n",
       "      <td>-0.857549</td>\n",
       "    </tr>\n",
       "    <tr>\n",
       "      <td>3</td>\n",
       "      <td>77.644415</td>\n",
       "      <td>-1.694237</td>\n",
       "      <td>-0.653824</td>\n",
       "      <td>-0.211277</td>\n",
       "      <td>-0.007011</td>\n",
       "      <td>0.261949</td>\n",
       "      <td>0.311151</td>\n",
       "      <td>-0.090746</td>\n",
       "      <td>0.551838</td>\n",
       "      <td>0.811901</td>\n",
       "      <td>...</td>\n",
       "      <td>-0.932296</td>\n",
       "      <td>-0.799614</td>\n",
       "      <td>0.847341</td>\n",
       "      <td>-0.419564</td>\n",
       "      <td>-0.252510</td>\n",
       "      <td>1.220457</td>\n",
       "      <td>-0.453010</td>\n",
       "      <td>-0.053936</td>\n",
       "      <td>0.149924</td>\n",
       "      <td>-0.857549</td>\n",
       "    </tr>\n",
       "    <tr>\n",
       "      <td>4</td>\n",
       "      <td>74.386212</td>\n",
       "      <td>-1.694237</td>\n",
       "      <td>-0.637314</td>\n",
       "      <td>1.031308</td>\n",
       "      <td>1.168960</td>\n",
       "      <td>1.455216</td>\n",
       "      <td>1.086015</td>\n",
       "      <td>0.018399</td>\n",
       "      <td>1.406349</td>\n",
       "      <td>-0.199869</td>\n",
       "      <td>...</td>\n",
       "      <td>-0.360181</td>\n",
       "      <td>-0.272734</td>\n",
       "      <td>-0.276522</td>\n",
       "      <td>0.254347</td>\n",
       "      <td>0.807143</td>\n",
       "      <td>0.142721</td>\n",
       "      <td>-0.782571</td>\n",
       "      <td>-0.334972</td>\n",
       "      <td>0.149924</td>\n",
       "      <td>-0.857549</td>\n",
       "    </tr>\n",
       "  </tbody>\n",
       "</table>\n",
       "<p>5 rows × 57 columns</p>\n",
       "</div>"
      ],
      "text/plain": [
       "   Life_Expectancy  State_FIPS_Code  County_FIPS_Code  \\\n",
       "0        72.438750        -1.694237         -0.703354   \n",
       "1        70.426037        -1.694237         -0.686844   \n",
       "2        75.056297        -1.694237         -0.670334   \n",
       "3        77.644415        -1.694237         -0.653824   \n",
       "4        74.386212        -1.694237         -0.637314   \n",
       "\n",
       "   Premature_death_raw_value  Poor_or_fair_health_raw_value  \\\n",
       "0                   2.334237                       0.585167   \n",
       "1                   2.505048                       2.389854   \n",
       "2                   0.548239                       0.430316   \n",
       "3                  -0.211277                      -0.007011   \n",
       "4                   1.031308                       1.168960   \n",
       "\n",
       "   Poor_physical_health_days_raw_value  Poor_mental_health_days_raw_value  \\\n",
       "0                             0.972298                           0.744619   \n",
       "1                             2.887774                           1.915747   \n",
       "2                             0.944534                           0.598795   \n",
       "3                             0.261949                           0.311151   \n",
       "4                             1.455216                           1.086015   \n",
       "\n",
       "   Low_birthweight_raw_value  Adult_smoking_raw_value  \\\n",
       "0                   1.185344                 1.262168   \n",
       "1                   1.184023                 2.510570   \n",
       "2                   0.020882                 1.220460   \n",
       "3                  -0.090746                 0.551838   \n",
       "4                   0.018399                 1.406349   \n",
       "\n",
       "   Adult_obesity_raw_value  ...  Uninsured_children_raw_value  \\\n",
       "0                 0.600135  ...                     -0.542966   \n",
       "1                 0.882490  ...                     -0.802039   \n",
       "2                -0.082221  ...                     -0.248064   \n",
       "3                 0.811901  ...                     -0.932296   \n",
       "4                -0.199869  ...                     -0.360181   \n",
       "\n",
       "   Other_primary_care_providers_raw_value  Median_household_income_raw_value  \\\n",
       "0                               -0.303066                          -0.110904   \n",
       "1                                0.220084                          -1.719216   \n",
       "2                               -0.477779                          -0.568212   \n",
       "3                               -0.799614                           0.847341   \n",
       "4                               -0.272734                          -0.276522   \n",
       "\n",
       "   Children_eligible_for_free_or_reduced_price_lunch_raw_value  \\\n",
       "0                                           0.526556             \n",
       "1                                           1.152966             \n",
       "2                                           0.575578             \n",
       "3                                          -0.419564             \n",
       "4                                           0.254347             \n",
       "\n",
       "   Residential_segregation___non_white/white_raw_value  \\\n",
       "0                                          -0.593029     \n",
       "1                                           1.602039     \n",
       "2                                          -0.215187     \n",
       "3                                          -0.252510     \n",
       "4                                           0.807143     \n",
       "\n",
       "   Homeownership_raw_value  Severe_housing_cost_burden_raw_value  \\\n",
       "0                 0.093544                              0.719976   \n",
       "1                 0.173994                             -0.089176   \n",
       "2                 0.787929                             -0.730263   \n",
       "3                 1.220457                             -0.453010   \n",
       "4                 0.142721                             -0.782571   \n",
       "\n",
       "   Population_raw_value  County_Ranked_(Yes1/No0)  \\\n",
       "0             -0.353999                  0.149924   \n",
       "1             -0.334493                  0.149924   \n",
       "2             -0.304624                  0.149924   \n",
       "3             -0.053936                  0.149924   \n",
       "4             -0.334972                  0.149924   \n",
       "\n",
       "   Drinking_water_violations_raw_value  \n",
       "0                            -0.857549  \n",
       "1                             1.166115  \n",
       "2                            -0.857549  \n",
       "3                            -0.857549  \n",
       "4                            -0.857549  \n",
       "\n",
       "[5 rows x 57 columns]"
      ]
     },
     "execution_count": 2,
     "metadata": {},
     "output_type": "execute_result"
    }
   ],
   "source": [
    "data = pd.read_csv('Life_Expectancy_clean.csv')\n",
    "data.head()"
   ]
  },
  {
   "cell_type": "code",
   "execution_count": 3,
   "metadata": {},
   "outputs": [],
   "source": [
    "# County_Ranked_(Yes1/No0) is causing an issue therefore rename:\n",
    "data.rename(columns={'County_Ranked_(Yes1/No0)': 'County_Ranked'}, inplace=True)"
   ]
  },
  {
   "cell_type": "code",
   "execution_count": 4,
   "metadata": {},
   "outputs": [],
   "source": [
    "# Drop the  State_FIPS_Code & County_FIPS_Code\n",
    "data.drop(columns=['State_FIPS_Code', 'County_FIPS_Code'], inplace=True)"
   ]
  },
  {
   "cell_type": "markdown",
   "metadata": {},
   "source": [
    "## Check Normality of Variables"
   ]
  },
  {
   "cell_type": "code",
   "execution_count": 5,
   "metadata": {},
   "outputs": [],
   "source": [
    "# X.hist(figsize=(16,30))\n",
    "# plt.show()"
   ]
  },
  {
   "cell_type": "markdown",
   "metadata": {},
   "source": [
    "## Train Test Split"
   ]
  },
  {
   "cell_type": "code",
   "execution_count": 6,
   "metadata": {},
   "outputs": [],
   "source": [
    "X_init = data.drop(columns=['Life_Expectancy'])\n",
    "y_init = data['Life_Expectancy']"
   ]
  },
  {
   "cell_type": "code",
   "execution_count": 7,
   "metadata": {},
   "outputs": [
    {
     "data": {
      "text/plain": [
       "((2138, 54), (2138,))"
      ]
     },
     "execution_count": 7,
     "metadata": {},
     "output_type": "execute_result"
    }
   ],
   "source": [
    "X_init.shape, y_init.shape"
   ]
  },
  {
   "cell_type": "code",
   "execution_count": 8,
   "metadata": {},
   "outputs": [],
   "source": [
    "X_train, X_test, y_train, y_test = train_test_split(X_init, y_init, test_size=1000, random_state=42)"
   ]
  },
  {
   "cell_type": "code",
   "execution_count": 9,
   "metadata": {},
   "outputs": [
    {
     "data": {
      "text/plain": [
       "((1138, 54), (1000, 54), (1138,), (1000,))"
      ]
     },
     "execution_count": 9,
     "metadata": {},
     "output_type": "execute_result"
    }
   ],
   "source": [
    "X_train.shape, X_test.shape, y_train.shape, y_test.shape"
   ]
  },
  {
   "cell_type": "code",
   "execution_count": 10,
   "metadata": {},
   "outputs": [],
   "source": [
    "# X = X_train\n",
    "# y = y_train"
   ]
  },
  {
   "cell_type": "code",
   "execution_count": 11,
   "metadata": {},
   "outputs": [],
   "source": [
    "df_model = pd.concat([y_train,X_train], axis=1)\n",
    "# df_model.head()"
   ]
  },
  {
   "cell_type": "markdown",
   "metadata": {},
   "source": [
    "# Model 1:\n",
    "\n",
    "- All variable carried forward from the cleaning"
   ]
  },
  {
   "cell_type": "markdown",
   "metadata": {},
   "source": [
    "## K-fold / Cross Validation Model"
   ]
  },
  {
   "cell_type": "code",
   "execution_count": 12,
   "metadata": {},
   "outputs": [
    {
     "name": "stdout",
     "output_type": "stream",
     "text": [
      "Inital R^2: 0.9016229194751528\n"
     ]
    }
   ],
   "source": [
    "regression = LinearRegression()\n",
    "\n",
    "crossvalidation = KFold(n_splits=10, shuffle=True, random_state=1)\n",
    "baseline = np.mean(cross_val_score(regression, X_train, y_train, scoring='r2', cv=crossvalidation))\n",
    "print(\"Inital R^2:\", baseline)"
   ]
  },
  {
   "cell_type": "markdown",
   "metadata": {},
   "source": [
    "<b>Observations</b>\n",
    "\n",
    "- Very High R^2 value -> similar to the stats module value\n",
    "- Look to reduce variables"
   ]
  },
  {
   "cell_type": "markdown",
   "metadata": {},
   "source": [
    "## Statsmodule OLS model"
   ]
  },
  {
   "cell_type": "code",
   "execution_count": 13,
   "metadata": {
    "scrolled": true
   },
   "outputs": [
    {
     "name": "stderr",
     "output_type": "stream",
     "text": [
      "/opt/anaconda3/lib/python3.7/site-packages/numpy/core/fromnumeric.py:2495: FutureWarning: Method .ptp is deprecated and will be removed in a future version. Use numpy.ptp instead.\n",
      "  return ptp(axis=axis, out=out, **kwargs)\n"
     ]
    },
    {
     "data": {
      "text/html": [
       "<table class=\"simpletable\">\n",
       "<caption>OLS Regression Results</caption>\n",
       "<tr>\n",
       "  <th>Dep. Variable:</th>     <td>Life_Expectancy</td> <th>  R-squared:         </th> <td>   0.922</td>\n",
       "</tr>\n",
       "<tr>\n",
       "  <th>Model:</th>                   <td>OLS</td>       <th>  Adj. R-squared:    </th> <td>   0.918</td>\n",
       "</tr>\n",
       "<tr>\n",
       "  <th>Method:</th>             <td>Least Squares</td>  <th>  F-statistic:       </th> <td>   235.9</td>\n",
       "</tr>\n",
       "<tr>\n",
       "  <th>Date:</th>             <td>Tue, 14 Jan 2020</td> <th>  Prob (F-statistic):</th>  <td>  0.00</td> \n",
       "</tr>\n",
       "<tr>\n",
       "  <th>Time:</th>                 <td>17:19:51</td>     <th>  Log-Likelihood:    </th> <td> -1430.3</td>\n",
       "</tr>\n",
       "<tr>\n",
       "  <th>No. Observations:</th>      <td>  1138</td>      <th>  AIC:               </th> <td>   2971.</td>\n",
       "</tr>\n",
       "<tr>\n",
       "  <th>Df Residuals:</th>          <td>  1083</td>      <th>  BIC:               </th> <td>   3248.</td>\n",
       "</tr>\n",
       "<tr>\n",
       "  <th>Df Model:</th>              <td>    54</td>      <th>                     </th>     <td> </td>   \n",
       "</tr>\n",
       "<tr>\n",
       "  <th>Covariance Type:</th>      <td>nonrobust</td>    <th>                     </th>     <td> </td>   \n",
       "</tr>\n",
       "</table>\n",
       "<table class=\"simpletable\">\n",
       "<tr>\n",
       "                               <td></td>                                  <th>coef</th>     <th>std err</th>      <th>t</th>      <th>P>|t|</th>  <th>[0.025</th>    <th>0.975]</th>  \n",
       "</tr>\n",
       "<tr>\n",
       "  <th>const</th>                                                       <td>   77.3887</td> <td>    0.026</td> <td> 2975.538</td> <td> 0.000</td> <td>   77.338</td> <td>   77.440</td>\n",
       "</tr>\n",
       "<tr>\n",
       "  <th>Premature_death_raw_value</th>                                   <td>   -0.4079</td> <td>    0.114</td> <td>   -3.576</td> <td> 0.000</td> <td>   -0.632</td> <td>   -0.184</td>\n",
       "</tr>\n",
       "<tr>\n",
       "  <th>Poor_or_fair_health_raw_value</th>                               <td>    0.2454</td> <td>    0.121</td> <td>    2.023</td> <td> 0.043</td> <td>    0.007</td> <td>    0.483</td>\n",
       "</tr>\n",
       "<tr>\n",
       "  <th>Poor_physical_health_days_raw_value</th>                         <td>   -0.4889</td> <td>    0.298</td> <td>   -1.643</td> <td> 0.101</td> <td>   -1.073</td> <td>    0.095</td>\n",
       "</tr>\n",
       "<tr>\n",
       "  <th>Poor_mental_health_days_raw_value</th>                           <td>    0.0090</td> <td>    0.183</td> <td>    0.049</td> <td> 0.961</td> <td>   -0.350</td> <td>    0.368</td>\n",
       "</tr>\n",
       "<tr>\n",
       "  <th>Low_birthweight_raw_value</th>                                   <td>   -0.0182</td> <td>    0.046</td> <td>   -0.399</td> <td> 0.690</td> <td>   -0.107</td> <td>    0.071</td>\n",
       "</tr>\n",
       "<tr>\n",
       "  <th>Adult_smoking_raw_value</th>                                     <td>    0.0593</td> <td>    0.072</td> <td>    0.820</td> <td> 0.412</td> <td>   -0.083</td> <td>    0.201</td>\n",
       "</tr>\n",
       "<tr>\n",
       "  <th>Adult_obesity_raw_value</th>                                     <td>   -0.0275</td> <td>    0.044</td> <td>   -0.628</td> <td> 0.530</td> <td>   -0.113</td> <td>    0.058</td>\n",
       "</tr>\n",
       "<tr>\n",
       "  <th>Food_environment_index_raw_value</th>                            <td>   -0.7075</td> <td>    0.517</td> <td>   -1.368</td> <td> 0.172</td> <td>   -1.722</td> <td>    0.307</td>\n",
       "</tr>\n",
       "<tr>\n",
       "  <th>Physical_inactivity_raw_value</th>                               <td>   -0.0217</td> <td>    0.051</td> <td>   -0.425</td> <td> 0.671</td> <td>   -0.122</td> <td>    0.079</td>\n",
       "</tr>\n",
       "<tr>\n",
       "  <th>Access_to_exercise_opportunities_raw_value</th>                  <td>   -0.0189</td> <td>    0.039</td> <td>   -0.490</td> <td> 0.624</td> <td>   -0.095</td> <td>    0.057</td>\n",
       "</tr>\n",
       "<tr>\n",
       "  <th>Excessive_drinking_raw_value</th>                                <td>   -0.0515</td> <td>    0.050</td> <td>   -1.030</td> <td> 0.303</td> <td>   -0.150</td> <td>    0.047</td>\n",
       "</tr>\n",
       "<tr>\n",
       "  <th>Alcohol_impaired_driving_deaths_raw_value</th>                   <td>    0.0122</td> <td>    0.028</td> <td>    0.432</td> <td> 0.666</td> <td>   -0.043</td> <td>    0.068</td>\n",
       "</tr>\n",
       "<tr>\n",
       "  <th>Sexually_transmitted_infections_raw_value</th>                   <td>    0.0452</td> <td>    0.039</td> <td>    1.172</td> <td> 0.242</td> <td>   -0.031</td> <td>    0.121</td>\n",
       "</tr>\n",
       "<tr>\n",
       "  <th>Teen_births_raw_value</th>                                       <td>    0.0564</td> <td>    0.057</td> <td>    0.983</td> <td> 0.326</td> <td>   -0.056</td> <td>    0.169</td>\n",
       "</tr>\n",
       "<tr>\n",
       "  <th>Uninsured_raw_value</th>                                         <td>    2.1760</td> <td>    0.654</td> <td>    3.327</td> <td> 0.001</td> <td>    0.893</td> <td>    3.460</td>\n",
       "</tr>\n",
       "<tr>\n",
       "  <th>Primary_care_physicians_raw_value</th>                           <td>   -0.0680</td> <td>    0.041</td> <td>   -1.650</td> <td> 0.099</td> <td>   -0.149</td> <td>    0.013</td>\n",
       "</tr>\n",
       "<tr>\n",
       "  <th>Dentists_raw_value</th>                                          <td>    0.0222</td> <td>    0.037</td> <td>    0.607</td> <td> 0.544</td> <td>   -0.050</td> <td>    0.094</td>\n",
       "</tr>\n",
       "<tr>\n",
       "  <th>Mental_health_providers_raw_value</th>                           <td>   -0.0127</td> <td>    0.032</td> <td>   -0.401</td> <td> 0.689</td> <td>   -0.075</td> <td>    0.049</td>\n",
       "</tr>\n",
       "<tr>\n",
       "  <th>Preventable_hospital_stays_raw_value</th>                        <td>   -0.0045</td> <td>    0.034</td> <td>   -0.132</td> <td> 0.895</td> <td>   -0.071</td> <td>    0.062</td>\n",
       "</tr>\n",
       "<tr>\n",
       "  <th>Mammography_screening_raw_value</th>                             <td>   -0.0091</td> <td>    0.040</td> <td>   -0.231</td> <td> 0.817</td> <td>   -0.087</td> <td>    0.068</td>\n",
       "</tr>\n",
       "<tr>\n",
       "  <th>Flu_vaccinations_raw_value</th>                                  <td>    0.0003</td> <td>    0.036</td> <td>    0.008</td> <td> 0.994</td> <td>   -0.071</td> <td>    0.072</td>\n",
       "</tr>\n",
       "<tr>\n",
       "  <th>High_school_graduation_raw_value</th>                            <td>    0.0793</td> <td>    0.033</td> <td>    2.372</td> <td> 0.018</td> <td>    0.014</td> <td>    0.145</td>\n",
       "</tr>\n",
       "<tr>\n",
       "  <th>Some_college_raw_value</th>                                      <td>    0.0132</td> <td>    0.048</td> <td>    0.277</td> <td> 0.782</td> <td>   -0.080</td> <td>    0.107</td>\n",
       "</tr>\n",
       "<tr>\n",
       "  <th>Unemployment_raw_value</th>                                      <td>    0.0959</td> <td>    0.045</td> <td>    2.141</td> <td> 0.032</td> <td>    0.008</td> <td>    0.184</td>\n",
       "</tr>\n",
       "<tr>\n",
       "  <th>Children_in_poverty_raw_value</th>                               <td>   -0.0162</td> <td>    0.076</td> <td>   -0.214</td> <td> 0.831</td> <td>   -0.165</td> <td>    0.132</td>\n",
       "</tr>\n",
       "<tr>\n",
       "  <th>Income_inequality_raw_value</th>                                 <td>    0.1762</td> <td>    0.038</td> <td>    4.678</td> <td> 0.000</td> <td>    0.102</td> <td>    0.250</td>\n",
       "</tr>\n",
       "<tr>\n",
       "  <th>Children_in_single_parent_households_raw_value</th>              <td>    0.0305</td> <td>    0.049</td> <td>    0.623</td> <td> 0.533</td> <td>   -0.066</td> <td>    0.127</td>\n",
       "</tr>\n",
       "<tr>\n",
       "  <th>Social_associations_raw_value</th>                               <td>   -0.0595</td> <td>    0.037</td> <td>   -1.606</td> <td> 0.109</td> <td>   -0.132</td> <td>    0.013</td>\n",
       "</tr>\n",
       "<tr>\n",
       "  <th>Violent_crime_raw_value</th>                                     <td>   -0.0415</td> <td>    0.035</td> <td>   -1.171</td> <td> 0.242</td> <td>   -0.111</td> <td>    0.028</td>\n",
       "</tr>\n",
       "<tr>\n",
       "  <th>Injury_deaths_raw_value</th>                                     <td>   -0.1006</td> <td>    0.044</td> <td>   -2.305</td> <td> 0.021</td> <td>   -0.186</td> <td>   -0.015</td>\n",
       "</tr>\n",
       "<tr>\n",
       "  <th>Air_pollution___particulate_matter_raw_value</th>                <td>   -0.1479</td> <td>    0.045</td> <td>   -3.280</td> <td> 0.001</td> <td>   -0.236</td> <td>   -0.059</td>\n",
       "</tr>\n",
       "<tr>\n",
       "  <th>Severe_housing_problems_raw_value</th>                           <td>   -0.0083</td> <td>    0.059</td> <td>   -0.143</td> <td> 0.887</td> <td>   -0.123</td> <td>    0.106</td>\n",
       "</tr>\n",
       "<tr>\n",
       "  <th>Driving_alone_to_work_raw_value</th>                             <td>   -0.1700</td> <td>    0.038</td> <td>   -4.481</td> <td> 0.000</td> <td>   -0.244</td> <td>   -0.096</td>\n",
       "</tr>\n",
       "<tr>\n",
       "  <th>Long_commute___driving_alone_raw_value</th>                      <td>   -0.0249</td> <td>    0.042</td> <td>   -0.592</td> <td> 0.554</td> <td>   -0.107</td> <td>    0.058</td>\n",
       "</tr>\n",
       "<tr>\n",
       "  <th>Premature_age_adjusted_mortality_raw_value</th>                  <td>   -2.3866</td> <td>    0.122</td> <td>  -19.503</td> <td> 0.000</td> <td>   -2.627</td> <td>   -2.146</td>\n",
       "</tr>\n",
       "<tr>\n",
       "  <th>Frequent_physical_distress_raw_value</th>                        <td>    0.4312</td> <td>    0.383</td> <td>    1.126</td> <td> 0.261</td> <td>   -0.320</td> <td>    1.183</td>\n",
       "</tr>\n",
       "<tr>\n",
       "  <th>Frequent_mental_distress_raw_value</th>                          <td>   -0.0349</td> <td>    0.247</td> <td>   -0.141</td> <td> 0.888</td> <td>   -0.520</td> <td>    0.450</td>\n",
       "</tr>\n",
       "<tr>\n",
       "  <th>Diabetes_prevalence_raw_value</th>                               <td>    0.0923</td> <td>    0.059</td> <td>    1.575</td> <td> 0.116</td> <td>   -0.023</td> <td>    0.207</td>\n",
       "</tr>\n",
       "<tr>\n",
       "  <th>HIV_prevalence_raw_value</th>                                    <td>-1.393e-05</td> <td>    0.037</td> <td>   -0.000</td> <td> 1.000</td> <td>   -0.073</td> <td>    0.073</td>\n",
       "</tr>\n",
       "<tr>\n",
       "  <th>Food_insecurity_raw_value</th>                                   <td>   -0.5810</td> <td>    0.344</td> <td>   -1.690</td> <td> 0.091</td> <td>   -1.256</td> <td>    0.094</td>\n",
       "</tr>\n",
       "<tr>\n",
       "  <th>Limited_access_to_healthy_foods_raw_value</th>                   <td>   -0.2683</td> <td>    0.348</td> <td>   -0.770</td> <td> 0.441</td> <td>   -0.952</td> <td>    0.415</td>\n",
       "</tr>\n",
       "<tr>\n",
       "  <th>Motor_vehicle_crash_deaths_raw_value</th>                        <td>   -0.0500</td> <td>    0.040</td> <td>   -1.236</td> <td> 0.217</td> <td>   -0.129</td> <td>    0.029</td>\n",
       "</tr>\n",
       "<tr>\n",
       "  <th>Insufficient_sleep_raw_value</th>                                <td>   -0.1397</td> <td>    0.056</td> <td>   -2.493</td> <td> 0.013</td> <td>   -0.250</td> <td>   -0.030</td>\n",
       "</tr>\n",
       "<tr>\n",
       "  <th>Uninsured_adults_raw_value</th>                                  <td>   -2.0326</td> <td>    0.570</td> <td>   -3.564</td> <td> 0.000</td> <td>   -3.151</td> <td>   -0.914</td>\n",
       "</tr>\n",
       "<tr>\n",
       "  <th>Uninsured_children_raw_value</th>                                <td>   -0.3042</td> <td>    0.140</td> <td>   -2.175</td> <td> 0.030</td> <td>   -0.579</td> <td>   -0.030</td>\n",
       "</tr>\n",
       "<tr>\n",
       "  <th>Other_primary_care_providers_raw_value</th>                      <td>    0.0422</td> <td>    0.032</td> <td>    1.325</td> <td> 0.186</td> <td>   -0.020</td> <td>    0.105</td>\n",
       "</tr>\n",
       "<tr>\n",
       "  <th>Median_household_income_raw_value</th>                           <td>    0.2298</td> <td>    0.063</td> <td>    3.674</td> <td> 0.000</td> <td>    0.107</td> <td>    0.353</td>\n",
       "</tr>\n",
       "<tr>\n",
       "  <th>Children_eligible_for_free_or_reduced_price_lunch_raw_value</th> <td>    0.0911</td> <td>    0.055</td> <td>    1.656</td> <td> 0.098</td> <td>   -0.017</td> <td>    0.199</td>\n",
       "</tr>\n",
       "<tr>\n",
       "  <th>Residential_segregation___non_white/white_raw_value</th>         <td>   -0.0379</td> <td>    0.028</td> <td>   -1.344</td> <td> 0.179</td> <td>   -0.093</td> <td>    0.017</td>\n",
       "</tr>\n",
       "<tr>\n",
       "  <th>Homeownership_raw_value</th>                                     <td>   -0.0410</td> <td>    0.045</td> <td>   -0.908</td> <td> 0.364</td> <td>   -0.129</td> <td>    0.048</td>\n",
       "</tr>\n",
       "<tr>\n",
       "  <th>Severe_housing_cost_burden_raw_value</th>                        <td>   -0.1166</td> <td>    0.058</td> <td>   -1.995</td> <td> 0.046</td> <td>   -0.231</td> <td>   -0.002</td>\n",
       "</tr>\n",
       "<tr>\n",
       "  <th>Population_raw_value</th>                                        <td>    0.0229</td> <td>    0.032</td> <td>    0.706</td> <td> 0.480</td> <td>   -0.041</td> <td>    0.086</td>\n",
       "</tr>\n",
       "<tr>\n",
       "  <th>County_Ranked</th>                                               <td>    0.1329</td> <td>    0.035</td> <td>    3.806</td> <td> 0.000</td> <td>    0.064</td> <td>    0.201</td>\n",
       "</tr>\n",
       "<tr>\n",
       "  <th>Drinking_water_violations_raw_value</th>                         <td>    0.0158</td> <td>    0.028</td> <td>    0.559</td> <td> 0.576</td> <td>   -0.040</td> <td>    0.071</td>\n",
       "</tr>\n",
       "</table>\n",
       "<table class=\"simpletable\">\n",
       "<tr>\n",
       "  <th>Omnibus:</th>       <td>832.492</td> <th>  Durbin-Watson:     </th> <td>   2.023</td> \n",
       "</tr>\n",
       "<tr>\n",
       "  <th>Prob(Omnibus):</th> <td> 0.000</td>  <th>  Jarque-Bera (JB):  </th> <td>21199.858</td>\n",
       "</tr>\n",
       "<tr>\n",
       "  <th>Skew:</th>          <td> 3.076</td>  <th>  Prob(JB):          </th> <td>    0.00</td> \n",
       "</tr>\n",
       "<tr>\n",
       "  <th>Kurtosis:</th>      <td>23.230</td>  <th>  Cond. No.          </th> <td>    141.</td> \n",
       "</tr>\n",
       "</table><br/><br/>Warnings:<br/>[1] Standard Errors assume that the covariance matrix of the errors is correctly specified."
      ],
      "text/plain": [
       "<class 'statsmodels.iolib.summary.Summary'>\n",
       "\"\"\"\n",
       "                            OLS Regression Results                            \n",
       "==============================================================================\n",
       "Dep. Variable:        Life_Expectancy   R-squared:                       0.922\n",
       "Model:                            OLS   Adj. R-squared:                  0.918\n",
       "Method:                 Least Squares   F-statistic:                     235.9\n",
       "Date:                Tue, 14 Jan 2020   Prob (F-statistic):               0.00\n",
       "Time:                        17:19:51   Log-Likelihood:                -1430.3\n",
       "No. Observations:                1138   AIC:                             2971.\n",
       "Df Residuals:                    1083   BIC:                             3248.\n",
       "Df Model:                          54                                         \n",
       "Covariance Type:            nonrobust                                         \n",
       "===============================================================================================================================\n",
       "                                                                  coef    std err          t      P>|t|      [0.025      0.975]\n",
       "-------------------------------------------------------------------------------------------------------------------------------\n",
       "const                                                          77.3887      0.026   2975.538      0.000      77.338      77.440\n",
       "Premature_death_raw_value                                      -0.4079      0.114     -3.576      0.000      -0.632      -0.184\n",
       "Poor_or_fair_health_raw_value                                   0.2454      0.121      2.023      0.043       0.007       0.483\n",
       "Poor_physical_health_days_raw_value                            -0.4889      0.298     -1.643      0.101      -1.073       0.095\n",
       "Poor_mental_health_days_raw_value                               0.0090      0.183      0.049      0.961      -0.350       0.368\n",
       "Low_birthweight_raw_value                                      -0.0182      0.046     -0.399      0.690      -0.107       0.071\n",
       "Adult_smoking_raw_value                                         0.0593      0.072      0.820      0.412      -0.083       0.201\n",
       "Adult_obesity_raw_value                                        -0.0275      0.044     -0.628      0.530      -0.113       0.058\n",
       "Food_environment_index_raw_value                               -0.7075      0.517     -1.368      0.172      -1.722       0.307\n",
       "Physical_inactivity_raw_value                                  -0.0217      0.051     -0.425      0.671      -0.122       0.079\n",
       "Access_to_exercise_opportunities_raw_value                     -0.0189      0.039     -0.490      0.624      -0.095       0.057\n",
       "Excessive_drinking_raw_value                                   -0.0515      0.050     -1.030      0.303      -0.150       0.047\n",
       "Alcohol_impaired_driving_deaths_raw_value                       0.0122      0.028      0.432      0.666      -0.043       0.068\n",
       "Sexually_transmitted_infections_raw_value                       0.0452      0.039      1.172      0.242      -0.031       0.121\n",
       "Teen_births_raw_value                                           0.0564      0.057      0.983      0.326      -0.056       0.169\n",
       "Uninsured_raw_value                                             2.1760      0.654      3.327      0.001       0.893       3.460\n",
       "Primary_care_physicians_raw_value                              -0.0680      0.041     -1.650      0.099      -0.149       0.013\n",
       "Dentists_raw_value                                              0.0222      0.037      0.607      0.544      -0.050       0.094\n",
       "Mental_health_providers_raw_value                              -0.0127      0.032     -0.401      0.689      -0.075       0.049\n",
       "Preventable_hospital_stays_raw_value                           -0.0045      0.034     -0.132      0.895      -0.071       0.062\n",
       "Mammography_screening_raw_value                                -0.0091      0.040     -0.231      0.817      -0.087       0.068\n",
       "Flu_vaccinations_raw_value                                      0.0003      0.036      0.008      0.994      -0.071       0.072\n",
       "High_school_graduation_raw_value                                0.0793      0.033      2.372      0.018       0.014       0.145\n",
       "Some_college_raw_value                                          0.0132      0.048      0.277      0.782      -0.080       0.107\n",
       "Unemployment_raw_value                                          0.0959      0.045      2.141      0.032       0.008       0.184\n",
       "Children_in_poverty_raw_value                                  -0.0162      0.076     -0.214      0.831      -0.165       0.132\n",
       "Income_inequality_raw_value                                     0.1762      0.038      4.678      0.000       0.102       0.250\n",
       "Children_in_single_parent_households_raw_value                  0.0305      0.049      0.623      0.533      -0.066       0.127\n",
       "Social_associations_raw_value                                  -0.0595      0.037     -1.606      0.109      -0.132       0.013\n",
       "Violent_crime_raw_value                                        -0.0415      0.035     -1.171      0.242      -0.111       0.028\n",
       "Injury_deaths_raw_value                                        -0.1006      0.044     -2.305      0.021      -0.186      -0.015\n",
       "Air_pollution___particulate_matter_raw_value                   -0.1479      0.045     -3.280      0.001      -0.236      -0.059\n",
       "Severe_housing_problems_raw_value                              -0.0083      0.059     -0.143      0.887      -0.123       0.106\n",
       "Driving_alone_to_work_raw_value                                -0.1700      0.038     -4.481      0.000      -0.244      -0.096\n",
       "Long_commute___driving_alone_raw_value                         -0.0249      0.042     -0.592      0.554      -0.107       0.058\n",
       "Premature_age_adjusted_mortality_raw_value                     -2.3866      0.122    -19.503      0.000      -2.627      -2.146\n",
       "Frequent_physical_distress_raw_value                            0.4312      0.383      1.126      0.261      -0.320       1.183\n",
       "Frequent_mental_distress_raw_value                             -0.0349      0.247     -0.141      0.888      -0.520       0.450\n",
       "Diabetes_prevalence_raw_value                                   0.0923      0.059      1.575      0.116      -0.023       0.207\n",
       "HIV_prevalence_raw_value                                    -1.393e-05      0.037     -0.000      1.000      -0.073       0.073\n",
       "Food_insecurity_raw_value                                      -0.5810      0.344     -1.690      0.091      -1.256       0.094\n",
       "Limited_access_to_healthy_foods_raw_value                      -0.2683      0.348     -0.770      0.441      -0.952       0.415\n",
       "Motor_vehicle_crash_deaths_raw_value                           -0.0500      0.040     -1.236      0.217      -0.129       0.029\n",
       "Insufficient_sleep_raw_value                                   -0.1397      0.056     -2.493      0.013      -0.250      -0.030\n",
       "Uninsured_adults_raw_value                                     -2.0326      0.570     -3.564      0.000      -3.151      -0.914\n",
       "Uninsured_children_raw_value                                   -0.3042      0.140     -2.175      0.030      -0.579      -0.030\n",
       "Other_primary_care_providers_raw_value                          0.0422      0.032      1.325      0.186      -0.020       0.105\n",
       "Median_household_income_raw_value                               0.2298      0.063      3.674      0.000       0.107       0.353\n",
       "Children_eligible_for_free_or_reduced_price_lunch_raw_value     0.0911      0.055      1.656      0.098      -0.017       0.199\n",
       "Residential_segregation___non_white/white_raw_value            -0.0379      0.028     -1.344      0.179      -0.093       0.017\n",
       "Homeownership_raw_value                                        -0.0410      0.045     -0.908      0.364      -0.129       0.048\n",
       "Severe_housing_cost_burden_raw_value                           -0.1166      0.058     -1.995      0.046      -0.231      -0.002\n",
       "Population_raw_value                                            0.0229      0.032      0.706      0.480      -0.041       0.086\n",
       "County_Ranked                                                   0.1329      0.035      3.806      0.000       0.064       0.201\n",
       "Drinking_water_violations_raw_value                             0.0158      0.028      0.559      0.576      -0.040       0.071\n",
       "==============================================================================\n",
       "Omnibus:                      832.492   Durbin-Watson:                   2.023\n",
       "Prob(Omnibus):                  0.000   Jarque-Bera (JB):            21199.858\n",
       "Skew:                           3.076   Prob(JB):                         0.00\n",
       "Kurtosis:                      23.230   Cond. No.                         141.\n",
       "==============================================================================\n",
       "\n",
       "Warnings:\n",
       "[1] Standard Errors assume that the covariance matrix of the errors is correctly specified.\n",
       "\"\"\""
      ]
     },
     "execution_count": 13,
     "metadata": {},
     "output_type": "execute_result"
    }
   ],
   "source": [
    "X_const_train = sm.add_constant(X_train)\n",
    "\n",
    "model = sm.OLS(y_train, X_const_train).fit()\n",
    "model.summary()"
   ]
  },
  {
   "cell_type": "markdown",
   "metadata": {},
   "source": [
    "<b>Observations</b>\n",
    "\n",
    "- High R^2 value\n",
    "- High AIC & BIC Values as lots of features"
   ]
  },
  {
   "cell_type": "code",
   "execution_count": 50,
   "metadata": {
    "scrolled": false
   },
   "outputs": [
    {
     "data": {
      "image/png": "[encoded data removed]",
      "text/plain": [
       "<Figure size 432x288 with 1 Axes>"
      ]
     },
     "metadata": {},
     "output_type": "display_data"
    }
   ],
   "source": [
    "model_qqplot = sm.graphics.qqplot(model.resid, dist=stats.norm, line='45', fit=True)"
   ]
  },
  {
   "cell_type": "code",
   "execution_count": 17,
   "metadata": {},
   "outputs": [
    {
     "data": {
      "text/html": [
       "<table class=\"simpletable\">\n",
       "<caption>OLS Regression Results</caption>\n",
       "<tr>\n",
       "  <th>Dep. Variable:</th>     <td>Life_Expectancy</td> <th>  R-squared:         </th> <td>   0.950</td>\n",
       "</tr>\n",
       "<tr>\n",
       "  <th>Model:</th>                   <td>OLS</td>       <th>  Adj. R-squared:    </th> <td>   0.947</td>\n",
       "</tr>\n",
       "<tr>\n",
       "  <th>Method:</th>             <td>Least Squares</td>  <th>  F-statistic:       </th> <td>   273.9</td>\n",
       "</tr>\n",
       "<tr>\n",
       "  <th>Date:</th>             <td>Tue, 14 Jan 2020</td> <th>  Prob (F-statistic):</th>  <td>  0.00</td> \n",
       "</tr>\n",
       "<tr>\n",
       "  <th>Time:</th>                 <td>17:22:11</td>     <th>  Log-Likelihood:    </th> <td> -609.18</td>\n",
       "</tr>\n",
       "<tr>\n",
       "  <th>No. Observations:</th>      <td>   829</td>      <th>  AIC:               </th> <td>   1328.</td>\n",
       "</tr>\n",
       "<tr>\n",
       "  <th>Df Residuals:</th>          <td>   774</td>      <th>  BIC:               </th> <td>   1588.</td>\n",
       "</tr>\n",
       "<tr>\n",
       "  <th>Df Model:</th>              <td>    54</td>      <th>                     </th>     <td> </td>   \n",
       "</tr>\n",
       "<tr>\n",
       "  <th>Covariance Type:</th>      <td>nonrobust</td>    <th>                     </th>     <td> </td>   \n",
       "</tr>\n",
       "</table>\n",
       "<table class=\"simpletable\">\n",
       "<tr>\n",
       "                               <td></td>                                  <th>coef</th>     <th>std err</th>      <th>t</th>      <th>P>|t|</th>  <th>[0.025</th>    <th>0.975]</th>  \n",
       "</tr>\n",
       "<tr>\n",
       "  <th>const</th>                                                       <td>   77.1076</td> <td>    0.022</td> <td> 3438.471</td> <td> 0.000</td> <td>   77.064</td> <td>   77.152</td>\n",
       "</tr>\n",
       "<tr>\n",
       "  <th>Premature_death_raw_value</th>                                   <td>   -0.6087</td> <td>    0.080</td> <td>   -7.598</td> <td> 0.000</td> <td>   -0.766</td> <td>   -0.451</td>\n",
       "</tr>\n",
       "<tr>\n",
       "  <th>Poor_or_fair_health_raw_value</th>                               <td>    0.1184</td> <td>    0.085</td> <td>    1.386</td> <td> 0.166</td> <td>   -0.049</td> <td>    0.286</td>\n",
       "</tr>\n",
       "<tr>\n",
       "  <th>Poor_physical_health_days_raw_value</th>                         <td>   -0.3107</td> <td>    0.216</td> <td>   -1.439</td> <td> 0.150</td> <td>   -0.734</td> <td>    0.113</td>\n",
       "</tr>\n",
       "<tr>\n",
       "  <th>Poor_mental_health_days_raw_value</th>                           <td>    0.0284</td> <td>    0.134</td> <td>    0.213</td> <td> 0.831</td> <td>   -0.234</td> <td>    0.291</td>\n",
       "</tr>\n",
       "<tr>\n",
       "  <th>Low_birthweight_raw_value</th>                                   <td>   -0.0214</td> <td>    0.032</td> <td>   -0.668</td> <td> 0.504</td> <td>   -0.084</td> <td>    0.041</td>\n",
       "</tr>\n",
       "<tr>\n",
       "  <th>Adult_smoking_raw_value</th>                                     <td>    0.1062</td> <td>    0.053</td> <td>    2.011</td> <td> 0.045</td> <td>    0.003</td> <td>    0.210</td>\n",
       "</tr>\n",
       "<tr>\n",
       "  <th>Adult_obesity_raw_value</th>                                     <td>   -0.0265</td> <td>    0.031</td> <td>   -0.867</td> <td> 0.386</td> <td>   -0.087</td> <td>    0.034</td>\n",
       "</tr>\n",
       "<tr>\n",
       "  <th>Food_environment_index_raw_value</th>                            <td>   -0.5952</td> <td>    0.322</td> <td>   -1.850</td> <td> 0.065</td> <td>   -1.227</td> <td>    0.036</td>\n",
       "</tr>\n",
       "<tr>\n",
       "  <th>Physical_inactivity_raw_value</th>                               <td>   -0.0662</td> <td>    0.036</td> <td>   -1.841</td> <td> 0.066</td> <td>   -0.137</td> <td>    0.004</td>\n",
       "</tr>\n",
       "<tr>\n",
       "  <th>Access_to_exercise_opportunities_raw_value</th>                  <td>   -0.0445</td> <td>    0.026</td> <td>   -1.717</td> <td> 0.086</td> <td>   -0.095</td> <td>    0.006</td>\n",
       "</tr>\n",
       "<tr>\n",
       "  <th>Excessive_drinking_raw_value</th>                                <td>    0.0533</td> <td>    0.040</td> <td>    1.348</td> <td> 0.178</td> <td>   -0.024</td> <td>    0.131</td>\n",
       "</tr>\n",
       "<tr>\n",
       "  <th>Alcohol_impaired_driving_deaths_raw_value</th>                   <td>    0.0201</td> <td>    0.021</td> <td>    0.966</td> <td> 0.334</td> <td>   -0.021</td> <td>    0.061</td>\n",
       "</tr>\n",
       "<tr>\n",
       "  <th>Sexually_transmitted_infections_raw_value</th>                   <td>   -0.0008</td> <td>    0.025</td> <td>   -0.033</td> <td> 0.973</td> <td>   -0.050</td> <td>    0.049</td>\n",
       "</tr>\n",
       "<tr>\n",
       "  <th>Teen_births_raw_value</th>                                       <td>   -0.0578</td> <td>    0.039</td> <td>   -1.491</td> <td> 0.136</td> <td>   -0.134</td> <td>    0.018</td>\n",
       "</tr>\n",
       "<tr>\n",
       "  <th>Uninsured_raw_value</th>                                         <td>    1.3615</td> <td>    0.459</td> <td>    2.965</td> <td> 0.003</td> <td>    0.460</td> <td>    2.263</td>\n",
       "</tr>\n",
       "<tr>\n",
       "  <th>Primary_care_physicians_raw_value</th>                           <td>   -0.0493</td> <td>    0.032</td> <td>   -1.531</td> <td> 0.126</td> <td>   -0.112</td> <td>    0.014</td>\n",
       "</tr>\n",
       "<tr>\n",
       "  <th>Dentists_raw_value</th>                                          <td>    0.0035</td> <td>    0.028</td> <td>    0.125</td> <td> 0.901</td> <td>   -0.052</td> <td>    0.059</td>\n",
       "</tr>\n",
       "<tr>\n",
       "  <th>Mental_health_providers_raw_value</th>                           <td>    0.0163</td> <td>    0.021</td> <td>    0.785</td> <td> 0.433</td> <td>   -0.025</td> <td>    0.057</td>\n",
       "</tr>\n",
       "<tr>\n",
       "  <th>Preventable_hospital_stays_raw_value</th>                        <td>   -0.0612</td> <td>    0.024</td> <td>   -2.592</td> <td> 0.010</td> <td>   -0.108</td> <td>   -0.015</td>\n",
       "</tr>\n",
       "<tr>\n",
       "  <th>Mammography_screening_raw_value</th>                             <td>    0.0046</td> <td>    0.028</td> <td>    0.163</td> <td> 0.871</td> <td>   -0.051</td> <td>    0.060</td>\n",
       "</tr>\n",
       "<tr>\n",
       "  <th>Flu_vaccinations_raw_value</th>                                  <td>    0.0017</td> <td>    0.026</td> <td>    0.066</td> <td> 0.948</td> <td>   -0.050</td> <td>    0.053</td>\n",
       "</tr>\n",
       "<tr>\n",
       "  <th>High_school_graduation_raw_value</th>                            <td>   -0.0105</td> <td>    0.023</td> <td>   -0.461</td> <td> 0.645</td> <td>   -0.055</td> <td>    0.034</td>\n",
       "</tr>\n",
       "<tr>\n",
       "  <th>Some_college_raw_value</th>                                      <td>    0.0717</td> <td>    0.035</td> <td>    2.036</td> <td> 0.042</td> <td>    0.003</td> <td>    0.141</td>\n",
       "</tr>\n",
       "<tr>\n",
       "  <th>Unemployment_raw_value</th>                                      <td>    0.0430</td> <td>    0.031</td> <td>    1.384</td> <td> 0.167</td> <td>   -0.018</td> <td>    0.104</td>\n",
       "</tr>\n",
       "<tr>\n",
       "  <th>Children_in_poverty_raw_value</th>                               <td>    0.0611</td> <td>    0.054</td> <td>    1.133</td> <td> 0.258</td> <td>   -0.045</td> <td>    0.167</td>\n",
       "</tr>\n",
       "<tr>\n",
       "  <th>Income_inequality_raw_value</th>                                 <td>    0.0890</td> <td>    0.028</td> <td>    3.149</td> <td> 0.002</td> <td>    0.034</td> <td>    0.144</td>\n",
       "</tr>\n",
       "<tr>\n",
       "  <th>Children_in_single_parent_households_raw_value</th>              <td>   -0.0130</td> <td>    0.034</td> <td>   -0.381</td> <td> 0.704</td> <td>   -0.080</td> <td>    0.054</td>\n",
       "</tr>\n",
       "<tr>\n",
       "  <th>Social_associations_raw_value</th>                               <td>   -0.0818</td> <td>    0.027</td> <td>   -2.997</td> <td> 0.003</td> <td>   -0.135</td> <td>   -0.028</td>\n",
       "</tr>\n",
       "<tr>\n",
       "  <th>Violent_crime_raw_value</th>                                     <td>    0.0064</td> <td>    0.024</td> <td>    0.273</td> <td> 0.785</td> <td>   -0.040</td> <td>    0.053</td>\n",
       "</tr>\n",
       "<tr>\n",
       "  <th>Injury_deaths_raw_value</th>                                     <td>   -0.0011</td> <td>    0.030</td> <td>   -0.035</td> <td> 0.972</td> <td>   -0.061</td> <td>    0.059</td>\n",
       "</tr>\n",
       "<tr>\n",
       "  <th>Air_pollution___particulate_matter_raw_value</th>                <td>   -0.1041</td> <td>    0.033</td> <td>   -3.108</td> <td> 0.002</td> <td>   -0.170</td> <td>   -0.038</td>\n",
       "</tr>\n",
       "<tr>\n",
       "  <th>Severe_housing_problems_raw_value</th>                           <td>   -0.0113</td> <td>    0.041</td> <td>   -0.276</td> <td> 0.782</td> <td>   -0.091</td> <td>    0.069</td>\n",
       "</tr>\n",
       "<tr>\n",
       "  <th>Driving_alone_to_work_raw_value</th>                             <td>   -0.0035</td> <td>    0.031</td> <td>   -0.114</td> <td> 0.909</td> <td>   -0.064</td> <td>    0.057</td>\n",
       "</tr>\n",
       "<tr>\n",
       "  <th>Long_commute___driving_alone_raw_value</th>                      <td>    0.0090</td> <td>    0.031</td> <td>    0.295</td> <td> 0.768</td> <td>   -0.051</td> <td>    0.069</td>\n",
       "</tr>\n",
       "<tr>\n",
       "  <th>Premature_age_adjusted_mortality_raw_value</th>                  <td>   -1.8230</td> <td>    0.085</td> <td>  -21.362</td> <td> 0.000</td> <td>   -1.990</td> <td>   -1.655</td>\n",
       "</tr>\n",
       "<tr>\n",
       "  <th>Frequent_physical_distress_raw_value</th>                        <td>    0.3639</td> <td>    0.273</td> <td>    1.333</td> <td> 0.183</td> <td>   -0.172</td> <td>    0.900</td>\n",
       "</tr>\n",
       "<tr>\n",
       "  <th>Frequent_mental_distress_raw_value</th>                          <td>   -0.1658</td> <td>    0.176</td> <td>   -0.944</td> <td> 0.346</td> <td>   -0.511</td> <td>    0.179</td>\n",
       "</tr>\n",
       "<tr>\n",
       "  <th>Diabetes_prevalence_raw_value</th>                               <td>    0.0666</td> <td>    0.040</td> <td>    1.657</td> <td> 0.098</td> <td>   -0.012</td> <td>    0.145</td>\n",
       "</tr>\n",
       "<tr>\n",
       "  <th>HIV_prevalence_raw_value</th>                                    <td>    0.0099</td> <td>    0.027</td> <td>    0.369</td> <td> 0.712</td> <td>   -0.043</td> <td>    0.062</td>\n",
       "</tr>\n",
       "<tr>\n",
       "  <th>Food_insecurity_raw_value</th>                                   <td>   -0.4149</td> <td>    0.215</td> <td>   -1.930</td> <td> 0.054</td> <td>   -0.837</td> <td>    0.007</td>\n",
       "</tr>\n",
       "<tr>\n",
       "  <th>Limited_access_to_healthy_foods_raw_value</th>                   <td>   -0.3306</td> <td>    0.217</td> <td>   -1.523</td> <td> 0.128</td> <td>   -0.757</td> <td>    0.095</td>\n",
       "</tr>\n",
       "<tr>\n",
       "  <th>Motor_vehicle_crash_deaths_raw_value</th>                        <td>   -0.0563</td> <td>    0.027</td> <td>   -2.096</td> <td> 0.036</td> <td>   -0.109</td> <td>   -0.004</td>\n",
       "</tr>\n",
       "<tr>\n",
       "  <th>Insufficient_sleep_raw_value</th>                                <td>   -0.0843</td> <td>    0.042</td> <td>   -1.998</td> <td> 0.046</td> <td>   -0.167</td> <td>   -0.001</td>\n",
       "</tr>\n",
       "<tr>\n",
       "  <th>Uninsured_adults_raw_value</th>                                  <td>   -1.2491</td> <td>    0.399</td> <td>   -3.128</td> <td> 0.002</td> <td>   -2.033</td> <td>   -0.465</td>\n",
       "</tr>\n",
       "<tr>\n",
       "  <th>Uninsured_children_raw_value</th>                                <td>   -0.1340</td> <td>    0.101</td> <td>   -1.330</td> <td> 0.184</td> <td>   -0.332</td> <td>    0.064</td>\n",
       "</tr>\n",
       "<tr>\n",
       "  <th>Other_primary_care_providers_raw_value</th>                      <td>    0.0258</td> <td>    0.023</td> <td>    1.140</td> <td> 0.255</td> <td>   -0.019</td> <td>    0.070</td>\n",
       "</tr>\n",
       "<tr>\n",
       "  <th>Median_household_income_raw_value</th>                           <td>    0.1096</td> <td>    0.061</td> <td>    1.794</td> <td> 0.073</td> <td>   -0.010</td> <td>    0.229</td>\n",
       "</tr>\n",
       "<tr>\n",
       "  <th>Children_eligible_for_free_or_reduced_price_lunch_raw_value</th> <td>    0.1028</td> <td>    0.037</td> <td>    2.766</td> <td> 0.006</td> <td>    0.030</td> <td>    0.176</td>\n",
       "</tr>\n",
       "<tr>\n",
       "  <th>Residential_segregation___non_white/white_raw_value</th>         <td>   -0.0055</td> <td>    0.019</td> <td>   -0.285</td> <td> 0.776</td> <td>   -0.043</td> <td>    0.032</td>\n",
       "</tr>\n",
       "<tr>\n",
       "  <th>Homeownership_raw_value</th>                                     <td>    0.0030</td> <td>    0.032</td> <td>    0.095</td> <td> 0.925</td> <td>   -0.060</td> <td>    0.066</td>\n",
       "</tr>\n",
       "<tr>\n",
       "  <th>Severe_housing_cost_burden_raw_value</th>                        <td>   -0.1177</td> <td>    0.041</td> <td>   -2.899</td> <td> 0.004</td> <td>   -0.197</td> <td>   -0.038</td>\n",
       "</tr>\n",
       "<tr>\n",
       "  <th>Population_raw_value</th>                                        <td>    0.1053</td> <td>    0.041</td> <td>    2.563</td> <td> 0.011</td> <td>    0.025</td> <td>    0.186</td>\n",
       "</tr>\n",
       "<tr>\n",
       "  <th>County_Ranked</th>                                               <td>    0.0672</td> <td>    0.025</td> <td>    2.669</td> <td> 0.008</td> <td>    0.018</td> <td>    0.117</td>\n",
       "</tr>\n",
       "<tr>\n",
       "  <th>Drinking_water_violations_raw_value</th>                         <td>    0.0263</td> <td>    0.020</td> <td>    1.321</td> <td> 0.187</td> <td>   -0.013</td> <td>    0.065</td>\n",
       "</tr>\n",
       "</table>\n",
       "<table class=\"simpletable\">\n",
       "<tr>\n",
       "  <th>Omnibus:</th>       <td>241.206</td> <th>  Durbin-Watson:     </th> <td>   1.985</td>\n",
       "</tr>\n",
       "<tr>\n",
       "  <th>Prob(Omnibus):</th> <td> 0.000</td>  <th>  Jarque-Bera (JB):  </th> <td>3041.647</td>\n",
       "</tr>\n",
       "<tr>\n",
       "  <th>Skew:</th>          <td> 0.944</td>  <th>  Prob(JB):          </th> <td>    0.00</td>\n",
       "</tr>\n",
       "<tr>\n",
       "  <th>Kurtosis:</th>      <td>12.192</td>  <th>  Cond. No.          </th> <td>    133.</td>\n",
       "</tr>\n",
       "</table><br/><br/>Warnings:<br/>[1] Standard Errors assume that the covariance matrix of the errors is correctly specified."
      ],
      "text/plain": [
       "<class 'statsmodels.iolib.summary.Summary'>\n",
       "\"\"\"\n",
       "                            OLS Regression Results                            \n",
       "==============================================================================\n",
       "Dep. Variable:        Life_Expectancy   R-squared:                       0.950\n",
       "Model:                            OLS   Adj. R-squared:                  0.947\n",
       "Method:                 Least Squares   F-statistic:                     273.9\n",
       "Date:                Tue, 14 Jan 2020   Prob (F-statistic):               0.00\n",
       "Time:                        17:22:11   Log-Likelihood:                -609.18\n",
       "No. Observations:                 829   AIC:                             1328.\n",
       "Df Residuals:                     774   BIC:                             1588.\n",
       "Df Model:                          54                                         \n",
       "Covariance Type:            nonrobust                                         \n",
       "===============================================================================================================================\n",
       "                                                                  coef    std err          t      P>|t|      [0.025      0.975]\n",
       "-------------------------------------------------------------------------------------------------------------------------------\n",
       "const                                                          77.1076      0.022   3438.471      0.000      77.064      77.152\n",
       "Premature_death_raw_value                                      -0.6087      0.080     -7.598      0.000      -0.766      -0.451\n",
       "Poor_or_fair_health_raw_value                                   0.1184      0.085      1.386      0.166      -0.049       0.286\n",
       "Poor_physical_health_days_raw_value                            -0.3107      0.216     -1.439      0.150      -0.734       0.113\n",
       "Poor_mental_health_days_raw_value                               0.0284      0.134      0.213      0.831      -0.234       0.291\n",
       "Low_birthweight_raw_value                                      -0.0214      0.032     -0.668      0.504      -0.084       0.041\n",
       "Adult_smoking_raw_value                                         0.1062      0.053      2.011      0.045       0.003       0.210\n",
       "Adult_obesity_raw_value                                        -0.0265      0.031     -0.867      0.386      -0.087       0.034\n",
       "Food_environment_index_raw_value                               -0.5952      0.322     -1.850      0.065      -1.227       0.036\n",
       "Physical_inactivity_raw_value                                  -0.0662      0.036     -1.841      0.066      -0.137       0.004\n",
       "Access_to_exercise_opportunities_raw_value                     -0.0445      0.026     -1.717      0.086      -0.095       0.006\n",
       "Excessive_drinking_raw_value                                    0.0533      0.040      1.348      0.178      -0.024       0.131\n",
       "Alcohol_impaired_driving_deaths_raw_value                       0.0201      0.021      0.966      0.334      -0.021       0.061\n",
       "Sexually_transmitted_infections_raw_value                      -0.0008      0.025     -0.033      0.973      -0.050       0.049\n",
       "Teen_births_raw_value                                          -0.0578      0.039     -1.491      0.136      -0.134       0.018\n",
       "Uninsured_raw_value                                             1.3615      0.459      2.965      0.003       0.460       2.263\n",
       "Primary_care_physicians_raw_value                              -0.0493      0.032     -1.531      0.126      -0.112       0.014\n",
       "Dentists_raw_value                                              0.0035      0.028      0.125      0.901      -0.052       0.059\n",
       "Mental_health_providers_raw_value                               0.0163      0.021      0.785      0.433      -0.025       0.057\n",
       "Preventable_hospital_stays_raw_value                           -0.0612      0.024     -2.592      0.010      -0.108      -0.015\n",
       "Mammography_screening_raw_value                                 0.0046      0.028      0.163      0.871      -0.051       0.060\n",
       "Flu_vaccinations_raw_value                                      0.0017      0.026      0.066      0.948      -0.050       0.053\n",
       "High_school_graduation_raw_value                               -0.0105      0.023     -0.461      0.645      -0.055       0.034\n",
       "Some_college_raw_value                                          0.0717      0.035      2.036      0.042       0.003       0.141\n",
       "Unemployment_raw_value                                          0.0430      0.031      1.384      0.167      -0.018       0.104\n",
       "Children_in_poverty_raw_value                                   0.0611      0.054      1.133      0.258      -0.045       0.167\n",
       "Income_inequality_raw_value                                     0.0890      0.028      3.149      0.002       0.034       0.144\n",
       "Children_in_single_parent_households_raw_value                 -0.0130      0.034     -0.381      0.704      -0.080       0.054\n",
       "Social_associations_raw_value                                  -0.0818      0.027     -2.997      0.003      -0.135      -0.028\n",
       "Violent_crime_raw_value                                         0.0064      0.024      0.273      0.785      -0.040       0.053\n",
       "Injury_deaths_raw_value                                        -0.0011      0.030     -0.035      0.972      -0.061       0.059\n",
       "Air_pollution___particulate_matter_raw_value                   -0.1041      0.033     -3.108      0.002      -0.170      -0.038\n",
       "Severe_housing_problems_raw_value                              -0.0113      0.041     -0.276      0.782      -0.091       0.069\n",
       "Driving_alone_to_work_raw_value                                -0.0035      0.031     -0.114      0.909      -0.064       0.057\n",
       "Long_commute___driving_alone_raw_value                          0.0090      0.031      0.295      0.768      -0.051       0.069\n",
       "Premature_age_adjusted_mortality_raw_value                     -1.8230      0.085    -21.362      0.000      -1.990      -1.655\n",
       "Frequent_physical_distress_raw_value                            0.3639      0.273      1.333      0.183      -0.172       0.900\n",
       "Frequent_mental_distress_raw_value                             -0.1658      0.176     -0.944      0.346      -0.511       0.179\n",
       "Diabetes_prevalence_raw_value                                   0.0666      0.040      1.657      0.098      -0.012       0.145\n",
       "HIV_prevalence_raw_value                                        0.0099      0.027      0.369      0.712      -0.043       0.062\n",
       "Food_insecurity_raw_value                                      -0.4149      0.215     -1.930      0.054      -0.837       0.007\n",
       "Limited_access_to_healthy_foods_raw_value                      -0.3306      0.217     -1.523      0.128      -0.757       0.095\n",
       "Motor_vehicle_crash_deaths_raw_value                           -0.0563      0.027     -2.096      0.036      -0.109      -0.004\n",
       "Insufficient_sleep_raw_value                                   -0.0843      0.042     -1.998      0.046      -0.167      -0.001\n",
       "Uninsured_adults_raw_value                                     -1.2491      0.399     -3.128      0.002      -2.033      -0.465\n",
       "Uninsured_children_raw_value                                   -0.1340      0.101     -1.330      0.184      -0.332       0.064\n",
       "Other_primary_care_providers_raw_value                          0.0258      0.023      1.140      0.255      -0.019       0.070\n",
       "Median_household_income_raw_value                               0.1096      0.061      1.794      0.073      -0.010       0.229\n",
       "Children_eligible_for_free_or_reduced_price_lunch_raw_value     0.1028      0.037      2.766      0.006       0.030       0.176\n",
       "Residential_segregation___non_white/white_raw_value            -0.0055      0.019     -0.285      0.776      -0.043       0.032\n",
       "Homeownership_raw_value                                         0.0030      0.032      0.095      0.925      -0.060       0.066\n",
       "Severe_housing_cost_burden_raw_value                           -0.1177      0.041     -2.899      0.004      -0.197      -0.038\n",
       "Population_raw_value                                            0.1053      0.041      2.563      0.011       0.025       0.186\n",
       "County_Ranked                                                   0.0672      0.025      2.669      0.008       0.018       0.117\n",
       "Drinking_water_violations_raw_value                             0.0263      0.020      1.321      0.187      -0.013       0.065\n",
       "==============================================================================\n",
       "Omnibus:                      241.206   Durbin-Watson:                   1.985\n",
       "Prob(Omnibus):                  0.000   Jarque-Bera (JB):             3041.647\n",
       "Skew:                           0.944   Prob(JB):                         0.00\n",
       "Kurtosis:                      12.192   Cond. No.                         133.\n",
       "==============================================================================\n",
       "\n",
       "Warnings:\n",
       "[1] Standard Errors assume that the covariance matrix of the errors is correctly specified.\n",
       "\"\"\""
      ]
     },
     "execution_count": 17,
     "metadata": {},
     "output_type": "execute_result"
    }
   ],
   "source": [
    "q=0.9\n",
    "\n",
    "# Set the index to q range\n",
    "drop_index_train=y_train[y_train > y_train.quantile(q)].index\n",
    "drop_index_test=y_test[y_test > y_test.quantile(q)].index\n",
    "\n",
    "# Apply to Train\n",
    "X_train = X_train.drop(index = drop_index_train)\n",
    "y_train = y_train[y_train <= y_train.quantile(q)]\n",
    "\n",
    "# Apply to Test\n",
    "X_test = X_test.drop(index = drop_index_test)\n",
    "y_test = y_test[y_test <= y_test.quantile(q)]\n",
    "\n",
    "# Stats OLS Model\n",
    "X_const_train = sm.add_constant(X_train)\n",
    "model_qq = sm.OLS(y_train, X_const_train).fit()\n",
    "model_qq.summary()\n",
    "\n"
   ]
  },
  {
   "cell_type": "markdown",
   "metadata": {},
   "source": [
    "<b>Old</b>\n",
    "\n",
    "Skew:\t3.076\t\n",
    "Kurtosis:\t23.230\n",
    "\n",
    "<b>New</b>\n",
    "\n",
    "Skew:\t1.238\t\n",
    "Kurtosis:\t11.732\t"
   ]
  },
  {
   "cell_type": "code",
   "execution_count": 18,
   "metadata": {},
   "outputs": [
    {
     "data": {
      "image/png": "[encoded data removed]",
      "text/plain": [
       "<Figure size 432x288 with 1 Axes>"
      ]
     },
     "metadata": {
      "needs_background": "light"
     },
     "output_type": "display_data"
    }
   ],
   "source": [
    "model_qqplot = sm.graphics.qqplot(model_qq.resid, dist=stats.norm, line='45', fit=True)"
   ]
  },
  {
   "cell_type": "markdown",
   "metadata": {},
   "source": [
    "## Drop Columns on Non-Statistical Evaluation  \n",
    "<b>Ease of collection</b>\n",
    "- Has to be a value which is identifiable to the person? i.e Man\n",
    "\n",
    "<b>Quantifiability</b>\n",
    "- asd\n",
    "\n",
    "\n",
    "<b>Cost of Collection</b>\n",
    "- asdf"
   ]
  },
  {
   "cell_type": "code",
   "execution_count": 22,
   "metadata": {},
   "outputs": [],
   "source": [
    "# X_cols = list(X.columns)\n",
    "# for x in X_cols:\n",
    "#     print(x)"
   ]
  },
  {
   "cell_type": "code",
   "execution_count": 23,
   "metadata": {},
   "outputs": [
    {
     "data": {
      "text/plain": [
       "17"
      ]
     },
     "execution_count": 23,
     "metadata": {},
     "output_type": "execute_result"
    }
   ],
   "source": [
    "# Drop max\n",
    "drop = ['Premature_death_raw_value', \n",
    "        'Premature_age_adjusted_mortality_raw_value',\n",
    "        'Poor_or_fair_health_raw_value', \n",
    "        'Poor_physical_health_days_raw_value', \n",
    "        'Poor_mental_health_days_raw_value', \n",
    "        'Adult_smoking_raw_value', \n",
    "        'Physical_inactivity_raw_value', \n",
    "        'Excessive_drinking_raw_value',\n",
    "        'Preventable_hospital_stays_raw_value', \n",
    "        'Mammography_screening_raw_value', \n",
    "        'Driving_alone_to_work_raw_value',\n",
    "        'Long_commute___driving_alone_raw_value', \n",
    "        'Frequent_physical_distress_raw_value', \n",
    "        'Frequent_mental_distress_raw_value',\n",
    "        'Insufficient_sleep_raw_value',\n",
    "        'Other_primary_care_providers_raw_value',\n",
    "        'Drinking_water_violations_raw_value']\n",
    "len(drop)"
   ]
  },
  {
   "cell_type": "code",
   "execution_count": 24,
   "metadata": {},
   "outputs": [],
   "source": [
    "# # Drop Hard to measure\n",
    "# drop = ['Premature_age_adjusted_mortality_raw_value', \n",
    "#         'Premature_death_raw_value', \n",
    "#         'Poor_or_fair_health_raw_value', \n",
    "#         'Poor_physical_health_days_raw_value', \n",
    "#         'Poor_mental_health_days_raw_value']\n",
    "# len(drop)"
   ]
  },
  {
   "cell_type": "code",
   "execution_count": 28,
   "metadata": {},
   "outputs": [],
   "source": [
    "cols = list(X_train.columns)\n",
    "new_cols = [x for x in cols if x not in drop]"
   ]
  },
  {
   "cell_type": "code",
   "execution_count": 29,
   "metadata": {},
   "outputs": [
    {
     "data": {
      "text/plain": [
       "(54, 37)"
      ]
     },
     "execution_count": 29,
     "metadata": {},
     "output_type": "execute_result"
    }
   ],
   "source": [
    "X_1 = X_train[new_cols]\n",
    "len(X_train.columns) , len(X_1.columns)"
   ]
  },
  {
   "cell_type": "code",
   "execution_count": 30,
   "metadata": {},
   "outputs": [],
   "source": [
    "# Run if wish to check all variables\n",
    "# X_1 = X.copy()"
   ]
  },
  {
   "cell_type": "markdown",
   "metadata": {},
   "source": [
    "# Model 2:"
   ]
  },
  {
   "cell_type": "code",
   "execution_count": 31,
   "metadata": {},
   "outputs": [
    {
     "name": "stdout",
     "output_type": "stream",
     "text": [
      "Inital R^2: 0.6819434449606735\n"
     ]
    }
   ],
   "source": [
    "regression = LinearRegression()\n",
    "\n",
    "crossvalidation = KFold(n_splits=10, shuffle=True, random_state=1)\n",
    "baseline = np.mean(cross_val_score(regression, X_1, y_train, scoring='r2', cv=crossvalidation))\n",
    "print(\"Inital R^2:\", baseline)"
   ]
  },
  {
   "cell_type": "code",
   "execution_count": 32,
   "metadata": {
    "scrolled": true
   },
   "outputs": [
    {
     "name": "stderr",
     "output_type": "stream",
     "text": [
      "/opt/anaconda3/lib/python3.7/site-packages/numpy/core/fromnumeric.py:2495: FutureWarning: Method .ptp is deprecated and will be removed in a future version. Use numpy.ptp instead.\n",
      "  return ptp(axis=axis, out=out, **kwargs)\n"
     ]
    },
    {
     "data": {
      "text/html": [
       "<table class=\"simpletable\">\n",
       "<caption>OLS Regression Results</caption>\n",
       "<tr>\n",
       "  <th>Dep. Variable:</th>     <td>Life_Expectancy</td> <th>  R-squared:         </th> <td>   0.742</td> \n",
       "</tr>\n",
       "<tr>\n",
       "  <th>Model:</th>                   <td>OLS</td>       <th>  Adj. R-squared:    </th> <td>   0.730</td> \n",
       "</tr>\n",
       "<tr>\n",
       "  <th>Method:</th>             <td>Least Squares</td>  <th>  F-statistic:       </th> <td>   61.53</td> \n",
       "</tr>\n",
       "<tr>\n",
       "  <th>Date:</th>             <td>Tue, 14 Jan 2020</td> <th>  Prob (F-statistic):</th> <td>2.42e-205</td>\n",
       "</tr>\n",
       "<tr>\n",
       "  <th>Time:</th>                 <td>17:25:30</td>     <th>  Log-Likelihood:    </th> <td> -1291.4</td> \n",
       "</tr>\n",
       "<tr>\n",
       "  <th>No. Observations:</th>      <td>   829</td>      <th>  AIC:               </th> <td>   2659.</td> \n",
       "</tr>\n",
       "<tr>\n",
       "  <th>Df Residuals:</th>          <td>   791</td>      <th>  BIC:               </th> <td>   2838.</td> \n",
       "</tr>\n",
       "<tr>\n",
       "  <th>Df Model:</th>              <td>    37</td>      <th>                     </th>     <td> </td>    \n",
       "</tr>\n",
       "<tr>\n",
       "  <th>Covariance Type:</th>      <td>nonrobust</td>    <th>                     </th>     <td> </td>    \n",
       "</tr>\n",
       "</table>\n",
       "<table class=\"simpletable\">\n",
       "<tr>\n",
       "                               <td></td>                                  <th>coef</th>     <th>std err</th>      <th>t</th>      <th>P>|t|</th>  <th>[0.025</th>    <th>0.975]</th>  \n",
       "</tr>\n",
       "<tr>\n",
       "  <th>const</th>                                                       <td>   76.8677</td> <td>    0.048</td> <td> 1606.098</td> <td> 0.000</td> <td>   76.774</td> <td>   76.962</td>\n",
       "</tr>\n",
       "<tr>\n",
       "  <th>Low_birthweight_raw_value</th>                                   <td>    0.0237</td> <td>    0.065</td> <td>    0.365</td> <td> 0.715</td> <td>   -0.104</td> <td>    0.151</td>\n",
       "</tr>\n",
       "<tr>\n",
       "  <th>Adult_obesity_raw_value</th>                                     <td>   -0.0805</td> <td>    0.063</td> <td>   -1.272</td> <td> 0.204</td> <td>   -0.205</td> <td>    0.044</td>\n",
       "</tr>\n",
       "<tr>\n",
       "  <th>Food_environment_index_raw_value</th>                            <td>   -0.2983</td> <td>    0.719</td> <td>   -0.415</td> <td> 0.678</td> <td>   -1.709</td> <td>    1.113</td>\n",
       "</tr>\n",
       "<tr>\n",
       "  <th>Access_to_exercise_opportunities_raw_value</th>                  <td>    0.0004</td> <td>    0.056</td> <td>    0.007</td> <td> 0.994</td> <td>   -0.109</td> <td>    0.110</td>\n",
       "</tr>\n",
       "<tr>\n",
       "  <th>Alcohol_impaired_driving_deaths_raw_value</th>                   <td>    0.0855</td> <td>    0.046</td> <td>    1.869</td> <td> 0.062</td> <td>   -0.004</td> <td>    0.175</td>\n",
       "</tr>\n",
       "<tr>\n",
       "  <th>Sexually_transmitted_infections_raw_value</th>                   <td>   -0.1543</td> <td>    0.055</td> <td>   -2.825</td> <td> 0.005</td> <td>   -0.261</td> <td>   -0.047</td>\n",
       "</tr>\n",
       "<tr>\n",
       "  <th>Teen_births_raw_value</th>                                       <td>   -0.6902</td> <td>    0.078</td> <td>   -8.849</td> <td> 0.000</td> <td>   -0.843</td> <td>   -0.537</td>\n",
       "</tr>\n",
       "<tr>\n",
       "  <th>Uninsured_raw_value</th>                                         <td>    2.6627</td> <td>    0.973</td> <td>    2.736</td> <td> 0.006</td> <td>    0.753</td> <td>    4.573</td>\n",
       "</tr>\n",
       "<tr>\n",
       "  <th>Primary_care_physicians_raw_value</th>                           <td>   -0.0196</td> <td>    0.057</td> <td>   -0.342</td> <td> 0.732</td> <td>   -0.132</td> <td>    0.093</td>\n",
       "</tr>\n",
       "<tr>\n",
       "  <th>Dentists_raw_value</th>                                          <td>   -0.0011</td> <td>    0.062</td> <td>   -0.017</td> <td> 0.986</td> <td>   -0.122</td> <td>    0.120</td>\n",
       "</tr>\n",
       "<tr>\n",
       "  <th>Mental_health_providers_raw_value</th>                           <td>   -0.0610</td> <td>    0.045</td> <td>   -1.345</td> <td> 0.179</td> <td>   -0.150</td> <td>    0.028</td>\n",
       "</tr>\n",
       "<tr>\n",
       "  <th>Flu_vaccinations_raw_value</th>                                  <td>    0.0352</td> <td>    0.055</td> <td>    0.642</td> <td> 0.521</td> <td>   -0.072</td> <td>    0.143</td>\n",
       "</tr>\n",
       "<tr>\n",
       "  <th>High_school_graduation_raw_value</th>                            <td>   -0.2067</td> <td>    0.049</td> <td>   -4.260</td> <td> 0.000</td> <td>   -0.302</td> <td>   -0.111</td>\n",
       "</tr>\n",
       "<tr>\n",
       "  <th>Some_college_raw_value</th>                                      <td>   -0.0369</td> <td>    0.074</td> <td>   -0.495</td> <td> 0.621</td> <td>   -0.183</td> <td>    0.109</td>\n",
       "</tr>\n",
       "<tr>\n",
       "  <th>Unemployment_raw_value</th>                                      <td>    0.0665</td> <td>    0.067</td> <td>    0.997</td> <td> 0.319</td> <td>   -0.064</td> <td>    0.198</td>\n",
       "</tr>\n",
       "<tr>\n",
       "  <th>Children_in_poverty_raw_value</th>                               <td>   -0.0641</td> <td>    0.113</td> <td>   -0.566</td> <td> 0.572</td> <td>   -0.286</td> <td>    0.158</td>\n",
       "</tr>\n",
       "<tr>\n",
       "  <th>Income_inequality_raw_value</th>                                 <td>   -0.1462</td> <td>    0.060</td> <td>   -2.446</td> <td> 0.015</td> <td>   -0.263</td> <td>   -0.029</td>\n",
       "</tr>\n",
       "<tr>\n",
       "  <th>Children_in_single_parent_households_raw_value</th>              <td>   -0.0335</td> <td>    0.072</td> <td>   -0.462</td> <td> 0.644</td> <td>   -0.176</td> <td>    0.109</td>\n",
       "</tr>\n",
       "<tr>\n",
       "  <th>Social_associations_raw_value</th>                               <td>   -0.0738</td> <td>    0.058</td> <td>   -1.278</td> <td> 0.202</td> <td>   -0.187</td> <td>    0.040</td>\n",
       "</tr>\n",
       "<tr>\n",
       "  <th>Violent_crime_raw_value</th>                                     <td>    0.0570</td> <td>    0.050</td> <td>    1.129</td> <td> 0.259</td> <td>   -0.042</td> <td>    0.156</td>\n",
       "</tr>\n",
       "<tr>\n",
       "  <th>Injury_deaths_raw_value</th>                                     <td>   -0.7509</td> <td>    0.057</td> <td>  -13.117</td> <td> 0.000</td> <td>   -0.863</td> <td>   -0.639</td>\n",
       "</tr>\n",
       "<tr>\n",
       "  <th>Air_pollution___particulate_matter_raw_value</th>                <td>   -0.2457</td> <td>    0.069</td> <td>   -3.572</td> <td> 0.000</td> <td>   -0.381</td> <td>   -0.111</td>\n",
       "</tr>\n",
       "<tr>\n",
       "  <th>Severe_housing_problems_raw_value</th>                           <td>   -0.0535</td> <td>    0.086</td> <td>   -0.620</td> <td> 0.536</td> <td>   -0.223</td> <td>    0.116</td>\n",
       "</tr>\n",
       "<tr>\n",
       "  <th>Diabetes_prevalence_raw_value</th>                               <td>   -0.3984</td> <td>    0.078</td> <td>   -5.134</td> <td> 0.000</td> <td>   -0.551</td> <td>   -0.246</td>\n",
       "</tr>\n",
       "<tr>\n",
       "  <th>HIV_prevalence_raw_value</th>                                    <td>    0.0194</td> <td>    0.056</td> <td>    0.345</td> <td> 0.731</td> <td>   -0.091</td> <td>    0.130</td>\n",
       "</tr>\n",
       "<tr>\n",
       "  <th>Food_insecurity_raw_value</th>                                   <td>   -0.4847</td> <td>    0.479</td> <td>   -1.012</td> <td> 0.312</td> <td>   -1.425</td> <td>    0.456</td>\n",
       "</tr>\n",
       "<tr>\n",
       "  <th>Limited_access_to_healthy_foods_raw_value</th>                   <td>   -0.3038</td> <td>    0.485</td> <td>   -0.626</td> <td> 0.531</td> <td>   -1.256</td> <td>    0.648</td>\n",
       "</tr>\n",
       "<tr>\n",
       "  <th>Motor_vehicle_crash_deaths_raw_value</th>                        <td>   -0.1001</td> <td>    0.058</td> <td>   -1.726</td> <td> 0.085</td> <td>   -0.214</td> <td>    0.014</td>\n",
       "</tr>\n",
       "<tr>\n",
       "  <th>Uninsured_adults_raw_value</th>                                  <td>   -2.4074</td> <td>    0.848</td> <td>   -2.840</td> <td> 0.005</td> <td>   -4.071</td> <td>   -0.743</td>\n",
       "</tr>\n",
       "<tr>\n",
       "  <th>Uninsured_children_raw_value</th>                                <td>   -0.1259</td> <td>    0.206</td> <td>   -0.610</td> <td> 0.542</td> <td>   -0.531</td> <td>    0.279</td>\n",
       "</tr>\n",
       "<tr>\n",
       "  <th>Median_household_income_raw_value</th>                           <td>    0.2444</td> <td>    0.126</td> <td>    1.940</td> <td> 0.053</td> <td>   -0.003</td> <td>    0.492</td>\n",
       "</tr>\n",
       "<tr>\n",
       "  <th>Children_eligible_for_free_or_reduced_price_lunch_raw_value</th> <td>    0.1308</td> <td>    0.079</td> <td>    1.653</td> <td> 0.099</td> <td>   -0.025</td> <td>    0.286</td>\n",
       "</tr>\n",
       "<tr>\n",
       "  <th>Residential_segregation___non_white/white_raw_value</th>         <td>    0.0234</td> <td>    0.042</td> <td>    0.559</td> <td> 0.576</td> <td>   -0.059</td> <td>    0.105</td>\n",
       "</tr>\n",
       "<tr>\n",
       "  <th>Homeownership_raw_value</th>                                     <td>    0.0667</td> <td>    0.066</td> <td>    1.012</td> <td> 0.312</td> <td>   -0.063</td> <td>    0.196</td>\n",
       "</tr>\n",
       "<tr>\n",
       "  <th>Severe_housing_cost_burden_raw_value</th>                        <td>   -0.1022</td> <td>    0.089</td> <td>   -1.155</td> <td> 0.248</td> <td>   -0.276</td> <td>    0.072</td>\n",
       "</tr>\n",
       "<tr>\n",
       "  <th>Population_raw_value</th>                                        <td>    0.2933</td> <td>    0.090</td> <td>    3.246</td> <td> 0.001</td> <td>    0.116</td> <td>    0.471</td>\n",
       "</tr>\n",
       "<tr>\n",
       "  <th>County_Ranked</th>                                               <td>   -0.0399</td> <td>    0.053</td> <td>   -0.746</td> <td> 0.456</td> <td>   -0.145</td> <td>    0.065</td>\n",
       "</tr>\n",
       "</table>\n",
       "<table class=\"simpletable\">\n",
       "<tr>\n",
       "  <th>Omnibus:</th>       <td>40.402</td> <th>  Durbin-Watson:     </th> <td>   2.035</td>\n",
       "</tr>\n",
       "<tr>\n",
       "  <th>Prob(Omnibus):</th> <td> 0.000</td> <th>  Jarque-Bera (JB):  </th> <td> 115.307</td>\n",
       "</tr>\n",
       "<tr>\n",
       "  <th>Skew:</th>          <td>-0.153</td> <th>  Prob(JB):          </th> <td>9.15e-26</td>\n",
       "</tr>\n",
       "<tr>\n",
       "  <th>Kurtosis:</th>      <td> 4.801</td> <th>  Cond. No.          </th> <td>    93.6</td>\n",
       "</tr>\n",
       "</table><br/><br/>Warnings:<br/>[1] Standard Errors assume that the covariance matrix of the errors is correctly specified."
      ],
      "text/plain": [
       "<class 'statsmodels.iolib.summary.Summary'>\n",
       "\"\"\"\n",
       "                            OLS Regression Results                            \n",
       "==============================================================================\n",
       "Dep. Variable:        Life_Expectancy   R-squared:                       0.742\n",
       "Model:                            OLS   Adj. R-squared:                  0.730\n",
       "Method:                 Least Squares   F-statistic:                     61.53\n",
       "Date:                Tue, 14 Jan 2020   Prob (F-statistic):          2.42e-205\n",
       "Time:                        17:25:30   Log-Likelihood:                -1291.4\n",
       "No. Observations:                 829   AIC:                             2659.\n",
       "Df Residuals:                     791   BIC:                             2838.\n",
       "Df Model:                          37                                         \n",
       "Covariance Type:            nonrobust                                         \n",
       "===============================================================================================================================\n",
       "                                                                  coef    std err          t      P>|t|      [0.025      0.975]\n",
       "-------------------------------------------------------------------------------------------------------------------------------\n",
       "const                                                          76.8677      0.048   1606.098      0.000      76.774      76.962\n",
       "Low_birthweight_raw_value                                       0.0237      0.065      0.365      0.715      -0.104       0.151\n",
       "Adult_obesity_raw_value                                        -0.0805      0.063     -1.272      0.204      -0.205       0.044\n",
       "Food_environment_index_raw_value                               -0.2983      0.719     -0.415      0.678      -1.709       1.113\n",
       "Access_to_exercise_opportunities_raw_value                      0.0004      0.056      0.007      0.994      -0.109       0.110\n",
       "Alcohol_impaired_driving_deaths_raw_value                       0.0855      0.046      1.869      0.062      -0.004       0.175\n",
       "Sexually_transmitted_infections_raw_value                      -0.1543      0.055     -2.825      0.005      -0.261      -0.047\n",
       "Teen_births_raw_value                                          -0.6902      0.078     -8.849      0.000      -0.843      -0.537\n",
       "Uninsured_raw_value                                             2.6627      0.973      2.736      0.006       0.753       4.573\n",
       "Primary_care_physicians_raw_value                              -0.0196      0.057     -0.342      0.732      -0.132       0.093\n",
       "Dentists_raw_value                                             -0.0011      0.062     -0.017      0.986      -0.122       0.120\n",
       "Mental_health_providers_raw_value                              -0.0610      0.045     -1.345      0.179      -0.150       0.028\n",
       "Flu_vaccinations_raw_value                                      0.0352      0.055      0.642      0.521      -0.072       0.143\n",
       "High_school_graduation_raw_value                               -0.2067      0.049     -4.260      0.000      -0.302      -0.111\n",
       "Some_college_raw_value                                         -0.0369      0.074     -0.495      0.621      -0.183       0.109\n",
       "Unemployment_raw_value                                          0.0665      0.067      0.997      0.319      -0.064       0.198\n",
       "Children_in_poverty_raw_value                                  -0.0641      0.113     -0.566      0.572      -0.286       0.158\n",
       "Income_inequality_raw_value                                    -0.1462      0.060     -2.446      0.015      -0.263      -0.029\n",
       "Children_in_single_parent_households_raw_value                 -0.0335      0.072     -0.462      0.644      -0.176       0.109\n",
       "Social_associations_raw_value                                  -0.0738      0.058     -1.278      0.202      -0.187       0.040\n",
       "Violent_crime_raw_value                                         0.0570      0.050      1.129      0.259      -0.042       0.156\n",
       "Injury_deaths_raw_value                                        -0.7509      0.057    -13.117      0.000      -0.863      -0.639\n",
       "Air_pollution___particulate_matter_raw_value                   -0.2457      0.069     -3.572      0.000      -0.381      -0.111\n",
       "Severe_housing_problems_raw_value                              -0.0535      0.086     -0.620      0.536      -0.223       0.116\n",
       "Diabetes_prevalence_raw_value                                  -0.3984      0.078     -5.134      0.000      -0.551      -0.246\n",
       "HIV_prevalence_raw_value                                        0.0194      0.056      0.345      0.731      -0.091       0.130\n",
       "Food_insecurity_raw_value                                      -0.4847      0.479     -1.012      0.312      -1.425       0.456\n",
       "Limited_access_to_healthy_foods_raw_value                      -0.3038      0.485     -0.626      0.531      -1.256       0.648\n",
       "Motor_vehicle_crash_deaths_raw_value                           -0.1001      0.058     -1.726      0.085      -0.214       0.014\n",
       "Uninsured_adults_raw_value                                     -2.4074      0.848     -2.840      0.005      -4.071      -0.743\n",
       "Uninsured_children_raw_value                                   -0.1259      0.206     -0.610      0.542      -0.531       0.279\n",
       "Median_household_income_raw_value                               0.2444      0.126      1.940      0.053      -0.003       0.492\n",
       "Children_eligible_for_free_or_reduced_price_lunch_raw_value     0.1308      0.079      1.653      0.099      -0.025       0.286\n",
       "Residential_segregation___non_white/white_raw_value             0.0234      0.042      0.559      0.576      -0.059       0.105\n",
       "Homeownership_raw_value                                         0.0667      0.066      1.012      0.312      -0.063       0.196\n",
       "Severe_housing_cost_burden_raw_value                           -0.1022      0.089     -1.155      0.248      -0.276       0.072\n",
       "Population_raw_value                                            0.2933      0.090      3.246      0.001       0.116       0.471\n",
       "County_Ranked                                                  -0.0399      0.053     -0.746      0.456      -0.145       0.065\n",
       "==============================================================================\n",
       "Omnibus:                       40.402   Durbin-Watson:                   2.035\n",
       "Prob(Omnibus):                  0.000   Jarque-Bera (JB):              115.307\n",
       "Skew:                          -0.153   Prob(JB):                     9.15e-26\n",
       "Kurtosis:                       4.801   Cond. No.                         93.6\n",
       "==============================================================================\n",
       "\n",
       "Warnings:\n",
       "[1] Standard Errors assume that the covariance matrix of the errors is correctly specified.\n",
       "\"\"\""
      ]
     },
     "execution_count": 32,
     "metadata": {},
     "output_type": "execute_result"
    }
   ],
   "source": [
    "X_const = sm.add_constant(X_1)\n",
    "\n",
    "model1 = sm.OLS(y_train, X_const).fit()\n",
    "model1.summary()"
   ]
  },
  {
   "cell_type": "code",
   "execution_count": 33,
   "metadata": {},
   "outputs": [],
   "source": [
    "# dir(model)"
   ]
  },
  {
   "cell_type": "code",
   "execution_count": 34,
   "metadata": {},
   "outputs": [],
   "source": [
    "# model.params"
   ]
  },
  {
   "cell_type": "markdown",
   "metadata": {},
   "source": [
    "## Eliminate Features using the P-value score"
   ]
  },
  {
   "cell_type": "code",
   "execution_count": 35,
   "metadata": {},
   "outputs": [],
   "source": [
    "def func_rfe(X_1, model):\n",
    "    X_cols = list(X_1.columns)\n",
    "    X_cols = ['const'] + X_cols\n",
    "    rfe = list(zip(X_cols, model.pvalues))\n",
    "    rfe = pd.DataFrame(rfe, columns=['Parameters', 'P_values'])\n",
    "    rfe.sort_values(by='P_values', ascending=True, inplace=True)\n",
    "    rfe_reduced = rfe.loc[rfe['P_values'] < 0.05]\n",
    "    return rfe_reduced"
   ]
  },
  {
   "cell_type": "code",
   "execution_count": 36,
   "metadata": {},
   "outputs": [
    {
     "data": {
      "text/html": [
       "<div>\n",
       "<style scoped>\n",
       "    .dataframe tbody tr th:only-of-type {\n",
       "        vertical-align: middle;\n",
       "    }\n",
       "\n",
       "    .dataframe tbody tr th {\n",
       "        vertical-align: top;\n",
       "    }\n",
       "\n",
       "    .dataframe thead th {\n",
       "        text-align: right;\n",
       "    }\n",
       "</style>\n",
       "<table border=\"1\" class=\"dataframe\">\n",
       "  <thead>\n",
       "    <tr style=\"text-align: right;\">\n",
       "      <th></th>\n",
       "      <th>Parameters</th>\n",
       "      <th>P_values</th>\n",
       "    </tr>\n",
       "  </thead>\n",
       "  <tbody>\n",
       "    <tr>\n",
       "      <td>0</td>\n",
       "      <td>const</td>\n",
       "      <td>0.000000e+00</td>\n",
       "    </tr>\n",
       "    <tr>\n",
       "      <td>21</td>\n",
       "      <td>Injury_deaths_raw_value</td>\n",
       "      <td>1.042455e-35</td>\n",
       "    </tr>\n",
       "    <tr>\n",
       "      <td>7</td>\n",
       "      <td>Teen_births_raw_value</td>\n",
       "      <td>5.686708e-18</td>\n",
       "    </tr>\n",
       "    <tr>\n",
       "      <td>24</td>\n",
       "      <td>Diabetes_prevalence_raw_value</td>\n",
       "      <td>3.570683e-07</td>\n",
       "    </tr>\n",
       "    <tr>\n",
       "      <td>13</td>\n",
       "      <td>High_school_graduation_raw_value</td>\n",
       "      <td>2.285770e-05</td>\n",
       "    </tr>\n",
       "    <tr>\n",
       "      <td>22</td>\n",
       "      <td>Air_pollution___particulate_matter_raw_value</td>\n",
       "      <td>3.750902e-04</td>\n",
       "    </tr>\n",
       "    <tr>\n",
       "      <td>36</td>\n",
       "      <td>Population_raw_value</td>\n",
       "      <td>1.220931e-03</td>\n",
       "    </tr>\n",
       "    <tr>\n",
       "      <td>29</td>\n",
       "      <td>Uninsured_adults_raw_value</td>\n",
       "      <td>4.626648e-03</td>\n",
       "    </tr>\n",
       "    <tr>\n",
       "      <td>6</td>\n",
       "      <td>Sexually_transmitted_infections_raw_value</td>\n",
       "      <td>4.847540e-03</td>\n",
       "    </tr>\n",
       "    <tr>\n",
       "      <td>8</td>\n",
       "      <td>Uninsured_raw_value</td>\n",
       "      <td>6.351071e-03</td>\n",
       "    </tr>\n",
       "    <tr>\n",
       "      <td>17</td>\n",
       "      <td>Income_inequality_raw_value</td>\n",
       "      <td>1.466947e-02</td>\n",
       "    </tr>\n",
       "  </tbody>\n",
       "</table>\n",
       "</div>"
      ],
      "text/plain": [
       "                                      Parameters      P_values\n",
       "0                                          const  0.000000e+00\n",
       "21                       Injury_deaths_raw_value  1.042455e-35\n",
       "7                          Teen_births_raw_value  5.686708e-18\n",
       "24                 Diabetes_prevalence_raw_value  3.570683e-07\n",
       "13              High_school_graduation_raw_value  2.285770e-05\n",
       "22  Air_pollution___particulate_matter_raw_value  3.750902e-04\n",
       "36                          Population_raw_value  1.220931e-03\n",
       "29                    Uninsured_adults_raw_value  4.626648e-03\n",
       "6      Sexually_transmitted_infections_raw_value  4.847540e-03\n",
       "8                            Uninsured_raw_value  6.351071e-03\n",
       "17                   Income_inequality_raw_value  1.466947e-02"
      ]
     },
     "execution_count": 36,
     "metadata": {},
     "output_type": "execute_result"
    }
   ],
   "source": [
    "rfe_reduced = func_rfe(X_1, model1)\n",
    "rfe_reduced"
   ]
  },
  {
   "cell_type": "code",
   "execution_count": 37,
   "metadata": {},
   "outputs": [],
   "source": [
    "rfe_reduced = rfe_reduced.loc[rfe_reduced['Parameters'] != 'const']\n",
    "X_cols = list(rfe_reduced.Parameters)\n",
    "X_2 = X_1[X_cols]\n",
    "# X_2.sort_index()"
   ]
  },
  {
   "cell_type": "code",
   "execution_count": 38,
   "metadata": {},
   "outputs": [
    {
     "data": {
      "text/plain": [
       "((829, 37), (829, 10))"
      ]
     },
     "execution_count": 38,
     "metadata": {},
     "output_type": "execute_result"
    }
   ],
   "source": [
    "X_1.shape, X_2.shape"
   ]
  },
  {
   "cell_type": "markdown",
   "metadata": {},
   "source": [
    "# Model 3:"
   ]
  },
  {
   "cell_type": "code",
   "execution_count": 30,
   "metadata": {},
   "outputs": [
    {
     "data": {
      "text/html": [
       "<table class=\"simpletable\">\n",
       "<caption>OLS Regression Results</caption>\n",
       "<tr>\n",
       "  <th>Dep. Variable:</th>     <td>Life_Expectancy</td> <th>  R-squared:         </th> <td>   0.740</td> \n",
       "</tr>\n",
       "<tr>\n",
       "  <th>Model:</th>                   <td>OLS</td>       <th>  Adj. R-squared:    </th> <td>   0.737</td> \n",
       "</tr>\n",
       "<tr>\n",
       "  <th>Method:</th>             <td>Least Squares</td>  <th>  F-statistic:       </th> <td>   205.3</td> \n",
       "</tr>\n",
       "<tr>\n",
       "  <th>Date:</th>             <td>Tue, 14 Jan 2020</td> <th>  Prob (F-statistic):</th> <td>2.10e-283</td>\n",
       "</tr>\n",
       "<tr>\n",
       "  <th>Time:</th>                 <td>15:59:47</td>     <th>  Log-Likelihood:    </th> <td> -1721.8</td> \n",
       "</tr>\n",
       "<tr>\n",
       "  <th>No. Observations:</th>      <td>  1024</td>      <th>  AIC:               </th> <td>   3474.</td> \n",
       "</tr>\n",
       "<tr>\n",
       "  <th>Df Residuals:</th>          <td>  1009</td>      <th>  BIC:               </th> <td>   3548.</td> \n",
       "</tr>\n",
       "<tr>\n",
       "  <th>Df Model:</th>              <td>    14</td>      <th>                     </th>     <td> </td>    \n",
       "</tr>\n",
       "<tr>\n",
       "  <th>Covariance Type:</th>      <td>nonrobust</td>    <th>                     </th>     <td> </td>    \n",
       "</tr>\n",
       "</table>\n",
       "<table class=\"simpletable\">\n",
       "<tr>\n",
       "                        <td></td>                          <th>coef</th>     <th>std err</th>      <th>t</th>      <th>P>|t|</th>  <th>[0.025</th>    <th>0.975]</th>  \n",
       "</tr>\n",
       "<tr>\n",
       "  <th>const</th>                                        <td>   77.1440</td> <td>    0.042</td> <td> 1858.798</td> <td> 0.000</td> <td>   77.063</td> <td>   77.225</td>\n",
       "</tr>\n",
       "<tr>\n",
       "  <th>Injury_deaths_raw_value</th>                      <td>   -0.8379</td> <td>    0.054</td> <td>  -15.534</td> <td> 0.000</td> <td>   -0.944</td> <td>   -0.732</td>\n",
       "</tr>\n",
       "<tr>\n",
       "  <th>Teen_births_raw_value</th>                        <td>   -0.8156</td> <td>    0.063</td> <td>  -12.967</td> <td> 0.000</td> <td>   -0.939</td> <td>   -0.692</td>\n",
       "</tr>\n",
       "<tr>\n",
       "  <th>Air_pollution___particulate_matter_raw_value</th> <td>   -0.4138</td> <td>    0.056</td> <td>   -7.383</td> <td> 0.000</td> <td>   -0.524</td> <td>   -0.304</td>\n",
       "</tr>\n",
       "<tr>\n",
       "  <th>Diabetes_prevalence_raw_value</th>                <td>   -0.5442</td> <td>    0.065</td> <td>   -8.412</td> <td> 0.000</td> <td>   -0.671</td> <td>   -0.417</td>\n",
       "</tr>\n",
       "<tr>\n",
       "  <th>High_school_graduation_raw_value</th>             <td>   -0.1544</td> <td>    0.046</td> <td>   -3.326</td> <td> 0.001</td> <td>   -0.246</td> <td>   -0.063</td>\n",
       "</tr>\n",
       "<tr>\n",
       "  <th>Population_raw_value</th>                         <td>    0.1998</td> <td>    0.050</td> <td>    3.972</td> <td> 0.000</td> <td>    0.101</td> <td>    0.299</td>\n",
       "</tr>\n",
       "<tr>\n",
       "  <th>Motor_vehicle_crash_deaths_raw_value</th>         <td>   -0.1830</td> <td>    0.056</td> <td>   -3.239</td> <td> 0.001</td> <td>   -0.294</td> <td>   -0.072</td>\n",
       "</tr>\n",
       "<tr>\n",
       "  <th>Sexually_transmitted_infections_raw_value</th>    <td>   -0.2904</td> <td>    0.046</td> <td>   -6.268</td> <td> 0.000</td> <td>   -0.381</td> <td>   -0.199</td>\n",
       "</tr>\n",
       "<tr>\n",
       "  <th>Adult_obesity_raw_value</th>                      <td>   -0.1466</td> <td>    0.060</td> <td>   -2.443</td> <td> 0.015</td> <td>   -0.264</td> <td>   -0.029</td>\n",
       "</tr>\n",
       "<tr>\n",
       "  <th>Alcohol_impaired_driving_deaths_raw_value</th>    <td>    0.1039</td> <td>    0.044</td> <td>    2.339</td> <td> 0.020</td> <td>    0.017</td> <td>    0.191</td>\n",
       "</tr>\n",
       "<tr>\n",
       "  <th>Uninsured_adults_raw_value</th>                   <td>   -2.6010</td> <td>    0.396</td> <td>   -6.563</td> <td> 0.000</td> <td>   -3.379</td> <td>   -1.823</td>\n",
       "</tr>\n",
       "<tr>\n",
       "  <th>County_Ranked</th>                                <td>    0.1380</td> <td>    0.045</td> <td>    3.078</td> <td> 0.002</td> <td>    0.050</td> <td>    0.226</td>\n",
       "</tr>\n",
       "<tr>\n",
       "  <th>Mental_health_providers_raw_value</th>            <td>   -0.1718</td> <td>    0.043</td> <td>   -4.007</td> <td> 0.000</td> <td>   -0.256</td> <td>   -0.088</td>\n",
       "</tr>\n",
       "<tr>\n",
       "  <th>Uninsured_raw_value</th>                          <td>    2.7002</td> <td>    0.386</td> <td>    6.997</td> <td> 0.000</td> <td>    1.943</td> <td>    3.457</td>\n",
       "</tr>\n",
       "</table>\n",
       "<table class=\"simpletable\">\n",
       "<tr>\n",
       "  <th>Omnibus:</th>       <td>67.261</td> <th>  Durbin-Watson:     </th> <td>   1.986</td>\n",
       "</tr>\n",
       "<tr>\n",
       "  <th>Prob(Omnibus):</th> <td> 0.000</td> <th>  Jarque-Bera (JB):  </th> <td> 202.896</td>\n",
       "</tr>\n",
       "<tr>\n",
       "  <th>Skew:</th>          <td>-0.284</td> <th>  Prob(JB):          </th> <td>8.74e-45</td>\n",
       "</tr>\n",
       "<tr>\n",
       "  <th>Kurtosis:</th>      <td> 5.105</td> <th>  Cond. No.          </th> <td>    25.2</td>\n",
       "</tr>\n",
       "</table><br/><br/>Warnings:<br/>[1] Standard Errors assume that the covariance matrix of the errors is correctly specified."
      ],
      "text/plain": [
       "<class 'statsmodels.iolib.summary.Summary'>\n",
       "\"\"\"\n",
       "                            OLS Regression Results                            \n",
       "==============================================================================\n",
       "Dep. Variable:        Life_Expectancy   R-squared:                       0.740\n",
       "Model:                            OLS   Adj. R-squared:                  0.737\n",
       "Method:                 Least Squares   F-statistic:                     205.3\n",
       "Date:                Tue, 14 Jan 2020   Prob (F-statistic):          2.10e-283\n",
       "Time:                        15:59:47   Log-Likelihood:                -1721.8\n",
       "No. Observations:                1024   AIC:                             3474.\n",
       "Df Residuals:                    1009   BIC:                             3548.\n",
       "Df Model:                          14                                         \n",
       "Covariance Type:            nonrobust                                         \n",
       "================================================================================================================\n",
       "                                                   coef    std err          t      P>|t|      [0.025      0.975]\n",
       "----------------------------------------------------------------------------------------------------------------\n",
       "const                                           77.1440      0.042   1858.798      0.000      77.063      77.225\n",
       "Injury_deaths_raw_value                         -0.8379      0.054    -15.534      0.000      -0.944      -0.732\n",
       "Teen_births_raw_value                           -0.8156      0.063    -12.967      0.000      -0.939      -0.692\n",
       "Air_pollution___particulate_matter_raw_value    -0.4138      0.056     -7.383      0.000      -0.524      -0.304\n",
       "Diabetes_prevalence_raw_value                   -0.5442      0.065     -8.412      0.000      -0.671      -0.417\n",
       "High_school_graduation_raw_value                -0.1544      0.046     -3.326      0.001      -0.246      -0.063\n",
       "Population_raw_value                             0.1998      0.050      3.972      0.000       0.101       0.299\n",
       "Motor_vehicle_crash_deaths_raw_value            -0.1830      0.056     -3.239      0.001      -0.294      -0.072\n",
       "Sexually_transmitted_infections_raw_value       -0.2904      0.046     -6.268      0.000      -0.381      -0.199\n",
       "Adult_obesity_raw_value                         -0.1466      0.060     -2.443      0.015      -0.264      -0.029\n",
       "Alcohol_impaired_driving_deaths_raw_value        0.1039      0.044      2.339      0.020       0.017       0.191\n",
       "Uninsured_adults_raw_value                      -2.6010      0.396     -6.563      0.000      -3.379      -1.823\n",
       "County_Ranked                                    0.1380      0.045      3.078      0.002       0.050       0.226\n",
       "Mental_health_providers_raw_value               -0.1718      0.043     -4.007      0.000      -0.256      -0.088\n",
       "Uninsured_raw_value                              2.7002      0.386      6.997      0.000       1.943       3.457\n",
       "==============================================================================\n",
       "Omnibus:                       67.261   Durbin-Watson:                   1.986\n",
       "Prob(Omnibus):                  0.000   Jarque-Bera (JB):              202.896\n",
       "Skew:                          -0.284   Prob(JB):                     8.74e-45\n",
       "Kurtosis:                       5.105   Cond. No.                         25.2\n",
       "==============================================================================\n",
       "\n",
       "Warnings:\n",
       "[1] Standard Errors assume that the covariance matrix of the errors is correctly specified.\n",
       "\"\"\""
      ]
     },
     "execution_count": 30,
     "metadata": {},
     "output_type": "execute_result"
    }
   ],
   "source": [
    "X_const = sm.add_constant(X_2)\n",
    "\n",
    "model2 = sm.OLS(y, X_const).fit()\n",
    "model2.summary()"
   ]
  },
  {
   "cell_type": "code",
   "execution_count": 31,
   "metadata": {},
   "outputs": [
    {
     "data": {
      "text/html": [
       "<div>\n",
       "<style scoped>\n",
       "    .dataframe tbody tr th:only-of-type {\n",
       "        vertical-align: middle;\n",
       "    }\n",
       "\n",
       "    .dataframe tbody tr th {\n",
       "        vertical-align: top;\n",
       "    }\n",
       "\n",
       "    .dataframe thead th {\n",
       "        text-align: right;\n",
       "    }\n",
       "</style>\n",
       "<table border=\"1\" class=\"dataframe\">\n",
       "  <thead>\n",
       "    <tr style=\"text-align: right;\">\n",
       "      <th></th>\n",
       "      <th>Parameters</th>\n",
       "      <th>P_values</th>\n",
       "    </tr>\n",
       "  </thead>\n",
       "  <tbody>\n",
       "    <tr>\n",
       "      <td>0</td>\n",
       "      <td>const</td>\n",
       "      <td>0.000000e+00</td>\n",
       "    </tr>\n",
       "    <tr>\n",
       "      <td>1</td>\n",
       "      <td>Injury_deaths_raw_value</td>\n",
       "      <td>5.921421e-49</td>\n",
       "    </tr>\n",
       "    <tr>\n",
       "      <td>2</td>\n",
       "      <td>Teen_births_raw_value</td>\n",
       "      <td>1.126553e-35</td>\n",
       "    </tr>\n",
       "    <tr>\n",
       "      <td>4</td>\n",
       "      <td>Diabetes_prevalence_raw_value</td>\n",
       "      <td>1.362022e-16</td>\n",
       "    </tr>\n",
       "    <tr>\n",
       "      <td>3</td>\n",
       "      <td>Air_pollution___particulate_matter_raw_value</td>\n",
       "      <td>3.244668e-13</td>\n",
       "    </tr>\n",
       "    <tr>\n",
       "      <td>14</td>\n",
       "      <td>Uninsured_raw_value</td>\n",
       "      <td>4.752185e-12</td>\n",
       "    </tr>\n",
       "    <tr>\n",
       "      <td>11</td>\n",
       "      <td>Uninsured_adults_raw_value</td>\n",
       "      <td>8.437311e-11</td>\n",
       "    </tr>\n",
       "    <tr>\n",
       "      <td>8</td>\n",
       "      <td>Sexually_transmitted_infections_raw_value</td>\n",
       "      <td>5.413575e-10</td>\n",
       "    </tr>\n",
       "    <tr>\n",
       "      <td>13</td>\n",
       "      <td>Mental_health_providers_raw_value</td>\n",
       "      <td>6.611039e-05</td>\n",
       "    </tr>\n",
       "    <tr>\n",
       "      <td>6</td>\n",
       "      <td>Population_raw_value</td>\n",
       "      <td>7.626313e-05</td>\n",
       "    </tr>\n",
       "    <tr>\n",
       "      <td>5</td>\n",
       "      <td>High_school_graduation_raw_value</td>\n",
       "      <td>9.127038e-04</td>\n",
       "    </tr>\n",
       "    <tr>\n",
       "      <td>7</td>\n",
       "      <td>Motor_vehicle_crash_deaths_raw_value</td>\n",
       "      <td>1.239719e-03</td>\n",
       "    </tr>\n",
       "    <tr>\n",
       "      <td>12</td>\n",
       "      <td>County_Ranked</td>\n",
       "      <td>2.137725e-03</td>\n",
       "    </tr>\n",
       "    <tr>\n",
       "      <td>9</td>\n",
       "      <td>Adult_obesity_raw_value</td>\n",
       "      <td>1.471962e-02</td>\n",
       "    </tr>\n",
       "    <tr>\n",
       "      <td>10</td>\n",
       "      <td>Alcohol_impaired_driving_deaths_raw_value</td>\n",
       "      <td>1.952432e-02</td>\n",
       "    </tr>\n",
       "  </tbody>\n",
       "</table>\n",
       "</div>"
      ],
      "text/plain": [
       "                                      Parameters      P_values\n",
       "0                                          const  0.000000e+00\n",
       "1                        Injury_deaths_raw_value  5.921421e-49\n",
       "2                          Teen_births_raw_value  1.126553e-35\n",
       "4                  Diabetes_prevalence_raw_value  1.362022e-16\n",
       "3   Air_pollution___particulate_matter_raw_value  3.244668e-13\n",
       "14                           Uninsured_raw_value  4.752185e-12\n",
       "11                    Uninsured_adults_raw_value  8.437311e-11\n",
       "8      Sexually_transmitted_infections_raw_value  5.413575e-10\n",
       "13             Mental_health_providers_raw_value  6.611039e-05\n",
       "6                           Population_raw_value  7.626313e-05\n",
       "5               High_school_graduation_raw_value  9.127038e-04\n",
       "7           Motor_vehicle_crash_deaths_raw_value  1.239719e-03\n",
       "12                                 County_Ranked  2.137725e-03\n",
       "9                        Adult_obesity_raw_value  1.471962e-02\n",
       "10     Alcohol_impaired_driving_deaths_raw_value  1.952432e-02"
      ]
     },
     "execution_count": 31,
     "metadata": {},
     "output_type": "execute_result"
    }
   ],
   "source": [
    "rfe_red2 = func_rfe(X_2, model2)\n",
    "rfe_red2"
   ]
  },
  {
   "cell_type": "code",
   "execution_count": 32,
   "metadata": {},
   "outputs": [],
   "source": [
    "rfe_red2 = rfe_red2.loc[rfe_red2['Parameters'] != 'const']\n",
    "X_cols = list(rfe_red2.Parameters)\n",
    "X_3 = X_2[X_cols]\n",
    "# X_3.sort_index()"
   ]
  },
  {
   "cell_type": "code",
   "execution_count": 33,
   "metadata": {},
   "outputs": [
    {
     "data": {
      "text/html": [
       "<table class=\"simpletable\">\n",
       "<caption>OLS Regression Results</caption>\n",
       "<tr>\n",
       "  <th>Dep. Variable:</th>     <td>Life_Expectancy</td> <th>  R-squared:         </th> <td>   0.740</td> \n",
       "</tr>\n",
       "<tr>\n",
       "  <th>Model:</th>                   <td>OLS</td>       <th>  Adj. R-squared:    </th> <td>   0.737</td> \n",
       "</tr>\n",
       "<tr>\n",
       "  <th>Method:</th>             <td>Least Squares</td>  <th>  F-statistic:       </th> <td>   205.3</td> \n",
       "</tr>\n",
       "<tr>\n",
       "  <th>Date:</th>             <td>Tue, 14 Jan 2020</td> <th>  Prob (F-statistic):</th> <td>2.10e-283</td>\n",
       "</tr>\n",
       "<tr>\n",
       "  <th>Time:</th>                 <td>15:59:57</td>     <th>  Log-Likelihood:    </th> <td> -1721.8</td> \n",
       "</tr>\n",
       "<tr>\n",
       "  <th>No. Observations:</th>      <td>  1024</td>      <th>  AIC:               </th> <td>   3474.</td> \n",
       "</tr>\n",
       "<tr>\n",
       "  <th>Df Residuals:</th>          <td>  1009</td>      <th>  BIC:               </th> <td>   3548.</td> \n",
       "</tr>\n",
       "<tr>\n",
       "  <th>Df Model:</th>              <td>    14</td>      <th>                     </th>     <td> </td>    \n",
       "</tr>\n",
       "<tr>\n",
       "  <th>Covariance Type:</th>      <td>nonrobust</td>    <th>                     </th>     <td> </td>    \n",
       "</tr>\n",
       "</table>\n",
       "<table class=\"simpletable\">\n",
       "<tr>\n",
       "                        <td></td>                          <th>coef</th>     <th>std err</th>      <th>t</th>      <th>P>|t|</th>  <th>[0.025</th>    <th>0.975]</th>  \n",
       "</tr>\n",
       "<tr>\n",
       "  <th>const</th>                                        <td>   77.1440</td> <td>    0.042</td> <td> 1858.798</td> <td> 0.000</td> <td>   77.063</td> <td>   77.225</td>\n",
       "</tr>\n",
       "<tr>\n",
       "  <th>Injury_deaths_raw_value</th>                      <td>   -0.8379</td> <td>    0.054</td> <td>  -15.534</td> <td> 0.000</td> <td>   -0.944</td> <td>   -0.732</td>\n",
       "</tr>\n",
       "<tr>\n",
       "  <th>Teen_births_raw_value</th>                        <td>   -0.8156</td> <td>    0.063</td> <td>  -12.967</td> <td> 0.000</td> <td>   -0.939</td> <td>   -0.692</td>\n",
       "</tr>\n",
       "<tr>\n",
       "  <th>Diabetes_prevalence_raw_value</th>                <td>   -0.5442</td> <td>    0.065</td> <td>   -8.412</td> <td> 0.000</td> <td>   -0.671</td> <td>   -0.417</td>\n",
       "</tr>\n",
       "<tr>\n",
       "  <th>Air_pollution___particulate_matter_raw_value</th> <td>   -0.4138</td> <td>    0.056</td> <td>   -7.383</td> <td> 0.000</td> <td>   -0.524</td> <td>   -0.304</td>\n",
       "</tr>\n",
       "<tr>\n",
       "  <th>Uninsured_raw_value</th>                          <td>    2.7002</td> <td>    0.386</td> <td>    6.997</td> <td> 0.000</td> <td>    1.943</td> <td>    3.457</td>\n",
       "</tr>\n",
       "<tr>\n",
       "  <th>Uninsured_adults_raw_value</th>                   <td>   -2.6010</td> <td>    0.396</td> <td>   -6.563</td> <td> 0.000</td> <td>   -3.379</td> <td>   -1.823</td>\n",
       "</tr>\n",
       "<tr>\n",
       "  <th>Sexually_transmitted_infections_raw_value</th>    <td>   -0.2904</td> <td>    0.046</td> <td>   -6.268</td> <td> 0.000</td> <td>   -0.381</td> <td>   -0.199</td>\n",
       "</tr>\n",
       "<tr>\n",
       "  <th>Mental_health_providers_raw_value</th>            <td>   -0.1718</td> <td>    0.043</td> <td>   -4.007</td> <td> 0.000</td> <td>   -0.256</td> <td>   -0.088</td>\n",
       "</tr>\n",
       "<tr>\n",
       "  <th>Population_raw_value</th>                         <td>    0.1998</td> <td>    0.050</td> <td>    3.972</td> <td> 0.000</td> <td>    0.101</td> <td>    0.299</td>\n",
       "</tr>\n",
       "<tr>\n",
       "  <th>High_school_graduation_raw_value</th>             <td>   -0.1544</td> <td>    0.046</td> <td>   -3.326</td> <td> 0.001</td> <td>   -0.246</td> <td>   -0.063</td>\n",
       "</tr>\n",
       "<tr>\n",
       "  <th>Motor_vehicle_crash_deaths_raw_value</th>         <td>   -0.1830</td> <td>    0.056</td> <td>   -3.239</td> <td> 0.001</td> <td>   -0.294</td> <td>   -0.072</td>\n",
       "</tr>\n",
       "<tr>\n",
       "  <th>County_Ranked</th>                                <td>    0.1380</td> <td>    0.045</td> <td>    3.078</td> <td> 0.002</td> <td>    0.050</td> <td>    0.226</td>\n",
       "</tr>\n",
       "<tr>\n",
       "  <th>Adult_obesity_raw_value</th>                      <td>   -0.1466</td> <td>    0.060</td> <td>   -2.443</td> <td> 0.015</td> <td>   -0.264</td> <td>   -0.029</td>\n",
       "</tr>\n",
       "<tr>\n",
       "  <th>Alcohol_impaired_driving_deaths_raw_value</th>    <td>    0.1039</td> <td>    0.044</td> <td>    2.339</td> <td> 0.020</td> <td>    0.017</td> <td>    0.191</td>\n",
       "</tr>\n",
       "</table>\n",
       "<table class=\"simpletable\">\n",
       "<tr>\n",
       "  <th>Omnibus:</th>       <td>67.261</td> <th>  Durbin-Watson:     </th> <td>   1.986</td>\n",
       "</tr>\n",
       "<tr>\n",
       "  <th>Prob(Omnibus):</th> <td> 0.000</td> <th>  Jarque-Bera (JB):  </th> <td> 202.896</td>\n",
       "</tr>\n",
       "<tr>\n",
       "  <th>Skew:</th>          <td>-0.284</td> <th>  Prob(JB):          </th> <td>8.74e-45</td>\n",
       "</tr>\n",
       "<tr>\n",
       "  <th>Kurtosis:</th>      <td> 5.105</td> <th>  Cond. No.          </th> <td>    25.2</td>\n",
       "</tr>\n",
       "</table><br/><br/>Warnings:<br/>[1] Standard Errors assume that the covariance matrix of the errors is correctly specified."
      ],
      "text/plain": [
       "<class 'statsmodels.iolib.summary.Summary'>\n",
       "\"\"\"\n",
       "                            OLS Regression Results                            \n",
       "==============================================================================\n",
       "Dep. Variable:        Life_Expectancy   R-squared:                       0.740\n",
       "Model:                            OLS   Adj. R-squared:                  0.737\n",
       "Method:                 Least Squares   F-statistic:                     205.3\n",
       "Date:                Tue, 14 Jan 2020   Prob (F-statistic):          2.10e-283\n",
       "Time:                        15:59:57   Log-Likelihood:                -1721.8\n",
       "No. Observations:                1024   AIC:                             3474.\n",
       "Df Residuals:                    1009   BIC:                             3548.\n",
       "Df Model:                          14                                         \n",
       "Covariance Type:            nonrobust                                         \n",
       "================================================================================================================\n",
       "                                                   coef    std err          t      P>|t|      [0.025      0.975]\n",
       "----------------------------------------------------------------------------------------------------------------\n",
       "const                                           77.1440      0.042   1858.798      0.000      77.063      77.225\n",
       "Injury_deaths_raw_value                         -0.8379      0.054    -15.534      0.000      -0.944      -0.732\n",
       "Teen_births_raw_value                           -0.8156      0.063    -12.967      0.000      -0.939      -0.692\n",
       "Diabetes_prevalence_raw_value                   -0.5442      0.065     -8.412      0.000      -0.671      -0.417\n",
       "Air_pollution___particulate_matter_raw_value    -0.4138      0.056     -7.383      0.000      -0.524      -0.304\n",
       "Uninsured_raw_value                              2.7002      0.386      6.997      0.000       1.943       3.457\n",
       "Uninsured_adults_raw_value                      -2.6010      0.396     -6.563      0.000      -3.379      -1.823\n",
       "Sexually_transmitted_infections_raw_value       -0.2904      0.046     -6.268      0.000      -0.381      -0.199\n",
       "Mental_health_providers_raw_value               -0.1718      0.043     -4.007      0.000      -0.256      -0.088\n",
       "Population_raw_value                             0.1998      0.050      3.972      0.000       0.101       0.299\n",
       "High_school_graduation_raw_value                -0.1544      0.046     -3.326      0.001      -0.246      -0.063\n",
       "Motor_vehicle_crash_deaths_raw_value            -0.1830      0.056     -3.239      0.001      -0.294      -0.072\n",
       "County_Ranked                                    0.1380      0.045      3.078      0.002       0.050       0.226\n",
       "Adult_obesity_raw_value                         -0.1466      0.060     -2.443      0.015      -0.264      -0.029\n",
       "Alcohol_impaired_driving_deaths_raw_value        0.1039      0.044      2.339      0.020       0.017       0.191\n",
       "==============================================================================\n",
       "Omnibus:                       67.261   Durbin-Watson:                   1.986\n",
       "Prob(Omnibus):                  0.000   Jarque-Bera (JB):              202.896\n",
       "Skew:                          -0.284   Prob(JB):                     8.74e-45\n",
       "Kurtosis:                       5.105   Cond. No.                         25.2\n",
       "==============================================================================\n",
       "\n",
       "Warnings:\n",
       "[1] Standard Errors assume that the covariance matrix of the errors is correctly specified.\n",
       "\"\"\""
      ]
     },
     "execution_count": 33,
     "metadata": {},
     "output_type": "execute_result"
    }
   ],
   "source": [
    "X_const = sm.add_constant(X_3)\n",
    "\n",
    "model3 = sm.OLS(y, X_const).fit()\n",
    "model3.summary()"
   ]
  },
  {
   "cell_type": "code",
   "execution_count": null,
   "metadata": {},
   "outputs": [],
   "source": []
  },
  {
   "cell_type": "markdown",
   "metadata": {},
   "source": [
    "# Interactions "
   ]
  },
  {
   "cell_type": "code",
   "execution_count": 34,
   "metadata": {},
   "outputs": [],
   "source": [
    "def feature_combinations_r_sqrd_with_Inter_df(X, y, num_feat_comb=2):\n",
    "    # Requires cals: baseline & crossvalidation\n",
    "    \n",
    "    # Create Regression & Combinations\n",
    "    from itertools import combinations\n",
    "    combinations = list(combinations(list(X.columns), num_feat_comb))\n",
    "    \n",
    "    # Create cross-validation & output a bassline MSE score as a DataFrame\n",
    "    comb_scores = []\n",
    "    inter_cols = []\n",
    "    inter_score = []\n",
    "    data = X.copy()\n",
    "    \n",
    "    for comb in combinations:\n",
    "        data['interaction'] = data[comb[0]] * data[comb[1]]\n",
    "        score = np.mean(cross_val_score(regression, data, y, scoring='r2', cv=crossvalidation))\n",
    "        if score > baseline: \n",
    "            comb_scores.append(round(score,3))\n",
    "            inter_cols.append((str(comb[0]) + '_' + str(comb[1])))\n",
    "            inter_score.append(data[comb[0]] * data[comb[1]])\n",
    "    \n",
    "    df_base = pd.DataFrame(data=[inter_cols, comb_scores])\n",
    "    df_base = df_base.T  \n",
    "    df_base.rename(columns={0: \"Interaction\", 1: \"CV_score\"}, inplace=True)\n",
    "    df_base.sort_values(by='CV_score', inplace = True, ascending=False )\n",
    "    df_base.reset_index(drop=True, inplace = True)\n",
    "    \n",
    "    df_interactions_scores = pd.DataFrame(data=inter_score , index=inter_cols)\n",
    "    df_interactions_scores = df_interactions_scores.T\n",
    "    \n",
    "\n",
    "    return df_base , df_interactions_scores"
   ]
  },
  {
   "cell_type": "code",
   "execution_count": 35,
   "metadata": {},
   "outputs": [
    {
     "name": "stdout",
     "output_type": "stream",
     "text": [
      "Inital R^2: 0.7190319812371024\n"
     ]
    }
   ],
   "source": [
    "regression = LinearRegression()\n",
    "\n",
    "crossvalidation = KFold(n_splits=10, shuffle=True, random_state=1)\n",
    "baseline = np.mean(cross_val_score(regression, X_3, y, scoring='r2', cv=crossvalidation))\n",
    "print(\"Inital R^2:\", baseline)"
   ]
  },
  {
   "cell_type": "code",
   "execution_count": 36,
   "metadata": {},
   "outputs": [],
   "source": [
    "df_base, df_score = feature_combinations_r_sqrd_with_Inter_df(X_3,y)"
   ]
  },
  {
   "cell_type": "code",
   "execution_count": 37,
   "metadata": {},
   "outputs": [
    {
     "data": {
      "text/html": [
       "<div>\n",
       "<style scoped>\n",
       "    .dataframe tbody tr th:only-of-type {\n",
       "        vertical-align: middle;\n",
       "    }\n",
       "\n",
       "    .dataframe tbody tr th {\n",
       "        vertical-align: top;\n",
       "    }\n",
       "\n",
       "    .dataframe thead th {\n",
       "        text-align: right;\n",
       "    }\n",
       "</style>\n",
       "<table border=\"1\" class=\"dataframe\">\n",
       "  <thead>\n",
       "    <tr style=\"text-align: right;\">\n",
       "      <th></th>\n",
       "      <th>Interaction</th>\n",
       "      <th>CV_score</th>\n",
       "    </tr>\n",
       "  </thead>\n",
       "  <tbody>\n",
       "    <tr>\n",
       "      <td>0</td>\n",
       "      <td>Teen_births_raw_value_Uninsured_adults_raw_value</td>\n",
       "      <td>0.728</td>\n",
       "    </tr>\n",
       "    <tr>\n",
       "      <td>1</td>\n",
       "      <td>Teen_births_raw_value_Uninsured_raw_value</td>\n",
       "      <td>0.728</td>\n",
       "    </tr>\n",
       "    <tr>\n",
       "      <td>2</td>\n",
       "      <td>Injury_deaths_raw_value_Adult_obesity_raw_value</td>\n",
       "      <td>0.726</td>\n",
       "    </tr>\n",
       "    <tr>\n",
       "      <td>3</td>\n",
       "      <td>Teen_births_raw_value_Diabetes_prevalence_raw_...</td>\n",
       "      <td>0.724</td>\n",
       "    </tr>\n",
       "    <tr>\n",
       "      <td>4</td>\n",
       "      <td>Injury_deaths_raw_value_Teen_births_raw_value</td>\n",
       "      <td>0.724</td>\n",
       "    </tr>\n",
       "    <tr>\n",
       "      <td>5</td>\n",
       "      <td>Injury_deaths_raw_value_County_Ranked</td>\n",
       "      <td>0.724</td>\n",
       "    </tr>\n",
       "    <tr>\n",
       "      <td>6</td>\n",
       "      <td>Injury_deaths_raw_value_Air_pollution___partic...</td>\n",
       "      <td>0.723</td>\n",
       "    </tr>\n",
       "    <tr>\n",
       "      <td>7</td>\n",
       "      <td>Teen_births_raw_value_Adult_obesity_raw_value</td>\n",
       "      <td>0.723</td>\n",
       "    </tr>\n",
       "    <tr>\n",
       "      <td>8</td>\n",
       "      <td>Injury_deaths_raw_value_Diabetes_prevalence_ra...</td>\n",
       "      <td>0.722</td>\n",
       "    </tr>\n",
       "    <tr>\n",
       "      <td>9</td>\n",
       "      <td>Population_raw_value_Adult_obesity_raw_value</td>\n",
       "      <td>0.721</td>\n",
       "    </tr>\n",
       "  </tbody>\n",
       "</table>\n",
       "</div>"
      ],
      "text/plain": [
       "                                         Interaction CV_score\n",
       "0   Teen_births_raw_value_Uninsured_adults_raw_value    0.728\n",
       "1          Teen_births_raw_value_Uninsured_raw_value    0.728\n",
       "2    Injury_deaths_raw_value_Adult_obesity_raw_value    0.726\n",
       "3  Teen_births_raw_value_Diabetes_prevalence_raw_...    0.724\n",
       "4      Injury_deaths_raw_value_Teen_births_raw_value    0.724\n",
       "5              Injury_deaths_raw_value_County_Ranked    0.724\n",
       "6  Injury_deaths_raw_value_Air_pollution___partic...    0.723\n",
       "7      Teen_births_raw_value_Adult_obesity_raw_value    0.723\n",
       "8  Injury_deaths_raw_value_Diabetes_prevalence_ra...    0.722\n",
       "9       Population_raw_value_Adult_obesity_raw_value    0.721"
      ]
     },
     "execution_count": 37,
     "metadata": {},
     "output_type": "execute_result"
    }
   ],
   "source": [
    "df_base.head(10)"
   ]
  },
  {
   "cell_type": "code",
   "execution_count": 38,
   "metadata": {},
   "outputs": [],
   "source": [
    "def add_interaction_feature(data, df_inter, df_score, num_inter):\n",
    "    i=0\n",
    "    \n",
    "    while i < num_inter:\n",
    "        col = df_inter['Interaction'][i]\n",
    "  \n",
    "        data[col] = df_score[col]\n",
    "        i+=1\n",
    "    \n",
    "    return data"
   ]
  },
  {
   "cell_type": "code",
   "execution_count": 39,
   "metadata": {},
   "outputs": [
    {
     "name": "stderr",
     "output_type": "stream",
     "text": [
      "/opt/anaconda3/lib/python3.7/site-packages/ipykernel_launcher.py:7: SettingWithCopyWarning: \n",
      "A value is trying to be set on a copy of a slice from a DataFrame.\n",
      "Try using .loc[row_indexer,col_indexer] = value instead\n",
      "\n",
      "See the caveats in the documentation: http://pandas.pydata.org/pandas-docs/stable/user_guide/indexing.html#returning-a-view-versus-a-copy\n",
      "  import sys\n"
     ]
    }
   ],
   "source": [
    "data_combined = add_interaction_feature(X_3, df_base, df_score, 7)"
   ]
  },
  {
   "cell_type": "code",
   "execution_count": 41,
   "metadata": {},
   "outputs": [],
   "source": [
    "# data_combined.head()"
   ]
  },
  {
   "cell_type": "markdown",
   "metadata": {},
   "source": [
    "# Polynomial Parameters"
   ]
  },
  {
   "cell_type": "code",
   "execution_count": 42,
   "metadata": {},
   "outputs": [],
   "source": [
    "# from sklearn.preprocessing import PolynomialFeatures\n",
    "\n",
    "# regression = LinearRegression()\n",
    "# crossvalidation = KFold(n_splits=10, shuffle=True, random_state=1)\n",
    "\n",
    "# polynomials = []\n",
    "# for col in X.columns:\n",
    "#     for degree in [2, 3, 4]:\n",
    "#         data = X.copy()\n",
    "#         poly = PolynomialFeatures(degree, include_bias=False)\n",
    "#         X_transformed = poly.fit_transform(X[[col]])\n",
    "#         data = pd.concat([data.drop(col, axis=1),pd.DataFrame(X_transformed)], axis=1)\n",
    "#         score = np.mean(cross_val_score(regression, data, y, scoring='r2', cv=crossvalidation))\n",
    "#         if score > baseline: polynomials.append((col, degree, round(score, 3)))\n",
    "# print('Top 10 polynomials: %s' %sorted(polynomials, key=lambda poly: poly[2], reverse=True)[:10])"
   ]
  },
  {
   "cell_type": "code",
   "execution_count": 43,
   "metadata": {},
   "outputs": [],
   "source": [
    "# polynom = pd.DataFrame(polynomials)\n",
    "# polynom.groupby([0], sort=False)[2].max()"
   ]
  },
  {
   "cell_type": "markdown",
   "metadata": {},
   "source": [
    "# Full model R-squared  "
   ]
  },
  {
   "cell_type": "code",
   "execution_count": 44,
   "metadata": {},
   "outputs": [
    {
     "name": "stdout",
     "output_type": "stream",
     "text": [
      "Full model R^2: 0.7385666665119374\n"
     ]
    }
   ],
   "source": [
    "full_model = np.mean(cross_val_score(regression, data_combined, y, scoring='r2', cv=crossvalidation))\n",
    "print(\"Full model R^2:\", full_model)"
   ]
  },
  {
   "cell_type": "code",
   "execution_count": 45,
   "metadata": {
    "scrolled": false
   },
   "outputs": [
    {
     "name": "stderr",
     "output_type": "stream",
     "text": [
      "/opt/anaconda3/lib/python3.7/site-packages/numpy/core/fromnumeric.py:2495: FutureWarning: Method .ptp is deprecated and will be removed in a future version. Use numpy.ptp instead.\n",
      "  return ptp(axis=axis, out=out, **kwargs)\n"
     ]
    },
    {
     "data": {
      "text/html": [
       "<table class=\"simpletable\">\n",
       "<caption>OLS Regression Results</caption>\n",
       "<tr>\n",
       "  <th>Dep. Variable:</th>     <td>Life_Expectancy</td> <th>  R-squared:         </th> <td>   0.769</td> \n",
       "</tr>\n",
       "<tr>\n",
       "  <th>Model:</th>                   <td>OLS</td>       <th>  Adj. R-squared:    </th> <td>   0.764</td> \n",
       "</tr>\n",
       "<tr>\n",
       "  <th>Method:</th>             <td>Least Squares</td>  <th>  F-statistic:       </th> <td>   158.9</td> \n",
       "</tr>\n",
       "<tr>\n",
       "  <th>Date:</th>             <td>Tue, 14 Jan 2020</td> <th>  Prob (F-statistic):</th> <td>4.61e-301</td>\n",
       "</tr>\n",
       "<tr>\n",
       "  <th>Time:</th>                 <td>16:00:37</td>     <th>  Log-Likelihood:    </th> <td> -1661.4</td> \n",
       "</tr>\n",
       "<tr>\n",
       "  <th>No. Observations:</th>      <td>  1024</td>      <th>  AIC:               </th> <td>   3367.</td> \n",
       "</tr>\n",
       "<tr>\n",
       "  <th>Df Residuals:</th>          <td>  1002</td>      <th>  BIC:               </th> <td>   3475.</td> \n",
       "</tr>\n",
       "<tr>\n",
       "  <th>Df Model:</th>              <td>    21</td>      <th>                     </th>     <td> </td>    \n",
       "</tr>\n",
       "<tr>\n",
       "  <th>Covariance Type:</th>      <td>nonrobust</td>    <th>                     </th>     <td> </td>    \n",
       "</tr>\n",
       "</table>\n",
       "<table class=\"simpletable\">\n",
       "<tr>\n",
       "                                    <td></td>                                      <th>coef</th>     <th>std err</th>      <th>t</th>      <th>P>|t|</th>  <th>[0.025</th>    <th>0.975]</th>  \n",
       "</tr>\n",
       "<tr>\n",
       "  <th>const</th>                                                                <td>   77.0629</td> <td>    0.047</td> <td> 1640.078</td> <td> 0.000</td> <td>   76.971</td> <td>   77.155</td>\n",
       "</tr>\n",
       "<tr>\n",
       "  <th>Injury_deaths_raw_value</th>                                              <td>   -0.8472</td> <td>    0.057</td> <td>  -14.746</td> <td> 0.000</td> <td>   -0.960</td> <td>   -0.734</td>\n",
       "</tr>\n",
       "<tr>\n",
       "  <th>Teen_births_raw_value</th>                                                <td>   -0.8471</td> <td>    0.061</td> <td>  -13.850</td> <td> 0.000</td> <td>   -0.967</td> <td>   -0.727</td>\n",
       "</tr>\n",
       "<tr>\n",
       "  <th>Diabetes_prevalence_raw_value</th>                                        <td>   -0.3939</td> <td>    0.064</td> <td>   -6.119</td> <td> 0.000</td> <td>   -0.520</td> <td>   -0.268</td>\n",
       "</tr>\n",
       "<tr>\n",
       "  <th>Air_pollution___particulate_matter_raw_value</th>                         <td>   -0.3646</td> <td>    0.055</td> <td>   -6.660</td> <td> 0.000</td> <td>   -0.472</td> <td>   -0.257</td>\n",
       "</tr>\n",
       "<tr>\n",
       "  <th>Uninsured_raw_value</th>                                                  <td>    3.2737</td> <td>    0.419</td> <td>    7.813</td> <td> 0.000</td> <td>    2.452</td> <td>    4.096</td>\n",
       "</tr>\n",
       "<tr>\n",
       "  <th>Uninsured_adults_raw_value</th>                                           <td>   -3.4098</td> <td>    0.433</td> <td>   -7.866</td> <td> 0.000</td> <td>   -4.260</td> <td>   -2.559</td>\n",
       "</tr>\n",
       "<tr>\n",
       "  <th>Sexually_transmitted_infections_raw_value</th>                            <td>   -0.2486</td> <td>    0.047</td> <td>   -5.324</td> <td> 0.000</td> <td>   -0.340</td> <td>   -0.157</td>\n",
       "</tr>\n",
       "<tr>\n",
       "  <th>Mental_health_providers_raw_value</th>                                    <td>   -0.0932</td> <td>    0.042</td> <td>   -2.240</td> <td> 0.025</td> <td>   -0.175</td> <td>   -0.012</td>\n",
       "</tr>\n",
       "<tr>\n",
       "  <th>Population_raw_value</th>                                                 <td>    0.2103</td> <td>    0.049</td> <td>    4.286</td> <td> 0.000</td> <td>    0.114</td> <td>    0.307</td>\n",
       "</tr>\n",
       "<tr>\n",
       "  <th>High_school_graduation_raw_value</th>                                     <td>   -0.1170</td> <td>    0.044</td> <td>   -2.647</td> <td> 0.008</td> <td>   -0.204</td> <td>   -0.030</td>\n",
       "</tr>\n",
       "<tr>\n",
       "  <th>Motor_vehicle_crash_deaths_raw_value</th>                                 <td>   -0.0831</td> <td>    0.055</td> <td>   -1.510</td> <td> 0.131</td> <td>   -0.191</td> <td>    0.025</td>\n",
       "</tr>\n",
       "<tr>\n",
       "  <th>County_Ranked</th>                                                        <td>    0.1328</td> <td>    0.043</td> <td>    3.091</td> <td> 0.002</td> <td>    0.048</td> <td>    0.217</td>\n",
       "</tr>\n",
       "<tr>\n",
       "  <th>Adult_obesity_raw_value</th>                                              <td>   -0.1074</td> <td>    0.057</td> <td>   -1.868</td> <td> 0.062</td> <td>   -0.220</td> <td>    0.005</td>\n",
       "</tr>\n",
       "<tr>\n",
       "  <th>Alcohol_impaired_driving_deaths_raw_value</th>                            <td>    0.1085</td> <td>    0.042</td> <td>    2.565</td> <td> 0.010</td> <td>    0.026</td> <td>    0.192</td>\n",
       "</tr>\n",
       "<tr>\n",
       "  <th>Teen_births_raw_value_Uninsured_adults_raw_value</th>                     <td>    0.5759</td> <td>    0.247</td> <td>    2.332</td> <td> 0.020</td> <td>    0.091</td> <td>    1.061</td>\n",
       "</tr>\n",
       "<tr>\n",
       "  <th>Teen_births_raw_value_Uninsured_raw_value</th>                            <td>   -0.3029</td> <td>    0.254</td> <td>   -1.192</td> <td> 0.233</td> <td>   -0.802</td> <td>    0.196</td>\n",
       "</tr>\n",
       "<tr>\n",
       "  <th>Injury_deaths_raw_value_Adult_obesity_raw_value</th>                      <td>   -0.0676</td> <td>    0.050</td> <td>   -1.363</td> <td> 0.173</td> <td>   -0.165</td> <td>    0.030</td>\n",
       "</tr>\n",
       "<tr>\n",
       "  <th>Teen_births_raw_value_Diabetes_prevalence_raw_value</th>                  <td>   -0.0627</td> <td>    0.049</td> <td>   -1.287</td> <td> 0.198</td> <td>   -0.158</td> <td>    0.033</td>\n",
       "</tr>\n",
       "<tr>\n",
       "  <th>Injury_deaths_raw_value_Teen_births_raw_value</th>                        <td>   -0.2062</td> <td>    0.043</td> <td>   -4.850</td> <td> 0.000</td> <td>   -0.290</td> <td>   -0.123</td>\n",
       "</tr>\n",
       "<tr>\n",
       "  <th>Injury_deaths_raw_value_County_Ranked</th>                                <td>   -0.0423</td> <td>    0.029</td> <td>   -1.468</td> <td> 0.142</td> <td>   -0.099</td> <td>    0.014</td>\n",
       "</tr>\n",
       "<tr>\n",
       "  <th>Injury_deaths_raw_value_Air_pollution___particulate_matter_raw_value</th> <td>   -0.1884</td> <td>    0.045</td> <td>   -4.190</td> <td> 0.000</td> <td>   -0.277</td> <td>   -0.100</td>\n",
       "</tr>\n",
       "</table>\n",
       "<table class=\"simpletable\">\n",
       "<tr>\n",
       "  <th>Omnibus:</th>       <td>67.406</td> <th>  Durbin-Watson:     </th> <td>   1.921</td>\n",
       "</tr>\n",
       "<tr>\n",
       "  <th>Prob(Omnibus):</th> <td> 0.000</td> <th>  Jarque-Bera (JB):  </th> <td> 179.906</td>\n",
       "</tr>\n",
       "<tr>\n",
       "  <th>Skew:</th>          <td>-0.333</td> <th>  Prob(JB):          </th> <td>8.59e-40</td>\n",
       "</tr>\n",
       "<tr>\n",
       "  <th>Kurtosis:</th>      <td> 4.943</td> <th>  Cond. No.          </th> <td>    42.1</td>\n",
       "</tr>\n",
       "</table><br/><br/>Warnings:<br/>[1] Standard Errors assume that the covariance matrix of the errors is correctly specified."
      ],
      "text/plain": [
       "<class 'statsmodels.iolib.summary.Summary'>\n",
       "\"\"\"\n",
       "                            OLS Regression Results                            \n",
       "==============================================================================\n",
       "Dep. Variable:        Life_Expectancy   R-squared:                       0.769\n",
       "Model:                            OLS   Adj. R-squared:                  0.764\n",
       "Method:                 Least Squares   F-statistic:                     158.9\n",
       "Date:                Tue, 14 Jan 2020   Prob (F-statistic):          4.61e-301\n",
       "Time:                        16:00:37   Log-Likelihood:                -1661.4\n",
       "No. Observations:                1024   AIC:                             3367.\n",
       "Df Residuals:                    1002   BIC:                             3475.\n",
       "Df Model:                          21                                         \n",
       "Covariance Type:            nonrobust                                         \n",
       "========================================================================================================================================\n",
       "                                                                           coef    std err          t      P>|t|      [0.025      0.975]\n",
       "----------------------------------------------------------------------------------------------------------------------------------------\n",
       "const                                                                   77.0629      0.047   1640.078      0.000      76.971      77.155\n",
       "Injury_deaths_raw_value                                                 -0.8472      0.057    -14.746      0.000      -0.960      -0.734\n",
       "Teen_births_raw_value                                                   -0.8471      0.061    -13.850      0.000      -0.967      -0.727\n",
       "Diabetes_prevalence_raw_value                                           -0.3939      0.064     -6.119      0.000      -0.520      -0.268\n",
       "Air_pollution___particulate_matter_raw_value                            -0.3646      0.055     -6.660      0.000      -0.472      -0.257\n",
       "Uninsured_raw_value                                                      3.2737      0.419      7.813      0.000       2.452       4.096\n",
       "Uninsured_adults_raw_value                                              -3.4098      0.433     -7.866      0.000      -4.260      -2.559\n",
       "Sexually_transmitted_infections_raw_value                               -0.2486      0.047     -5.324      0.000      -0.340      -0.157\n",
       "Mental_health_providers_raw_value                                       -0.0932      0.042     -2.240      0.025      -0.175      -0.012\n",
       "Population_raw_value                                                     0.2103      0.049      4.286      0.000       0.114       0.307\n",
       "High_school_graduation_raw_value                                        -0.1170      0.044     -2.647      0.008      -0.204      -0.030\n",
       "Motor_vehicle_crash_deaths_raw_value                                    -0.0831      0.055     -1.510      0.131      -0.191       0.025\n",
       "County_Ranked                                                            0.1328      0.043      3.091      0.002       0.048       0.217\n",
       "Adult_obesity_raw_value                                                 -0.1074      0.057     -1.868      0.062      -0.220       0.005\n",
       "Alcohol_impaired_driving_deaths_raw_value                                0.1085      0.042      2.565      0.010       0.026       0.192\n",
       "Teen_births_raw_value_Uninsured_adults_raw_value                         0.5759      0.247      2.332      0.020       0.091       1.061\n",
       "Teen_births_raw_value_Uninsured_raw_value                               -0.3029      0.254     -1.192      0.233      -0.802       0.196\n",
       "Injury_deaths_raw_value_Adult_obesity_raw_value                         -0.0676      0.050     -1.363      0.173      -0.165       0.030\n",
       "Teen_births_raw_value_Diabetes_prevalence_raw_value                     -0.0627      0.049     -1.287      0.198      -0.158       0.033\n",
       "Injury_deaths_raw_value_Teen_births_raw_value                           -0.2062      0.043     -4.850      0.000      -0.290      -0.123\n",
       "Injury_deaths_raw_value_County_Ranked                                   -0.0423      0.029     -1.468      0.142      -0.099       0.014\n",
       "Injury_deaths_raw_value_Air_pollution___particulate_matter_raw_value    -0.1884      0.045     -4.190      0.000      -0.277      -0.100\n",
       "==============================================================================\n",
       "Omnibus:                       67.406   Durbin-Watson:                   1.921\n",
       "Prob(Omnibus):                  0.000   Jarque-Bera (JB):              179.906\n",
       "Skew:                          -0.333   Prob(JB):                     8.59e-40\n",
       "Kurtosis:                       4.943   Cond. No.                         42.1\n",
       "==============================================================================\n",
       "\n",
       "Warnings:\n",
       "[1] Standard Errors assume that the covariance matrix of the errors is correctly specified.\n",
       "\"\"\""
      ]
     },
     "execution_count": 45,
     "metadata": {},
     "output_type": "execute_result"
    }
   ],
   "source": [
    "X_const = sm.add_constant(data_combined)\n",
    "\n",
    "model = sm.OLS(y, X_const).fit()\n",
    "model.summary()"
   ]
  },
  {
   "cell_type": "code",
   "execution_count": 46,
   "metadata": {},
   "outputs": [
    {
     "data": {
      "image/png": "[encoded data removed]",
      "text/plain": [
       "<Figure size 432x288 with 1 Axes>"
      ]
     },
     "metadata": {
      "needs_background": "light"
     },
     "output_type": "display_data"
    }
   ],
   "source": [
    "model_qqplot = sm.graphics.qqplot(model.resid, dist=stats.norm, line='45', fit=True)"
   ]
  },
  {
   "cell_type": "markdown",
   "metadata": {},
   "source": [
    "# Lasso"
   ]
  },
  {
   "cell_type": "code",
   "execution_count": 56,
   "metadata": {},
   "outputs": [],
   "source": [
    "X_final = data_combined"
   ]
  },
  {
   "cell_type": "markdown",
   "metadata": {},
   "source": [
    "## AIC & BIC Alpha Selection using Lasso"
   ]
  },
  {
   "cell_type": "code",
   "execution_count": 49,
   "metadata": {},
   "outputs": [],
   "source": [
    "from sklearn.linear_model import LassoCV, LassoLarsCV, LassoLarsIC"
   ]
  },
  {
   "cell_type": "code",
   "execution_count": 51,
   "metadata": {},
   "outputs": [
    {
     "name": "stderr",
     "output_type": "stream",
     "text": [
      "/opt/anaconda3/lib/python3.7/site-packages/ipykernel_launcher.py:16: RuntimeWarning: divide by zero encountered in log10\n",
      "  app.launch_new_instance()\n"
     ]
    },
    {
     "data": {
      "image/png": "[encoded data removed]",
      "text/plain": [
       "<Figure size 432x288 with 1 Axes>"
      ]
     },
     "metadata": {
      "needs_background": "light"
     },
     "output_type": "display_data"
    }
   ],
   "source": [
    "# Finding the optimum alpha value for the AIC & BIC critiria\n",
    "\n",
    "model_bic = LassoLarsIC(criterion='bic')\n",
    "model_bic.fit(X, y)\n",
    "alpha_bic_ = model_bic.alpha_\n",
    "\n",
    "model_aic = LassoLarsIC(criterion='aic')\n",
    "model_aic.fit(X, y)\n",
    "alpha_aic_ = model_aic.alpha_\n",
    "\n",
    "\n",
    "def plot_ic_criterion(model, name, color):\n",
    "    alpha_ = model.alpha_\n",
    "    alphas_ = model.alphas_\n",
    "    criterion_ = model.criterion_\n",
    "    plt.plot(-np.log10(alphas_), criterion_, '--', color=color, linewidth=2, label= name)\n",
    "    plt.axvline(-np.log10(alpha_), color=color, linewidth=2,\n",
    "                label='alpha for %s ' % name)\n",
    "    plt.xlabel('-log(alpha)')\n",
    "    plt.ylabel('criterion')\n",
    "\n",
    "plt.figure()\n",
    "plot_ic_criterion(model_aic, 'AIC', 'green')\n",
    "plot_ic_criterion(model_bic, 'BIC', 'blue')\n",
    "plt.legend()\n",
    "plt.title('Information-criterion for model selection');"
   ]
  },
  {
   "cell_type": "markdown",
   "metadata": {},
   "source": [
    "## Checking Against the test data"
   ]
  },
  {
   "cell_type": "code",
   "execution_count": 66,
   "metadata": {},
   "outputs": [],
   "source": [
    "from sklearn.linear_model import Lasso\n",
    "from sklearn.metrics import mean_squared_error, mean_squared_log_error"
   ]
  },
  {
   "cell_type": "code",
   "execution_count": 80,
   "metadata": {},
   "outputs": [],
   "source": [
    "def model_validation(X_train, y_train, X_test, y_test):\n",
    "    # cuting shapes\n",
    "    print(X_train.shape, y_train.shape, X_test.shape, y_test.shape)\n",
    "    \n",
    "    # Code for baseline model\n",
    "    linreg_all = LinearRegression()\n",
    "    linreg_all.fit(X_train, y_train)\n",
    "\n",
    "    # Print R2 and MSE\n",
    "    print(\"Model\")\n",
    "    print(\"----------------------------------------\")\n",
    "    print('Training r^2:', linreg_all.score(X_train, y_train))\n",
    "    print('Test r^2:', linreg_all.score(X_test, y_test))\n",
    "    print(\"----------------------------------------\")\n",
    "    print('Training MSE:', mean_squared_error(y_train, linreg_all.predict(X_train)))\n",
    "    print('Test MSE:', mean_squared_error(y_test, linreg_all.predict(X_test)))"
   ]
  },
  {
   "cell_type": "markdown",
   "metadata": {},
   "source": [
    "### Baseline model validation"
   ]
  },
  {
   "cell_type": "code",
   "execution_count": 81,
   "metadata": {
    "scrolled": true
   },
   "outputs": [
    {
     "name": "stdout",
     "output_type": "stream",
     "text": [
      "(1138, 54) (1138,) (1000, 54) (1000,)\n",
      "Model\n",
      "----------------------------------------\n",
      "Training r^2: 0.921646427639468\n",
      "Test r^2: 0.8818968029390362\n",
      "----------------------------------------\n",
      "Training MSE: 0.7231488985132823\n",
      "Test MSE: 0.9668867911017314\n"
     ]
    }
   ],
   "source": [
    "model_validation(X_train, y_train , X_test, y_test)"
   ]
  },
  {
   "cell_type": "markdown",
   "metadata": {},
   "source": [
    "### RFE Model Validation"
   ]
  },
  {
   "cell_type": "code",
   "execution_count": 74,
   "metadata": {},
   "outputs": [],
   "source": [
    "X_cols = list(X_2.columns)\n",
    "X_3_test = X_test[X_cols]"
   ]
  },
  {
   "cell_type": "code",
   "execution_count": 79,
   "metadata": {},
   "outputs": [
    {
     "data": {
      "text/plain": [
       "((1024, 14), (1138,), (1000, 14), (1000,))"
      ]
     },
     "execution_count": 79,
     "metadata": {},
     "output_type": "execute_result"
    }
   ],
   "source": [
    "X_2.shape, y_train.shape , X_3_test.shape, y_test.shape"
   ]
  },
  {
   "cell_type": "code",
   "execution_count": 76,
   "metadata": {
    "scrolled": false
   },
   "outputs": [
    {
     "ename": "ValueError",
     "evalue": "Found input variables with inconsistent numbers of samples: [1024, 1138]",
     "output_type": "error",
     "traceback": [
      "\u001b[0;31m---------------------------------------------------------------------------\u001b[0m",
      "\u001b[0;31mValueError\u001b[0m                                Traceback (most recent call last)",
      "\u001b[0;32m<ipython-input-76-40aa580b845b>\u001b[0m in \u001b[0;36m<module>\u001b[0;34m\u001b[0m\n\u001b[0;32m----> 1\u001b[0;31m \u001b[0mmodel_validation\u001b[0m\u001b[0;34m(\u001b[0m\u001b[0mX_2\u001b[0m\u001b[0;34m,\u001b[0m \u001b[0my_train\u001b[0m \u001b[0;34m,\u001b[0m \u001b[0mX_3_test\u001b[0m\u001b[0;34m,\u001b[0m \u001b[0my_test\u001b[0m\u001b[0;34m)\u001b[0m\u001b[0;34m\u001b[0m\u001b[0;34m\u001b[0m\u001b[0m\n\u001b[0m",
      "\u001b[0;32m<ipython-input-67-2837c2eddc6c>\u001b[0m in \u001b[0;36mmodel_validation\u001b[0;34m(X_train, y_train, X_test, y_test)\u001b[0m\n\u001b[1;32m      2\u001b[0m     \u001b[0;31m# Code for baseline model\u001b[0m\u001b[0;34m\u001b[0m\u001b[0;34m\u001b[0m\u001b[0;34m\u001b[0m\u001b[0m\n\u001b[1;32m      3\u001b[0m     \u001b[0mlinreg_all\u001b[0m \u001b[0;34m=\u001b[0m \u001b[0mLinearRegression\u001b[0m\u001b[0;34m(\u001b[0m\u001b[0;34m)\u001b[0m\u001b[0;34m\u001b[0m\u001b[0;34m\u001b[0m\u001b[0m\n\u001b[0;32m----> 4\u001b[0;31m     \u001b[0mlinreg_all\u001b[0m\u001b[0;34m.\u001b[0m\u001b[0mfit\u001b[0m\u001b[0;34m(\u001b[0m\u001b[0mX_train\u001b[0m\u001b[0;34m,\u001b[0m \u001b[0my_train\u001b[0m\u001b[0;34m)\u001b[0m\u001b[0;34m\u001b[0m\u001b[0;34m\u001b[0m\u001b[0m\n\u001b[0m\u001b[1;32m      5\u001b[0m \u001b[0;34m\u001b[0m\u001b[0m\n\u001b[1;32m      6\u001b[0m     \u001b[0;31m# Print R2 and MSE\u001b[0m\u001b[0;34m\u001b[0m\u001b[0;34m\u001b[0m\u001b[0;34m\u001b[0m\u001b[0m\n",
      "\u001b[0;32m/opt/anaconda3/lib/python3.7/site-packages/sklearn/linear_model/_base.py\u001b[0m in \u001b[0;36mfit\u001b[0;34m(self, X, y, sample_weight)\u001b[0m\n\u001b[1;32m    490\u001b[0m         \u001b[0mn_jobs_\u001b[0m \u001b[0;34m=\u001b[0m \u001b[0mself\u001b[0m\u001b[0;34m.\u001b[0m\u001b[0mn_jobs\u001b[0m\u001b[0;34m\u001b[0m\u001b[0;34m\u001b[0m\u001b[0m\n\u001b[1;32m    491\u001b[0m         X, y = check_X_y(X, y, accept_sparse=['csr', 'csc', 'coo'],\n\u001b[0;32m--> 492\u001b[0;31m                          y_numeric=True, multi_output=True)\n\u001b[0m\u001b[1;32m    493\u001b[0m \u001b[0;34m\u001b[0m\u001b[0m\n\u001b[1;32m    494\u001b[0m         \u001b[0;32mif\u001b[0m \u001b[0msample_weight\u001b[0m \u001b[0;32mis\u001b[0m \u001b[0;32mnot\u001b[0m \u001b[0;32mNone\u001b[0m\u001b[0;34m:\u001b[0m\u001b[0;34m\u001b[0m\u001b[0;34m\u001b[0m\u001b[0m\n",
      "\u001b[0;32m/opt/anaconda3/lib/python3.7/site-packages/sklearn/utils/validation.py\u001b[0m in \u001b[0;36mcheck_X_y\u001b[0;34m(X, y, accept_sparse, accept_large_sparse, dtype, order, copy, force_all_finite, ensure_2d, allow_nd, multi_output, ensure_min_samples, ensure_min_features, y_numeric, warn_on_dtype, estimator)\u001b[0m\n\u001b[1;32m    763\u001b[0m         \u001b[0my\u001b[0m \u001b[0;34m=\u001b[0m \u001b[0my\u001b[0m\u001b[0;34m.\u001b[0m\u001b[0mastype\u001b[0m\u001b[0;34m(\u001b[0m\u001b[0mnp\u001b[0m\u001b[0;34m.\u001b[0m\u001b[0mfloat64\u001b[0m\u001b[0;34m)\u001b[0m\u001b[0;34m\u001b[0m\u001b[0;34m\u001b[0m\u001b[0m\n\u001b[1;32m    764\u001b[0m \u001b[0;34m\u001b[0m\u001b[0m\n\u001b[0;32m--> 765\u001b[0;31m     \u001b[0mcheck_consistent_length\u001b[0m\u001b[0;34m(\u001b[0m\u001b[0mX\u001b[0m\u001b[0;34m,\u001b[0m \u001b[0my\u001b[0m\u001b[0;34m)\u001b[0m\u001b[0;34m\u001b[0m\u001b[0;34m\u001b[0m\u001b[0m\n\u001b[0m\u001b[1;32m    766\u001b[0m \u001b[0;34m\u001b[0m\u001b[0m\n\u001b[1;32m    767\u001b[0m     \u001b[0;32mreturn\u001b[0m \u001b[0mX\u001b[0m\u001b[0;34m,\u001b[0m \u001b[0my\u001b[0m\u001b[0;34m\u001b[0m\u001b[0;34m\u001b[0m\u001b[0m\n",
      "\u001b[0;32m/opt/anaconda3/lib/python3.7/site-packages/sklearn/utils/validation.py\u001b[0m in \u001b[0;36mcheck_consistent_length\u001b[0;34m(*arrays)\u001b[0m\n\u001b[1;32m    210\u001b[0m     \u001b[0;32mif\u001b[0m \u001b[0mlen\u001b[0m\u001b[0;34m(\u001b[0m\u001b[0muniques\u001b[0m\u001b[0;34m)\u001b[0m \u001b[0;34m>\u001b[0m \u001b[0;36m1\u001b[0m\u001b[0;34m:\u001b[0m\u001b[0;34m\u001b[0m\u001b[0;34m\u001b[0m\u001b[0m\n\u001b[1;32m    211\u001b[0m         raise ValueError(\"Found input variables with inconsistent numbers of\"\n\u001b[0;32m--> 212\u001b[0;31m                          \" samples: %r\" % [int(l) for l in lengths])\n\u001b[0m\u001b[1;32m    213\u001b[0m \u001b[0;34m\u001b[0m\u001b[0m\n\u001b[1;32m    214\u001b[0m \u001b[0;34m\u001b[0m\u001b[0m\n",
      "\u001b[0;31mValueError\u001b[0m: Found input variables with inconsistent numbers of samples: [1024, 1138]"
     ]
    }
   ],
   "source": [
    "model_validation(X_2, y_train , X_3_test, y_test)"
   ]
  },
  {
   "cell_type": "markdown",
   "metadata": {},
   "source": [
    "## Lasso paths"
   ]
  },
  {
   "cell_type": "code",
   "execution_count": 52,
   "metadata": {},
   "outputs": [],
   "source": [
    "from itertools import cycle\n",
    "from sklearn.linear_model import lasso_path, enet_path"
   ]
  },
  {
   "cell_type": "code",
   "execution_count": 59,
   "metadata": {},
   "outputs": [],
   "source": [
    "def comp_lasso_paths(X,y, eps=5e-3):\n",
    "    \n",
    "    eps = eps  # path length (Smaller = Longer)\n",
    "\n",
    "    # Compute paths\n",
    "    print(\"Computing regularization path using the lasso...\")\n",
    "    alphas_lasso, coefs_lasso, _ = lasso_path(X, y, eps, fit_intercept=False)\n",
    "    \n",
    "    print(\"Computing regularization path using the positive lasso...\")\n",
    "    alphas_positive_lasso, coefs_positive_lasso, _ = lasso_path(\n",
    "        X, y, eps, positive=True, fit_intercept=False)\n",
    "    print(\"Computing regularization path using the elastic net...\")\n",
    "    alphas_enet, coefs_enet, _ = enet_path(\n",
    "        X, y, eps=eps, l1_ratio=0.8, fit_intercept=False)\n",
    "\n",
    "    print(\"Computing regularization path using the positive elastic net...\")\n",
    "    alphas_positive_enet, coefs_positive_enet, _ = enet_path(\n",
    "        X, y, eps=eps, l1_ratio=0.8, positive=True, fit_intercept=False)\n",
    "    \n",
    "    # Display results\n",
    "\n",
    "    plt.figure(1)\n",
    "    colors = cycle(['b', 'r', 'g', 'c', 'k'])\n",
    "    neg_log_alphas_lasso = -np.log10(alphas_lasso)\n",
    "    neg_log_alphas_enet = -np.log10(alphas_enet)\n",
    "    for coef_l, coef_e, c in zip(coefs_lasso, coefs_enet, colors):\n",
    "        l1 = plt.plot(neg_log_alphas_lasso, coef_l, c=c)\n",
    "        l2 = plt.plot(neg_log_alphas_enet, coef_e, linestyle='--', c=c)\n",
    "\n",
    "    plt.xlabel('-Log(alpha)')\n",
    "    plt.ylabel('coefficients')\n",
    "    plt.title('Lasso and Elastic-Net Paths')\n",
    "    plt.legend((l1[-1], l2[-1]), ('Lasso', 'Elastic-Net'), loc='lower left')\n",
    "    plt.axis('tight')\n",
    "\n",
    "\n",
    "    plt.figure(2)\n",
    "    neg_log_alphas_positive_lasso = -np.log10(alphas_positive_lasso)\n",
    "    for coef_l, coef_pl, c in zip(coefs_lasso, coefs_positive_lasso, colors):\n",
    "        l1 = plt.plot(neg_log_alphas_lasso, coef_l, c=c)\n",
    "        l2 = plt.plot(neg_log_alphas_positive_lasso, coef_pl, linestyle='--', c=c)\n",
    "\n",
    "    plt.xlabel('-Log(alpha)')\n",
    "    plt.ylabel('coefficients')\n",
    "    plt.title('Lasso and positive Lasso')\n",
    "    plt.legend((l1[-1], l2[-1]), ('Lasso', 'positive Lasso'), loc='lower left')\n",
    "    plt.axis('tight')\n",
    "\n",
    "\n",
    "    plt.figure(3)\n",
    "    neg_log_alphas_positive_enet = -np.log10(alphas_positive_enet)\n",
    "    for (coef_e, coef_pe, c) in zip(coefs_enet, coefs_positive_enet, colors):\n",
    "        l1 = plt.plot(neg_log_alphas_enet, coef_e, c=c)\n",
    "        l2 = plt.plot(neg_log_alphas_positive_enet, coef_pe, linestyle='--', c=c)\n",
    "\n",
    "    plt.xlabel('-Log(alpha)')\n",
    "    plt.ylabel('coefficients')\n",
    "    plt.title('Elastic-Net and positive Elastic-Net')\n",
    "    plt.legend((l1[-1], l2[-1]), ('Elastic-Net', 'positive Elastic-Net'),\n",
    "               loc='lower left')\n",
    "    plt.axis('tight')\n",
    "    plt.show()\n",
    "    \n",
    "    return None"
   ]
  },
  {
   "cell_type": "code",
   "execution_count": 60,
   "metadata": {},
   "outputs": [
    {
     "name": "stdout",
     "output_type": "stream",
     "text": [
      "Computing regularization path using the lasso...\n",
      "Computing regularization path using the positive lasso...\n",
      "Computing regularization path using the elastic net...\n",
      "Computing regularization path using the positive elastic net...\n"
     ]
    },
    {
     "data": {
      "image/png": "[encoded data removed]",
      "text/plain": [
       "<Figure size 432x288 with 1 Axes>"
      ]
     },
     "metadata": {
      "needs_background": "light"
     },
     "output_type": "display_data"
    },
    {
     "data": {
      "image/png": "[encoded data removed]",
      "text/plain": [
       "<Figure size 432x288 with 1 Axes>"
      ]
     },
     "metadata": {
      "needs_background": "light"
     },
     "output_type": "display_data"
    },
    {
     "data": {
      "image/png": "[encoded data removed]",
      "text/plain": [
       "<Figure size 432x288 with 1 Axes>"
      ]
     },
     "metadata": {
      "needs_background": "light"
     },
     "output_type": "display_data"
    }
   ],
   "source": [
    "comp_lasso_paths(X_final, y, eps=5e-3)"
   ]
  },
  {
   "cell_type": "code",
   "execution_count": null,
   "metadata": {},
   "outputs": [],
   "source": [
    "x"
   ]
  },
  {
   "cell_type": "markdown",
   "metadata": {},
   "source": [
    "# ZZ -  Feature ranking to recursive eliminate features"
   ]
  },
  {
   "cell_type": "code",
   "execution_count": null,
   "metadata": {},
   "outputs": [],
   "source": [
    "# df_feat_rank = pd.concat([y,X_1], axis=1)\n",
    "# df_feat_rank.head()"
   ]
  },
  {
   "cell_type": "code",
   "execution_count": null,
   "metadata": {},
   "outputs": [],
   "source": [
    "linreg = LinearRegression()\n",
    "selector = RFE(linreg, n_features_to_select=20) # 20 most important features\n",
    "selector = selector.fit(X_1, y)\n",
    "estimators = selector.estimator_"
   ]
  },
  {
   "cell_type": "code",
   "execution_count": null,
   "metadata": {},
   "outputs": [],
   "source": [
    "# print(selector.support_ )\n",
    "# print(selector.ranking_)\n",
    "# print(estimators.coef_)\n",
    "# print(estimators.intercept_)\n",
    "print(selector.classes_)"
   ]
  },
  {
   "cell_type": "code",
   "execution_count": null,
   "metadata": {},
   "outputs": [],
   "source": [
    "# dir(selector)"
   ]
  },
  {
   "cell_type": "code",
   "execution_count": null,
   "metadata": {},
   "outputs": [],
   "source": [
    "X_cols = list(X_1.columns)\n",
    "X_best = []\n",
    "i=0\n",
    "for x in selector.support_:\n",
    "    if x == True:\n",
    "        X_best.append((X_cols[i], selector.ranking_[i]))\n",
    "    i+=1"
   ]
  },
  {
   "cell_type": "code",
   "execution_count": null,
   "metadata": {},
   "outputs": [],
   "source": [
    "# X_best"
   ]
  },
  {
   "cell_type": "code",
   "execution_count": null,
   "metadata": {},
   "outputs": [],
   "source": [
    "sell = list(zip(X_cols, estimators.coef_, selector.ranking_, selector.support_))\n",
    "df_selection = pd.DataFrame(sell, columns=['X_cols', 'coef','ranking', 'support'])\n",
    "df_selection.sort_values(by=['ranking'], inplace=True)\n",
    "df_selection.head(30)"
   ]
  },
  {
   "cell_type": "code",
   "execution_count": null,
   "metadata": {},
   "outputs": [],
   "source": [
    "corr = X_1.corr()\n",
    "sns.heatmap(corr, \n",
    "        xticklabels=corr.columns,\n",
    "        yticklabels=corr.columns, \n",
    "           center=True)"
   ]
  }
 ],
 "metadata": {
  "kernelspec": {
   "display_name": "Python 3",
   "language": "python",
   "name": "python3"
  },
  "language_info": {
   "codemirror_mode": {
    "name": "ipython",
    "version": 3
   },
   "file_extension": ".py",
   "mimetype": "text/x-python",
   "name": "python",
   "nbconvert_exporter": "python",
   "pygments_lexer": "ipython3",
   "version": "3.7.4"
  },
  "toc": {
   "base_numbering": 1,
   "nav_menu": {},
   "number_sections": true,
   "sideBar": true,
   "skip_h1_title": false,
   "title_cell": "Table of Contents",
   "title_sidebar": "Contents",
   "toc_cell": false,
   "toc_position": {},
   "toc_section_display": true,
   "toc_window_display": false
  }
 },
 "nbformat": 4,
 "nbformat_minor": 2
}
