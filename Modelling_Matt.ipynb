{
 "cells": [
  {
   "cell_type": "markdown",
   "metadata": {},
   "source": [
    "dont need to normalise the varibales "
   ]
  },
  {
   "cell_type": "markdown",
   "metadata": {},
   "source": [
    "## Model Creation: "
   ]
  },
  {
   "cell_type": "code",
   "execution_count": 1,
   "metadata": {},
   "outputs": [],
   "source": [
    "#import the necessary libraries\n",
    "import pandas as pd\n",
    "import numpy as np\n",
    "import matplotlib.pylab as plt\n",
    "%matplotlib inline\n",
    "import seaborn as sns\n",
    "sns.set_style('darkgrid')\n",
    "\n",
    "import re\n",
    "\n",
    "# Statistics\n",
    "from statsmodels.formula.api import ols\n",
    "from statsmodels.stats.outliers_influence import variance_inflation_factor\n",
    "import statsmodels.api as sm\n",
    "import scipy.stats as stats\n",
    "\n",
    "# Sklearn - model_selection\n",
    "from sklearn.model_selection import train_test_split\n",
    "from sklearn.model_selection import cross_val_score\n",
    "from sklearn.model_selection import KFold\n",
    "\n",
    "#Sklearn - linear_model\n",
    "from sklearn.linear_model import LinearRegression\n",
    "from sklearn.linear_model import LassoCV, LassoLarsCV, LassoLarsIC\n",
    "\n",
    "from sklearn.feature_selection import RFE"
   ]
  },
  {
   "cell_type": "code",
   "execution_count": 2,
   "metadata": {},
   "outputs": [],
   "source": [
    "data = pd.read_csv('Life_Expectancy_clean.csv')\n",
    "# data.head()"
   ]
  },
  {
   "cell_type": "code",
   "execution_count": 3,
   "metadata": {},
   "outputs": [],
   "source": [
    "# County_Ranked_(Yes1/No0) is causing an issue therefore rename:\n",
    "data.rename(columns={'County_Ranked_(Yes1/No0)': 'County_Ranked'}, inplace=True)"
   ]
  },
  {
   "cell_type": "markdown",
   "metadata": {},
   "source": [
    "<b>Drop the State Identification columns as they will exactly predict the life expectancy</b>"
   ]
  },
  {
   "cell_type": "code",
   "execution_count": 4,
   "metadata": {},
   "outputs": [],
   "source": [
    "# Drop the  State_FIPS_Code & County_FIPS_Code\n",
    "data.drop(columns=['State_FIPS_Code', 'County_FIPS_Code'], inplace=True)"
   ]
  },
  {
   "cell_type": "markdown",
   "metadata": {},
   "source": [
    "## Check Normality of Variables"
   ]
  },
  {
   "cell_type": "code",
   "execution_count": 5,
   "metadata": {},
   "outputs": [],
   "source": [
    "# X.hist(figsize=(16,30))\n",
    "# plt.show()"
   ]
  },
  {
   "cell_type": "markdown",
   "metadata": {},
   "source": [
    "## Train Test Split"
   ]
  },
  {
   "cell_type": "code",
   "execution_count": 6,
   "metadata": {},
   "outputs": [],
   "source": [
    "X_init = data.drop(columns=['Life_Expectancy'])\n",
    "y_init = data['Life_Expectancy']"
   ]
  },
  {
   "cell_type": "code",
   "execution_count": 7,
   "metadata": {},
   "outputs": [
    {
     "data": {
      "text/plain": [
       "((2138, 54), (2138,))"
      ]
     },
     "execution_count": 7,
     "metadata": {},
     "output_type": "execute_result"
    }
   ],
   "source": [
    "X_init.shape, y_init.shape"
   ]
  },
  {
   "cell_type": "code",
   "execution_count": 8,
   "metadata": {},
   "outputs": [],
   "source": [
    "X_train, X_test, y_train, y_test = train_test_split(X_init, y_init, test_size=1000, random_state=42)"
   ]
  },
  {
   "cell_type": "code",
   "execution_count": 9,
   "metadata": {},
   "outputs": [
    {
     "data": {
      "text/plain": [
       "((1138, 54), (1000, 54), (1138,), (1000,))"
      ]
     },
     "execution_count": 9,
     "metadata": {},
     "output_type": "execute_result"
    }
   ],
   "source": [
    "X_train.shape, X_test.shape, y_train.shape, y_test.shape"
   ]
  },
  {
   "cell_type": "code",
   "execution_count": 10,
   "metadata": {},
   "outputs": [],
   "source": [
    "df_model = pd.concat([y_train,X_train], axis=1)\n",
    "# df_model.head()"
   ]
  },
  {
   "cell_type": "markdown",
   "metadata": {},
   "source": [
    "# Model 1:\n",
    "\n",
    "- All variable carried forward from the cleaning"
   ]
  },
  {
   "cell_type": "markdown",
   "metadata": {},
   "source": [
    "## K-fold / Cross Validation Model"
   ]
  },
  {
   "cell_type": "code",
   "execution_count": 11,
   "metadata": {},
   "outputs": [
    {
     "name": "stdout",
     "output_type": "stream",
     "text": [
      "Inital R^2: 0.9016229194751528\n"
     ]
    }
   ],
   "source": [
    "regression = LinearRegression()\n",
    "\n",
    "crossvalidation = KFold(n_splits=10, shuffle=True, random_state=1)\n",
    "baseline = np.mean(cross_val_score(regression, X_train, y_train, scoring='r2', cv=crossvalidation))\n",
    "print(\"Inital R^2:\", baseline)"
   ]
  },
  {
   "cell_type": "markdown",
   "metadata": {},
   "source": [
    "<b>Observations</b>\n",
    "\n",
    "- Very High R^2 value -> similar to the stats module value\n",
    "- Look to reduce variables"
   ]
  },
  {
   "cell_type": "markdown",
   "metadata": {},
   "source": [
    "## Statsmodule OLS model"
   ]
  },
  {
   "cell_type": "code",
   "execution_count": 12,
   "metadata": {
    "scrolled": true
   },
   "outputs": [
    {
     "name": "stderr",
     "output_type": "stream",
     "text": [
      "/opt/anaconda3/lib/python3.7/site-packages/numpy/core/fromnumeric.py:2495: FutureWarning: Method .ptp is deprecated and will be removed in a future version. Use numpy.ptp instead.\n",
      "  return ptp(axis=axis, out=out, **kwargs)\n"
     ]
    },
    {
     "data": {
      "text/html": [
       "<table class=\"simpletable\">\n",
       "<caption>OLS Regression Results</caption>\n",
       "<tr>\n",
       "  <th>Dep. Variable:</th>     <td>Life_Expectancy</td> <th>  R-squared:         </th> <td>   0.922</td>\n",
       "</tr>\n",
       "<tr>\n",
       "  <th>Model:</th>                   <td>OLS</td>       <th>  Adj. R-squared:    </th> <td>   0.918</td>\n",
       "</tr>\n",
       "<tr>\n",
       "  <th>Method:</th>             <td>Least Squares</td>  <th>  F-statistic:       </th> <td>   235.9</td>\n",
       "</tr>\n",
       "<tr>\n",
       "  <th>Date:</th>             <td>Tue, 14 Jan 2020</td> <th>  Prob (F-statistic):</th>  <td>  0.00</td> \n",
       "</tr>\n",
       "<tr>\n",
       "  <th>Time:</th>                 <td>19:11:43</td>     <th>  Log-Likelihood:    </th> <td> -1430.3</td>\n",
       "</tr>\n",
       "<tr>\n",
       "  <th>No. Observations:</th>      <td>  1138</td>      <th>  AIC:               </th> <td>   2971.</td>\n",
       "</tr>\n",
       "<tr>\n",
       "  <th>Df Residuals:</th>          <td>  1083</td>      <th>  BIC:               </th> <td>   3248.</td>\n",
       "</tr>\n",
       "<tr>\n",
       "  <th>Df Model:</th>              <td>    54</td>      <th>                     </th>     <td> </td>   \n",
       "</tr>\n",
       "<tr>\n",
       "  <th>Covariance Type:</th>      <td>nonrobust</td>    <th>                     </th>     <td> </td>   \n",
       "</tr>\n",
       "</table>\n",
       "<table class=\"simpletable\">\n",
       "<tr>\n",
       "                               <td></td>                                  <th>coef</th>     <th>std err</th>      <th>t</th>      <th>P>|t|</th>  <th>[0.025</th>    <th>0.975]</th>  \n",
       "</tr>\n",
       "<tr>\n",
       "  <th>const</th>                                                       <td>   77.3887</td> <td>    0.026</td> <td> 2975.538</td> <td> 0.000</td> <td>   77.338</td> <td>   77.440</td>\n",
       "</tr>\n",
       "<tr>\n",
       "  <th>Premature_death_raw_value</th>                                   <td>   -0.4079</td> <td>    0.114</td> <td>   -3.576</td> <td> 0.000</td> <td>   -0.632</td> <td>   -0.184</td>\n",
       "</tr>\n",
       "<tr>\n",
       "  <th>Poor_or_fair_health_raw_value</th>                               <td>    0.2454</td> <td>    0.121</td> <td>    2.023</td> <td> 0.043</td> <td>    0.007</td> <td>    0.483</td>\n",
       "</tr>\n",
       "<tr>\n",
       "  <th>Poor_physical_health_days_raw_value</th>                         <td>   -0.4889</td> <td>    0.298</td> <td>   -1.643</td> <td> 0.101</td> <td>   -1.073</td> <td>    0.095</td>\n",
       "</tr>\n",
       "<tr>\n",
       "  <th>Poor_mental_health_days_raw_value</th>                           <td>    0.0090</td> <td>    0.183</td> <td>    0.049</td> <td> 0.961</td> <td>   -0.350</td> <td>    0.368</td>\n",
       "</tr>\n",
       "<tr>\n",
       "  <th>Low_birthweight_raw_value</th>                                   <td>   -0.0182</td> <td>    0.046</td> <td>   -0.399</td> <td> 0.690</td> <td>   -0.107</td> <td>    0.071</td>\n",
       "</tr>\n",
       "<tr>\n",
       "  <th>Adult_smoking_raw_value</th>                                     <td>    0.0593</td> <td>    0.072</td> <td>    0.820</td> <td> 0.412</td> <td>   -0.083</td> <td>    0.201</td>\n",
       "</tr>\n",
       "<tr>\n",
       "  <th>Adult_obesity_raw_value</th>                                     <td>   -0.0275</td> <td>    0.044</td> <td>   -0.628</td> <td> 0.530</td> <td>   -0.113</td> <td>    0.058</td>\n",
       "</tr>\n",
       "<tr>\n",
       "  <th>Food_environment_index_raw_value</th>                            <td>   -0.7075</td> <td>    0.517</td> <td>   -1.368</td> <td> 0.172</td> <td>   -1.722</td> <td>    0.307</td>\n",
       "</tr>\n",
       "<tr>\n",
       "  <th>Physical_inactivity_raw_value</th>                               <td>   -0.0217</td> <td>    0.051</td> <td>   -0.425</td> <td> 0.671</td> <td>   -0.122</td> <td>    0.079</td>\n",
       "</tr>\n",
       "<tr>\n",
       "  <th>Access_to_exercise_opportunities_raw_value</th>                  <td>   -0.0189</td> <td>    0.039</td> <td>   -0.490</td> <td> 0.624</td> <td>   -0.095</td> <td>    0.057</td>\n",
       "</tr>\n",
       "<tr>\n",
       "  <th>Excessive_drinking_raw_value</th>                                <td>   -0.0515</td> <td>    0.050</td> <td>   -1.030</td> <td> 0.303</td> <td>   -0.150</td> <td>    0.047</td>\n",
       "</tr>\n",
       "<tr>\n",
       "  <th>Alcohol_impaired_driving_deaths_raw_value</th>                   <td>    0.0122</td> <td>    0.028</td> <td>    0.432</td> <td> 0.666</td> <td>   -0.043</td> <td>    0.068</td>\n",
       "</tr>\n",
       "<tr>\n",
       "  <th>Sexually_transmitted_infections_raw_value</th>                   <td>    0.0452</td> <td>    0.039</td> <td>    1.172</td> <td> 0.242</td> <td>   -0.031</td> <td>    0.121</td>\n",
       "</tr>\n",
       "<tr>\n",
       "  <th>Teen_births_raw_value</th>                                       <td>    0.0564</td> <td>    0.057</td> <td>    0.983</td> <td> 0.326</td> <td>   -0.056</td> <td>    0.169</td>\n",
       "</tr>\n",
       "<tr>\n",
       "  <th>Uninsured_raw_value</th>                                         <td>    2.1760</td> <td>    0.654</td> <td>    3.327</td> <td> 0.001</td> <td>    0.893</td> <td>    3.460</td>\n",
       "</tr>\n",
       "<tr>\n",
       "  <th>Primary_care_physicians_raw_value</th>                           <td>   -0.0680</td> <td>    0.041</td> <td>   -1.650</td> <td> 0.099</td> <td>   -0.149</td> <td>    0.013</td>\n",
       "</tr>\n",
       "<tr>\n",
       "  <th>Dentists_raw_value</th>                                          <td>    0.0222</td> <td>    0.037</td> <td>    0.607</td> <td> 0.544</td> <td>   -0.050</td> <td>    0.094</td>\n",
       "</tr>\n",
       "<tr>\n",
       "  <th>Mental_health_providers_raw_value</th>                           <td>   -0.0127</td> <td>    0.032</td> <td>   -0.401</td> <td> 0.689</td> <td>   -0.075</td> <td>    0.049</td>\n",
       "</tr>\n",
       "<tr>\n",
       "  <th>Preventable_hospital_stays_raw_value</th>                        <td>   -0.0045</td> <td>    0.034</td> <td>   -0.132</td> <td> 0.895</td> <td>   -0.071</td> <td>    0.062</td>\n",
       "</tr>\n",
       "<tr>\n",
       "  <th>Mammography_screening_raw_value</th>                             <td>   -0.0091</td> <td>    0.040</td> <td>   -0.231</td> <td> 0.817</td> <td>   -0.087</td> <td>    0.068</td>\n",
       "</tr>\n",
       "<tr>\n",
       "  <th>Flu_vaccinations_raw_value</th>                                  <td>    0.0003</td> <td>    0.036</td> <td>    0.008</td> <td> 0.994</td> <td>   -0.071</td> <td>    0.072</td>\n",
       "</tr>\n",
       "<tr>\n",
       "  <th>High_school_graduation_raw_value</th>                            <td>    0.0793</td> <td>    0.033</td> <td>    2.372</td> <td> 0.018</td> <td>    0.014</td> <td>    0.145</td>\n",
       "</tr>\n",
       "<tr>\n",
       "  <th>Some_college_raw_value</th>                                      <td>    0.0132</td> <td>    0.048</td> <td>    0.277</td> <td> 0.782</td> <td>   -0.080</td> <td>    0.107</td>\n",
       "</tr>\n",
       "<tr>\n",
       "  <th>Unemployment_raw_value</th>                                      <td>    0.0959</td> <td>    0.045</td> <td>    2.141</td> <td> 0.032</td> <td>    0.008</td> <td>    0.184</td>\n",
       "</tr>\n",
       "<tr>\n",
       "  <th>Children_in_poverty_raw_value</th>                               <td>   -0.0162</td> <td>    0.076</td> <td>   -0.214</td> <td> 0.831</td> <td>   -0.165</td> <td>    0.132</td>\n",
       "</tr>\n",
       "<tr>\n",
       "  <th>Income_inequality_raw_value</th>                                 <td>    0.1762</td> <td>    0.038</td> <td>    4.678</td> <td> 0.000</td> <td>    0.102</td> <td>    0.250</td>\n",
       "</tr>\n",
       "<tr>\n",
       "  <th>Children_in_single_parent_households_raw_value</th>              <td>    0.0305</td> <td>    0.049</td> <td>    0.623</td> <td> 0.533</td> <td>   -0.066</td> <td>    0.127</td>\n",
       "</tr>\n",
       "<tr>\n",
       "  <th>Social_associations_raw_value</th>                               <td>   -0.0595</td> <td>    0.037</td> <td>   -1.606</td> <td> 0.109</td> <td>   -0.132</td> <td>    0.013</td>\n",
       "</tr>\n",
       "<tr>\n",
       "  <th>Violent_crime_raw_value</th>                                     <td>   -0.0415</td> <td>    0.035</td> <td>   -1.171</td> <td> 0.242</td> <td>   -0.111</td> <td>    0.028</td>\n",
       "</tr>\n",
       "<tr>\n",
       "  <th>Injury_deaths_raw_value</th>                                     <td>   -0.1006</td> <td>    0.044</td> <td>   -2.305</td> <td> 0.021</td> <td>   -0.186</td> <td>   -0.015</td>\n",
       "</tr>\n",
       "<tr>\n",
       "  <th>Air_pollution___particulate_matter_raw_value</th>                <td>   -0.1479</td> <td>    0.045</td> <td>   -3.280</td> <td> 0.001</td> <td>   -0.236</td> <td>   -0.059</td>\n",
       "</tr>\n",
       "<tr>\n",
       "  <th>Severe_housing_problems_raw_value</th>                           <td>   -0.0083</td> <td>    0.059</td> <td>   -0.143</td> <td> 0.887</td> <td>   -0.123</td> <td>    0.106</td>\n",
       "</tr>\n",
       "<tr>\n",
       "  <th>Driving_alone_to_work_raw_value</th>                             <td>   -0.1700</td> <td>    0.038</td> <td>   -4.481</td> <td> 0.000</td> <td>   -0.244</td> <td>   -0.096</td>\n",
       "</tr>\n",
       "<tr>\n",
       "  <th>Long_commute___driving_alone_raw_value</th>                      <td>   -0.0249</td> <td>    0.042</td> <td>   -0.592</td> <td> 0.554</td> <td>   -0.107</td> <td>    0.058</td>\n",
       "</tr>\n",
       "<tr>\n",
       "  <th>Premature_age_adjusted_mortality_raw_value</th>                  <td>   -2.3866</td> <td>    0.122</td> <td>  -19.503</td> <td> 0.000</td> <td>   -2.627</td> <td>   -2.146</td>\n",
       "</tr>\n",
       "<tr>\n",
       "  <th>Frequent_physical_distress_raw_value</th>                        <td>    0.4312</td> <td>    0.383</td> <td>    1.126</td> <td> 0.261</td> <td>   -0.320</td> <td>    1.183</td>\n",
       "</tr>\n",
       "<tr>\n",
       "  <th>Frequent_mental_distress_raw_value</th>                          <td>   -0.0349</td> <td>    0.247</td> <td>   -0.141</td> <td> 0.888</td> <td>   -0.520</td> <td>    0.450</td>\n",
       "</tr>\n",
       "<tr>\n",
       "  <th>Diabetes_prevalence_raw_value</th>                               <td>    0.0923</td> <td>    0.059</td> <td>    1.575</td> <td> 0.116</td> <td>   -0.023</td> <td>    0.207</td>\n",
       "</tr>\n",
       "<tr>\n",
       "  <th>HIV_prevalence_raw_value</th>                                    <td>-1.393e-05</td> <td>    0.037</td> <td>   -0.000</td> <td> 1.000</td> <td>   -0.073</td> <td>    0.073</td>\n",
       "</tr>\n",
       "<tr>\n",
       "  <th>Food_insecurity_raw_value</th>                                   <td>   -0.5810</td> <td>    0.344</td> <td>   -1.690</td> <td> 0.091</td> <td>   -1.256</td> <td>    0.094</td>\n",
       "</tr>\n",
       "<tr>\n",
       "  <th>Limited_access_to_healthy_foods_raw_value</th>                   <td>   -0.2683</td> <td>    0.348</td> <td>   -0.770</td> <td> 0.441</td> <td>   -0.952</td> <td>    0.415</td>\n",
       "</tr>\n",
       "<tr>\n",
       "  <th>Motor_vehicle_crash_deaths_raw_value</th>                        <td>   -0.0500</td> <td>    0.040</td> <td>   -1.236</td> <td> 0.217</td> <td>   -0.129</td> <td>    0.029</td>\n",
       "</tr>\n",
       "<tr>\n",
       "  <th>Insufficient_sleep_raw_value</th>                                <td>   -0.1397</td> <td>    0.056</td> <td>   -2.493</td> <td> 0.013</td> <td>   -0.250</td> <td>   -0.030</td>\n",
       "</tr>\n",
       "<tr>\n",
       "  <th>Uninsured_adults_raw_value</th>                                  <td>   -2.0326</td> <td>    0.570</td> <td>   -3.564</td> <td> 0.000</td> <td>   -3.151</td> <td>   -0.914</td>\n",
       "</tr>\n",
       "<tr>\n",
       "  <th>Uninsured_children_raw_value</th>                                <td>   -0.3042</td> <td>    0.140</td> <td>   -2.175</td> <td> 0.030</td> <td>   -0.579</td> <td>   -0.030</td>\n",
       "</tr>\n",
       "<tr>\n",
       "  <th>Other_primary_care_providers_raw_value</th>                      <td>    0.0422</td> <td>    0.032</td> <td>    1.325</td> <td> 0.186</td> <td>   -0.020</td> <td>    0.105</td>\n",
       "</tr>\n",
       "<tr>\n",
       "  <th>Median_household_income_raw_value</th>                           <td>    0.2298</td> <td>    0.063</td> <td>    3.674</td> <td> 0.000</td> <td>    0.107</td> <td>    0.353</td>\n",
       "</tr>\n",
       "<tr>\n",
       "  <th>Children_eligible_for_free_or_reduced_price_lunch_raw_value</th> <td>    0.0911</td> <td>    0.055</td> <td>    1.656</td> <td> 0.098</td> <td>   -0.017</td> <td>    0.199</td>\n",
       "</tr>\n",
       "<tr>\n",
       "  <th>Residential_segregation___non_white/white_raw_value</th>         <td>   -0.0379</td> <td>    0.028</td> <td>   -1.344</td> <td> 0.179</td> <td>   -0.093</td> <td>    0.017</td>\n",
       "</tr>\n",
       "<tr>\n",
       "  <th>Homeownership_raw_value</th>                                     <td>   -0.0410</td> <td>    0.045</td> <td>   -0.908</td> <td> 0.364</td> <td>   -0.129</td> <td>    0.048</td>\n",
       "</tr>\n",
       "<tr>\n",
       "  <th>Severe_housing_cost_burden_raw_value</th>                        <td>   -0.1166</td> <td>    0.058</td> <td>   -1.995</td> <td> 0.046</td> <td>   -0.231</td> <td>   -0.002</td>\n",
       "</tr>\n",
       "<tr>\n",
       "  <th>Population_raw_value</th>                                        <td>    0.0229</td> <td>    0.032</td> <td>    0.706</td> <td> 0.480</td> <td>   -0.041</td> <td>    0.086</td>\n",
       "</tr>\n",
       "<tr>\n",
       "  <th>County_Ranked</th>                                               <td>    0.1329</td> <td>    0.035</td> <td>    3.806</td> <td> 0.000</td> <td>    0.064</td> <td>    0.201</td>\n",
       "</tr>\n",
       "<tr>\n",
       "  <th>Drinking_water_violations_raw_value</th>                         <td>    0.0158</td> <td>    0.028</td> <td>    0.559</td> <td> 0.576</td> <td>   -0.040</td> <td>    0.071</td>\n",
       "</tr>\n",
       "</table>\n",
       "<table class=\"simpletable\">\n",
       "<tr>\n",
       "  <th>Omnibus:</th>       <td>832.492</td> <th>  Durbin-Watson:     </th> <td>   2.023</td> \n",
       "</tr>\n",
       "<tr>\n",
       "  <th>Prob(Omnibus):</th> <td> 0.000</td>  <th>  Jarque-Bera (JB):  </th> <td>21199.858</td>\n",
       "</tr>\n",
       "<tr>\n",
       "  <th>Skew:</th>          <td> 3.076</td>  <th>  Prob(JB):          </th> <td>    0.00</td> \n",
       "</tr>\n",
       "<tr>\n",
       "  <th>Kurtosis:</th>      <td>23.230</td>  <th>  Cond. No.          </th> <td>    141.</td> \n",
       "</tr>\n",
       "</table><br/><br/>Warnings:<br/>[1] Standard Errors assume that the covariance matrix of the errors is correctly specified."
      ],
      "text/plain": [
       "<class 'statsmodels.iolib.summary.Summary'>\n",
       "\"\"\"\n",
       "                            OLS Regression Results                            \n",
       "==============================================================================\n",
       "Dep. Variable:        Life_Expectancy   R-squared:                       0.922\n",
       "Model:                            OLS   Adj. R-squared:                  0.918\n",
       "Method:                 Least Squares   F-statistic:                     235.9\n",
       "Date:                Tue, 14 Jan 2020   Prob (F-statistic):               0.00\n",
       "Time:                        19:11:43   Log-Likelihood:                -1430.3\n",
       "No. Observations:                1138   AIC:                             2971.\n",
       "Df Residuals:                    1083   BIC:                             3248.\n",
       "Df Model:                          54                                         \n",
       "Covariance Type:            nonrobust                                         \n",
       "===============================================================================================================================\n",
       "                                                                  coef    std err          t      P>|t|      [0.025      0.975]\n",
       "-------------------------------------------------------------------------------------------------------------------------------\n",
       "const                                                          77.3887      0.026   2975.538      0.000      77.338      77.440\n",
       "Premature_death_raw_value                                      -0.4079      0.114     -3.576      0.000      -0.632      -0.184\n",
       "Poor_or_fair_health_raw_value                                   0.2454      0.121      2.023      0.043       0.007       0.483\n",
       "Poor_physical_health_days_raw_value                            -0.4889      0.298     -1.643      0.101      -1.073       0.095\n",
       "Poor_mental_health_days_raw_value                               0.0090      0.183      0.049      0.961      -0.350       0.368\n",
       "Low_birthweight_raw_value                                      -0.0182      0.046     -0.399      0.690      -0.107       0.071\n",
       "Adult_smoking_raw_value                                         0.0593      0.072      0.820      0.412      -0.083       0.201\n",
       "Adult_obesity_raw_value                                        -0.0275      0.044     -0.628      0.530      -0.113       0.058\n",
       "Food_environment_index_raw_value                               -0.7075      0.517     -1.368      0.172      -1.722       0.307\n",
       "Physical_inactivity_raw_value                                  -0.0217      0.051     -0.425      0.671      -0.122       0.079\n",
       "Access_to_exercise_opportunities_raw_value                     -0.0189      0.039     -0.490      0.624      -0.095       0.057\n",
       "Excessive_drinking_raw_value                                   -0.0515      0.050     -1.030      0.303      -0.150       0.047\n",
       "Alcohol_impaired_driving_deaths_raw_value                       0.0122      0.028      0.432      0.666      -0.043       0.068\n",
       "Sexually_transmitted_infections_raw_value                       0.0452      0.039      1.172      0.242      -0.031       0.121\n",
       "Teen_births_raw_value                                           0.0564      0.057      0.983      0.326      -0.056       0.169\n",
       "Uninsured_raw_value                                             2.1760      0.654      3.327      0.001       0.893       3.460\n",
       "Primary_care_physicians_raw_value                              -0.0680      0.041     -1.650      0.099      -0.149       0.013\n",
       "Dentists_raw_value                                              0.0222      0.037      0.607      0.544      -0.050       0.094\n",
       "Mental_health_providers_raw_value                              -0.0127      0.032     -0.401      0.689      -0.075       0.049\n",
       "Preventable_hospital_stays_raw_value                           -0.0045      0.034     -0.132      0.895      -0.071       0.062\n",
       "Mammography_screening_raw_value                                -0.0091      0.040     -0.231      0.817      -0.087       0.068\n",
       "Flu_vaccinations_raw_value                                      0.0003      0.036      0.008      0.994      -0.071       0.072\n",
       "High_school_graduation_raw_value                                0.0793      0.033      2.372      0.018       0.014       0.145\n",
       "Some_college_raw_value                                          0.0132      0.048      0.277      0.782      -0.080       0.107\n",
       "Unemployment_raw_value                                          0.0959      0.045      2.141      0.032       0.008       0.184\n",
       "Children_in_poverty_raw_value                                  -0.0162      0.076     -0.214      0.831      -0.165       0.132\n",
       "Income_inequality_raw_value                                     0.1762      0.038      4.678      0.000       0.102       0.250\n",
       "Children_in_single_parent_households_raw_value                  0.0305      0.049      0.623      0.533      -0.066       0.127\n",
       "Social_associations_raw_value                                  -0.0595      0.037     -1.606      0.109      -0.132       0.013\n",
       "Violent_crime_raw_value                                        -0.0415      0.035     -1.171      0.242      -0.111       0.028\n",
       "Injury_deaths_raw_value                                        -0.1006      0.044     -2.305      0.021      -0.186      -0.015\n",
       "Air_pollution___particulate_matter_raw_value                   -0.1479      0.045     -3.280      0.001      -0.236      -0.059\n",
       "Severe_housing_problems_raw_value                              -0.0083      0.059     -0.143      0.887      -0.123       0.106\n",
       "Driving_alone_to_work_raw_value                                -0.1700      0.038     -4.481      0.000      -0.244      -0.096\n",
       "Long_commute___driving_alone_raw_value                         -0.0249      0.042     -0.592      0.554      -0.107       0.058\n",
       "Premature_age_adjusted_mortality_raw_value                     -2.3866      0.122    -19.503      0.000      -2.627      -2.146\n",
       "Frequent_physical_distress_raw_value                            0.4312      0.383      1.126      0.261      -0.320       1.183\n",
       "Frequent_mental_distress_raw_value                             -0.0349      0.247     -0.141      0.888      -0.520       0.450\n",
       "Diabetes_prevalence_raw_value                                   0.0923      0.059      1.575      0.116      -0.023       0.207\n",
       "HIV_prevalence_raw_value                                    -1.393e-05      0.037     -0.000      1.000      -0.073       0.073\n",
       "Food_insecurity_raw_value                                      -0.5810      0.344     -1.690      0.091      -1.256       0.094\n",
       "Limited_access_to_healthy_foods_raw_value                      -0.2683      0.348     -0.770      0.441      -0.952       0.415\n",
       "Motor_vehicle_crash_deaths_raw_value                           -0.0500      0.040     -1.236      0.217      -0.129       0.029\n",
       "Insufficient_sleep_raw_value                                   -0.1397      0.056     -2.493      0.013      -0.250      -0.030\n",
       "Uninsured_adults_raw_value                                     -2.0326      0.570     -3.564      0.000      -3.151      -0.914\n",
       "Uninsured_children_raw_value                                   -0.3042      0.140     -2.175      0.030      -0.579      -0.030\n",
       "Other_primary_care_providers_raw_value                          0.0422      0.032      1.325      0.186      -0.020       0.105\n",
       "Median_household_income_raw_value                               0.2298      0.063      3.674      0.000       0.107       0.353\n",
       "Children_eligible_for_free_or_reduced_price_lunch_raw_value     0.0911      0.055      1.656      0.098      -0.017       0.199\n",
       "Residential_segregation___non_white/white_raw_value            -0.0379      0.028     -1.344      0.179      -0.093       0.017\n",
       "Homeownership_raw_value                                        -0.0410      0.045     -0.908      0.364      -0.129       0.048\n",
       "Severe_housing_cost_burden_raw_value                           -0.1166      0.058     -1.995      0.046      -0.231      -0.002\n",
       "Population_raw_value                                            0.0229      0.032      0.706      0.480      -0.041       0.086\n",
       "County_Ranked                                                   0.1329      0.035      3.806      0.000       0.064       0.201\n",
       "Drinking_water_violations_raw_value                             0.0158      0.028      0.559      0.576      -0.040       0.071\n",
       "==============================================================================\n",
       "Omnibus:                      832.492   Durbin-Watson:                   2.023\n",
       "Prob(Omnibus):                  0.000   Jarque-Bera (JB):            21199.858\n",
       "Skew:                           3.076   Prob(JB):                         0.00\n",
       "Kurtosis:                      23.230   Cond. No.                         141.\n",
       "==============================================================================\n",
       "\n",
       "Warnings:\n",
       "[1] Standard Errors assume that the covariance matrix of the errors is correctly specified.\n",
       "\"\"\""
      ]
     },
     "execution_count": 12,
     "metadata": {},
     "output_type": "execute_result"
    }
   ],
   "source": [
    "X_const_train = sm.add_constant(X_train)\n",
    "\n",
    "model = sm.OLS(y_train, X_const_train).fit()\n",
    "model.summary()"
   ]
  },
  {
   "cell_type": "markdown",
   "metadata": {},
   "source": [
    "<b>Observations</b>\n",
    "\n",
    "- High R^2 value\n",
    "- High AIC & BIC Values as lots of features"
   ]
  },
  {
   "cell_type": "code",
   "execution_count": 13,
   "metadata": {
    "scrolled": false
   },
   "outputs": [
    {
     "data": {
      "image/png": "[encoded data removed]",
      "text/plain": [
       "<Figure size 432x288 with 1 Axes>"
      ]
     },
     "metadata": {
      "needs_background": "light"
     },
     "output_type": "display_data"
    }
   ],
   "source": [
    "model_qqplot = sm.graphics.qqplot(model.resid, dist=stats.norm, line='45', fit=True)"
   ]
  },
  {
   "cell_type": "code",
   "execution_count": 14,
   "metadata": {},
   "outputs": [
    {
     "data": {
      "text/html": [
       "<table class=\"simpletable\">\n",
       "<caption>OLS Regression Results</caption>\n",
       "<tr>\n",
       "  <th>Dep. Variable:</th>     <td>Life_Expectancy</td> <th>  R-squared:         </th> <td>   0.949</td>\n",
       "</tr>\n",
       "<tr>\n",
       "  <th>Model:</th>                   <td>OLS</td>       <th>  Adj. R-squared:    </th> <td>   0.947</td>\n",
       "</tr>\n",
       "<tr>\n",
       "  <th>Method:</th>             <td>Least Squares</td>  <th>  F-statistic:       </th> <td>   337.1</td>\n",
       "</tr>\n",
       "<tr>\n",
       "  <th>Date:</th>             <td>Tue, 14 Jan 2020</td> <th>  Prob (F-statistic):</th>  <td>  0.00</td> \n",
       "</tr>\n",
       "<tr>\n",
       "  <th>Time:</th>                 <td>19:11:43</td>     <th>  Log-Likelihood:    </th> <td> -883.57</td>\n",
       "</tr>\n",
       "<tr>\n",
       "  <th>No. Observations:</th>      <td>  1024</td>      <th>  AIC:               </th> <td>   1877.</td>\n",
       "</tr>\n",
       "<tr>\n",
       "  <th>Df Residuals:</th>          <td>   969</td>      <th>  BIC:               </th> <td>   2148.</td>\n",
       "</tr>\n",
       "<tr>\n",
       "  <th>Df Model:</th>              <td>    54</td>      <th>                     </th>     <td> </td>   \n",
       "</tr>\n",
       "<tr>\n",
       "  <th>Covariance Type:</th>      <td>nonrobust</td>    <th>                     </th>     <td> </td>   \n",
       "</tr>\n",
       "</table>\n",
       "<table class=\"simpletable\">\n",
       "<tr>\n",
       "                               <td></td>                                  <th>coef</th>     <th>std err</th>      <th>t</th>      <th>P>|t|</th>  <th>[0.025</th>    <th>0.975]</th>  \n",
       "</tr>\n",
       "<tr>\n",
       "  <th>const</th>                                                       <td>   77.2365</td> <td>    0.019</td> <td> 4028.563</td> <td> 0.000</td> <td>   77.199</td> <td>   77.274</td>\n",
       "</tr>\n",
       "<tr>\n",
       "  <th>Premature_death_raw_value</th>                                   <td>   -0.5020</td> <td>    0.082</td> <td>   -6.110</td> <td> 0.000</td> <td>   -0.663</td> <td>   -0.341</td>\n",
       "</tr>\n",
       "<tr>\n",
       "  <th>Poor_or_fair_health_raw_value</th>                               <td>    0.1554</td> <td>    0.087</td> <td>    1.779</td> <td> 0.076</td> <td>   -0.016</td> <td>    0.327</td>\n",
       "</tr>\n",
       "<tr>\n",
       "  <th>Poor_physical_health_days_raw_value</th>                         <td>   -0.4482</td> <td>    0.215</td> <td>   -2.086</td> <td> 0.037</td> <td>   -0.870</td> <td>   -0.026</td>\n",
       "</tr>\n",
       "<tr>\n",
       "  <th>Poor_mental_health_days_raw_value</th>                           <td>    0.0072</td> <td>    0.131</td> <td>    0.055</td> <td> 0.956</td> <td>   -0.249</td> <td>    0.264</td>\n",
       "</tr>\n",
       "<tr>\n",
       "  <th>Low_birthweight_raw_value</th>                                   <td>   -0.0149</td> <td>    0.032</td> <td>   -0.462</td> <td> 0.644</td> <td>   -0.078</td> <td>    0.049</td>\n",
       "</tr>\n",
       "<tr>\n",
       "  <th>Adult_smoking_raw_value</th>                                     <td>    0.0319</td> <td>    0.052</td> <td>    0.618</td> <td> 0.536</td> <td>   -0.069</td> <td>    0.133</td>\n",
       "</tr>\n",
       "<tr>\n",
       "  <th>Adult_obesity_raw_value</th>                                     <td>   -0.0644</td> <td>    0.031</td> <td>   -2.070</td> <td> 0.039</td> <td>   -0.125</td> <td>   -0.003</td>\n",
       "</tr>\n",
       "<tr>\n",
       "  <th>Food_environment_index_raw_value</th>                            <td>   -0.6886</td> <td>    0.354</td> <td>   -1.946</td> <td> 0.052</td> <td>   -1.383</td> <td>    0.006</td>\n",
       "</tr>\n",
       "<tr>\n",
       "  <th>Physical_inactivity_raw_value</th>                               <td>   -0.0396</td> <td>    0.036</td> <td>   -1.093</td> <td> 0.275</td> <td>   -0.111</td> <td>    0.032</td>\n",
       "</tr>\n",
       "<tr>\n",
       "  <th>Access_to_exercise_opportunities_raw_value</th>                  <td>   -0.0317</td> <td>    0.027</td> <td>   -1.163</td> <td> 0.245</td> <td>   -0.085</td> <td>    0.022</td>\n",
       "</tr>\n",
       "<tr>\n",
       "  <th>Excessive_drinking_raw_value</th>                                <td>    0.0244</td> <td>    0.037</td> <td>    0.652</td> <td> 0.515</td> <td>   -0.049</td> <td>    0.098</td>\n",
       "</tr>\n",
       "<tr>\n",
       "  <th>Alcohol_impaired_driving_deaths_raw_value</th>                   <td>    0.0382</td> <td>    0.021</td> <td>    1.849</td> <td> 0.065</td> <td>   -0.002</td> <td>    0.079</td>\n",
       "</tr>\n",
       "<tr>\n",
       "  <th>Sexually_transmitted_infections_raw_value</th>                   <td>    0.0131</td> <td>    0.027</td> <td>    0.489</td> <td> 0.625</td> <td>   -0.040</td> <td>    0.066</td>\n",
       "</tr>\n",
       "<tr>\n",
       "  <th>Teen_births_raw_value</th>                                       <td>   -0.0833</td> <td>    0.040</td> <td>   -2.060</td> <td> 0.040</td> <td>   -0.163</td> <td>   -0.004</td>\n",
       "</tr>\n",
       "<tr>\n",
       "  <th>Uninsured_raw_value</th>                                         <td>    0.8662</td> <td>    0.471</td> <td>    1.838</td> <td> 0.066</td> <td>   -0.059</td> <td>    1.791</td>\n",
       "</tr>\n",
       "<tr>\n",
       "  <th>Primary_care_physicians_raw_value</th>                           <td>   -0.0982</td> <td>    0.031</td> <td>   -3.146</td> <td> 0.002</td> <td>   -0.159</td> <td>   -0.037</td>\n",
       "</tr>\n",
       "<tr>\n",
       "  <th>Dentists_raw_value</th>                                          <td>    0.0218</td> <td>    0.027</td> <td>    0.792</td> <td> 0.429</td> <td>   -0.032</td> <td>    0.076</td>\n",
       "</tr>\n",
       "<tr>\n",
       "  <th>Mental_health_providers_raw_value</th>                           <td>    0.0018</td> <td>    0.022</td> <td>    0.083</td> <td> 0.934</td> <td>   -0.042</td> <td>    0.045</td>\n",
       "</tr>\n",
       "<tr>\n",
       "  <th>Preventable_hospital_stays_raw_value</th>                        <td>   -0.0243</td> <td>    0.024</td> <td>   -1.001</td> <td> 0.317</td> <td>   -0.072</td> <td>    0.023</td>\n",
       "</tr>\n",
       "<tr>\n",
       "  <th>Mammography_screening_raw_value</th>                             <td>   -0.0096</td> <td>    0.029</td> <td>   -0.337</td> <td> 0.736</td> <td>   -0.066</td> <td>    0.046</td>\n",
       "</tr>\n",
       "<tr>\n",
       "  <th>Flu_vaccinations_raw_value</th>                                  <td>   -0.0013</td> <td>    0.026</td> <td>   -0.049</td> <td> 0.961</td> <td>   -0.053</td> <td>    0.050</td>\n",
       "</tr>\n",
       "<tr>\n",
       "  <th>High_school_graduation_raw_value</th>                            <td>   -0.0041</td> <td>    0.024</td> <td>   -0.174</td> <td> 0.862</td> <td>   -0.051</td> <td>    0.042</td>\n",
       "</tr>\n",
       "<tr>\n",
       "  <th>Some_college_raw_value</th>                                      <td>    0.0279</td> <td>    0.035</td> <td>    0.809</td> <td> 0.419</td> <td>   -0.040</td> <td>    0.096</td>\n",
       "</tr>\n",
       "<tr>\n",
       "  <th>Unemployment_raw_value</th>                                      <td>    0.0167</td> <td>    0.032</td> <td>    0.525</td> <td> 0.600</td> <td>   -0.046</td> <td>    0.079</td>\n",
       "</tr>\n",
       "<tr>\n",
       "  <th>Children_in_poverty_raw_value</th>                               <td>    0.0319</td> <td>    0.055</td> <td>    0.583</td> <td> 0.560</td> <td>   -0.075</td> <td>    0.139</td>\n",
       "</tr>\n",
       "<tr>\n",
       "  <th>Income_inequality_raw_value</th>                                 <td>    0.0760</td> <td>    0.029</td> <td>    2.601</td> <td> 0.009</td> <td>    0.019</td> <td>    0.133</td>\n",
       "</tr>\n",
       "<tr>\n",
       "  <th>Children_in_single_parent_households_raw_value</th>              <td> 7.454e-05</td> <td>    0.035</td> <td>    0.002</td> <td> 0.998</td> <td>   -0.068</td> <td>    0.068</td>\n",
       "</tr>\n",
       "<tr>\n",
       "  <th>Social_associations_raw_value</th>                               <td>   -0.0474</td> <td>    0.027</td> <td>   -1.773</td> <td> 0.077</td> <td>   -0.100</td> <td>    0.005</td>\n",
       "</tr>\n",
       "<tr>\n",
       "  <th>Violent_crime_raw_value</th>                                     <td>    0.0030</td> <td>    0.025</td> <td>    0.122</td> <td> 0.903</td> <td>   -0.045</td> <td>    0.051</td>\n",
       "</tr>\n",
       "<tr>\n",
       "  <th>Injury_deaths_raw_value</th>                                     <td>   -0.0259</td> <td>    0.031</td> <td>   -0.836</td> <td> 0.403</td> <td>   -0.087</td> <td>    0.035</td>\n",
       "</tr>\n",
       "<tr>\n",
       "  <th>Air_pollution___particulate_matter_raw_value</th>                <td>   -0.1434</td> <td>    0.033</td> <td>   -4.375</td> <td> 0.000</td> <td>   -0.208</td> <td>   -0.079</td>\n",
       "</tr>\n",
       "<tr>\n",
       "  <th>Severe_housing_problems_raw_value</th>                           <td>   -0.0180</td> <td>    0.042</td> <td>   -0.427</td> <td> 0.669</td> <td>   -0.101</td> <td>    0.065</td>\n",
       "</tr>\n",
       "<tr>\n",
       "  <th>Driving_alone_to_work_raw_value</th>                             <td>   -0.0264</td> <td>    0.029</td> <td>   -0.913</td> <td> 0.361</td> <td>   -0.083</td> <td>    0.030</td>\n",
       "</tr>\n",
       "<tr>\n",
       "  <th>Long_commute___driving_alone_raw_value</th>                      <td>   -0.0048</td> <td>    0.030</td> <td>   -0.157</td> <td> 0.876</td> <td>   -0.064</td> <td>    0.055</td>\n",
       "</tr>\n",
       "<tr>\n",
       "  <th>Premature_age_adjusted_mortality_raw_value</th>                  <td>   -2.0469</td> <td>    0.088</td> <td>  -23.215</td> <td> 0.000</td> <td>   -2.220</td> <td>   -1.874</td>\n",
       "</tr>\n",
       "<tr>\n",
       "  <th>Frequent_physical_distress_raw_value</th>                        <td>    0.5039</td> <td>    0.277</td> <td>    1.821</td> <td> 0.069</td> <td>   -0.039</td> <td>    1.047</td>\n",
       "</tr>\n",
       "<tr>\n",
       "  <th>Frequent_mental_distress_raw_value</th>                          <td>   -0.0680</td> <td>    0.176</td> <td>   -0.387</td> <td> 0.699</td> <td>   -0.413</td> <td>    0.277</td>\n",
       "</tr>\n",
       "<tr>\n",
       "  <th>Diabetes_prevalence_raw_value</th>                               <td>    0.1145</td> <td>    0.041</td> <td>    2.765</td> <td> 0.006</td> <td>    0.033</td> <td>    0.196</td>\n",
       "</tr>\n",
       "<tr>\n",
       "  <th>HIV_prevalence_raw_value</th>                                    <td>    0.0287</td> <td>    0.027</td> <td>    1.083</td> <td> 0.279</td> <td>   -0.023</td> <td>    0.081</td>\n",
       "</tr>\n",
       "<tr>\n",
       "  <th>Food_insecurity_raw_value</th>                                   <td>   -0.5054</td> <td>    0.235</td> <td>   -2.147</td> <td> 0.032</td> <td>   -0.967</td> <td>   -0.043</td>\n",
       "</tr>\n",
       "<tr>\n",
       "  <th>Limited_access_to_healthy_foods_raw_value</th>                   <td>   -0.3894</td> <td>    0.239</td> <td>   -1.632</td> <td> 0.103</td> <td>   -0.858</td> <td>    0.079</td>\n",
       "</tr>\n",
       "<tr>\n",
       "  <th>Motor_vehicle_crash_deaths_raw_value</th>                        <td>   -0.0601</td> <td>    0.028</td> <td>   -2.135</td> <td> 0.033</td> <td>   -0.115</td> <td>   -0.005</td>\n",
       "</tr>\n",
       "<tr>\n",
       "  <th>Insufficient_sleep_raw_value</th>                                <td>   -0.0991</td> <td>    0.041</td> <td>   -2.418</td> <td> 0.016</td> <td>   -0.179</td> <td>   -0.019</td>\n",
       "</tr>\n",
       "<tr>\n",
       "  <th>Uninsured_adults_raw_value</th>                                  <td>   -0.8915</td> <td>    0.410</td> <td>   -2.175</td> <td> 0.030</td> <td>   -1.696</td> <td>   -0.087</td>\n",
       "</tr>\n",
       "<tr>\n",
       "  <th>Uninsured_children_raw_value</th>                                <td>   -0.0010</td> <td>    0.101</td> <td>   -0.010</td> <td> 0.992</td> <td>   -0.199</td> <td>    0.197</td>\n",
       "</tr>\n",
       "<tr>\n",
       "  <th>Other_primary_care_providers_raw_value</th>                      <td>    0.0560</td> <td>    0.023</td> <td>    2.427</td> <td> 0.015</td> <td>    0.011</td> <td>    0.101</td>\n",
       "</tr>\n",
       "<tr>\n",
       "  <th>Median_household_income_raw_value</th>                           <td>    0.0918</td> <td>    0.053</td> <td>    1.741</td> <td> 0.082</td> <td>   -0.012</td> <td>    0.195</td>\n",
       "</tr>\n",
       "<tr>\n",
       "  <th>Children_eligible_for_free_or_reduced_price_lunch_raw_value</th> <td>    0.0585</td> <td>    0.039</td> <td>    1.518</td> <td> 0.129</td> <td>   -0.017</td> <td>    0.134</td>\n",
       "</tr>\n",
       "<tr>\n",
       "  <th>Residential_segregation___non_white/white_raw_value</th>         <td>   -0.0020</td> <td>    0.020</td> <td>   -0.099</td> <td> 0.921</td> <td>   -0.041</td> <td>    0.037</td>\n",
       "</tr>\n",
       "<tr>\n",
       "  <th>Homeownership_raw_value</th>                                     <td>   -0.0195</td> <td>    0.032</td> <td>   -0.601</td> <td> 0.548</td> <td>   -0.083</td> <td>    0.044</td>\n",
       "</tr>\n",
       "<tr>\n",
       "  <th>Severe_housing_cost_burden_raw_value</th>                        <td>   -0.0508</td> <td>    0.042</td> <td>   -1.208</td> <td> 0.227</td> <td>   -0.133</td> <td>    0.032</td>\n",
       "</tr>\n",
       "<tr>\n",
       "  <th>Population_raw_value</th>                                        <td>    0.0550</td> <td>    0.025</td> <td>    2.157</td> <td> 0.031</td> <td>    0.005</td> <td>    0.105</td>\n",
       "</tr>\n",
       "<tr>\n",
       "  <th>County_Ranked</th>                                               <td>    0.1109</td> <td>    0.026</td> <td>    4.338</td> <td> 0.000</td> <td>    0.061</td> <td>    0.161</td>\n",
       "</tr>\n",
       "<tr>\n",
       "  <th>Drinking_water_violations_raw_value</th>                         <td>    0.0278</td> <td>    0.020</td> <td>    1.393</td> <td> 0.164</td> <td>   -0.011</td> <td>    0.067</td>\n",
       "</tr>\n",
       "</table>\n",
       "<table class=\"simpletable\">\n",
       "<tr>\n",
       "  <th>Omnibus:</th>       <td>377.446</td> <th>  Durbin-Watson:     </th> <td>   2.012</td>\n",
       "</tr>\n",
       "<tr>\n",
       "  <th>Prob(Omnibus):</th> <td> 0.000</td>  <th>  Jarque-Bera (JB):  </th> <td>4565.244</td>\n",
       "</tr>\n",
       "<tr>\n",
       "  <th>Skew:</th>          <td> 1.337</td>  <th>  Prob(JB):          </th> <td>    0.00</td>\n",
       "</tr>\n",
       "<tr>\n",
       "  <th>Kurtosis:</th>      <td>12.992</td>  <th>  Cond. No.          </th> <td>    135.</td>\n",
       "</tr>\n",
       "</table><br/><br/>Warnings:<br/>[1] Standard Errors assume that the covariance matrix of the errors is correctly specified."
      ],
      "text/plain": [
       "<class 'statsmodels.iolib.summary.Summary'>\n",
       "\"\"\"\n",
       "                            OLS Regression Results                            \n",
       "==============================================================================\n",
       "Dep. Variable:        Life_Expectancy   R-squared:                       0.949\n",
       "Model:                            OLS   Adj. R-squared:                  0.947\n",
       "Method:                 Least Squares   F-statistic:                     337.1\n",
       "Date:                Tue, 14 Jan 2020   Prob (F-statistic):               0.00\n",
       "Time:                        19:11:43   Log-Likelihood:                -883.57\n",
       "No. Observations:                1024   AIC:                             1877.\n",
       "Df Residuals:                     969   BIC:                             2148.\n",
       "Df Model:                          54                                         \n",
       "Covariance Type:            nonrobust                                         \n",
       "===============================================================================================================================\n",
       "                                                                  coef    std err          t      P>|t|      [0.025      0.975]\n",
       "-------------------------------------------------------------------------------------------------------------------------------\n",
       "const                                                          77.2365      0.019   4028.563      0.000      77.199      77.274\n",
       "Premature_death_raw_value                                      -0.5020      0.082     -6.110      0.000      -0.663      -0.341\n",
       "Poor_or_fair_health_raw_value                                   0.1554      0.087      1.779      0.076      -0.016       0.327\n",
       "Poor_physical_health_days_raw_value                            -0.4482      0.215     -2.086      0.037      -0.870      -0.026\n",
       "Poor_mental_health_days_raw_value                               0.0072      0.131      0.055      0.956      -0.249       0.264\n",
       "Low_birthweight_raw_value                                      -0.0149      0.032     -0.462      0.644      -0.078       0.049\n",
       "Adult_smoking_raw_value                                         0.0319      0.052      0.618      0.536      -0.069       0.133\n",
       "Adult_obesity_raw_value                                        -0.0644      0.031     -2.070      0.039      -0.125      -0.003\n",
       "Food_environment_index_raw_value                               -0.6886      0.354     -1.946      0.052      -1.383       0.006\n",
       "Physical_inactivity_raw_value                                  -0.0396      0.036     -1.093      0.275      -0.111       0.032\n",
       "Access_to_exercise_opportunities_raw_value                     -0.0317      0.027     -1.163      0.245      -0.085       0.022\n",
       "Excessive_drinking_raw_value                                    0.0244      0.037      0.652      0.515      -0.049       0.098\n",
       "Alcohol_impaired_driving_deaths_raw_value                       0.0382      0.021      1.849      0.065      -0.002       0.079\n",
       "Sexually_transmitted_infections_raw_value                       0.0131      0.027      0.489      0.625      -0.040       0.066\n",
       "Teen_births_raw_value                                          -0.0833      0.040     -2.060      0.040      -0.163      -0.004\n",
       "Uninsured_raw_value                                             0.8662      0.471      1.838      0.066      -0.059       1.791\n",
       "Primary_care_physicians_raw_value                              -0.0982      0.031     -3.146      0.002      -0.159      -0.037\n",
       "Dentists_raw_value                                              0.0218      0.027      0.792      0.429      -0.032       0.076\n",
       "Mental_health_providers_raw_value                               0.0018      0.022      0.083      0.934      -0.042       0.045\n",
       "Preventable_hospital_stays_raw_value                           -0.0243      0.024     -1.001      0.317      -0.072       0.023\n",
       "Mammography_screening_raw_value                                -0.0096      0.029     -0.337      0.736      -0.066       0.046\n",
       "Flu_vaccinations_raw_value                                     -0.0013      0.026     -0.049      0.961      -0.053       0.050\n",
       "High_school_graduation_raw_value                               -0.0041      0.024     -0.174      0.862      -0.051       0.042\n",
       "Some_college_raw_value                                          0.0279      0.035      0.809      0.419      -0.040       0.096\n",
       "Unemployment_raw_value                                          0.0167      0.032      0.525      0.600      -0.046       0.079\n",
       "Children_in_poverty_raw_value                                   0.0319      0.055      0.583      0.560      -0.075       0.139\n",
       "Income_inequality_raw_value                                     0.0760      0.029      2.601      0.009       0.019       0.133\n",
       "Children_in_single_parent_households_raw_value               7.454e-05      0.035      0.002      0.998      -0.068       0.068\n",
       "Social_associations_raw_value                                  -0.0474      0.027     -1.773      0.077      -0.100       0.005\n",
       "Violent_crime_raw_value                                         0.0030      0.025      0.122      0.903      -0.045       0.051\n",
       "Injury_deaths_raw_value                                        -0.0259      0.031     -0.836      0.403      -0.087       0.035\n",
       "Air_pollution___particulate_matter_raw_value                   -0.1434      0.033     -4.375      0.000      -0.208      -0.079\n",
       "Severe_housing_problems_raw_value                              -0.0180      0.042     -0.427      0.669      -0.101       0.065\n",
       "Driving_alone_to_work_raw_value                                -0.0264      0.029     -0.913      0.361      -0.083       0.030\n",
       "Long_commute___driving_alone_raw_value                         -0.0048      0.030     -0.157      0.876      -0.064       0.055\n",
       "Premature_age_adjusted_mortality_raw_value                     -2.0469      0.088    -23.215      0.000      -2.220      -1.874\n",
       "Frequent_physical_distress_raw_value                            0.5039      0.277      1.821      0.069      -0.039       1.047\n",
       "Frequent_mental_distress_raw_value                             -0.0680      0.176     -0.387      0.699      -0.413       0.277\n",
       "Diabetes_prevalence_raw_value                                   0.1145      0.041      2.765      0.006       0.033       0.196\n",
       "HIV_prevalence_raw_value                                        0.0287      0.027      1.083      0.279      -0.023       0.081\n",
       "Food_insecurity_raw_value                                      -0.5054      0.235     -2.147      0.032      -0.967      -0.043\n",
       "Limited_access_to_healthy_foods_raw_value                      -0.3894      0.239     -1.632      0.103      -0.858       0.079\n",
       "Motor_vehicle_crash_deaths_raw_value                           -0.0601      0.028     -2.135      0.033      -0.115      -0.005\n",
       "Insufficient_sleep_raw_value                                   -0.0991      0.041     -2.418      0.016      -0.179      -0.019\n",
       "Uninsured_adults_raw_value                                     -0.8915      0.410     -2.175      0.030      -1.696      -0.087\n",
       "Uninsured_children_raw_value                                   -0.0010      0.101     -0.010      0.992      -0.199       0.197\n",
       "Other_primary_care_providers_raw_value                          0.0560      0.023      2.427      0.015       0.011       0.101\n",
       "Median_household_income_raw_value                               0.0918      0.053      1.741      0.082      -0.012       0.195\n",
       "Children_eligible_for_free_or_reduced_price_lunch_raw_value     0.0585      0.039      1.518      0.129      -0.017       0.134\n",
       "Residential_segregation___non_white/white_raw_value            -0.0020      0.020     -0.099      0.921      -0.041       0.037\n",
       "Homeownership_raw_value                                        -0.0195      0.032     -0.601      0.548      -0.083       0.044\n",
       "Severe_housing_cost_burden_raw_value                           -0.0508      0.042     -1.208      0.227      -0.133       0.032\n",
       "Population_raw_value                                            0.0550      0.025      2.157      0.031       0.005       0.105\n",
       "County_Ranked                                                   0.1109      0.026      4.338      0.000       0.061       0.161\n",
       "Drinking_water_violations_raw_value                             0.0278      0.020      1.393      0.164      -0.011       0.067\n",
       "==============================================================================\n",
       "Omnibus:                      377.446   Durbin-Watson:                   2.012\n",
       "Prob(Omnibus):                  0.000   Jarque-Bera (JB):             4565.244\n",
       "Skew:                           1.337   Prob(JB):                         0.00\n",
       "Kurtosis:                      12.992   Cond. No.                         135.\n",
       "==============================================================================\n",
       "\n",
       "Warnings:\n",
       "[1] Standard Errors assume that the covariance matrix of the errors is correctly specified.\n",
       "\"\"\""
      ]
     },
     "execution_count": 14,
     "metadata": {},
     "output_type": "execute_result"
    }
   ],
   "source": [
    "q=0.9\n",
    "\n",
    "# Set the index to q range\n",
    "drop_index_train=y_train[y_train > y_train.quantile(q)].index\n",
    "# drop_index_test=y_test[y_test > y_test.quantile(q)].index\n",
    "\n",
    "# Apply to Train\n",
    "X_train = X_train.drop(index = drop_index_train)\n",
    "y_train = y_train[y_train <= y_train.quantile(q)]\n",
    "\n",
    "# Apply to Test\n",
    "# X_test = X_test.drop(index = drop_index_test)\n",
    "# y_test = y_test[y_test <= y_test.quantile(q)]\n",
    "\n",
    "# Stats OLS Model\n",
    "X_const_train = sm.add_constant(X_train)\n",
    "model_qq = sm.OLS(y_train, X_const_train).fit()\n",
    "model_qq.summary()\n",
    "\n"
   ]
  },
  {
   "cell_type": "markdown",
   "metadata": {},
   "source": [
    "<b>Old</b>\n",
    "\n",
    "Skew:\t3.076\t\n",
    "Kurtosis:\t23.230\n",
    "\n",
    "<b>New</b>\n",
    "\n",
    "Skew:\t1.238\t\n",
    "Kurtosis:\t11.732\t"
   ]
  },
  {
   "cell_type": "code",
   "execution_count": 15,
   "metadata": {},
   "outputs": [
    {
     "data": {
      "image/png": "[encoded data removed]",
      "text/plain": [
       "<Figure size 432x288 with 1 Axes>"
      ]
     },
     "metadata": {
      "needs_background": "light"
     },
     "output_type": "display_data"
    }
   ],
   "source": [
    "model_qqplot = sm.graphics.qqplot(model_qq.resid, dist=stats.norm, line='45', fit=True)"
   ]
  },
  {
   "cell_type": "markdown",
   "metadata": {},
   "source": [
    "## Drop Columns on Non-Statistical Evaluation  \n",
    "<b>Ease of collection</b>\n",
    "- Has to be a value which is identifiable to the person? i.e Man\n",
    "\n",
    "<b>Quantifiability</b>\n",
    "- asd\n",
    "\n",
    "\n",
    "<b>Cost of Collection</b>\n",
    "- asdf"
   ]
  },
  {
   "cell_type": "code",
   "execution_count": 16,
   "metadata": {},
   "outputs": [],
   "source": [
    "# X_cols = list(X.columns)\n",
    "# for x in X_cols:\n",
    "#     print(x)"
   ]
  },
  {
   "cell_type": "code",
   "execution_count": 17,
   "metadata": {},
   "outputs": [
    {
     "data": {
      "text/plain": [
       "17"
      ]
     },
     "execution_count": 17,
     "metadata": {},
     "output_type": "execute_result"
    }
   ],
   "source": [
    "# Drop max\n",
    "drop = ['Premature_death_raw_value', \n",
    "        'Premature_age_adjusted_mortality_raw_value',\n",
    "        'Poor_or_fair_health_raw_value', \n",
    "        'Poor_physical_health_days_raw_value', \n",
    "        'Poor_mental_health_days_raw_value', \n",
    "        'Adult_smoking_raw_value', \n",
    "        'Physical_inactivity_raw_value', \n",
    "        'Excessive_drinking_raw_value',\n",
    "        'Preventable_hospital_stays_raw_value', \n",
    "        'Mammography_screening_raw_value', \n",
    "        'Driving_alone_to_work_raw_value',\n",
    "        'Long_commute___driving_alone_raw_value', \n",
    "        'Frequent_physical_distress_raw_value', \n",
    "        'Frequent_mental_distress_raw_value',\n",
    "        'Insufficient_sleep_raw_value',\n",
    "        'Other_primary_care_providers_raw_value',\n",
    "        'Drinking_water_violations_raw_value']\n",
    "len(drop)"
   ]
  },
  {
   "cell_type": "code",
   "execution_count": 18,
   "metadata": {},
   "outputs": [],
   "source": [
    "# # Drop Hard to measure\n",
    "# drop = ['Premature_age_adjusted_mortality_raw_value', \n",
    "#         'Premature_death_raw_value', \n",
    "#         'Poor_or_fair_health_raw_value', \n",
    "#         'Poor_physical_health_days_raw_value', \n",
    "#         'Poor_mental_health_days_raw_value']\n",
    "# len(drop)"
   ]
  },
  {
   "cell_type": "code",
   "execution_count": 19,
   "metadata": {},
   "outputs": [],
   "source": [
    "cols = list(X_train.columns)\n",
    "new_cols = [x for x in cols if x not in drop]"
   ]
  },
  {
   "cell_type": "code",
   "execution_count": 20,
   "metadata": {},
   "outputs": [
    {
     "data": {
      "text/plain": [
       "(54, 37)"
      ]
     },
     "execution_count": 20,
     "metadata": {},
     "output_type": "execute_result"
    }
   ],
   "source": [
    "X_1 = X_train[new_cols]\n",
    "len(X_train.columns) , len(X_1.columns)"
   ]
  },
  {
   "cell_type": "code",
   "execution_count": 21,
   "metadata": {},
   "outputs": [],
   "source": [
    "# Run if wish to check all variables\n",
    "# X_1 = X.copy()"
   ]
  },
  {
   "cell_type": "markdown",
   "metadata": {},
   "source": [
    "# Model 2:"
   ]
  },
  {
   "cell_type": "code",
   "execution_count": 22,
   "metadata": {},
   "outputs": [
    {
     "name": "stdout",
     "output_type": "stream",
     "text": [
      "Inital R^2: 0.721812199993954\n"
     ]
    }
   ],
   "source": [
    "regression = LinearRegression()\n",
    "\n",
    "crossvalidation = KFold(n_splits=10, shuffle=True, random_state=1)\n",
    "baseline = np.mean(cross_val_score(regression, X_1, y_train, scoring='r2', cv=crossvalidation))\n",
    "print(\"Inital R^2:\", baseline)"
   ]
  },
  {
   "cell_type": "code",
   "execution_count": 23,
   "metadata": {
    "scrolled": true
   },
   "outputs": [
    {
     "name": "stderr",
     "output_type": "stream",
     "text": [
      "/opt/anaconda3/lib/python3.7/site-packages/numpy/core/fromnumeric.py:2495: FutureWarning: Method .ptp is deprecated and will be removed in a future version. Use numpy.ptp instead.\n",
      "  return ptp(axis=axis, out=out, **kwargs)\n"
     ]
    },
    {
     "data": {
      "text/html": [
       "<table class=\"simpletable\">\n",
       "<caption>OLS Regression Results</caption>\n",
       "<tr>\n",
       "  <th>Dep. Variable:</th>     <td>Life_Expectancy</td> <th>  R-squared:         </th> <td>   0.766</td> \n",
       "</tr>\n",
       "<tr>\n",
       "  <th>Model:</th>                   <td>OLS</td>       <th>  Adj. R-squared:    </th> <td>   0.757</td> \n",
       "</tr>\n",
       "<tr>\n",
       "  <th>Method:</th>             <td>Least Squares</td>  <th>  F-statistic:       </th> <td>   87.29</td> \n",
       "</tr>\n",
       "<tr>\n",
       "  <th>Date:</th>             <td>Tue, 14 Jan 2020</td> <th>  Prob (F-statistic):</th> <td>9.60e-282</td>\n",
       "</tr>\n",
       "<tr>\n",
       "  <th>Time:</th>                 <td>19:11:43</td>     <th>  Log-Likelihood:    </th> <td> -1667.9</td> \n",
       "</tr>\n",
       "<tr>\n",
       "  <th>No. Observations:</th>      <td>  1024</td>      <th>  AIC:               </th> <td>   3412.</td> \n",
       "</tr>\n",
       "<tr>\n",
       "  <th>Df Residuals:</th>          <td>   986</td>      <th>  BIC:               </th> <td>   3599.</td> \n",
       "</tr>\n",
       "<tr>\n",
       "  <th>Df Model:</th>              <td>    37</td>      <th>                     </th>     <td> </td>    \n",
       "</tr>\n",
       "<tr>\n",
       "  <th>Covariance Type:</th>      <td>nonrobust</td>    <th>                     </th>     <td> </td>    \n",
       "</tr>\n",
       "</table>\n",
       "<table class=\"simpletable\">\n",
       "<tr>\n",
       "                               <td></td>                                  <th>coef</th>     <th>std err</th>      <th>t</th>      <th>P>|t|</th>  <th>[0.025</th>    <th>0.975]</th>  \n",
       "</tr>\n",
       "<tr>\n",
       "  <th>const</th>                                                       <td>   77.1583</td> <td>    0.041</td> <td> 1905.011</td> <td> 0.000</td> <td>   77.079</td> <td>   77.238</td>\n",
       "</tr>\n",
       "<tr>\n",
       "  <th>Low_birthweight_raw_value</th>                                   <td>    0.0414</td> <td>    0.062</td> <td>    0.663</td> <td> 0.507</td> <td>   -0.081</td> <td>    0.164</td>\n",
       "</tr>\n",
       "<tr>\n",
       "  <th>Adult_obesity_raw_value</th>                                     <td>   -0.1572</td> <td>    0.061</td> <td>   -2.593</td> <td> 0.010</td> <td>   -0.276</td> <td>   -0.038</td>\n",
       "</tr>\n",
       "<tr>\n",
       "  <th>Food_environment_index_raw_value</th>                            <td>   -0.3224</td> <td>    0.749</td> <td>   -0.431</td> <td> 0.667</td> <td>   -1.792</td> <td>    1.147</td>\n",
       "</tr>\n",
       "<tr>\n",
       "  <th>Access_to_exercise_opportunities_raw_value</th>                  <td>    0.0124</td> <td>    0.056</td> <td>    0.224</td> <td> 0.823</td> <td>   -0.097</td> <td>    0.121</td>\n",
       "</tr>\n",
       "<tr>\n",
       "  <th>Alcohol_impaired_driving_deaths_raw_value</th>                   <td>    0.0994</td> <td>    0.043</td> <td>    2.303</td> <td> 0.021</td> <td>    0.015</td> <td>    0.184</td>\n",
       "</tr>\n",
       "<tr>\n",
       "  <th>Sexually_transmitted_infections_raw_value</th>                   <td>   -0.1444</td> <td>    0.055</td> <td>   -2.606</td> <td> 0.009</td> <td>   -0.253</td> <td>   -0.036</td>\n",
       "</tr>\n",
       "<tr>\n",
       "  <th>Teen_births_raw_value</th>                                       <td>   -0.7781</td> <td>    0.077</td> <td>  -10.053</td> <td> 0.000</td> <td>   -0.930</td> <td>   -0.626</td>\n",
       "</tr>\n",
       "<tr>\n",
       "  <th>Uninsured_raw_value</th>                                         <td>    1.8587</td> <td>    0.942</td> <td>    1.974</td> <td> 0.049</td> <td>    0.011</td> <td>    3.707</td>\n",
       "</tr>\n",
       "<tr>\n",
       "  <th>Primary_care_physicians_raw_value</th>                           <td>   -0.0112</td> <td>    0.055</td> <td>   -0.203</td> <td> 0.839</td> <td>   -0.120</td> <td>    0.097</td>\n",
       "</tr>\n",
       "<tr>\n",
       "  <th>Dentists_raw_value</th>                                          <td>    0.0070</td> <td>    0.057</td> <td>    0.123</td> <td> 0.902</td> <td>   -0.105</td> <td>    0.119</td>\n",
       "</tr>\n",
       "<tr>\n",
       "  <th>Mental_health_providers_raw_value</th>                           <td>   -0.0925</td> <td>    0.046</td> <td>   -2.021</td> <td> 0.044</td> <td>   -0.182</td> <td>   -0.003</td>\n",
       "</tr>\n",
       "<tr>\n",
       "  <th>Flu_vaccinations_raw_value</th>                                  <td>    0.0176</td> <td>    0.052</td> <td>    0.338</td> <td> 0.736</td> <td>   -0.084</td> <td>    0.120</td>\n",
       "</tr>\n",
       "<tr>\n",
       "  <th>High_school_graduation_raw_value</th>                            <td>   -0.1932</td> <td>    0.048</td> <td>   -4.037</td> <td> 0.000</td> <td>   -0.287</td> <td>   -0.099</td>\n",
       "</tr>\n",
       "<tr>\n",
       "  <th>Some_college_raw_value</th>                                      <td>   -0.0030</td> <td>    0.069</td> <td>   -0.044</td> <td> 0.965</td> <td>   -0.139</td> <td>    0.133</td>\n",
       "</tr>\n",
       "<tr>\n",
       "  <th>Unemployment_raw_value</th>                                      <td>    0.0662</td> <td>    0.065</td> <td>    1.020</td> <td> 0.308</td> <td>   -0.061</td> <td>    0.194</td>\n",
       "</tr>\n",
       "<tr>\n",
       "  <th>Children_in_poverty_raw_value</th>                               <td>   -0.0514</td> <td>    0.108</td> <td>   -0.475</td> <td> 0.635</td> <td>   -0.264</td> <td>    0.161</td>\n",
       "</tr>\n",
       "<tr>\n",
       "  <th>Income_inequality_raw_value</th>                                 <td>   -0.1059</td> <td>    0.059</td> <td>   -1.800</td> <td> 0.072</td> <td>   -0.221</td> <td>    0.010</td>\n",
       "</tr>\n",
       "<tr>\n",
       "  <th>Children_in_single_parent_households_raw_value</th>              <td>   -0.0886</td> <td>    0.070</td> <td>   -1.273</td> <td> 0.203</td> <td>   -0.225</td> <td>    0.048</td>\n",
       "</tr>\n",
       "<tr>\n",
       "  <th>Social_associations_raw_value</th>                               <td>   -0.0041</td> <td>    0.053</td> <td>   -0.077</td> <td> 0.939</td> <td>   -0.108</td> <td>    0.100</td>\n",
       "</tr>\n",
       "<tr>\n",
       "  <th>Violent_crime_raw_value</th>                                     <td>    0.0308</td> <td>    0.051</td> <td>    0.607</td> <td> 0.544</td> <td>   -0.069</td> <td>    0.130</td>\n",
       "</tr>\n",
       "<tr>\n",
       "  <th>Injury_deaths_raw_value</th>                                     <td>   -0.8047</td> <td>    0.055</td> <td>  -14.538</td> <td> 0.000</td> <td>   -0.913</td> <td>   -0.696</td>\n",
       "</tr>\n",
       "<tr>\n",
       "  <th>Air_pollution___particulate_matter_raw_value</th>                <td>   -0.3491</td> <td>    0.063</td> <td>   -5.536</td> <td> 0.000</td> <td>   -0.473</td> <td>   -0.225</td>\n",
       "</tr>\n",
       "<tr>\n",
       "  <th>Severe_housing_problems_raw_value</th>                           <td>   -0.0437</td> <td>    0.084</td> <td>   -0.519</td> <td> 0.604</td> <td>   -0.209</td> <td>    0.122</td>\n",
       "</tr>\n",
       "<tr>\n",
       "  <th>Diabetes_prevalence_raw_value</th>                               <td>   -0.3818</td> <td>    0.074</td> <td>   -5.153</td> <td> 0.000</td> <td>   -0.527</td> <td>   -0.236</td>\n",
       "</tr>\n",
       "<tr>\n",
       "  <th>HIV_prevalence_raw_value</th>                                    <td>    0.0843</td> <td>    0.052</td> <td>    1.628</td> <td> 0.104</td> <td>   -0.017</td> <td>    0.186</td>\n",
       "</tr>\n",
       "<tr>\n",
       "  <th>Food_insecurity_raw_value</th>                                   <td>   -0.6149</td> <td>    0.497</td> <td>   -1.238</td> <td> 0.216</td> <td>   -1.590</td> <td>    0.360</td>\n",
       "</tr>\n",
       "<tr>\n",
       "  <th>Limited_access_to_healthy_foods_raw_value</th>                   <td>   -0.2297</td> <td>    0.505</td> <td>   -0.455</td> <td> 0.649</td> <td>   -1.221</td> <td>    0.761</td>\n",
       "</tr>\n",
       "<tr>\n",
       "  <th>Motor_vehicle_crash_deaths_raw_value</th>                        <td>   -0.1567</td> <td>    0.058</td> <td>   -2.703</td> <td> 0.007</td> <td>   -0.270</td> <td>   -0.043</td>\n",
       "</tr>\n",
       "<tr>\n",
       "  <th>Uninsured_adults_raw_value</th>                                  <td>   -1.7596</td> <td>    0.816</td> <td>   -2.155</td> <td> 0.031</td> <td>   -3.362</td> <td>   -0.157</td>\n",
       "</tr>\n",
       "<tr>\n",
       "  <th>Uninsured_children_raw_value</th>                                <td>    0.1127</td> <td>    0.198</td> <td>    0.569</td> <td> 0.569</td> <td>   -0.276</td> <td>    0.501</td>\n",
       "</tr>\n",
       "<tr>\n",
       "  <th>Median_household_income_raw_value</th>                           <td>    0.0967</td> <td>    0.101</td> <td>    0.955</td> <td> 0.340</td> <td>   -0.102</td> <td>    0.295</td>\n",
       "</tr>\n",
       "<tr>\n",
       "  <th>Children_eligible_for_free_or_reduced_price_lunch_raw_value</th> <td>    0.0796</td> <td>    0.079</td> <td>    1.014</td> <td> 0.311</td> <td>   -0.074</td> <td>    0.234</td>\n",
       "</tr>\n",
       "<tr>\n",
       "  <th>Residential_segregation___non_white/white_raw_value</th>         <td>    0.0186</td> <td>    0.041</td> <td>    0.456</td> <td> 0.649</td> <td>   -0.062</td> <td>    0.099</td>\n",
       "</tr>\n",
       "<tr>\n",
       "  <th>Homeownership_raw_value</th>                                     <td>    0.0307</td> <td>    0.063</td> <td>    0.487</td> <td> 0.626</td> <td>   -0.093</td> <td>    0.154</td>\n",
       "</tr>\n",
       "<tr>\n",
       "  <th>Severe_housing_cost_burden_raw_value</th>                        <td>   -0.0651</td> <td>    0.087</td> <td>   -0.746</td> <td> 0.456</td> <td>   -0.236</td> <td>    0.106</td>\n",
       "</tr>\n",
       "<tr>\n",
       "  <th>Population_raw_value</th>                                        <td>    0.1578</td> <td>    0.053</td> <td>    2.967</td> <td> 0.003</td> <td>    0.053</td> <td>    0.262</td>\n",
       "</tr>\n",
       "<tr>\n",
       "  <th>County_Ranked</th>                                               <td>    0.1078</td> <td>    0.053</td> <td>    2.046</td> <td> 0.041</td> <td>    0.004</td> <td>    0.211</td>\n",
       "</tr>\n",
       "</table>\n",
       "<table class=\"simpletable\">\n",
       "<tr>\n",
       "  <th>Omnibus:</th>       <td>62.484</td> <th>  Durbin-Watson:     </th> <td>   1.991</td>\n",
       "</tr>\n",
       "<tr>\n",
       "  <th>Prob(Omnibus):</th> <td> 0.000</td> <th>  Jarque-Bera (JB):  </th> <td> 238.854</td>\n",
       "</tr>\n",
       "<tr>\n",
       "  <th>Skew:</th>          <td>-0.102</td> <th>  Prob(JB):          </th> <td>1.36e-52</td>\n",
       "</tr>\n",
       "<tr>\n",
       "  <th>Kurtosis:</th>      <td> 5.357</td> <th>  Cond. No.          </th> <td>    93.7</td>\n",
       "</tr>\n",
       "</table><br/><br/>Warnings:<br/>[1] Standard Errors assume that the covariance matrix of the errors is correctly specified."
      ],
      "text/plain": [
       "<class 'statsmodels.iolib.summary.Summary'>\n",
       "\"\"\"\n",
       "                            OLS Regression Results                            \n",
       "==============================================================================\n",
       "Dep. Variable:        Life_Expectancy   R-squared:                       0.766\n",
       "Model:                            OLS   Adj. R-squared:                  0.757\n",
       "Method:                 Least Squares   F-statistic:                     87.29\n",
       "Date:                Tue, 14 Jan 2020   Prob (F-statistic):          9.60e-282\n",
       "Time:                        19:11:43   Log-Likelihood:                -1667.9\n",
       "No. Observations:                1024   AIC:                             3412.\n",
       "Df Residuals:                     986   BIC:                             3599.\n",
       "Df Model:                          37                                         \n",
       "Covariance Type:            nonrobust                                         \n",
       "===============================================================================================================================\n",
       "                                                                  coef    std err          t      P>|t|      [0.025      0.975]\n",
       "-------------------------------------------------------------------------------------------------------------------------------\n",
       "const                                                          77.1583      0.041   1905.011      0.000      77.079      77.238\n",
       "Low_birthweight_raw_value                                       0.0414      0.062      0.663      0.507      -0.081       0.164\n",
       "Adult_obesity_raw_value                                        -0.1572      0.061     -2.593      0.010      -0.276      -0.038\n",
       "Food_environment_index_raw_value                               -0.3224      0.749     -0.431      0.667      -1.792       1.147\n",
       "Access_to_exercise_opportunities_raw_value                      0.0124      0.056      0.224      0.823      -0.097       0.121\n",
       "Alcohol_impaired_driving_deaths_raw_value                       0.0994      0.043      2.303      0.021       0.015       0.184\n",
       "Sexually_transmitted_infections_raw_value                      -0.1444      0.055     -2.606      0.009      -0.253      -0.036\n",
       "Teen_births_raw_value                                          -0.7781      0.077    -10.053      0.000      -0.930      -0.626\n",
       "Uninsured_raw_value                                             1.8587      0.942      1.974      0.049       0.011       3.707\n",
       "Primary_care_physicians_raw_value                              -0.0112      0.055     -0.203      0.839      -0.120       0.097\n",
       "Dentists_raw_value                                              0.0070      0.057      0.123      0.902      -0.105       0.119\n",
       "Mental_health_providers_raw_value                              -0.0925      0.046     -2.021      0.044      -0.182      -0.003\n",
       "Flu_vaccinations_raw_value                                      0.0176      0.052      0.338      0.736      -0.084       0.120\n",
       "High_school_graduation_raw_value                               -0.1932      0.048     -4.037      0.000      -0.287      -0.099\n",
       "Some_college_raw_value                                         -0.0030      0.069     -0.044      0.965      -0.139       0.133\n",
       "Unemployment_raw_value                                          0.0662      0.065      1.020      0.308      -0.061       0.194\n",
       "Children_in_poverty_raw_value                                  -0.0514      0.108     -0.475      0.635      -0.264       0.161\n",
       "Income_inequality_raw_value                                    -0.1059      0.059     -1.800      0.072      -0.221       0.010\n",
       "Children_in_single_parent_households_raw_value                 -0.0886      0.070     -1.273      0.203      -0.225       0.048\n",
       "Social_associations_raw_value                                  -0.0041      0.053     -0.077      0.939      -0.108       0.100\n",
       "Violent_crime_raw_value                                         0.0308      0.051      0.607      0.544      -0.069       0.130\n",
       "Injury_deaths_raw_value                                        -0.8047      0.055    -14.538      0.000      -0.913      -0.696\n",
       "Air_pollution___particulate_matter_raw_value                   -0.3491      0.063     -5.536      0.000      -0.473      -0.225\n",
       "Severe_housing_problems_raw_value                              -0.0437      0.084     -0.519      0.604      -0.209       0.122\n",
       "Diabetes_prevalence_raw_value                                  -0.3818      0.074     -5.153      0.000      -0.527      -0.236\n",
       "HIV_prevalence_raw_value                                        0.0843      0.052      1.628      0.104      -0.017       0.186\n",
       "Food_insecurity_raw_value                                      -0.6149      0.497     -1.238      0.216      -1.590       0.360\n",
       "Limited_access_to_healthy_foods_raw_value                      -0.2297      0.505     -0.455      0.649      -1.221       0.761\n",
       "Motor_vehicle_crash_deaths_raw_value                           -0.1567      0.058     -2.703      0.007      -0.270      -0.043\n",
       "Uninsured_adults_raw_value                                     -1.7596      0.816     -2.155      0.031      -3.362      -0.157\n",
       "Uninsured_children_raw_value                                    0.1127      0.198      0.569      0.569      -0.276       0.501\n",
       "Median_household_income_raw_value                               0.0967      0.101      0.955      0.340      -0.102       0.295\n",
       "Children_eligible_for_free_or_reduced_price_lunch_raw_value     0.0796      0.079      1.014      0.311      -0.074       0.234\n",
       "Residential_segregation___non_white/white_raw_value             0.0186      0.041      0.456      0.649      -0.062       0.099\n",
       "Homeownership_raw_value                                         0.0307      0.063      0.487      0.626      -0.093       0.154\n",
       "Severe_housing_cost_burden_raw_value                           -0.0651      0.087     -0.746      0.456      -0.236       0.106\n",
       "Population_raw_value                                            0.1578      0.053      2.967      0.003       0.053       0.262\n",
       "County_Ranked                                                   0.1078      0.053      2.046      0.041       0.004       0.211\n",
       "==============================================================================\n",
       "Omnibus:                       62.484   Durbin-Watson:                   1.991\n",
       "Prob(Omnibus):                  0.000   Jarque-Bera (JB):              238.854\n",
       "Skew:                          -0.102   Prob(JB):                     1.36e-52\n",
       "Kurtosis:                       5.357   Cond. No.                         93.7\n",
       "==============================================================================\n",
       "\n",
       "Warnings:\n",
       "[1] Standard Errors assume that the covariance matrix of the errors is correctly specified.\n",
       "\"\"\""
      ]
     },
     "execution_count": 23,
     "metadata": {},
     "output_type": "execute_result"
    }
   ],
   "source": [
    "X_const = sm.add_constant(X_1)\n",
    "\n",
    "model1 = sm.OLS(y_train, X_const).fit()\n",
    "model1.summary()"
   ]
  },
  {
   "cell_type": "markdown",
   "metadata": {},
   "source": [
    "## Eliminate Features using the P-value score"
   ]
  },
  {
   "cell_type": "code",
   "execution_count": 24,
   "metadata": {},
   "outputs": [],
   "source": [
    "def func_rfe(X_1, model):\n",
    "    X_cols = list(X_1.columns)\n",
    "    X_cols = ['const'] + X_cols\n",
    "    rfe = list(zip(X_cols, model.pvalues))\n",
    "    rfe = pd.DataFrame(rfe, columns=['Parameters', 'P_values'])\n",
    "    rfe.sort_values(by='P_values', ascending=True, inplace=True)\n",
    "    rfe_reduced = rfe.loc[rfe['P_values'] < 0.05]\n",
    "    return rfe_reduced"
   ]
  },
  {
   "cell_type": "code",
   "execution_count": 25,
   "metadata": {},
   "outputs": [
    {
     "data": {
      "text/html": [
       "<div>\n",
       "<style scoped>\n",
       "    .dataframe tbody tr th:only-of-type {\n",
       "        vertical-align: middle;\n",
       "    }\n",
       "\n",
       "    .dataframe tbody tr th {\n",
       "        vertical-align: top;\n",
       "    }\n",
       "\n",
       "    .dataframe thead th {\n",
       "        text-align: right;\n",
       "    }\n",
       "</style>\n",
       "<table border=\"1\" class=\"dataframe\">\n",
       "  <thead>\n",
       "    <tr style=\"text-align: right;\">\n",
       "      <th></th>\n",
       "      <th>Parameters</th>\n",
       "      <th>P_values</th>\n",
       "    </tr>\n",
       "  </thead>\n",
       "  <tbody>\n",
       "    <tr>\n",
       "      <td>0</td>\n",
       "      <td>const</td>\n",
       "      <td>0.000000e+00</td>\n",
       "    </tr>\n",
       "    <tr>\n",
       "      <td>21</td>\n",
       "      <td>Injury_deaths_raw_value</td>\n",
       "      <td>1.576302e-43</td>\n",
       "    </tr>\n",
       "    <tr>\n",
       "      <td>7</td>\n",
       "      <td>Teen_births_raw_value</td>\n",
       "      <td>1.056069e-22</td>\n",
       "    </tr>\n",
       "    <tr>\n",
       "      <td>22</td>\n",
       "      <td>Air_pollution___particulate_matter_raw_value</td>\n",
       "      <td>3.973690e-08</td>\n",
       "    </tr>\n",
       "    <tr>\n",
       "      <td>24</td>\n",
       "      <td>Diabetes_prevalence_raw_value</td>\n",
       "      <td>3.098748e-07</td>\n",
       "    </tr>\n",
       "    <tr>\n",
       "      <td>13</td>\n",
       "      <td>High_school_graduation_raw_value</td>\n",
       "      <td>5.827431e-05</td>\n",
       "    </tr>\n",
       "    <tr>\n",
       "      <td>36</td>\n",
       "      <td>Population_raw_value</td>\n",
       "      <td>3.081506e-03</td>\n",
       "    </tr>\n",
       "    <tr>\n",
       "      <td>28</td>\n",
       "      <td>Motor_vehicle_crash_deaths_raw_value</td>\n",
       "      <td>6.984724e-03</td>\n",
       "    </tr>\n",
       "    <tr>\n",
       "      <td>6</td>\n",
       "      <td>Sexually_transmitted_infections_raw_value</td>\n",
       "      <td>9.303460e-03</td>\n",
       "    </tr>\n",
       "    <tr>\n",
       "      <td>2</td>\n",
       "      <td>Adult_obesity_raw_value</td>\n",
       "      <td>9.652550e-03</td>\n",
       "    </tr>\n",
       "    <tr>\n",
       "      <td>5</td>\n",
       "      <td>Alcohol_impaired_driving_deaths_raw_value</td>\n",
       "      <td>2.147809e-02</td>\n",
       "    </tr>\n",
       "    <tr>\n",
       "      <td>29</td>\n",
       "      <td>Uninsured_adults_raw_value</td>\n",
       "      <td>3.139356e-02</td>\n",
       "    </tr>\n",
       "    <tr>\n",
       "      <td>37</td>\n",
       "      <td>County_Ranked</td>\n",
       "      <td>4.100510e-02</td>\n",
       "    </tr>\n",
       "    <tr>\n",
       "      <td>11</td>\n",
       "      <td>Mental_health_providers_raw_value</td>\n",
       "      <td>4.356636e-02</td>\n",
       "    </tr>\n",
       "    <tr>\n",
       "      <td>8</td>\n",
       "      <td>Uninsured_raw_value</td>\n",
       "      <td>4.865795e-02</td>\n",
       "    </tr>\n",
       "  </tbody>\n",
       "</table>\n",
       "</div>"
      ],
      "text/plain": [
       "                                      Parameters      P_values\n",
       "0                                          const  0.000000e+00\n",
       "21                       Injury_deaths_raw_value  1.576302e-43\n",
       "7                          Teen_births_raw_value  1.056069e-22\n",
       "22  Air_pollution___particulate_matter_raw_value  3.973690e-08\n",
       "24                 Diabetes_prevalence_raw_value  3.098748e-07\n",
       "13              High_school_graduation_raw_value  5.827431e-05\n",
       "36                          Population_raw_value  3.081506e-03\n",
       "28          Motor_vehicle_crash_deaths_raw_value  6.984724e-03\n",
       "6      Sexually_transmitted_infections_raw_value  9.303460e-03\n",
       "2                        Adult_obesity_raw_value  9.652550e-03\n",
       "5      Alcohol_impaired_driving_deaths_raw_value  2.147809e-02\n",
       "29                    Uninsured_adults_raw_value  3.139356e-02\n",
       "37                                 County_Ranked  4.100510e-02\n",
       "11             Mental_health_providers_raw_value  4.356636e-02\n",
       "8                            Uninsured_raw_value  4.865795e-02"
      ]
     },
     "execution_count": 25,
     "metadata": {},
     "output_type": "execute_result"
    }
   ],
   "source": [
    "rfe_reduced = func_rfe(X_1, model1)\n",
    "rfe_reduced"
   ]
  },
  {
   "cell_type": "code",
   "execution_count": 26,
   "metadata": {},
   "outputs": [],
   "source": [
    "rfe_reduced = rfe_reduced.loc[rfe_reduced['Parameters'] != 'const']\n",
    "X_cols = list(rfe_reduced.Parameters)\n",
    "X_2 = X_1[X_cols]\n",
    "# X_2.sort_index()"
   ]
  },
  {
   "cell_type": "code",
   "execution_count": 27,
   "metadata": {},
   "outputs": [
    {
     "data": {
      "text/plain": [
       "(37, 14)"
      ]
     },
     "execution_count": 27,
     "metadata": {},
     "output_type": "execute_result"
    }
   ],
   "source": [
    "X_1.shape[1], X_2.shape[1]"
   ]
  },
  {
   "cell_type": "markdown",
   "metadata": {},
   "source": [
    "# Model 3:"
   ]
  },
  {
   "cell_type": "code",
   "execution_count": 28,
   "metadata": {},
   "outputs": [
    {
     "data": {
      "text/html": [
       "<table class=\"simpletable\">\n",
       "<caption>OLS Regression Results</caption>\n",
       "<tr>\n",
       "  <th>Dep. Variable:</th>     <td>Life_Expectancy</td> <th>  R-squared:         </th> <td>   0.740</td> \n",
       "</tr>\n",
       "<tr>\n",
       "  <th>Model:</th>                   <td>OLS</td>       <th>  Adj. R-squared:    </th> <td>   0.737</td> \n",
       "</tr>\n",
       "<tr>\n",
       "  <th>Method:</th>             <td>Least Squares</td>  <th>  F-statistic:       </th> <td>   205.3</td> \n",
       "</tr>\n",
       "<tr>\n",
       "  <th>Date:</th>             <td>Tue, 14 Jan 2020</td> <th>  Prob (F-statistic):</th> <td>2.10e-283</td>\n",
       "</tr>\n",
       "<tr>\n",
       "  <th>Time:</th>                 <td>19:11:44</td>     <th>  Log-Likelihood:    </th> <td> -1721.8</td> \n",
       "</tr>\n",
       "<tr>\n",
       "  <th>No. Observations:</th>      <td>  1024</td>      <th>  AIC:               </th> <td>   3474.</td> \n",
       "</tr>\n",
       "<tr>\n",
       "  <th>Df Residuals:</th>          <td>  1009</td>      <th>  BIC:               </th> <td>   3548.</td> \n",
       "</tr>\n",
       "<tr>\n",
       "  <th>Df Model:</th>              <td>    14</td>      <th>                     </th>     <td> </td>    \n",
       "</tr>\n",
       "<tr>\n",
       "  <th>Covariance Type:</th>      <td>nonrobust</td>    <th>                     </th>     <td> </td>    \n",
       "</tr>\n",
       "</table>\n",
       "<table class=\"simpletable\">\n",
       "<tr>\n",
       "                        <td></td>                          <th>coef</th>     <th>std err</th>      <th>t</th>      <th>P>|t|</th>  <th>[0.025</th>    <th>0.975]</th>  \n",
       "</tr>\n",
       "<tr>\n",
       "  <th>const</th>                                        <td>   77.1440</td> <td>    0.042</td> <td> 1858.798</td> <td> 0.000</td> <td>   77.063</td> <td>   77.225</td>\n",
       "</tr>\n",
       "<tr>\n",
       "  <th>Injury_deaths_raw_value</th>                      <td>   -0.8379</td> <td>    0.054</td> <td>  -15.534</td> <td> 0.000</td> <td>   -0.944</td> <td>   -0.732</td>\n",
       "</tr>\n",
       "<tr>\n",
       "  <th>Teen_births_raw_value</th>                        <td>   -0.8156</td> <td>    0.063</td> <td>  -12.967</td> <td> 0.000</td> <td>   -0.939</td> <td>   -0.692</td>\n",
       "</tr>\n",
       "<tr>\n",
       "  <th>Air_pollution___particulate_matter_raw_value</th> <td>   -0.4138</td> <td>    0.056</td> <td>   -7.383</td> <td> 0.000</td> <td>   -0.524</td> <td>   -0.304</td>\n",
       "</tr>\n",
       "<tr>\n",
       "  <th>Diabetes_prevalence_raw_value</th>                <td>   -0.5442</td> <td>    0.065</td> <td>   -8.412</td> <td> 0.000</td> <td>   -0.671</td> <td>   -0.417</td>\n",
       "</tr>\n",
       "<tr>\n",
       "  <th>High_school_graduation_raw_value</th>             <td>   -0.1544</td> <td>    0.046</td> <td>   -3.326</td> <td> 0.001</td> <td>   -0.246</td> <td>   -0.063</td>\n",
       "</tr>\n",
       "<tr>\n",
       "  <th>Population_raw_value</th>                         <td>    0.1998</td> <td>    0.050</td> <td>    3.972</td> <td> 0.000</td> <td>    0.101</td> <td>    0.299</td>\n",
       "</tr>\n",
       "<tr>\n",
       "  <th>Motor_vehicle_crash_deaths_raw_value</th>         <td>   -0.1830</td> <td>    0.056</td> <td>   -3.239</td> <td> 0.001</td> <td>   -0.294</td> <td>   -0.072</td>\n",
       "</tr>\n",
       "<tr>\n",
       "  <th>Sexually_transmitted_infections_raw_value</th>    <td>   -0.2904</td> <td>    0.046</td> <td>   -6.268</td> <td> 0.000</td> <td>   -0.381</td> <td>   -0.199</td>\n",
       "</tr>\n",
       "<tr>\n",
       "  <th>Adult_obesity_raw_value</th>                      <td>   -0.1466</td> <td>    0.060</td> <td>   -2.443</td> <td> 0.015</td> <td>   -0.264</td> <td>   -0.029</td>\n",
       "</tr>\n",
       "<tr>\n",
       "  <th>Alcohol_impaired_driving_deaths_raw_value</th>    <td>    0.1039</td> <td>    0.044</td> <td>    2.339</td> <td> 0.020</td> <td>    0.017</td> <td>    0.191</td>\n",
       "</tr>\n",
       "<tr>\n",
       "  <th>Uninsured_adults_raw_value</th>                   <td>   -2.6010</td> <td>    0.396</td> <td>   -6.563</td> <td> 0.000</td> <td>   -3.379</td> <td>   -1.823</td>\n",
       "</tr>\n",
       "<tr>\n",
       "  <th>County_Ranked</th>                                <td>    0.1380</td> <td>    0.045</td> <td>    3.078</td> <td> 0.002</td> <td>    0.050</td> <td>    0.226</td>\n",
       "</tr>\n",
       "<tr>\n",
       "  <th>Mental_health_providers_raw_value</th>            <td>   -0.1718</td> <td>    0.043</td> <td>   -4.007</td> <td> 0.000</td> <td>   -0.256</td> <td>   -0.088</td>\n",
       "</tr>\n",
       "<tr>\n",
       "  <th>Uninsured_raw_value</th>                          <td>    2.7002</td> <td>    0.386</td> <td>    6.997</td> <td> 0.000</td> <td>    1.943</td> <td>    3.457</td>\n",
       "</tr>\n",
       "</table>\n",
       "<table class=\"simpletable\">\n",
       "<tr>\n",
       "  <th>Omnibus:</th>       <td>67.261</td> <th>  Durbin-Watson:     </th> <td>   1.986</td>\n",
       "</tr>\n",
       "<tr>\n",
       "  <th>Prob(Omnibus):</th> <td> 0.000</td> <th>  Jarque-Bera (JB):  </th> <td> 202.896</td>\n",
       "</tr>\n",
       "<tr>\n",
       "  <th>Skew:</th>          <td>-0.284</td> <th>  Prob(JB):          </th> <td>8.74e-45</td>\n",
       "</tr>\n",
       "<tr>\n",
       "  <th>Kurtosis:</th>      <td> 5.105</td> <th>  Cond. No.          </th> <td>    25.2</td>\n",
       "</tr>\n",
       "</table><br/><br/>Warnings:<br/>[1] Standard Errors assume that the covariance matrix of the errors is correctly specified."
      ],
      "text/plain": [
       "<class 'statsmodels.iolib.summary.Summary'>\n",
       "\"\"\"\n",
       "                            OLS Regression Results                            \n",
       "==============================================================================\n",
       "Dep. Variable:        Life_Expectancy   R-squared:                       0.740\n",
       "Model:                            OLS   Adj. R-squared:                  0.737\n",
       "Method:                 Least Squares   F-statistic:                     205.3\n",
       "Date:                Tue, 14 Jan 2020   Prob (F-statistic):          2.10e-283\n",
       "Time:                        19:11:44   Log-Likelihood:                -1721.8\n",
       "No. Observations:                1024   AIC:                             3474.\n",
       "Df Residuals:                    1009   BIC:                             3548.\n",
       "Df Model:                          14                                         \n",
       "Covariance Type:            nonrobust                                         \n",
       "================================================================================================================\n",
       "                                                   coef    std err          t      P>|t|      [0.025      0.975]\n",
       "----------------------------------------------------------------------------------------------------------------\n",
       "const                                           77.1440      0.042   1858.798      0.000      77.063      77.225\n",
       "Injury_deaths_raw_value                         -0.8379      0.054    -15.534      0.000      -0.944      -0.732\n",
       "Teen_births_raw_value                           -0.8156      0.063    -12.967      0.000      -0.939      -0.692\n",
       "Air_pollution___particulate_matter_raw_value    -0.4138      0.056     -7.383      0.000      -0.524      -0.304\n",
       "Diabetes_prevalence_raw_value                   -0.5442      0.065     -8.412      0.000      -0.671      -0.417\n",
       "High_school_graduation_raw_value                -0.1544      0.046     -3.326      0.001      -0.246      -0.063\n",
       "Population_raw_value                             0.1998      0.050      3.972      0.000       0.101       0.299\n",
       "Motor_vehicle_crash_deaths_raw_value            -0.1830      0.056     -3.239      0.001      -0.294      -0.072\n",
       "Sexually_transmitted_infections_raw_value       -0.2904      0.046     -6.268      0.000      -0.381      -0.199\n",
       "Adult_obesity_raw_value                         -0.1466      0.060     -2.443      0.015      -0.264      -0.029\n",
       "Alcohol_impaired_driving_deaths_raw_value        0.1039      0.044      2.339      0.020       0.017       0.191\n",
       "Uninsured_adults_raw_value                      -2.6010      0.396     -6.563      0.000      -3.379      -1.823\n",
       "County_Ranked                                    0.1380      0.045      3.078      0.002       0.050       0.226\n",
       "Mental_health_providers_raw_value               -0.1718      0.043     -4.007      0.000      -0.256      -0.088\n",
       "Uninsured_raw_value                              2.7002      0.386      6.997      0.000       1.943       3.457\n",
       "==============================================================================\n",
       "Omnibus:                       67.261   Durbin-Watson:                   1.986\n",
       "Prob(Omnibus):                  0.000   Jarque-Bera (JB):              202.896\n",
       "Skew:                          -0.284   Prob(JB):                     8.74e-45\n",
       "Kurtosis:                       5.105   Cond. No.                         25.2\n",
       "==============================================================================\n",
       "\n",
       "Warnings:\n",
       "[1] Standard Errors assume that the covariance matrix of the errors is correctly specified.\n",
       "\"\"\""
      ]
     },
     "execution_count": 28,
     "metadata": {},
     "output_type": "execute_result"
    }
   ],
   "source": [
    "X_const = sm.add_constant(X_2)\n",
    "\n",
    "model2 = sm.OLS(y_train, X_const).fit()\n",
    "model2.summary()"
   ]
  },
  {
   "cell_type": "markdown",
   "metadata": {},
   "source": [
    "## Adjust Baseline & Run RFE"
   ]
  },
  {
   "cell_type": "code",
   "execution_count": 29,
   "metadata": {},
   "outputs": [
    {
     "name": "stdout",
     "output_type": "stream",
     "text": [
      "Inital R^2: 0.7190319812371023\n"
     ]
    }
   ],
   "source": [
    "regression = LinearRegression()\n",
    "\n",
    "crossvalidation = KFold(n_splits=10, shuffle=True, random_state=1)\n",
    "baseline = np.mean(cross_val_score(regression, X_2, y_train, scoring='r2', cv=crossvalidation))\n",
    "print(\"Inital R^2:\", baseline)"
   ]
  },
  {
   "cell_type": "code",
   "execution_count": 30,
   "metadata": {},
   "outputs": [
    {
     "data": {
      "text/html": [
       "<div>\n",
       "<style scoped>\n",
       "    .dataframe tbody tr th:only-of-type {\n",
       "        vertical-align: middle;\n",
       "    }\n",
       "\n",
       "    .dataframe tbody tr th {\n",
       "        vertical-align: top;\n",
       "    }\n",
       "\n",
       "    .dataframe thead th {\n",
       "        text-align: right;\n",
       "    }\n",
       "</style>\n",
       "<table border=\"1\" class=\"dataframe\">\n",
       "  <thead>\n",
       "    <tr style=\"text-align: right;\">\n",
       "      <th></th>\n",
       "      <th>Parameters</th>\n",
       "      <th>P_values</th>\n",
       "    </tr>\n",
       "  </thead>\n",
       "  <tbody>\n",
       "    <tr>\n",
       "      <td>0</td>\n",
       "      <td>const</td>\n",
       "      <td>0.000000e+00</td>\n",
       "    </tr>\n",
       "    <tr>\n",
       "      <td>1</td>\n",
       "      <td>Injury_deaths_raw_value</td>\n",
       "      <td>5.921421e-49</td>\n",
       "    </tr>\n",
       "    <tr>\n",
       "      <td>2</td>\n",
       "      <td>Teen_births_raw_value</td>\n",
       "      <td>1.126553e-35</td>\n",
       "    </tr>\n",
       "    <tr>\n",
       "      <td>4</td>\n",
       "      <td>Diabetes_prevalence_raw_value</td>\n",
       "      <td>1.362022e-16</td>\n",
       "    </tr>\n",
       "    <tr>\n",
       "      <td>3</td>\n",
       "      <td>Air_pollution___particulate_matter_raw_value</td>\n",
       "      <td>3.244668e-13</td>\n",
       "    </tr>\n",
       "    <tr>\n",
       "      <td>14</td>\n",
       "      <td>Uninsured_raw_value</td>\n",
       "      <td>4.752185e-12</td>\n",
       "    </tr>\n",
       "    <tr>\n",
       "      <td>11</td>\n",
       "      <td>Uninsured_adults_raw_value</td>\n",
       "      <td>8.437311e-11</td>\n",
       "    </tr>\n",
       "    <tr>\n",
       "      <td>8</td>\n",
       "      <td>Sexually_transmitted_infections_raw_value</td>\n",
       "      <td>5.413575e-10</td>\n",
       "    </tr>\n",
       "    <tr>\n",
       "      <td>13</td>\n",
       "      <td>Mental_health_providers_raw_value</td>\n",
       "      <td>6.611039e-05</td>\n",
       "    </tr>\n",
       "    <tr>\n",
       "      <td>6</td>\n",
       "      <td>Population_raw_value</td>\n",
       "      <td>7.626313e-05</td>\n",
       "    </tr>\n",
       "    <tr>\n",
       "      <td>5</td>\n",
       "      <td>High_school_graduation_raw_value</td>\n",
       "      <td>9.127038e-04</td>\n",
       "    </tr>\n",
       "    <tr>\n",
       "      <td>7</td>\n",
       "      <td>Motor_vehicle_crash_deaths_raw_value</td>\n",
       "      <td>1.239719e-03</td>\n",
       "    </tr>\n",
       "    <tr>\n",
       "      <td>12</td>\n",
       "      <td>County_Ranked</td>\n",
       "      <td>2.137725e-03</td>\n",
       "    </tr>\n",
       "    <tr>\n",
       "      <td>9</td>\n",
       "      <td>Adult_obesity_raw_value</td>\n",
       "      <td>1.471962e-02</td>\n",
       "    </tr>\n",
       "    <tr>\n",
       "      <td>10</td>\n",
       "      <td>Alcohol_impaired_driving_deaths_raw_value</td>\n",
       "      <td>1.952432e-02</td>\n",
       "    </tr>\n",
       "  </tbody>\n",
       "</table>\n",
       "</div>"
      ],
      "text/plain": [
       "                                      Parameters      P_values\n",
       "0                                          const  0.000000e+00\n",
       "1                        Injury_deaths_raw_value  5.921421e-49\n",
       "2                          Teen_births_raw_value  1.126553e-35\n",
       "4                  Diabetes_prevalence_raw_value  1.362022e-16\n",
       "3   Air_pollution___particulate_matter_raw_value  3.244668e-13\n",
       "14                           Uninsured_raw_value  4.752185e-12\n",
       "11                    Uninsured_adults_raw_value  8.437311e-11\n",
       "8      Sexually_transmitted_infections_raw_value  5.413575e-10\n",
       "13             Mental_health_providers_raw_value  6.611039e-05\n",
       "6                           Population_raw_value  7.626313e-05\n",
       "5               High_school_graduation_raw_value  9.127038e-04\n",
       "7           Motor_vehicle_crash_deaths_raw_value  1.239719e-03\n",
       "12                                 County_Ranked  2.137725e-03\n",
       "9                        Adult_obesity_raw_value  1.471962e-02\n",
       "10     Alcohol_impaired_driving_deaths_raw_value  1.952432e-02"
      ]
     },
     "execution_count": 30,
     "metadata": {},
     "output_type": "execute_result"
    }
   ],
   "source": [
    "rfe_red2 = func_rfe(X_2, model2)\n",
    "rfe_red2"
   ]
  },
  {
   "cell_type": "code",
   "execution_count": 31,
   "metadata": {},
   "outputs": [],
   "source": [
    "rfe_red2 = rfe_red2.loc[rfe_red2['Parameters'] != 'const']\n",
    "X_cols = list(rfe_red2.Parameters)\n",
    "X_3 = X_2[X_cols]\n",
    "# X_3.sort_index()"
   ]
  },
  {
   "cell_type": "code",
   "execution_count": 32,
   "metadata": {},
   "outputs": [
    {
     "data": {
      "text/plain": [
       "(14, 14)"
      ]
     },
     "execution_count": 32,
     "metadata": {},
     "output_type": "execute_result"
    }
   ],
   "source": [
    "X_2.shape[1], X_3.shape[1]"
   ]
  },
  {
   "cell_type": "code",
   "execution_count": 33,
   "metadata": {},
   "outputs": [
    {
     "name": "stderr",
     "output_type": "stream",
     "text": [
      "/opt/anaconda3/lib/python3.7/site-packages/numpy/core/fromnumeric.py:2495: FutureWarning: Method .ptp is deprecated and will be removed in a future version. Use numpy.ptp instead.\n",
      "  return ptp(axis=axis, out=out, **kwargs)\n"
     ]
    },
    {
     "data": {
      "text/html": [
       "<table class=\"simpletable\">\n",
       "<caption>OLS Regression Results</caption>\n",
       "<tr>\n",
       "  <th>Dep. Variable:</th>     <td>Life_Expectancy</td> <th>  R-squared:         </th> <td>   0.740</td> \n",
       "</tr>\n",
       "<tr>\n",
       "  <th>Model:</th>                   <td>OLS</td>       <th>  Adj. R-squared:    </th> <td>   0.737</td> \n",
       "</tr>\n",
       "<tr>\n",
       "  <th>Method:</th>             <td>Least Squares</td>  <th>  F-statistic:       </th> <td>   205.3</td> \n",
       "</tr>\n",
       "<tr>\n",
       "  <th>Date:</th>             <td>Tue, 14 Jan 2020</td> <th>  Prob (F-statistic):</th> <td>2.10e-283</td>\n",
       "</tr>\n",
       "<tr>\n",
       "  <th>Time:</th>                 <td>19:11:44</td>     <th>  Log-Likelihood:    </th> <td> -1721.8</td> \n",
       "</tr>\n",
       "<tr>\n",
       "  <th>No. Observations:</th>      <td>  1024</td>      <th>  AIC:               </th> <td>   3474.</td> \n",
       "</tr>\n",
       "<tr>\n",
       "  <th>Df Residuals:</th>          <td>  1009</td>      <th>  BIC:               </th> <td>   3548.</td> \n",
       "</tr>\n",
       "<tr>\n",
       "  <th>Df Model:</th>              <td>    14</td>      <th>                     </th>     <td> </td>    \n",
       "</tr>\n",
       "<tr>\n",
       "  <th>Covariance Type:</th>      <td>nonrobust</td>    <th>                     </th>     <td> </td>    \n",
       "</tr>\n",
       "</table>\n",
       "<table class=\"simpletable\">\n",
       "<tr>\n",
       "                        <td></td>                          <th>coef</th>     <th>std err</th>      <th>t</th>      <th>P>|t|</th>  <th>[0.025</th>    <th>0.975]</th>  \n",
       "</tr>\n",
       "<tr>\n",
       "  <th>const</th>                                        <td>   77.1440</td> <td>    0.042</td> <td> 1858.798</td> <td> 0.000</td> <td>   77.063</td> <td>   77.225</td>\n",
       "</tr>\n",
       "<tr>\n",
       "  <th>Injury_deaths_raw_value</th>                      <td>   -0.8379</td> <td>    0.054</td> <td>  -15.534</td> <td> 0.000</td> <td>   -0.944</td> <td>   -0.732</td>\n",
       "</tr>\n",
       "<tr>\n",
       "  <th>Teen_births_raw_value</th>                        <td>   -0.8156</td> <td>    0.063</td> <td>  -12.967</td> <td> 0.000</td> <td>   -0.939</td> <td>   -0.692</td>\n",
       "</tr>\n",
       "<tr>\n",
       "  <th>Diabetes_prevalence_raw_value</th>                <td>   -0.5442</td> <td>    0.065</td> <td>   -8.412</td> <td> 0.000</td> <td>   -0.671</td> <td>   -0.417</td>\n",
       "</tr>\n",
       "<tr>\n",
       "  <th>Air_pollution___particulate_matter_raw_value</th> <td>   -0.4138</td> <td>    0.056</td> <td>   -7.383</td> <td> 0.000</td> <td>   -0.524</td> <td>   -0.304</td>\n",
       "</tr>\n",
       "<tr>\n",
       "  <th>Uninsured_raw_value</th>                          <td>    2.7002</td> <td>    0.386</td> <td>    6.997</td> <td> 0.000</td> <td>    1.943</td> <td>    3.457</td>\n",
       "</tr>\n",
       "<tr>\n",
       "  <th>Uninsured_adults_raw_value</th>                   <td>   -2.6010</td> <td>    0.396</td> <td>   -6.563</td> <td> 0.000</td> <td>   -3.379</td> <td>   -1.823</td>\n",
       "</tr>\n",
       "<tr>\n",
       "  <th>Sexually_transmitted_infections_raw_value</th>    <td>   -0.2904</td> <td>    0.046</td> <td>   -6.268</td> <td> 0.000</td> <td>   -0.381</td> <td>   -0.199</td>\n",
       "</tr>\n",
       "<tr>\n",
       "  <th>Mental_health_providers_raw_value</th>            <td>   -0.1718</td> <td>    0.043</td> <td>   -4.007</td> <td> 0.000</td> <td>   -0.256</td> <td>   -0.088</td>\n",
       "</tr>\n",
       "<tr>\n",
       "  <th>Population_raw_value</th>                         <td>    0.1998</td> <td>    0.050</td> <td>    3.972</td> <td> 0.000</td> <td>    0.101</td> <td>    0.299</td>\n",
       "</tr>\n",
       "<tr>\n",
       "  <th>High_school_graduation_raw_value</th>             <td>   -0.1544</td> <td>    0.046</td> <td>   -3.326</td> <td> 0.001</td> <td>   -0.246</td> <td>   -0.063</td>\n",
       "</tr>\n",
       "<tr>\n",
       "  <th>Motor_vehicle_crash_deaths_raw_value</th>         <td>   -0.1830</td> <td>    0.056</td> <td>   -3.239</td> <td> 0.001</td> <td>   -0.294</td> <td>   -0.072</td>\n",
       "</tr>\n",
       "<tr>\n",
       "  <th>County_Ranked</th>                                <td>    0.1380</td> <td>    0.045</td> <td>    3.078</td> <td> 0.002</td> <td>    0.050</td> <td>    0.226</td>\n",
       "</tr>\n",
       "<tr>\n",
       "  <th>Adult_obesity_raw_value</th>                      <td>   -0.1466</td> <td>    0.060</td> <td>   -2.443</td> <td> 0.015</td> <td>   -0.264</td> <td>   -0.029</td>\n",
       "</tr>\n",
       "<tr>\n",
       "  <th>Alcohol_impaired_driving_deaths_raw_value</th>    <td>    0.1039</td> <td>    0.044</td> <td>    2.339</td> <td> 0.020</td> <td>    0.017</td> <td>    0.191</td>\n",
       "</tr>\n",
       "</table>\n",
       "<table class=\"simpletable\">\n",
       "<tr>\n",
       "  <th>Omnibus:</th>       <td>67.261</td> <th>  Durbin-Watson:     </th> <td>   1.986</td>\n",
       "</tr>\n",
       "<tr>\n",
       "  <th>Prob(Omnibus):</th> <td> 0.000</td> <th>  Jarque-Bera (JB):  </th> <td> 202.896</td>\n",
       "</tr>\n",
       "<tr>\n",
       "  <th>Skew:</th>          <td>-0.284</td> <th>  Prob(JB):          </th> <td>8.74e-45</td>\n",
       "</tr>\n",
       "<tr>\n",
       "  <th>Kurtosis:</th>      <td> 5.105</td> <th>  Cond. No.          </th> <td>    25.2</td>\n",
       "</tr>\n",
       "</table><br/><br/>Warnings:<br/>[1] Standard Errors assume that the covariance matrix of the errors is correctly specified."
      ],
      "text/plain": [
       "<class 'statsmodels.iolib.summary.Summary'>\n",
       "\"\"\"\n",
       "                            OLS Regression Results                            \n",
       "==============================================================================\n",
       "Dep. Variable:        Life_Expectancy   R-squared:                       0.740\n",
       "Model:                            OLS   Adj. R-squared:                  0.737\n",
       "Method:                 Least Squares   F-statistic:                     205.3\n",
       "Date:                Tue, 14 Jan 2020   Prob (F-statistic):          2.10e-283\n",
       "Time:                        19:11:44   Log-Likelihood:                -1721.8\n",
       "No. Observations:                1024   AIC:                             3474.\n",
       "Df Residuals:                    1009   BIC:                             3548.\n",
       "Df Model:                          14                                         \n",
       "Covariance Type:            nonrobust                                         \n",
       "================================================================================================================\n",
       "                                                   coef    std err          t      P>|t|      [0.025      0.975]\n",
       "----------------------------------------------------------------------------------------------------------------\n",
       "const                                           77.1440      0.042   1858.798      0.000      77.063      77.225\n",
       "Injury_deaths_raw_value                         -0.8379      0.054    -15.534      0.000      -0.944      -0.732\n",
       "Teen_births_raw_value                           -0.8156      0.063    -12.967      0.000      -0.939      -0.692\n",
       "Diabetes_prevalence_raw_value                   -0.5442      0.065     -8.412      0.000      -0.671      -0.417\n",
       "Air_pollution___particulate_matter_raw_value    -0.4138      0.056     -7.383      0.000      -0.524      -0.304\n",
       "Uninsured_raw_value                              2.7002      0.386      6.997      0.000       1.943       3.457\n",
       "Uninsured_adults_raw_value                      -2.6010      0.396     -6.563      0.000      -3.379      -1.823\n",
       "Sexually_transmitted_infections_raw_value       -0.2904      0.046     -6.268      0.000      -0.381      -0.199\n",
       "Mental_health_providers_raw_value               -0.1718      0.043     -4.007      0.000      -0.256      -0.088\n",
       "Population_raw_value                             0.1998      0.050      3.972      0.000       0.101       0.299\n",
       "High_school_graduation_raw_value                -0.1544      0.046     -3.326      0.001      -0.246      -0.063\n",
       "Motor_vehicle_crash_deaths_raw_value            -0.1830      0.056     -3.239      0.001      -0.294      -0.072\n",
       "County_Ranked                                    0.1380      0.045      3.078      0.002       0.050       0.226\n",
       "Adult_obesity_raw_value                         -0.1466      0.060     -2.443      0.015      -0.264      -0.029\n",
       "Alcohol_impaired_driving_deaths_raw_value        0.1039      0.044      2.339      0.020       0.017       0.191\n",
       "==============================================================================\n",
       "Omnibus:                       67.261   Durbin-Watson:                   1.986\n",
       "Prob(Omnibus):                  0.000   Jarque-Bera (JB):              202.896\n",
       "Skew:                          -0.284   Prob(JB):                     8.74e-45\n",
       "Kurtosis:                       5.105   Cond. No.                         25.2\n",
       "==============================================================================\n",
       "\n",
       "Warnings:\n",
       "[1] Standard Errors assume that the covariance matrix of the errors is correctly specified.\n",
       "\"\"\""
      ]
     },
     "execution_count": 33,
     "metadata": {},
     "output_type": "execute_result"
    }
   ],
   "source": [
    "X_const = sm.add_constant(X_3)\n",
    "\n",
    "model3 = sm.OLS(y_train, X_const).fit()\n",
    "model3.summary()"
   ]
  },
  {
   "cell_type": "code",
   "execution_count": null,
   "metadata": {},
   "outputs": [],
   "source": []
  },
  {
   "cell_type": "markdown",
   "metadata": {},
   "source": [
    "# Interactions "
   ]
  },
  {
   "cell_type": "code",
   "execution_count": 34,
   "metadata": {},
   "outputs": [],
   "source": [
    "def feature_combinations_r_sqrd_with_Inter_df(X, y, X_test, num_feat_comb=2):\n",
    "    # Requires cals: baseline & crossvalidation\n",
    "    \n",
    "    # Create Regression & Combinations\n",
    "    from itertools import combinations\n",
    "    combinations = list(combinations(list(X.columns), num_feat_comb))\n",
    "    \n",
    "    # Create cross-validation & output a bassline MSE score as a DataFrame\n",
    "    comb_scores = []\n",
    "    inter_cols = []\n",
    "    inter_score = []\n",
    "    inter_score_test = []\n",
    "    data = X.copy()\n",
    "    data_test = X_test.copy()\n",
    "    \n",
    "    for comb in combinations:\n",
    "        data['interaction'] = data[comb[0]] * data[comb[1]]\n",
    "        score = np.mean(cross_val_score(regression, data, y, scoring='r2', cv=crossvalidation))\n",
    "        if score > baseline: \n",
    "            comb_scores.append(round(score,3))\n",
    "            inter_cols.append((str(comb[0]) + '_AND_' + str(comb[1])))\n",
    "            inter_score.append(data[comb[0]] * data[comb[1]])\n",
    "            inter_score_test.append(data_test[comb[0]] * data_test[comb[1]])\n",
    "    \n",
    "    # Train Data \n",
    "    df_base = pd.DataFrame(data=[inter_cols, comb_scores])\n",
    "    df_base = df_base.T  \n",
    "    df_base.rename(columns={0: \"Interaction\", 1: \"CV_score\"}, inplace=True)\n",
    "    df_base.sort_values(by='CV_score', inplace = True, ascending=False )\n",
    "    df_base.reset_index(drop=True, inplace = True)\n",
    "    \n",
    "    df_interactions_scores = pd.DataFrame(data=inter_score , index=inter_cols)\n",
    "    df_interactions_scores = df_interactions_scores.T\n",
    "    \n",
    "    # Test Data    \n",
    "    df_interactions_scores_test = pd.DataFrame(data=inter_score_test , index=inter_cols)\n",
    "    df_interactions_scores_test = df_interactions_scores_test.T\n",
    "\n",
    "    return df_base , df_interactions_scores, df_interactions_scores_test"
   ]
  },
  {
   "cell_type": "code",
   "execution_count": 35,
   "metadata": {},
   "outputs": [
    {
     "name": "stdout",
     "output_type": "stream",
     "text": [
      "Inital R^2: 0.7190319812371024\n"
     ]
    }
   ],
   "source": [
    "regression = LinearRegression()\n",
    "\n",
    "crossvalidation = KFold(n_splits=10, shuffle=True, random_state=1)\n",
    "baseline = np.mean(cross_val_score(regression, X_3, y_train, scoring='r2', cv=crossvalidation))\n",
    "print(\"Inital R^2:\", baseline)"
   ]
  },
  {
   "cell_type": "code",
   "execution_count": 36,
   "metadata": {},
   "outputs": [],
   "source": [
    "X_cols = list(X_3.columns)\n",
    "X_3_test = X_test[X_cols]"
   ]
  },
  {
   "cell_type": "code",
   "execution_count": 37,
   "metadata": {},
   "outputs": [
    {
     "data": {
      "text/plain": [
       "True"
      ]
     },
     "execution_count": 37,
     "metadata": {},
     "output_type": "execute_result"
    }
   ],
   "source": [
    "all(X_3.columns == X_3_test.columns)"
   ]
  },
  {
   "cell_type": "code",
   "execution_count": 38,
   "metadata": {},
   "outputs": [],
   "source": [
    "df_inter, df_score, df_score_test = feature_combinations_r_sqrd_with_Inter_df(X_3, y_train, X_test=X_3_test)"
   ]
  },
  {
   "cell_type": "code",
   "execution_count": 39,
   "metadata": {},
   "outputs": [
    {
     "data": {
      "text/html": [
       "<div>\n",
       "<style scoped>\n",
       "    .dataframe tbody tr th:only-of-type {\n",
       "        vertical-align: middle;\n",
       "    }\n",
       "\n",
       "    .dataframe tbody tr th {\n",
       "        vertical-align: top;\n",
       "    }\n",
       "\n",
       "    .dataframe thead th {\n",
       "        text-align: right;\n",
       "    }\n",
       "</style>\n",
       "<table border=\"1\" class=\"dataframe\">\n",
       "  <thead>\n",
       "    <tr style=\"text-align: right;\">\n",
       "      <th></th>\n",
       "      <th>Interaction</th>\n",
       "      <th>CV_score</th>\n",
       "    </tr>\n",
       "  </thead>\n",
       "  <tbody>\n",
       "    <tr>\n",
       "      <td>0</td>\n",
       "      <td>Teen_births_raw_value_AND_Uninsured_adults_raw...</td>\n",
       "      <td>0.728</td>\n",
       "    </tr>\n",
       "    <tr>\n",
       "      <td>1</td>\n",
       "      <td>Teen_births_raw_value_AND_Uninsured_raw_value</td>\n",
       "      <td>0.728</td>\n",
       "    </tr>\n",
       "    <tr>\n",
       "      <td>2</td>\n",
       "      <td>Injury_deaths_raw_value_AND_Adult_obesity_raw_...</td>\n",
       "      <td>0.726</td>\n",
       "    </tr>\n",
       "    <tr>\n",
       "      <td>3</td>\n",
       "      <td>Teen_births_raw_value_AND_Diabetes_prevalence_...</td>\n",
       "      <td>0.724</td>\n",
       "    </tr>\n",
       "    <tr>\n",
       "      <td>4</td>\n",
       "      <td>Injury_deaths_raw_value_AND_Teen_births_raw_value</td>\n",
       "      <td>0.724</td>\n",
       "    </tr>\n",
       "    <tr>\n",
       "      <td>5</td>\n",
       "      <td>Injury_deaths_raw_value_AND_County_Ranked</td>\n",
       "      <td>0.724</td>\n",
       "    </tr>\n",
       "    <tr>\n",
       "      <td>6</td>\n",
       "      <td>Injury_deaths_raw_value_AND_Air_pollution___pa...</td>\n",
       "      <td>0.723</td>\n",
       "    </tr>\n",
       "    <tr>\n",
       "      <td>7</td>\n",
       "      <td>Teen_births_raw_value_AND_Adult_obesity_raw_value</td>\n",
       "      <td>0.723</td>\n",
       "    </tr>\n",
       "    <tr>\n",
       "      <td>8</td>\n",
       "      <td>Injury_deaths_raw_value_AND_Diabetes_prevalenc...</td>\n",
       "      <td>0.722</td>\n",
       "    </tr>\n",
       "    <tr>\n",
       "      <td>9</td>\n",
       "      <td>Population_raw_value_AND_Adult_obesity_raw_value</td>\n",
       "      <td>0.721</td>\n",
       "    </tr>\n",
       "    <tr>\n",
       "      <td>10</td>\n",
       "      <td>Teen_births_raw_value_AND_County_Ranked</td>\n",
       "      <td>0.721</td>\n",
       "    </tr>\n",
       "    <tr>\n",
       "      <td>11</td>\n",
       "      <td>Diabetes_prevalence_raw_value_AND_County_Ranked</td>\n",
       "      <td>0.721</td>\n",
       "    </tr>\n",
       "    <tr>\n",
       "      <td>12</td>\n",
       "      <td>Population_raw_value_AND_Alcohol_impaired_driv...</td>\n",
       "      <td>0.72</td>\n",
       "    </tr>\n",
       "    <tr>\n",
       "      <td>13</td>\n",
       "      <td>Uninsured_raw_value_AND_Motor_vehicle_crash_de...</td>\n",
       "      <td>0.72</td>\n",
       "    </tr>\n",
       "    <tr>\n",
       "      <td>14</td>\n",
       "      <td>Mental_health_providers_raw_value_AND_High_sch...</td>\n",
       "      <td>0.72</td>\n",
       "    </tr>\n",
       "    <tr>\n",
       "      <td>15</td>\n",
       "      <td>Sexually_transmitted_infections_raw_value_AND_...</td>\n",
       "      <td>0.72</td>\n",
       "    </tr>\n",
       "    <tr>\n",
       "      <td>16</td>\n",
       "      <td>Uninsured_adults_raw_value_AND_County_Ranked</td>\n",
       "      <td>0.72</td>\n",
       "    </tr>\n",
       "    <tr>\n",
       "      <td>17</td>\n",
       "      <td>Uninsured_raw_value_AND_County_Ranked</td>\n",
       "      <td>0.72</td>\n",
       "    </tr>\n",
       "    <tr>\n",
       "      <td>18</td>\n",
       "      <td>Motor_vehicle_crash_deaths_raw_value_AND_Alcoh...</td>\n",
       "      <td>0.72</td>\n",
       "    </tr>\n",
       "    <tr>\n",
       "      <td>19</td>\n",
       "      <td>Uninsured_raw_value_AND_Uninsured_adults_raw_v...</td>\n",
       "      <td>0.72</td>\n",
       "    </tr>\n",
       "  </tbody>\n",
       "</table>\n",
       "</div>"
      ],
      "text/plain": [
       "                                          Interaction CV_score\n",
       "0   Teen_births_raw_value_AND_Uninsured_adults_raw...    0.728\n",
       "1       Teen_births_raw_value_AND_Uninsured_raw_value    0.728\n",
       "2   Injury_deaths_raw_value_AND_Adult_obesity_raw_...    0.726\n",
       "3   Teen_births_raw_value_AND_Diabetes_prevalence_...    0.724\n",
       "4   Injury_deaths_raw_value_AND_Teen_births_raw_value    0.724\n",
       "5           Injury_deaths_raw_value_AND_County_Ranked    0.724\n",
       "6   Injury_deaths_raw_value_AND_Air_pollution___pa...    0.723\n",
       "7   Teen_births_raw_value_AND_Adult_obesity_raw_value    0.723\n",
       "8   Injury_deaths_raw_value_AND_Diabetes_prevalenc...    0.722\n",
       "9    Population_raw_value_AND_Adult_obesity_raw_value    0.721\n",
       "10            Teen_births_raw_value_AND_County_Ranked    0.721\n",
       "11    Diabetes_prevalence_raw_value_AND_County_Ranked    0.721\n",
       "12  Population_raw_value_AND_Alcohol_impaired_driv...     0.72\n",
       "13  Uninsured_raw_value_AND_Motor_vehicle_crash_de...     0.72\n",
       "14  Mental_health_providers_raw_value_AND_High_sch...     0.72\n",
       "15  Sexually_transmitted_infections_raw_value_AND_...     0.72\n",
       "16       Uninsured_adults_raw_value_AND_County_Ranked     0.72\n",
       "17              Uninsured_raw_value_AND_County_Ranked     0.72\n",
       "18  Motor_vehicle_crash_deaths_raw_value_AND_Alcoh...     0.72\n",
       "19  Uninsured_raw_value_AND_Uninsured_adults_raw_v...     0.72"
      ]
     },
     "execution_count": 39,
     "metadata": {},
     "output_type": "execute_result"
    }
   ],
   "source": [
    "df_inter.head(20)"
   ]
  },
  {
   "cell_type": "code",
   "execution_count": 40,
   "metadata": {},
   "outputs": [],
   "source": [
    "def add_interaction_feature(data, df_inter, df_score, num_inter):\n",
    "    i=0\n",
    "    \n",
    "    while i < num_inter:\n",
    "        col = df_inter['Interaction'][i]\n",
    "  \n",
    "        data[col] = df_score[col]\n",
    "        i+=1\n",
    "    \n",
    "    return data"
   ]
  },
  {
   "cell_type": "code",
   "execution_count": 41,
   "metadata": {},
   "outputs": [
    {
     "name": "stderr",
     "output_type": "stream",
     "text": [
      "/opt/anaconda3/lib/python3.7/site-packages/ipykernel_launcher.py:7: SettingWithCopyWarning: \n",
      "A value is trying to be set on a copy of a slice from a DataFrame.\n",
      "Try using .loc[row_indexer,col_indexer] = value instead\n",
      "\n",
      "See the caveats in the documentation: http://pandas.pydata.org/pandas-docs/stable/user_guide/indexing.html#returning-a-view-versus-a-copy\n",
      "  import sys\n"
     ]
    }
   ],
   "source": [
    "data_combined = add_interaction_feature(X_3, df_inter, df_score, 10)"
   ]
  },
  {
   "cell_type": "code",
   "execution_count": 42,
   "metadata": {},
   "outputs": [
    {
     "name": "stderr",
     "output_type": "stream",
     "text": [
      "/opt/anaconda3/lib/python3.7/site-packages/ipykernel_launcher.py:7: SettingWithCopyWarning: \n",
      "A value is trying to be set on a copy of a slice from a DataFrame.\n",
      "Try using .loc[row_indexer,col_indexer] = value instead\n",
      "\n",
      "See the caveats in the documentation: http://pandas.pydata.org/pandas-docs/stable/user_guide/indexing.html#returning-a-view-versus-a-copy\n",
      "  import sys\n"
     ]
    }
   ],
   "source": [
    "data_combined_test = add_interaction_feature(X_3_test, df_inter, df_score_test, 10)"
   ]
  },
  {
   "cell_type": "markdown",
   "metadata": {},
   "source": [
    "## Run Interaction Model "
   ]
  },
  {
   "cell_type": "code",
   "execution_count": 43,
   "metadata": {
    "scrolled": false
   },
   "outputs": [
    {
     "name": "stderr",
     "output_type": "stream",
     "text": [
      "/opt/anaconda3/lib/python3.7/site-packages/numpy/core/fromnumeric.py:2495: FutureWarning: Method .ptp is deprecated and will be removed in a future version. Use numpy.ptp instead.\n",
      "  return ptp(axis=axis, out=out, **kwargs)\n"
     ]
    },
    {
     "data": {
      "text/html": [
       "<table class=\"simpletable\">\n",
       "<caption>OLS Regression Results</caption>\n",
       "<tr>\n",
       "  <th>Dep. Variable:</th>     <td>Life_Expectancy</td> <th>  R-squared:         </th> <td>   0.771</td> \n",
       "</tr>\n",
       "<tr>\n",
       "  <th>Model:</th>                   <td>OLS</td>       <th>  Adj. R-squared:    </th> <td>   0.765</td> \n",
       "</tr>\n",
       "<tr>\n",
       "  <th>Method:</th>             <td>Least Squares</td>  <th>  F-statistic:       </th> <td>   139.9</td> \n",
       "</tr>\n",
       "<tr>\n",
       "  <th>Date:</th>             <td>Tue, 14 Jan 2020</td> <th>  Prob (F-statistic):</th> <td>2.52e-299</td>\n",
       "</tr>\n",
       "<tr>\n",
       "  <th>Time:</th>                 <td>19:11:47</td>     <th>  Log-Likelihood:    </th> <td> -1657.8</td> \n",
       "</tr>\n",
       "<tr>\n",
       "  <th>No. Observations:</th>      <td>  1024</td>      <th>  AIC:               </th> <td>   3366.</td> \n",
       "</tr>\n",
       "<tr>\n",
       "  <th>Df Residuals:</th>          <td>   999</td>      <th>  BIC:               </th> <td>   3489.</td> \n",
       "</tr>\n",
       "<tr>\n",
       "  <th>Df Model:</th>              <td>    24</td>      <th>                     </th>     <td> </td>    \n",
       "</tr>\n",
       "<tr>\n",
       "  <th>Covariance Type:</th>      <td>nonrobust</td>    <th>                     </th>     <td> </td>    \n",
       "</tr>\n",
       "</table>\n",
       "<table class=\"simpletable\">\n",
       "<tr>\n",
       "                                      <td></td>                                        <th>coef</th>     <th>std err</th>      <th>t</th>      <th>P>|t|</th>  <th>[0.025</th>    <th>0.975]</th>  \n",
       "</tr>\n",
       "<tr>\n",
       "  <th>const</th>                                                                    <td>   77.0886</td> <td>    0.050</td> <td> 1553.851</td> <td> 0.000</td> <td>   76.991</td> <td>   77.186</td>\n",
       "</tr>\n",
       "<tr>\n",
       "  <th>Injury_deaths_raw_value</th>                                                  <td>   -0.8580</td> <td>    0.058</td> <td>  -14.685</td> <td> 0.000</td> <td>   -0.973</td> <td>   -0.743</td>\n",
       "</tr>\n",
       "<tr>\n",
       "  <th>Teen_births_raw_value</th>                                                    <td>   -0.8317</td> <td>    0.061</td> <td>  -13.566</td> <td> 0.000</td> <td>   -0.952</td> <td>   -0.711</td>\n",
       "</tr>\n",
       "<tr>\n",
       "  <th>Diabetes_prevalence_raw_value</th>                                            <td>   -0.3869</td> <td>    0.065</td> <td>   -5.993</td> <td> 0.000</td> <td>   -0.514</td> <td>   -0.260</td>\n",
       "</tr>\n",
       "<tr>\n",
       "  <th>Air_pollution___particulate_matter_raw_value</th>                             <td>   -0.3827</td> <td>    0.055</td> <td>   -6.898</td> <td> 0.000</td> <td>   -0.492</td> <td>   -0.274</td>\n",
       "</tr>\n",
       "<tr>\n",
       "  <th>Uninsured_raw_value</th>                                                      <td>    3.2860</td> <td>    0.419</td> <td>    7.837</td> <td> 0.000</td> <td>    2.463</td> <td>    4.109</td>\n",
       "</tr>\n",
       "<tr>\n",
       "  <th>Uninsured_adults_raw_value</th>                                               <td>   -3.4291</td> <td>    0.434</td> <td>   -7.904</td> <td> 0.000</td> <td>   -4.280</td> <td>   -2.578</td>\n",
       "</tr>\n",
       "<tr>\n",
       "  <th>Sexually_transmitted_infections_raw_value</th>                                <td>   -0.2509</td> <td>    0.047</td> <td>   -5.304</td> <td> 0.000</td> <td>   -0.344</td> <td>   -0.158</td>\n",
       "</tr>\n",
       "<tr>\n",
       "  <th>Mental_health_providers_raw_value</th>                                        <td>   -0.0818</td> <td>    0.042</td> <td>   -1.953</td> <td> 0.051</td> <td>   -0.164</td> <td>    0.000</td>\n",
       "</tr>\n",
       "<tr>\n",
       "  <th>Population_raw_value</th>                                                     <td>    0.3220</td> <td>    0.090</td> <td>    3.573</td> <td> 0.000</td> <td>    0.145</td> <td>    0.499</td>\n",
       "</tr>\n",
       "<tr>\n",
       "  <th>High_school_graduation_raw_value</th>                                         <td>   -0.1143</td> <td>    0.044</td> <td>   -2.586</td> <td> 0.010</td> <td>   -0.201</td> <td>   -0.028</td>\n",
       "</tr>\n",
       "<tr>\n",
       "  <th>Motor_vehicle_crash_deaths_raw_value</th>                                     <td>   -0.0677</td> <td>    0.056</td> <td>   -1.221</td> <td> 0.223</td> <td>   -0.177</td> <td>    0.041</td>\n",
       "</tr>\n",
       "<tr>\n",
       "  <th>County_Ranked</th>                                                            <td>    0.1351</td> <td>    0.043</td> <td>    3.149</td> <td> 0.002</td> <td>    0.051</td> <td>    0.219</td>\n",
       "</tr>\n",
       "<tr>\n",
       "  <th>Adult_obesity_raw_value</th>                                                  <td>   -0.0989</td> <td>    0.058</td> <td>   -1.703</td> <td> 0.089</td> <td>   -0.213</td> <td>    0.015</td>\n",
       "</tr>\n",
       "<tr>\n",
       "  <th>Alcohol_impaired_driving_deaths_raw_value</th>                                <td>    0.1033</td> <td>    0.042</td> <td>    2.445</td> <td> 0.015</td> <td>    0.020</td> <td>    0.186</td>\n",
       "</tr>\n",
       "<tr>\n",
       "  <th>Teen_births_raw_value_AND_Uninsured_adults_raw_value</th>                     <td>    0.6294</td> <td>    0.248</td> <td>    2.538</td> <td> 0.011</td> <td>    0.143</td> <td>    1.116</td>\n",
       "</tr>\n",
       "<tr>\n",
       "  <th>Teen_births_raw_value_AND_Uninsured_raw_value</th>                            <td>   -0.3641</td> <td>    0.255</td> <td>   -1.426</td> <td> 0.154</td> <td>   -0.865</td> <td>    0.137</td>\n",
       "</tr>\n",
       "<tr>\n",
       "  <th>Injury_deaths_raw_value_AND_Adult_obesity_raw_value</th>                      <td>   -0.0320</td> <td>    0.066</td> <td>   -0.488</td> <td> 0.626</td> <td>   -0.161</td> <td>    0.097</td>\n",
       "</tr>\n",
       "<tr>\n",
       "  <th>Teen_births_raw_value_AND_Diabetes_prevalence_raw_value</th>                  <td>    0.0087</td> <td>    0.064</td> <td>    0.134</td> <td> 0.893</td> <td>   -0.118</td> <td>    0.135</td>\n",
       "</tr>\n",
       "<tr>\n",
       "  <th>Injury_deaths_raw_value_AND_Teen_births_raw_value</th>                        <td>   -0.2225</td> <td>    0.044</td> <td>   -5.097</td> <td> 0.000</td> <td>   -0.308</td> <td>   -0.137</td>\n",
       "</tr>\n",
       "<tr>\n",
       "  <th>Injury_deaths_raw_value_AND_County_Ranked</th>                                <td>   -0.0449</td> <td>    0.029</td> <td>   -1.547</td> <td> 0.122</td> <td>   -0.102</td> <td>    0.012</td>\n",
       "</tr>\n",
       "<tr>\n",
       "  <th>Injury_deaths_raw_value_AND_Air_pollution___particulate_matter_raw_value</th> <td>   -0.2056</td> <td>    0.047</td> <td>   -4.412</td> <td> 0.000</td> <td>   -0.297</td> <td>   -0.114</td>\n",
       "</tr>\n",
       "<tr>\n",
       "  <th>Teen_births_raw_value_AND_Adult_obesity_raw_value</th>                        <td>   -0.1206</td> <td>    0.065</td> <td>   -1.853</td> <td> 0.064</td> <td>   -0.248</td> <td>    0.007</td>\n",
       "</tr>\n",
       "<tr>\n",
       "  <th>Injury_deaths_raw_value_AND_Diabetes_prevalence_raw_value</th>                <td>    0.0196</td> <td>    0.066</td> <td>    0.298</td> <td> 0.766</td> <td>   -0.110</td> <td>    0.149</td>\n",
       "</tr>\n",
       "<tr>\n",
       "  <th>Population_raw_value_AND_Adult_obesity_raw_value</th>                         <td>    0.1062</td> <td>    0.072</td> <td>    1.480</td> <td> 0.139</td> <td>   -0.035</td> <td>    0.247</td>\n",
       "</tr>\n",
       "</table>\n",
       "<table class=\"simpletable\">\n",
       "<tr>\n",
       "  <th>Omnibus:</th>       <td>65.720</td> <th>  Durbin-Watson:     </th> <td>   1.934</td>\n",
       "</tr>\n",
       "<tr>\n",
       "  <th>Prob(Omnibus):</th> <td> 0.000</td> <th>  Jarque-Bera (JB):  </th> <td> 175.374</td>\n",
       "</tr>\n",
       "<tr>\n",
       "  <th>Skew:</th>          <td>-0.322</td> <th>  Prob(JB):          </th> <td>8.28e-39</td>\n",
       "</tr>\n",
       "<tr>\n",
       "  <th>Kurtosis:</th>      <td> 4.923</td> <th>  Cond. No.          </th> <td>    45.2</td>\n",
       "</tr>\n",
       "</table><br/><br/>Warnings:<br/>[1] Standard Errors assume that the covariance matrix of the errors is correctly specified."
      ],
      "text/plain": [
       "<class 'statsmodels.iolib.summary.Summary'>\n",
       "\"\"\"\n",
       "                            OLS Regression Results                            \n",
       "==============================================================================\n",
       "Dep. Variable:        Life_Expectancy   R-squared:                       0.771\n",
       "Model:                            OLS   Adj. R-squared:                  0.765\n",
       "Method:                 Least Squares   F-statistic:                     139.9\n",
       "Date:                Tue, 14 Jan 2020   Prob (F-statistic):          2.52e-299\n",
       "Time:                        19:11:47   Log-Likelihood:                -1657.8\n",
       "No. Observations:                1024   AIC:                             3366.\n",
       "Df Residuals:                     999   BIC:                             3489.\n",
       "Df Model:                          24                                         \n",
       "Covariance Type:            nonrobust                                         \n",
       "============================================================================================================================================\n",
       "                                                                               coef    std err          t      P>|t|      [0.025      0.975]\n",
       "--------------------------------------------------------------------------------------------------------------------------------------------\n",
       "const                                                                       77.0886      0.050   1553.851      0.000      76.991      77.186\n",
       "Injury_deaths_raw_value                                                     -0.8580      0.058    -14.685      0.000      -0.973      -0.743\n",
       "Teen_births_raw_value                                                       -0.8317      0.061    -13.566      0.000      -0.952      -0.711\n",
       "Diabetes_prevalence_raw_value                                               -0.3869      0.065     -5.993      0.000      -0.514      -0.260\n",
       "Air_pollution___particulate_matter_raw_value                                -0.3827      0.055     -6.898      0.000      -0.492      -0.274\n",
       "Uninsured_raw_value                                                          3.2860      0.419      7.837      0.000       2.463       4.109\n",
       "Uninsured_adults_raw_value                                                  -3.4291      0.434     -7.904      0.000      -4.280      -2.578\n",
       "Sexually_transmitted_infections_raw_value                                   -0.2509      0.047     -5.304      0.000      -0.344      -0.158\n",
       "Mental_health_providers_raw_value                                           -0.0818      0.042     -1.953      0.051      -0.164       0.000\n",
       "Population_raw_value                                                         0.3220      0.090      3.573      0.000       0.145       0.499\n",
       "High_school_graduation_raw_value                                            -0.1143      0.044     -2.586      0.010      -0.201      -0.028\n",
       "Motor_vehicle_crash_deaths_raw_value                                        -0.0677      0.056     -1.221      0.223      -0.177       0.041\n",
       "County_Ranked                                                                0.1351      0.043      3.149      0.002       0.051       0.219\n",
       "Adult_obesity_raw_value                                                     -0.0989      0.058     -1.703      0.089      -0.213       0.015\n",
       "Alcohol_impaired_driving_deaths_raw_value                                    0.1033      0.042      2.445      0.015       0.020       0.186\n",
       "Teen_births_raw_value_AND_Uninsured_adults_raw_value                         0.6294      0.248      2.538      0.011       0.143       1.116\n",
       "Teen_births_raw_value_AND_Uninsured_raw_value                               -0.3641      0.255     -1.426      0.154      -0.865       0.137\n",
       "Injury_deaths_raw_value_AND_Adult_obesity_raw_value                         -0.0320      0.066     -0.488      0.626      -0.161       0.097\n",
       "Teen_births_raw_value_AND_Diabetes_prevalence_raw_value                      0.0087      0.064      0.134      0.893      -0.118       0.135\n",
       "Injury_deaths_raw_value_AND_Teen_births_raw_value                           -0.2225      0.044     -5.097      0.000      -0.308      -0.137\n",
       "Injury_deaths_raw_value_AND_County_Ranked                                   -0.0449      0.029     -1.547      0.122      -0.102       0.012\n",
       "Injury_deaths_raw_value_AND_Air_pollution___particulate_matter_raw_value    -0.2056      0.047     -4.412      0.000      -0.297      -0.114\n",
       "Teen_births_raw_value_AND_Adult_obesity_raw_value                           -0.1206      0.065     -1.853      0.064      -0.248       0.007\n",
       "Injury_deaths_raw_value_AND_Diabetes_prevalence_raw_value                    0.0196      0.066      0.298      0.766      -0.110       0.149\n",
       "Population_raw_value_AND_Adult_obesity_raw_value                             0.1062      0.072      1.480      0.139      -0.035       0.247\n",
       "==============================================================================\n",
       "Omnibus:                       65.720   Durbin-Watson:                   1.934\n",
       "Prob(Omnibus):                  0.000   Jarque-Bera (JB):              175.374\n",
       "Skew:                          -0.322   Prob(JB):                     8.28e-39\n",
       "Kurtosis:                       4.923   Cond. No.                         45.2\n",
       "==============================================================================\n",
       "\n",
       "Warnings:\n",
       "[1] Standard Errors assume that the covariance matrix of the errors is correctly specified.\n",
       "\"\"\""
      ]
     },
     "execution_count": 43,
     "metadata": {},
     "output_type": "execute_result"
    }
   ],
   "source": [
    "X_const = sm.add_constant(data_combined)\n",
    "\n",
    "model_inter = sm.OLS(y_train, X_const).fit()\n",
    "model_inter.summary()"
   ]
  },
  {
   "cell_type": "code",
   "execution_count": 44,
   "metadata": {},
   "outputs": [
    {
     "data": {
      "image/png": "[encoded data removed]",
      "text/plain": [
       "<Figure size 432x288 with 1 Axes>"
      ]
     },
     "metadata": {
      "needs_background": "light"
     },
     "output_type": "display_data"
    }
   ],
   "source": [
    "model_qqplot = sm.graphics.qqplot(model_inter.resid, dist=stats.norm, line='45', fit=True)"
   ]
  },
  {
   "cell_type": "markdown",
   "metadata": {},
   "source": [
    "## RFE on Interactions Model"
   ]
  },
  {
   "cell_type": "code",
   "execution_count": 45,
   "metadata": {},
   "outputs": [
    {
     "name": "stdout",
     "output_type": "stream",
     "text": [
      "Inital R^2: 0.7362679528395656\n"
     ]
    }
   ],
   "source": [
    "regression = LinearRegression()\n",
    "\n",
    "crossvalidation = KFold(n_splits=10, shuffle=True, random_state=1)\n",
    "baseline = np.mean(cross_val_score(regression, data_combined, y_train, scoring='r2', cv=crossvalidation))\n",
    "print(\"Inital R^2:\", baseline)"
   ]
  },
  {
   "cell_type": "code",
   "execution_count": 46,
   "metadata": {},
   "outputs": [
    {
     "data": {
      "text/html": [
       "<div>\n",
       "<style scoped>\n",
       "    .dataframe tbody tr th:only-of-type {\n",
       "        vertical-align: middle;\n",
       "    }\n",
       "\n",
       "    .dataframe tbody tr th {\n",
       "        vertical-align: top;\n",
       "    }\n",
       "\n",
       "    .dataframe thead th {\n",
       "        text-align: right;\n",
       "    }\n",
       "</style>\n",
       "<table border=\"1\" class=\"dataframe\">\n",
       "  <thead>\n",
       "    <tr style=\"text-align: right;\">\n",
       "      <th></th>\n",
       "      <th>Parameters</th>\n",
       "      <th>P_values</th>\n",
       "    </tr>\n",
       "  </thead>\n",
       "  <tbody>\n",
       "    <tr>\n",
       "      <td>0</td>\n",
       "      <td>const</td>\n",
       "      <td>0.000000e+00</td>\n",
       "    </tr>\n",
       "    <tr>\n",
       "      <td>1</td>\n",
       "      <td>Injury_deaths_raw_value</td>\n",
       "      <td>2.382390e-44</td>\n",
       "    </tr>\n",
       "    <tr>\n",
       "      <td>2</td>\n",
       "      <td>Teen_births_raw_value</td>\n",
       "      <td>1.334297e-38</td>\n",
       "    </tr>\n",
       "    <tr>\n",
       "      <td>6</td>\n",
       "      <td>Uninsured_adults_raw_value</td>\n",
       "      <td>7.098837e-15</td>\n",
       "    </tr>\n",
       "    <tr>\n",
       "      <td>5</td>\n",
       "      <td>Uninsured_raw_value</td>\n",
       "      <td>1.177109e-14</td>\n",
       "    </tr>\n",
       "    <tr>\n",
       "      <td>4</td>\n",
       "      <td>Air_pollution___particulate_matter_raw_value</td>\n",
       "      <td>9.363417e-12</td>\n",
       "    </tr>\n",
       "    <tr>\n",
       "      <td>3</td>\n",
       "      <td>Diabetes_prevalence_raw_value</td>\n",
       "      <td>2.866612e-09</td>\n",
       "    </tr>\n",
       "    <tr>\n",
       "      <td>7</td>\n",
       "      <td>Sexually_transmitted_infections_raw_value</td>\n",
       "      <td>1.397220e-07</td>\n",
       "    </tr>\n",
       "    <tr>\n",
       "      <td>19</td>\n",
       "      <td>Injury_deaths_raw_value_AND_Teen_births_raw_value</td>\n",
       "      <td>4.120321e-07</td>\n",
       "    </tr>\n",
       "    <tr>\n",
       "      <td>21</td>\n",
       "      <td>Injury_deaths_raw_value_AND_Air_pollution___pa...</td>\n",
       "      <td>1.134095e-05</td>\n",
       "    </tr>\n",
       "    <tr>\n",
       "      <td>9</td>\n",
       "      <td>Population_raw_value</td>\n",
       "      <td>3.694481e-04</td>\n",
       "    </tr>\n",
       "    <tr>\n",
       "      <td>12</td>\n",
       "      <td>County_Ranked</td>\n",
       "      <td>1.685422e-03</td>\n",
       "    </tr>\n",
       "    <tr>\n",
       "      <td>10</td>\n",
       "      <td>High_school_graduation_raw_value</td>\n",
       "      <td>9.840590e-03</td>\n",
       "    </tr>\n",
       "    <tr>\n",
       "      <td>15</td>\n",
       "      <td>Teen_births_raw_value_AND_Uninsured_adults_raw...</td>\n",
       "      <td>1.131220e-02</td>\n",
       "    </tr>\n",
       "    <tr>\n",
       "      <td>14</td>\n",
       "      <td>Alcohol_impaired_driving_deaths_raw_value</td>\n",
       "      <td>1.465991e-02</td>\n",
       "    </tr>\n",
       "  </tbody>\n",
       "</table>\n",
       "</div>"
      ],
      "text/plain": [
       "                                           Parameters      P_values\n",
       "0                                               const  0.000000e+00\n",
       "1                             Injury_deaths_raw_value  2.382390e-44\n",
       "2                               Teen_births_raw_value  1.334297e-38\n",
       "6                          Uninsured_adults_raw_value  7.098837e-15\n",
       "5                                 Uninsured_raw_value  1.177109e-14\n",
       "4        Air_pollution___particulate_matter_raw_value  9.363417e-12\n",
       "3                       Diabetes_prevalence_raw_value  2.866612e-09\n",
       "7           Sexually_transmitted_infections_raw_value  1.397220e-07\n",
       "19  Injury_deaths_raw_value_AND_Teen_births_raw_value  4.120321e-07\n",
       "21  Injury_deaths_raw_value_AND_Air_pollution___pa...  1.134095e-05\n",
       "9                                Population_raw_value  3.694481e-04\n",
       "12                                      County_Ranked  1.685422e-03\n",
       "10                   High_school_graduation_raw_value  9.840590e-03\n",
       "15  Teen_births_raw_value_AND_Uninsured_adults_raw...  1.131220e-02\n",
       "14          Alcohol_impaired_driving_deaths_raw_value  1.465991e-02"
      ]
     },
     "execution_count": 46,
     "metadata": {},
     "output_type": "execute_result"
    }
   ],
   "source": [
    "df_inter_rfe = func_rfe(data_combined, model_inter)\n",
    "df_inter_rfe"
   ]
  },
  {
   "cell_type": "code",
   "execution_count": 47,
   "metadata": {},
   "outputs": [],
   "source": [
    "rfe_red_inter = df_inter_rfe.loc[df_inter_rfe['Parameters'] != 'const']\n",
    "X_cols = list(rfe_red_inter.Parameters)\n",
    "df_inter_reduced = data_combined[X_cols]\n",
    "# X_3.sort_index()"
   ]
  },
  {
   "cell_type": "code",
   "execution_count": 48,
   "metadata": {},
   "outputs": [
    {
     "name": "stderr",
     "output_type": "stream",
     "text": [
      "/opt/anaconda3/lib/python3.7/site-packages/numpy/core/fromnumeric.py:2495: FutureWarning: Method .ptp is deprecated and will be removed in a future version. Use numpy.ptp instead.\n",
      "  return ptp(axis=axis, out=out, **kwargs)\n"
     ]
    },
    {
     "data": {
      "text/html": [
       "<table class=\"simpletable\">\n",
       "<caption>OLS Regression Results</caption>\n",
       "<tr>\n",
       "  <th>Dep. Variable:</th>     <td>Life_Expectancy</td> <th>  R-squared:         </th> <td>   0.765</td> \n",
       "</tr>\n",
       "<tr>\n",
       "  <th>Model:</th>                   <td>OLS</td>       <th>  Adj. R-squared:    </th> <td>   0.762</td> \n",
       "</tr>\n",
       "<tr>\n",
       "  <th>Method:</th>             <td>Least Squares</td>  <th>  F-statistic:       </th> <td>   234.6</td> \n",
       "</tr>\n",
       "<tr>\n",
       "  <th>Date:</th>             <td>Tue, 14 Jan 2020</td> <th>  Prob (F-statistic):</th> <td>2.57e-305</td>\n",
       "</tr>\n",
       "<tr>\n",
       "  <th>Time:</th>                 <td>19:11:47</td>     <th>  Log-Likelihood:    </th> <td> -1670.4</td> \n",
       "</tr>\n",
       "<tr>\n",
       "  <th>No. Observations:</th>      <td>  1024</td>      <th>  AIC:               </th> <td>   3371.</td> \n",
       "</tr>\n",
       "<tr>\n",
       "  <th>Df Residuals:</th>          <td>  1009</td>      <th>  BIC:               </th> <td>   3445.</td> \n",
       "</tr>\n",
       "<tr>\n",
       "  <th>Df Model:</th>              <td>    14</td>      <th>                     </th>     <td> </td>    \n",
       "</tr>\n",
       "<tr>\n",
       "  <th>Covariance Type:</th>      <td>nonrobust</td>    <th>                     </th>     <td> </td>    \n",
       "</tr>\n",
       "</table>\n",
       "<table class=\"simpletable\">\n",
       "<tr>\n",
       "                                      <td></td>                                        <th>coef</th>     <th>std err</th>      <th>t</th>      <th>P>|t|</th>  <th>[0.025</th>    <th>0.975]</th>  \n",
       "</tr>\n",
       "<tr>\n",
       "  <th>const</th>                                                                    <td>   77.0378</td> <td>    0.045</td> <td> 1720.795</td> <td> 0.000</td> <td>   76.950</td> <td>   77.126</td>\n",
       "</tr>\n",
       "<tr>\n",
       "  <th>Injury_deaths_raw_value</th>                                                  <td>   -0.8691</td> <td>    0.054</td> <td>  -16.108</td> <td> 0.000</td> <td>   -0.975</td> <td>   -0.763</td>\n",
       "</tr>\n",
       "<tr>\n",
       "  <th>Teen_births_raw_value</th>                                                    <td>   -0.8806</td> <td>    0.059</td> <td>  -14.818</td> <td> 0.000</td> <td>   -0.997</td> <td>   -0.764</td>\n",
       "</tr>\n",
       "<tr>\n",
       "  <th>Uninsured_adults_raw_value</th>                                               <td>   -3.4485</td> <td>    0.405</td> <td>   -8.513</td> <td> 0.000</td> <td>   -4.243</td> <td>   -2.654</td>\n",
       "</tr>\n",
       "<tr>\n",
       "  <th>Uninsured_raw_value</th>                                                      <td>    3.3101</td> <td>    0.388</td> <td>    8.527</td> <td> 0.000</td> <td>    2.548</td> <td>    4.072</td>\n",
       "</tr>\n",
       "<tr>\n",
       "  <th>Air_pollution___particulate_matter_raw_value</th>                             <td>   -0.3512</td> <td>    0.054</td> <td>   -6.464</td> <td> 0.000</td> <td>   -0.458</td> <td>   -0.245</td>\n",
       "</tr>\n",
       "<tr>\n",
       "  <th>Diabetes_prevalence_raw_value</th>                                            <td>   -0.4497</td> <td>    0.057</td> <td>   -7.916</td> <td> 0.000</td> <td>   -0.561</td> <td>   -0.338</td>\n",
       "</tr>\n",
       "<tr>\n",
       "  <th>Sexually_transmitted_infections_raw_value</th>                                <td>   -0.2551</td> <td>    0.046</td> <td>   -5.520</td> <td> 0.000</td> <td>   -0.346</td> <td>   -0.164</td>\n",
       "</tr>\n",
       "<tr>\n",
       "  <th>Injury_deaths_raw_value_AND_Teen_births_raw_value</th>                        <td>   -0.2745</td> <td>    0.030</td> <td>   -9.130</td> <td> 0.000</td> <td>   -0.333</td> <td>   -0.215</td>\n",
       "</tr>\n",
       "<tr>\n",
       "  <th>Injury_deaths_raw_value_AND_Air_pollution___particulate_matter_raw_value</th> <td>   -0.2602</td> <td>    0.039</td> <td>   -6.675</td> <td> 0.000</td> <td>   -0.337</td> <td>   -0.184</td>\n",
       "</tr>\n",
       "<tr>\n",
       "  <th>Population_raw_value</th>                                                     <td>    0.2057</td> <td>    0.047</td> <td>    4.396</td> <td> 0.000</td> <td>    0.114</td> <td>    0.298</td>\n",
       "</tr>\n",
       "<tr>\n",
       "  <th>County_Ranked</th>                                                            <td>    0.1086</td> <td>    0.042</td> <td>    2.566</td> <td> 0.010</td> <td>    0.026</td> <td>    0.192</td>\n",
       "</tr>\n",
       "<tr>\n",
       "  <th>High_school_graduation_raw_value</th>                                         <td>   -0.0934</td> <td>    0.043</td> <td>   -2.156</td> <td> 0.031</td> <td>   -0.178</td> <td>   -0.008</td>\n",
       "</tr>\n",
       "<tr>\n",
       "  <th>Teen_births_raw_value_AND_Uninsured_adults_raw_value</th>                     <td>    0.3024</td> <td>    0.041</td> <td>    7.446</td> <td> 0.000</td> <td>    0.223</td> <td>    0.382</td>\n",
       "</tr>\n",
       "<tr>\n",
       "  <th>Alcohol_impaired_driving_deaths_raw_value</th>                                <td>    0.1082</td> <td>    0.042</td> <td>    2.557</td> <td> 0.011</td> <td>    0.025</td> <td>    0.191</td>\n",
       "</tr>\n",
       "</table>\n",
       "<table class=\"simpletable\">\n",
       "<tr>\n",
       "  <th>Omnibus:</th>       <td>62.901</td> <th>  Durbin-Watson:     </th> <td>   1.922</td>\n",
       "</tr>\n",
       "<tr>\n",
       "  <th>Prob(Omnibus):</th> <td> 0.000</td> <th>  Jarque-Bera (JB):  </th> <td> 162.950</td>\n",
       "</tr>\n",
       "<tr>\n",
       "  <th>Skew:</th>          <td>-0.314</td> <th>  Prob(JB):          </th> <td>4.13e-36</td>\n",
       "</tr>\n",
       "<tr>\n",
       "  <th>Kurtosis:</th>      <td> 4.850</td> <th>  Cond. No.          </th> <td>    33.0</td>\n",
       "</tr>\n",
       "</table><br/><br/>Warnings:<br/>[1] Standard Errors assume that the covariance matrix of the errors is correctly specified."
      ],
      "text/plain": [
       "<class 'statsmodels.iolib.summary.Summary'>\n",
       "\"\"\"\n",
       "                            OLS Regression Results                            \n",
       "==============================================================================\n",
       "Dep. Variable:        Life_Expectancy   R-squared:                       0.765\n",
       "Model:                            OLS   Adj. R-squared:                  0.762\n",
       "Method:                 Least Squares   F-statistic:                     234.6\n",
       "Date:                Tue, 14 Jan 2020   Prob (F-statistic):          2.57e-305\n",
       "Time:                        19:11:47   Log-Likelihood:                -1670.4\n",
       "No. Observations:                1024   AIC:                             3371.\n",
       "Df Residuals:                    1009   BIC:                             3445.\n",
       "Df Model:                          14                                         \n",
       "Covariance Type:            nonrobust                                         \n",
       "============================================================================================================================================\n",
       "                                                                               coef    std err          t      P>|t|      [0.025      0.975]\n",
       "--------------------------------------------------------------------------------------------------------------------------------------------\n",
       "const                                                                       77.0378      0.045   1720.795      0.000      76.950      77.126\n",
       "Injury_deaths_raw_value                                                     -0.8691      0.054    -16.108      0.000      -0.975      -0.763\n",
       "Teen_births_raw_value                                                       -0.8806      0.059    -14.818      0.000      -0.997      -0.764\n",
       "Uninsured_adults_raw_value                                                  -3.4485      0.405     -8.513      0.000      -4.243      -2.654\n",
       "Uninsured_raw_value                                                          3.3101      0.388      8.527      0.000       2.548       4.072\n",
       "Air_pollution___particulate_matter_raw_value                                -0.3512      0.054     -6.464      0.000      -0.458      -0.245\n",
       "Diabetes_prevalence_raw_value                                               -0.4497      0.057     -7.916      0.000      -0.561      -0.338\n",
       "Sexually_transmitted_infections_raw_value                                   -0.2551      0.046     -5.520      0.000      -0.346      -0.164\n",
       "Injury_deaths_raw_value_AND_Teen_births_raw_value                           -0.2745      0.030     -9.130      0.000      -0.333      -0.215\n",
       "Injury_deaths_raw_value_AND_Air_pollution___particulate_matter_raw_value    -0.2602      0.039     -6.675      0.000      -0.337      -0.184\n",
       "Population_raw_value                                                         0.2057      0.047      4.396      0.000       0.114       0.298\n",
       "County_Ranked                                                                0.1086      0.042      2.566      0.010       0.026       0.192\n",
       "High_school_graduation_raw_value                                            -0.0934      0.043     -2.156      0.031      -0.178      -0.008\n",
       "Teen_births_raw_value_AND_Uninsured_adults_raw_value                         0.3024      0.041      7.446      0.000       0.223       0.382\n",
       "Alcohol_impaired_driving_deaths_raw_value                                    0.1082      0.042      2.557      0.011       0.025       0.191\n",
       "==============================================================================\n",
       "Omnibus:                       62.901   Durbin-Watson:                   1.922\n",
       "Prob(Omnibus):                  0.000   Jarque-Bera (JB):              162.950\n",
       "Skew:                          -0.314   Prob(JB):                     4.13e-36\n",
       "Kurtosis:                       4.850   Cond. No.                         33.0\n",
       "==============================================================================\n",
       "\n",
       "Warnings:\n",
       "[1] Standard Errors assume that the covariance matrix of the errors is correctly specified.\n",
       "\"\"\""
      ]
     },
     "execution_count": 48,
     "metadata": {},
     "output_type": "execute_result"
    }
   ],
   "source": [
    "X_const = sm.add_constant(df_inter_reduced)\n",
    "\n",
    "model_inter_red = sm.OLS(y_train, X_const).fit()\n",
    "model_inter_red.summary()"
   ]
  },
  {
   "cell_type": "markdown",
   "metadata": {},
   "source": [
    "# Polynomial Parameters"
   ]
  },
  {
   "cell_type": "code",
   "execution_count": 49,
   "metadata": {},
   "outputs": [],
   "source": [
    "# from sklearn.preprocessing import PolynomialFeatures\n",
    "\n",
    "# regression = LinearRegression()\n",
    "# crossvalidation = KFold(n_splits=10, shuffle=True, random_state=1)\n",
    "\n",
    "# polynomials = []\n",
    "# for col in X.columns:\n",
    "#     for degree in [2, 3, 4]:\n",
    "#         data = X.copy()\n",
    "#         poly = PolynomialFeatures(degree, include_bias=False)\n",
    "#         X_transformed = poly.fit_transform(X[[col]])\n",
    "#         data = pd.concat([data.drop(col, axis=1),pd.DataFrame(X_transformed)], axis=1)\n",
    "#         score = np.mean(cross_val_score(regression, data, y, scoring='r2', cv=crossvalidation))\n",
    "#         if score > baseline: polynomials.append((col, degree, round(score, 3)))\n",
    "# print('Top 10 polynomials: %s' %sorted(polynomials, key=lambda poly: poly[2], reverse=True)[:10])"
   ]
  },
  {
   "cell_type": "code",
   "execution_count": 50,
   "metadata": {},
   "outputs": [],
   "source": [
    "# polynom = pd.DataFrame(polynomials)\n",
    "# polynom.groupby([0], sort=False)[2].max()"
   ]
  },
  {
   "cell_type": "markdown",
   "metadata": {},
   "source": [
    "# Full model R-squared  "
   ]
  },
  {
   "cell_type": "code",
   "execution_count": 51,
   "metadata": {},
   "outputs": [
    {
     "name": "stdout",
     "output_type": "stream",
     "text": [
      "Full model R^2: 0.7362679528395656\n"
     ]
    }
   ],
   "source": [
    "full_model = np.mean(cross_val_score(regression, data_combined, y_train, scoring='r2', cv=crossvalidation))\n",
    "print(\"Full model R^2:\", full_model)"
   ]
  },
  {
   "cell_type": "markdown",
   "metadata": {},
   "source": [
    "# Lasso"
   ]
  },
  {
   "cell_type": "code",
   "execution_count": 52,
   "metadata": {},
   "outputs": [],
   "source": [
    "X_final = data_combined"
   ]
  },
  {
   "cell_type": "markdown",
   "metadata": {},
   "source": [
    "## AIC & BIC Alpha Selection using Lasso"
   ]
  },
  {
   "cell_type": "code",
   "execution_count": 53,
   "metadata": {},
   "outputs": [],
   "source": [
    "from sklearn.linear_model import LassoCV, LassoLarsCV, LassoLarsIC"
   ]
  },
  {
   "cell_type": "code",
   "execution_count": 54,
   "metadata": {},
   "outputs": [
    {
     "name": "stderr",
     "output_type": "stream",
     "text": [
      "/opt/anaconda3/lib/python3.7/site-packages/ipykernel_launcher.py:16: RuntimeWarning: divide by zero encountered in log10\n",
      "  app.launch_new_instance()\n"
     ]
    },
    {
     "data": {
      "image/png": "[encoded data removed]",
      "text/plain": [
       "<Figure size 432x288 with 1 Axes>"
      ]
     },
     "metadata": {
      "needs_background": "light"
     },
     "output_type": "display_data"
    }
   ],
   "source": [
    "# Finding the optimum alpha value for the AIC & BIC critiria\n",
    "\n",
    "model_bic = LassoLarsIC(criterion='bic')\n",
    "model_bic.fit(X_final, y_train)\n",
    "alpha_bic_ = model_bic.alpha_\n",
    "\n",
    "model_aic = LassoLarsIC(criterion='aic')\n",
    "model_aic.fit(X_final, y_train)\n",
    "alpha_aic_ = model_aic.alpha_\n",
    "\n",
    "\n",
    "def plot_ic_criterion(model, name, color):\n",
    "    alpha_ = model.alpha_\n",
    "    alphas_ = model.alphas_\n",
    "    criterion_ = model.criterion_\n",
    "    plt.plot(-np.log10(alphas_), criterion_, '--', color=color, linewidth=2, label= name)\n",
    "    plt.axvline(-np.log10(alpha_), color=color, linewidth=2,\n",
    "                label='alpha for %s ' % name)\n",
    "    plt.xlabel('-log(alpha)')\n",
    "    plt.ylabel('criterion')\n",
    "\n",
    "plt.figure()\n",
    "plot_ic_criterion(model_aic, 'AIC', 'green')\n",
    "plot_ic_criterion(model_bic, 'BIC', 'blue')\n",
    "plt.legend()\n",
    "plt.title('Information-criterion for model selection');"
   ]
  },
  {
   "cell_type": "markdown",
   "metadata": {},
   "source": [
    "## Validations Against  Test Data"
   ]
  },
  {
   "cell_type": "code",
   "execution_count": 55,
   "metadata": {},
   "outputs": [],
   "source": [
    "from sklearn.linear_model import Lasso\n",
    "from sklearn.metrics import mean_squared_error, mean_squared_log_error"
   ]
  },
  {
   "cell_type": "code",
   "execution_count": 56,
   "metadata": {},
   "outputs": [],
   "source": [
    "def model_validation(X_train, y_train, X_test, y_test):\n",
    "    # cuting shapes\n",
    "    print(\"Train Shapes:\", X_train.shape, y_train.shape) \n",
    "    print(\"Test Shapes:\", X_test.shape, y_test.shape)\n",
    "    \n",
    "    # Code for baseline model\n",
    "    linreg_all = LinearRegression()\n",
    "    linreg_all.fit(X_train, y_train)\n",
    "\n",
    "    # Print R2 and MSE\n",
    "    print(\"----------------------------------------\")\n",
    "    print('Training r^2:', linreg_all.score(X_train, y_train))\n",
    "    print('Test r^2:', linreg_all.score(X_test, y_test))\n",
    "    print(\"----------------------------------------\")\n",
    "    print('Training MSE:', mean_squared_error(y_train, linreg_all.predict(X_train)))\n",
    "    print('Test MSE:', mean_squared_error(y_test, linreg_all.predict(X_test)))"
   ]
  },
  {
   "cell_type": "markdown",
   "metadata": {},
   "source": [
    "### Baseline model validation"
   ]
  },
  {
   "cell_type": "code",
   "execution_count": 57,
   "metadata": {
    "scrolled": true
   },
   "outputs": [
    {
     "name": "stdout",
     "output_type": "stream",
     "text": [
      "Train Shapes: (1024, 54) (1024,)\n",
      "Test Shapes: (1000, 54) (1000,)\n",
      "----------------------------------------\n",
      "Training r^2: 0.9494553203010875\n",
      "Test r^2: 0.8794464580290359\n",
      "----------------------------------------\n",
      "Training MSE: 0.32885123621905865\n",
      "Test MSE: 0.986947265213196\n"
     ]
    }
   ],
   "source": [
    "model_validation(X_train, y_train , X_test, y_test)"
   ]
  },
  {
   "cell_type": "markdown",
   "metadata": {},
   "source": [
    "### After the Baseline Drops Validations"
   ]
  },
  {
   "cell_type": "code",
   "execution_count": 58,
   "metadata": {},
   "outputs": [],
   "source": [
    "X_cols = list(X_1.columns)\n",
    "X_1_test = X_test[X_cols]"
   ]
  },
  {
   "cell_type": "code",
   "execution_count": 59,
   "metadata": {},
   "outputs": [
    {
     "name": "stdout",
     "output_type": "stream",
     "text": [
      "Train Shapes: (1024, 37) (1024,)\n",
      "Test Shapes: (1000, 37) (1000,)\n",
      "----------------------------------------\n",
      "Training r^2: 0.7661214692051149\n",
      "Test r^2: 0.7021406891558394\n",
      "----------------------------------------\n",
      "Training MSE: 1.5216486568941487\n",
      "Test MSE: 2.4385134393374845\n"
     ]
    }
   ],
   "source": [
    "model_validation(X_1, y_train , X_1_test, y_test)"
   ]
  },
  {
   "cell_type": "markdown",
   "metadata": {},
   "source": [
    "### RFE Model Validation"
   ]
  },
  {
   "cell_type": "code",
   "execution_count": 60,
   "metadata": {},
   "outputs": [],
   "source": [
    "X_cols = list(X_2.columns)\n",
    "X_3_test = X_test[X_cols]"
   ]
  },
  {
   "cell_type": "code",
   "execution_count": 61,
   "metadata": {
    "scrolled": false
   },
   "outputs": [
    {
     "name": "stdout",
     "output_type": "stream",
     "text": [
      "Train Shapes: (1024, 14) (1024,)\n",
      "Test Shapes: (1000, 14) (1000,)\n",
      "----------------------------------------\n",
      "Training r^2: 0.7401500757188739\n",
      "Test r^2: 0.6794233202536628\n",
      "----------------------------------------\n",
      "Training MSE: 1.6906224223855495\n",
      "Test MSE: 2.62449590608444\n"
     ]
    }
   ],
   "source": [
    "model_validation(X_2, y_train , X_3_test, y_test)"
   ]
  },
  {
   "cell_type": "markdown",
   "metadata": {},
   "source": [
    "### Interactions Model Validation"
   ]
  },
  {
   "cell_type": "code",
   "execution_count": 62,
   "metadata": {},
   "outputs": [],
   "source": [
    "X_inter = data_combined.copy()\n",
    "X_cols = list(X_inter.columns)\n",
    "X_inter_test = data_combined_test[X_cols]"
   ]
  },
  {
   "cell_type": "code",
   "execution_count": 64,
   "metadata": {},
   "outputs": [
    {
     "name": "stdout",
     "output_type": "stream",
     "text": [
      "Train Shapes: (1024, 24) (1024,)\n",
      "Test Shapes: (1000, 24) (1000,)\n",
      "----------------------------------------\n",
      "Training r^2: 0.7707205189377095\n",
      "Test r^2: 0.6785005865223654\n",
      "----------------------------------------\n",
      "Training MSE: 1.491726552352071\n",
      "Test MSE: 2.632050138981581\n"
     ]
    }
   ],
   "source": [
    "model_validation(X_inter, y_train , X_inter_test, y_test)"
   ]
  },
  {
   "cell_type": "markdown",
   "metadata": {},
   "source": [
    "### Interactions RFE Model Validation"
   ]
  },
  {
   "cell_type": "code",
   "execution_count": 68,
   "metadata": {},
   "outputs": [],
   "source": [
    "X_inter_rfe = df_inter_reduced.copy()\n",
    "X_cols = list(X_inter_rfe.columns)\n",
    "X_inter_rfe_test = data_combined_test[X_cols]"
   ]
  },
  {
   "cell_type": "code",
   "execution_count": 69,
   "metadata": {},
   "outputs": [
    {
     "name": "stdout",
     "output_type": "stream",
     "text": [
      "Train Shapes: (1024, 14) (1024,)\n",
      "Test Shapes: (1000, 14) (1000,)\n",
      "----------------------------------------\n",
      "Training r^2: 0.7649727066675007\n",
      "Test r^2: 0.6800329936141075\n",
      "----------------------------------------\n",
      "Training MSE: 1.5291226775599622\n",
      "Test MSE: 2.619504634605173\n"
     ]
    }
   ],
   "source": [
    "model_validation(X_inter_rfe, y_train , X_inter_rfe_test, y_test)"
   ]
  },
  {
   "cell_type": "markdown",
   "metadata": {},
   "source": [
    "## Lasso paths"
   ]
  },
  {
   "cell_type": "code",
   "execution_count": 65,
   "metadata": {},
   "outputs": [],
   "source": [
    "from itertools import cycle\n",
    "from sklearn.linear_model import lasso_path, enet_path"
   ]
  },
  {
   "cell_type": "code",
   "execution_count": 66,
   "metadata": {},
   "outputs": [],
   "source": [
    "def comp_lasso_paths(X,y, eps=5e-3):\n",
    "    \n",
    "    eps = eps  # path length (Smaller = Longer)\n",
    "\n",
    "    # Compute paths\n",
    "    print(\"Computing regularization path using the lasso...\")\n",
    "    alphas_lasso, coefs_lasso, _ = lasso_path(X, y, eps, fit_intercept=False)\n",
    "    \n",
    "    print(\"Computing regularization path using the positive lasso...\")\n",
    "    alphas_positive_lasso, coefs_positive_lasso, _ = lasso_path(\n",
    "        X, y, eps, positive=True, fit_intercept=False)\n",
    "    print(\"Computing regularization path using the elastic net...\")\n",
    "    alphas_enet, coefs_enet, _ = enet_path(\n",
    "        X, y, eps=eps, l1_ratio=0.8, fit_intercept=False)\n",
    "\n",
    "    print(\"Computing regularization path using the positive elastic net...\")\n",
    "    alphas_positive_enet, coefs_positive_enet, _ = enet_path(\n",
    "        X, y, eps=eps, l1_ratio=0.8, positive=True, fit_intercept=False)\n",
    "    \n",
    "    # Display results\n",
    "\n",
    "    plt.figure(1)\n",
    "    colors = cycle(['b', 'r', 'g', 'c', 'k'])\n",
    "    neg_log_alphas_lasso = -np.log10(alphas_lasso)\n",
    "    neg_log_alphas_enet = -np.log10(alphas_enet)\n",
    "    for coef_l, coef_e, c in zip(coefs_lasso, coefs_enet, colors):\n",
    "        l1 = plt.plot(neg_log_alphas_lasso, coef_l, c=c)\n",
    "        l2 = plt.plot(neg_log_alphas_enet, coef_e, linestyle='--', c=c)\n",
    "\n",
    "    plt.xlabel('-Log(alpha)')\n",
    "    plt.ylabel('coefficients')\n",
    "    plt.title('Lasso and Elastic-Net Paths')\n",
    "    plt.legend((l1[-1], l2[-1]), ('Lasso', 'Elastic-Net'), loc='lower left')\n",
    "    plt.axis('tight')\n",
    "\n",
    "\n",
    "    plt.figure(2)\n",
    "    neg_log_alphas_positive_lasso = -np.log10(alphas_positive_lasso)\n",
    "    for coef_l, coef_pl, c in zip(coefs_lasso, coefs_positive_lasso, colors):\n",
    "        l1 = plt.plot(neg_log_alphas_lasso, coef_l, c=c)\n",
    "        l2 = plt.plot(neg_log_alphas_positive_lasso, coef_pl, linestyle='--', c=c)\n",
    "\n",
    "    plt.xlabel('-Log(alpha)')\n",
    "    plt.ylabel('coefficients')\n",
    "    plt.title('Lasso and positive Lasso')\n",
    "    plt.legend((l1[-1], l2[-1]), ('Lasso', 'positive Lasso'), loc='lower left')\n",
    "    plt.axis('tight')\n",
    "\n",
    "\n",
    "    plt.figure(3)\n",
    "    neg_log_alphas_positive_enet = -np.log10(alphas_positive_enet)\n",
    "    for (coef_e, coef_pe, c) in zip(coefs_enet, coefs_positive_enet, colors):\n",
    "        l1 = plt.plot(neg_log_alphas_enet, coef_e, c=c)\n",
    "        l2 = plt.plot(neg_log_alphas_positive_enet, coef_pe, linestyle='--', c=c)\n",
    "\n",
    "    plt.xlabel('-Log(alpha)')\n",
    "    plt.ylabel('coefficients')\n",
    "    plt.title('Elastic-Net and positive Elastic-Net')\n",
    "    plt.legend((l1[-1], l2[-1]), ('Elastic-Net', 'positive Elastic-Net'),\n",
    "               loc='lower left')\n",
    "    plt.axis('tight')\n",
    "    plt.show()\n",
    "    \n",
    "    return None"
   ]
  },
  {
   "cell_type": "code",
   "execution_count": 70,
   "metadata": {},
   "outputs": [
    {
     "name": "stdout",
     "output_type": "stream",
     "text": [
      "Computing regularization path using the lasso...\n",
      "Computing regularization path using the positive lasso...\n",
      "Computing regularization path using the elastic net...\n",
      "Computing regularization path using the positive elastic net...\n"
     ]
    },
    {
     "data": {
      "image/png": "[encoded data removed]",
      "text/plain": [
       "<Figure size 432x288 with 1 Axes>"
      ]
     },
     "metadata": {
      "needs_background": "light"
     },
     "output_type": "display_data"
    },
    {
     "data": {
      "image/png": "[encoded data removed]",
      "text/plain": [
       "<Figure size 432x288 with 1 Axes>"
      ]
     },
     "metadata": {
      "needs_background": "light"
     },
     "output_type": "display_data"
    },
    {
     "data": {
      "image/png": "[encoded data removed]",
      "text/plain": [
       "<Figure size 432x288 with 1 Axes>"
      ]
     },
     "metadata": {
      "needs_background": "light"
     },
     "output_type": "display_data"
    }
   ],
   "source": [
    "comp_lasso_paths(X_final, y_train, eps=5e-3)"
   ]
  },
  {
   "cell_type": "code",
   "execution_count": null,
   "metadata": {},
   "outputs": [],
   "source": [
    "x"
   ]
  },
  {
   "cell_type": "markdown",
   "metadata": {},
   "source": [
    "# ZZ -  Feature ranking to recursive eliminate features"
   ]
  },
  {
   "cell_type": "code",
   "execution_count": null,
   "metadata": {},
   "outputs": [],
   "source": [
    "# df_feat_rank = pd.concat([y,X_1], axis=1)\n",
    "# df_feat_rank.head()"
   ]
  },
  {
   "cell_type": "code",
   "execution_count": null,
   "metadata": {},
   "outputs": [],
   "source": [
    "linreg = LinearRegression()\n",
    "selector = RFE(linreg, n_features_to_select=20) # 20 most important features\n",
    "selector = selector.fit(X_1, y)\n",
    "estimators = selector.estimator_"
   ]
  },
  {
   "cell_type": "code",
   "execution_count": null,
   "metadata": {},
   "outputs": [],
   "source": [
    "# print(selector.support_ )\n",
    "# print(selector.ranking_)\n",
    "# print(estimators.coef_)\n",
    "# print(estimators.intercept_)\n",
    "print(selector.classes_)"
   ]
  },
  {
   "cell_type": "code",
   "execution_count": null,
   "metadata": {},
   "outputs": [],
   "source": [
    "# dir(selector)"
   ]
  },
  {
   "cell_type": "code",
   "execution_count": null,
   "metadata": {},
   "outputs": [],
   "source": [
    "X_cols = list(X_1.columns)\n",
    "X_best = []\n",
    "i=0\n",
    "for x in selector.support_:\n",
    "    if x == True:\n",
    "        X_best.append((X_cols[i], selector.ranking_[i]))\n",
    "    i+=1"
   ]
  },
  {
   "cell_type": "code",
   "execution_count": null,
   "metadata": {},
   "outputs": [],
   "source": [
    "# X_best"
   ]
  },
  {
   "cell_type": "code",
   "execution_count": null,
   "metadata": {},
   "outputs": [],
   "source": [
    "sell = list(zip(X_cols, estimators.coef_, selector.ranking_, selector.support_))\n",
    "df_selection = pd.DataFrame(sell, columns=['X_cols', 'coef','ranking', 'support'])\n",
    "df_selection.sort_values(by=['ranking'], inplace=True)\n",
    "df_selection.head(30)"
   ]
  },
  {
   "cell_type": "code",
   "execution_count": null,
   "metadata": {},
   "outputs": [],
   "source": [
    "corr = X_1.corr()\n",
    "sns.heatmap(corr, \n",
    "        xticklabels=corr.columns,\n",
    "        yticklabels=corr.columns, \n",
    "           center=True)"
   ]
  }
 ],
 "metadata": {
  "kernelspec": {
   "display_name": "Python 3",
   "language": "python",
   "name": "python3"
  },
  "language_info": {
   "codemirror_mode": {
    "name": "ipython",
    "version": 3
   },
   "file_extension": ".py",
   "mimetype": "text/x-python",
   "name": "python",
   "nbconvert_exporter": "python",
   "pygments_lexer": "ipython3",
   "version": "3.7.4"
  },
  "toc": {
   "base_numbering": 1,
   "nav_menu": {},
   "number_sections": true,
   "sideBar": true,
   "skip_h1_title": false,
   "title_cell": "Table of Contents",
   "title_sidebar": "Contents",
   "toc_cell": false,
   "toc_position": {},
   "toc_section_display": true,
   "toc_window_display": false
  }
 },
 "nbformat": 4,
 "nbformat_minor": 2
}
